{
  "nbformat": 4,
  "nbformat_minor": 0,
  "metadata": {
    "colab": {
      "name": "동네날씨.ipynb",
      "provenance": [],
      "collapsed_sections": [],
      "mount_file_id": "10wmrcK7p4bSB6PNws34x90Vw-22x15Ad",
      "authorship_tag": "ABX9TyOTIQEGmmXzS8cOWpiLBtwV"
    },
    "kernelspec": {
      "name": "python3",
      "display_name": "Python 3"
    },
    "language_info": {
      "name": "python"
    }
  },
  "cells": [
    {
      "cell_type": "code",
      "metadata": {
        "colab": {
          "base_uri": "https://localhost:8080/"
        },
        "id": "U1_lUv7stSxR",
        "outputId": "665f27cd-7e73-4c44-dcf2-251d649d83be"
      },
      "source": [
        "! pip install xmltodict"
      ],
      "execution_count": 1,
      "outputs": [
        {
          "output_type": "stream",
          "text": [
            "Collecting xmltodict\n",
            "  Downloading https://files.pythonhosted.org/packages/28/fd/30d5c1d3ac29ce229f6bdc40bbc20b28f716e8b363140c26eff19122d8a5/xmltodict-0.12.0-py2.py3-none-any.whl\n",
            "Installing collected packages: xmltodict\n",
            "Successfully installed xmltodict-0.12.0\n"
          ],
          "name": "stdout"
        }
      ]
    },
    {
      "cell_type": "code",
      "metadata": {
        "id": "qXx1I8OrtCUM"
      },
      "source": [
        "import requests\n",
        "import json\n",
        "import sys\n",
        "import urllib\n",
        "from bs4 import BeautifulSoup as bs\n",
        "import pandas as pd\n",
        "from urllib import parse\n",
        "import xmltodict\n",
        "import datetime\n",
        "from google.colab import drive"
      ],
      "execution_count": 2,
      "outputs": []
    },
    {
      "cell_type": "code",
      "metadata": {
        "colab": {
          "base_uri": "https://localhost:8080/"
        },
        "id": "U_WQsAbVtN9t",
        "outputId": "9a087f3f-e221-409e-c334-5d3bfb6c8a59"
      },
      "source": [
        "\n",
        "API_KEY = '%2BBtZ17NJe8TZ85krnwWwMRREGTuPuPGXtoSYWEnKDl65TmV17GA%2FNnPeN4%2FjM4OfwLoGu6kYAR%2BSNNjZzgnyfg%3D%3D'\n",
        "API_KEY_decode = requests.utils.unquote(API_KEY)\n",
        "\n",
        "now = datetime.datetime.now()\n",
        "\n",
        "date = '{:%Y%m%d}'.format(now)\n",
        "\n",
        "time = \"{:%H00}\".format(now)\n",
        "\n",
        "\n",
        "\n",
        "if (now.minute >= 30):\n",
        "    time = '{:0>2}00'.format(now.hour)\n",
        "else:\n",
        "    time = '{:0>2}00'.format(now.hour-1)\n",
        "\n",
        "\n",
        "req_url = \"http://apis.data.go.kr/1360000/VilageFcstInfoService/getUltraSrtNcst\"\n",
        "\n",
        "baseDate = date #발표 일자 지정\n",
        "baseTime = time  # 발표 시간 지정(정시로 지정)\n",
        "\n",
        "nx_val = 60 #예보지점 X좌표\n",
        "ny_val = 127\n",
        "\n",
        "num_of_rows = 6 #한페이지에 포함된 결과 수 \n",
        "page_no = 1 #페이지 번호\n",
        "\n",
        "output_type = \"JSON\"\n",
        "\n",
        "req_parameter = {\"ServiceKey\":API_KEY_decode,\n",
        "                 \"nx\":nx_val,\n",
        "                 \"ny\":ny_val,\n",
        "                 \"base_date\":baseDate,\n",
        "                 \"base_time\":baseTime,\n",
        "                 \"pageNo\":page_no,\n",
        "                 \"numOfRows\":num_of_rows,\n",
        "                 \"dataType\":output_type}\n",
        "\n",
        "r = requests.get(req_url, params = req_parameter)\n",
        "\n",
        "dict_data = r.json()\n",
        "dict_data['response']['header']\n",
        "\n"
      ],
      "execution_count": 3,
      "outputs": [
        {
          "output_type": "execute_result",
          "data": {
            "text/plain": [
              "{'resultCode': '00', 'resultMsg': 'NORMAL_SERVICE'}"
            ]
          },
          "metadata": {
            "tags": []
          },
          "execution_count": 3
        }
      ]
    },
    {
      "cell_type": "markdown",
      "metadata": {
        "id": "3WyHa7Nb4ILI"
      },
      "source": [
        ""
      ]
    },
    {
      "cell_type": "code",
      "metadata": {
        "id": "sy1LeorVtulP"
      },
      "source": [
        "items = dict_data['response']['body']['items']['item']\n",
        "df = pd.DataFrame(items)\n",
        "df.to_csv('/content/drive/MyDrive/동네날씨.csv', index = False)"
      ],
      "execution_count": 5,
      "outputs": []
    },
    {
      "cell_type": "code",
      "metadata": {
        "id": "LogLjmGtDGQ6"
      },
      "source": [
        ""
      ],
      "execution_count": 4,
      "outputs": []
    },
    {
      "cell_type": "code",
      "metadata": {
        "id": "9aqW2pjm4RgH"
      },
      "source": [
        ""
      ],
      "execution_count": 4,
      "outputs": []
    },
    {
      "cell_type": "code",
      "metadata": {
        "id": "YT4afC2UDIdv"
      },
      "source": [
        ""
      ],
      "execution_count": 4,
      "outputs": []
    }
  ]
}