{
  "nbformat": 4,
  "nbformat_minor": 0,
  "metadata": {
    "colab": {
      "name": "자습DL.ipynb",
      "provenance": [],
      "authorship_tag": "ABX9TyMpsNuAYXvt3YMZyDKhSCT7",
      "include_colab_link": true
    },
    "kernelspec": {
      "name": "python3",
      "display_name": "Python 3"
    },
    "language_info": {
      "name": "python"
    }
  },
  "cells": [
    {
      "cell_type": "markdown",
      "metadata": {
        "id": "view-in-github",
        "colab_type": "text"
      },
      "source": [
        "<a href=\"https://colab.research.google.com/github/cabbi120101/TIL/blob/master/ML/%EC%9E%90%EC%8A%B5DL.ipynb\" target=\"_parent\"><img src=\"https://colab.research.google.com/assets/colab-badge.svg\" alt=\"Open In Colab\"/></a>"
      ]
    },
    {
      "cell_type": "markdown",
      "metadata": {
        "id": "6dIDqWYtO0EE"
      },
      "source": [
        "## 케라스 파이썬 라이브러리를 사용하여 손글씨 숫자 분류 학습"
      ]
    },
    {
      "cell_type": "code",
      "metadata": {
        "colab": {
          "base_uri": "https://localhost:8080/"
        },
        "id": "pprP7L7qP6rA",
        "outputId": "67cd0a1d-94a8-497e-9d74-b92f219704e6"
      },
      "source": [
        "pip install keras"
      ],
      "execution_count": 15,
      "outputs": [
        {
          "output_type": "stream",
          "text": [
            "Requirement already satisfied: keras in /usr/local/lib/python3.7/dist-packages (2.4.3)\n",
            "Requirement already satisfied: h5py in /usr/local/lib/python3.7/dist-packages (from keras) (3.1.0)\n",
            "Requirement already satisfied: scipy>=0.14 in /usr/local/lib/python3.7/dist-packages (from keras) (1.4.1)\n",
            "Requirement already satisfied: numpy>=1.9.1 in /usr/local/lib/python3.7/dist-packages (from keras) (1.19.5)\n",
            "Requirement already satisfied: pyyaml in /usr/local/lib/python3.7/dist-packages (from keras) (3.13)\n",
            "Requirement already satisfied: cached-property in /usr/local/lib/python3.7/dist-packages (from h5py->keras) (1.5.2)\n"
          ],
          "name": "stdout"
        }
      ]
    },
    {
      "cell_type": "code",
      "metadata": {
        "id": "IMo3JoKLOpM2"
      },
      "source": [
        "from keras.datasets import mnist\n",
        "\n",
        "(train_images, train_labels), (test_images, test_labels) = mnist.load_data()\n"
      ],
      "execution_count": 16,
      "outputs": []
    },
    {
      "cell_type": "code",
      "metadata": {
        "colab": {
          "base_uri": "https://localhost:8080/"
        },
        "id": "zsqtR6a3OzUX",
        "outputId": "ee2da62e-6212-4e10-9633-f093c94ef67e"
      },
      "source": [
        "# 학습 데이터 확인\n",
        "train_images.shape # 8비트 정수형 3D 텐서임"
      ],
      "execution_count": 17,
      "outputs": [
        {
          "output_type": "execute_result",
          "data": {
            "text/plain": [
              "(60000, 28, 28)"
            ]
          },
          "metadata": {
            "tags": []
          },
          "execution_count": 17
        }
      ]
    },
    {
      "cell_type": "code",
      "metadata": {
        "colab": {
          "base_uri": "https://localhost:8080/"
        },
        "id": "0gKSJJXYO73F",
        "outputId": "72ac425e-0d32-4e30-ee95-fd23395d6288"
      },
      "source": [
        "# 축의 개수 확인 : ndim\n",
        "train_images.ndim\n",
        "# 3 : 3D (3차원 : 3개의 축으로 구성)\n",
        "# 28 X 28 크기의 정수 행렬이 6만개가 있는 배열"
      ],
      "execution_count": 18,
      "outputs": [
        {
          "output_type": "execute_result",
          "data": {
            "text/plain": [
              "3"
            ]
          },
          "metadata": {
            "tags": []
          },
          "execution_count": 18
        }
      ]
    },
    {
      "cell_type": "code",
      "metadata": {
        "colab": {
          "base_uri": "https://localhost:8080/"
        },
        "id": "zMWsjjeuO9v7",
        "outputId": "4a9c097e-5f1d-4cf2-f0d8-54dfaa90e283"
      },
      "source": [
        "len(train_labels)"
      ],
      "execution_count": 19,
      "outputs": [
        {
          "output_type": "execute_result",
          "data": {
            "text/plain": [
              "60000"
            ]
          },
          "metadata": {
            "tags": []
          },
          "execution_count": 19
        }
      ]
    },
    {
      "cell_type": "code",
      "metadata": {
        "colab": {
          "base_uri": "https://localhost:8080/"
        },
        "id": "QdQdqdqBO_m2",
        "outputId": "0c4bd24b-5537-4e15-a43e-dc99fdb63e52"
      },
      "source": [
        "# 테스트 데이터 확인\n",
        "\n",
        "test_images.shape"
      ],
      "execution_count": 20,
      "outputs": [
        {
          "output_type": "execute_result",
          "data": {
            "text/plain": [
              "(10000, 28, 28)"
            ]
          },
          "metadata": {
            "tags": []
          },
          "execution_count": 20
        }
      ]
    },
    {
      "cell_type": "code",
      "metadata": {
        "colab": {
          "base_uri": "https://localhost:8080/"
        },
        "id": "ExO6ABnOPBVO",
        "outputId": "ada0789b-cf83-49d0-8385-43879073c559"
      },
      "source": [
        "# 레이블 확인\n",
        "train_labels\n",
        "\n",
        "# dtype=uint8 : 0~255 범위로 양수만 표현이 가능한 2^8개 만큼 표현이 가능"
      ],
      "execution_count": 21,
      "outputs": [
        {
          "output_type": "execute_result",
          "data": {
            "text/plain": [
              "array([5, 0, 4, ..., 5, 6, 8], dtype=uint8)"
            ]
          },
          "metadata": {
            "tags": []
          },
          "execution_count": 21
        }
      ]
    },
    {
      "cell_type": "code",
      "metadata": {
        "colab": {
          "base_uri": "https://localhost:8080/",
          "height": 265
        },
        "id": "Eh48cLUdPDDt",
        "outputId": "f92b45bc-5eee-44e3-debc-1ba1f507d347"
      },
      "source": [
        "# 다섯 번째 샘플을 맷플롯립 라이브러리를 사용해서 확인 \n",
        "import matplotlib.pyplot as plt\n",
        "\n",
        "digit = train_images[4]\n",
        "\n",
        "plt.imshow(digit, cmap=plt.cm.binary)\n",
        "plt.show()"
      ],
      "execution_count": 22,
      "outputs": [
        {
          "output_type": "display_data",
          "data": {
            "image/png": "[encoded data removed]",
            "text/plain": [
              "<Figure size 432x288 with 1 Axes>"
            ]
          },
          "metadata": {
            "tags": [],
            "needs_background": "light"
          }
        }
      ]
    },
    {
      "cell_type": "code",
      "metadata": {
        "id": "wJZ9KF9mPEiN"
      },
      "source": [
        "# 데이터 전처리 : 2차원으로 변환\n",
        "# 0과 1 사이의 값을 가지는 float32 타입의 \n",
        "# (60000, 28 * 28) 크기의 2차원 배열로 변경 (60000, 784)\n",
        "\n",
        "train_images = train_images.reshape(60000,28*28)\n",
        "train_images = train_images.astype('float32')/255\n",
        "\n",
        "\n",
        "# (10000, 28 * 28) 크기의 2차원 배열로 변경 (10000, 784)\n",
        "\n",
        "test_images = test_images.reshape(10000,28*28)\n",
        "test_images = test_images.astype('float32')/255"
      ],
      "execution_count": 23,
      "outputs": []
    },
    {
      "cell_type": "code",
      "metadata": {
        "colab": {
          "base_uri": "https://localhost:8080/"
        },
        "id": "_eEZ2PHMPHnm",
        "outputId": "2ad0205b-10e0-42b5-b958-eea35646ded4"
      },
      "source": [
        "train_images.ndim # 2차원으로 변환됨"
      ],
      "execution_count": 24,
      "outputs": [
        {
          "output_type": "execute_result",
          "data": {
            "text/plain": [
              "2"
            ]
          },
          "metadata": {
            "tags": []
          },
          "execution_count": 24
        }
      ]
    },
    {
      "cell_type": "code",
      "metadata": {
        "id": "7x_5sf7ZPJ0h"
      },
      "source": [
        "# 레이블을 범주형으로 인코딩\n",
        "from tensorflow.keras.utils import to_categorical\n",
        "\n",
        "\n",
        "train_labels = to_categorical(train_labels)\n",
        "test_labels = to_categorical(test_labels)"
      ],
      "execution_count": 27,
      "outputs": []
    },
    {
      "cell_type": "code",
      "metadata": {
        "colab": {
          "base_uri": "https://localhost:8080/"
        },
        "id": "8ozED61APNVp",
        "outputId": "52cdcdfd-6b30-486a-9429-ce33bb0724c2"
      },
      "source": [
        "from tensorflow.keras.models import Sequential\n",
        "from tensorflow.keras.layers import Dense, LSTM\n",
        "import tensorflow as tf\n",
        "\n",
        "tf.random.set_seed(3)\n",
        "\n",
        "# (1) 모델 설정\n",
        "# 딥러닝의 구조와 층을 설정하는 단계\n",
        "network = Sequential() # 일반적으로 modle로 많이 사용\n",
        "network.add(Dense(512, activation='relu', input_shape=(28*28,)))\n",
        "network.add(Dense(10, activation='softmax'))\n",
        "\n",
        "# (2) 컴파일 : loss, optimizer, metrics 설정 단계 \n",
        "network.compile(optimizer='rmsprop',\n",
        "               loss = 'categorical_crossentropy',\n",
        "               metrics=['accuracy'])\n",
        "\n",
        "# (3) 모델 실행 (학습)\n",
        "network.fit(train_images, train_labels, epochs=5, batch_size=128)\n",
        "\n",
        "# (4) 모델 평가\n",
        "test_loss, test_acc = network.evaluate(test_images, test_labels)\n",
        "print('test_acc : ', test_acc)\n",
        "print('test_loss : ', test_loss)\n",
        "\n",
        "# 손실은 점점 작아지고 정확도는 높아짐"
      ],
      "execution_count": 28,
      "outputs": [
        {
          "output_type": "stream",
          "text": [
            "Epoch 1/5\n",
            "469/469 [==============================] - 5s 10ms/step - loss: 0.2582 - accuracy: 0.9255\n",
            "Epoch 2/5\n",
            "469/469 [==============================] - 5s 10ms/step - loss: 0.1024 - accuracy: 0.9692\n",
            "Epoch 3/5\n",
            "469/469 [==============================] - 5s 10ms/step - loss: 0.0679 - accuracy: 0.9791\n",
            "Epoch 4/5\n",
            "469/469 [==============================] - 4s 9ms/step - loss: 0.0492 - accuracy: 0.9852\n",
            "Epoch 5/5\n",
            "469/469 [==============================] - 5s 10ms/step - loss: 0.0371 - accuracy: 0.9894\n",
            "313/313 [==============================] - 1s 2ms/step - loss: 0.0721 - accuracy: 0.9792\n",
            "test_acc :  0.979200005531311\n",
            "test_loss :  0.07208354026079178\n"
          ],
          "name": "stdout"
        }
      ]
    },
    {
      "cell_type": "code",
      "metadata": {
        "id": "xtCl1RztQYtq"
      },
      "source": [
        ""
      ],
      "execution_count": null,
      "outputs": []
    }
  ]
}