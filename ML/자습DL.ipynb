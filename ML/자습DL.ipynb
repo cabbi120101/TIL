{
  "nbformat": 4,
  "nbformat_minor": 0,
  "metadata": {
    "colab": {
      "name": "자습DL.ipynb",
      "provenance": [],
      "collapsed_sections": [],
      "mount_file_id": "10fbW3eQ4o5NlsMoBOH6bE1fzrq0vl9jl",
      "authorship_tag": "ABX9TyMEaP9lgenexq8g73gVXlun",
      "include_colab_link": true
    },
    "kernelspec": {
      "name": "python3",
      "display_name": "Python 3"
    },
    "language_info": {
      "name": "python"
    }
  },
  "cells": [
    {
      "cell_type": "markdown",
      "metadata": {
        "id": "view-in-github",
        "colab_type": "text"
      },
      "source": [
        "<a href=\"https://colab.research.google.com/github/cabbi120101/TIL/blob/master/ML/%EC%9E%90%EC%8A%B5DL.ipynb\" target=\"_parent\"><img src=\"https://colab.research.google.com/assets/colab-badge.svg\" alt=\"Open In Colab\"/></a>"
      ]
    },
    {
      "cell_type": "markdown",
      "metadata": {
        "id": "6dIDqWYtO0EE"
      },
      "source": [
        "## 케라스 파이썬 라이브러리를 사용하여 손글씨 숫자 분류 학습\n",
        "\n",
        "---\n",
        "\n"
      ]
    },
    {
      "cell_type": "code",
      "metadata": {
        "colab": {
          "base_uri": "https://localhost:8080/"
        },
        "id": "pprP7L7qP6rA",
        "outputId": "67cd0a1d-94a8-497e-9d74-b92f219704e6"
      },
      "source": [
        "pip install keras"
      ],
      "execution_count": null,
      "outputs": [
        {
          "output_type": "stream",
          "text": [
            "Requirement already satisfied: keras in /usr/local/lib/python3.7/dist-packages (2.4.3)\n",
            "Requirement already satisfied: h5py in /usr/local/lib/python3.7/dist-packages (from keras) (3.1.0)\n",
            "Requirement already satisfied: scipy>=0.14 in /usr/local/lib/python3.7/dist-packages (from keras) (1.4.1)\n",
            "Requirement already satisfied: numpy>=1.9.1 in /usr/local/lib/python3.7/dist-packages (from keras) (1.19.5)\n",
            "Requirement already satisfied: pyyaml in /usr/local/lib/python3.7/dist-packages (from keras) (3.13)\n",
            "Requirement already satisfied: cached-property in /usr/local/lib/python3.7/dist-packages (from h5py->keras) (1.5.2)\n"
          ],
          "name": "stdout"
        }
      ]
    },
    {
      "cell_type": "code",
      "metadata": {
        "id": "m9qcpKkdRQpO"
      },
      "source": [
        ""
      ],
      "execution_count": null,
      "outputs": []
    },
    {
      "cell_type": "code",
      "metadata": {
        "id": "IMo3JoKLOpM2"
      },
      "source": [
        "from keras.datasets import mnist\n",
        "\n",
        "(train_images, train_labels), (test_images, test_labels) = mnist.load_data()\n"
      ],
      "execution_count": null,
      "outputs": []
    },
    {
      "cell_type": "code",
      "metadata": {
        "colab": {
          "base_uri": "https://localhost:8080/"
        },
        "id": "zsqtR6a3OzUX",
        "outputId": "ee2da62e-6212-4e10-9633-f093c94ef67e"
      },
      "source": [
        "# 학습 데이터 확인\n",
        "train_images.shape # 8비트 정수형 3D 텐서임"
      ],
      "execution_count": null,
      "outputs": [
        {
          "output_type": "execute_result",
          "data": {
            "text/plain": [
              "(60000, 28, 28)"
            ]
          },
          "metadata": {
            "tags": []
          },
          "execution_count": 17
        }
      ]
    },
    {
      "cell_type": "code",
      "metadata": {
        "colab": {
          "base_uri": "https://localhost:8080/"
        },
        "id": "0gKSJJXYO73F",
        "outputId": "72ac425e-0d32-4e30-ee95-fd23395d6288"
      },
      "source": [
        "# 축의 개수 확인 : ndim\n",
        "train_images.ndim\n",
        "# 3 : 3D (3차원 : 3개의 축으로 구성)\n",
        "# 28 X 28 크기의 정수 행렬이 6만개가 있는 배열"
      ],
      "execution_count": null,
      "outputs": [
        {
          "output_type": "execute_result",
          "data": {
            "text/plain": [
              "3"
            ]
          },
          "metadata": {
            "tags": []
          },
          "execution_count": 18
        }
      ]
    },
    {
      "cell_type": "code",
      "metadata": {
        "colab": {
          "base_uri": "https://localhost:8080/"
        },
        "id": "zMWsjjeuO9v7",
        "outputId": "4a9c097e-5f1d-4cf2-f0d8-54dfaa90e283"
      },
      "source": [
        "len(train_labels)"
      ],
      "execution_count": null,
      "outputs": [
        {
          "output_type": "execute_result",
          "data": {
            "text/plain": [
              "60000"
            ]
          },
          "metadata": {
            "tags": []
          },
          "execution_count": 19
        }
      ]
    },
    {
      "cell_type": "code",
      "metadata": {
        "colab": {
          "base_uri": "https://localhost:8080/"
        },
        "id": "QdQdqdqBO_m2",
        "outputId": "0c4bd24b-5537-4e15-a43e-dc99fdb63e52"
      },
      "source": [
        "# 테스트 데이터 확인\n",
        "\n",
        "test_images.shape"
      ],
      "execution_count": null,
      "outputs": [
        {
          "output_type": "execute_result",
          "data": {
            "text/plain": [
              "(10000, 28, 28)"
            ]
          },
          "metadata": {
            "tags": []
          },
          "execution_count": 20
        }
      ]
    },
    {
      "cell_type": "code",
      "metadata": {
        "colab": {
          "base_uri": "https://localhost:8080/"
        },
        "id": "ExO6ABnOPBVO",
        "outputId": "ada0789b-cf83-49d0-8385-43879073c559"
      },
      "source": [
        "# 레이블 확인\n",
        "train_labels\n",
        "\n",
        "# dtype=uint8 : 0~255 범위로 양수만 표현이 가능한 2^8개 만큼 표현이 가능"
      ],
      "execution_count": null,
      "outputs": [
        {
          "output_type": "execute_result",
          "data": {
            "text/plain": [
              "array([5, 0, 4, ..., 5, 6, 8], dtype=uint8)"
            ]
          },
          "metadata": {
            "tags": []
          },
          "execution_count": 21
        }
      ]
    },
    {
      "cell_type": "code",
      "metadata": {
        "colab": {
          "base_uri": "https://localhost:8080/",
          "height": 265
        },
        "id": "Eh48cLUdPDDt",
        "outputId": "f92b45bc-5eee-44e3-debc-1ba1f507d347"
      },
      "source": [
        "# 다섯 번째 샘플을 맷플롯립 라이브러리를 사용해서 확인 \n",
        "import matplotlib.pyplot as plt\n",
        "\n",
        "digit = train_images[4]\n",
        "\n",
        "plt.imshow(digit, cmap=plt.cm.binary)\n",
        "plt.show()"
      ],
      "execution_count": null,
      "outputs": [
        {
          "output_type": "display_data",
          "data": {
            "image/png": "[encoded data removed]",
            "text/plain": [
              "<Figure size 432x288 with 1 Axes>"
            ]
          },
          "metadata": {
            "tags": [],
            "needs_background": "light"
          }
        }
      ]
    },
    {
      "cell_type": "code",
      "metadata": {
        "id": "wJZ9KF9mPEiN"
      },
      "source": [
        "# 데이터 전처리 : 2차원으로 변환\n",
        "# 0과 1 사이의 값을 가지는 float32 타입의 \n",
        "# (60000, 28 * 28) 크기의 2차원 배열로 변경 (60000, 784)\n",
        "\n",
        "train_images = train_images.reshape(60000,28*28)\n",
        "train_images = train_images.astype('float32')/255\n",
        "\n",
        "\n",
        "# (10000, 28 * 28) 크기의 2차원 배열로 변경 (10000, 784)\n",
        "\n",
        "test_images = test_images.reshape(10000,28*28)\n",
        "test_images = test_images.astype('float32')/255"
      ],
      "execution_count": null,
      "outputs": []
    },
    {
      "cell_type": "code",
      "metadata": {
        "colab": {
          "base_uri": "https://localhost:8080/"
        },
        "id": "_eEZ2PHMPHnm",
        "outputId": "2ad0205b-10e0-42b5-b958-eea35646ded4"
      },
      "source": [
        "train_images.ndim # 2차원으로 변환됨"
      ],
      "execution_count": null,
      "outputs": [
        {
          "output_type": "execute_result",
          "data": {
            "text/plain": [
              "2"
            ]
          },
          "metadata": {
            "tags": []
          },
          "execution_count": 24
        }
      ]
    },
    {
      "cell_type": "code",
      "metadata": {
        "id": "7x_5sf7ZPJ0h"
      },
      "source": [
        "# 레이블을 범주형으로 인코딩\n",
        "from tensorflow.keras.utils import to_categorical\n",
        "\n",
        "\n",
        "train_labels = to_categorical(train_labels)\n",
        "test_labels = to_categorical(test_labels)"
      ],
      "execution_count": null,
      "outputs": []
    },
    {
      "cell_type": "code",
      "metadata": {
        "colab": {
          "base_uri": "https://localhost:8080/"
        },
        "id": "8ozED61APNVp",
        "outputId": "52cdcdfd-6b30-486a-9429-ce33bb0724c2"
      },
      "source": [
        "from tensorflow.keras.models import Sequential\n",
        "from tensorflow.keras.layers import Dense, LSTM\n",
        "import tensorflow as tf\n",
        "\n",
        "tf.random.set_seed(3)\n",
        "\n",
        "# (1) 모델 설정\n",
        "# 딥러닝의 구조와 층을 설정하는 단계\n",
        "network = Sequential() # 일반적으로 modle로 많이 사용\n",
        "network.add(Dense(512, activation='relu', input_shape=(28*28,)))\n",
        "network.add(Dense(10, activation='softmax'))\n",
        "\n",
        "# (2) 컴파일 : loss, optimizer, metrics 설정 단계 \n",
        "network.compile(optimizer='rmsprop',\n",
        "               loss = 'categorical_crossentropy',\n",
        "               metrics=['accuracy'])\n",
        "\n",
        "# (3) 모델 실행 (학습)\n",
        "network.fit(train_images, train_labels, epochs=5, batch_size=128)\n",
        "\n",
        "# (4) 모델 평가\n",
        "test_loss, test_acc = network.evaluate(test_images, test_labels)\n",
        "print('test_acc : ', test_acc)\n",
        "print('test_loss : ', test_loss)\n",
        "\n",
        "# 손실은 점점 작아지고 정확도는 높아짐"
      ],
      "execution_count": null,
      "outputs": [
        {
          "output_type": "stream",
          "text": [
            "Epoch 1/5\n",
            "469/469 [==============================] - 5s 10ms/step - loss: 0.2582 - accuracy: 0.9255\n",
            "Epoch 2/5\n",
            "469/469 [==============================] - 5s 10ms/step - loss: 0.1024 - accuracy: 0.9692\n",
            "Epoch 3/5\n",
            "469/469 [==============================] - 5s 10ms/step - loss: 0.0679 - accuracy: 0.9791\n",
            "Epoch 4/5\n",
            "469/469 [==============================] - 4s 9ms/step - loss: 0.0492 - accuracy: 0.9852\n",
            "Epoch 5/5\n",
            "469/469 [==============================] - 5s 10ms/step - loss: 0.0371 - accuracy: 0.9894\n",
            "313/313 [==============================] - 1s 2ms/step - loss: 0.0721 - accuracy: 0.9792\n",
            "test_acc :  0.979200005531311\n",
            "test_loss :  0.07208354026079178\n"
          ],
          "name": "stdout"
        }
      ]
    },
    {
      "cell_type": "markdown",
      "metadata": {
        "id": "xtCl1RztQYtq"
      },
      "source": [
        "## 영화 리뷰 : 이진 분류 예제"
      ]
    },
    {
      "cell_type": "code",
      "metadata": {
        "id": "-9FZeh_OYfu8"
      },
      "source": [
        "# 데이터 셋 로드\n",
        "# 처음 실행하면 17MB 정도의 데이터가 다운로드 됨\n",
        "\n",
        "from keras.datasets import imdb\n",
        "import warnings\n",
        "warnings.filterwarnings('ignore')\n",
        "\n",
        "(train_data, train_labels), (test_data, test_labels) = imdb.load_data(num_words=10000)\n",
        "# train_data, train_labels, test_data, test_labels = imdb.load_data(num_words=10000) # 괄호 없으면 오류\n",
        "\n",
        "# num_words=10000\n",
        "# 훈련 데이터에서 가장 자주 나타나는 단어 10,000개만 사용하겠다는 의미\n",
        "# 드물게 나타나는 단어는 무시\n",
        "# 이렇게 하면 적절한 크기의 벡터 데이터를 얻을 수 있음"
      ],
      "execution_count": null,
      "outputs": []
    },
    {
      "cell_type": "code",
      "metadata": {
        "colab": {
          "base_uri": "https://localhost:8080/"
        },
        "id": "SZn2dc61YfsT",
        "outputId": "6623dcc8-3e45-444d-85e0-8ab8dc8417c7"
      },
      "source": [
        "# num_words=10000\n",
        "# 가장 자주 등장하는 단어 10,000개로 제한했기 때문에\n",
        "# 단어 인덱스는 10,000을 넘지 않음\n",
        "max([max(sequence) for sequence in train_data])"
      ],
      "execution_count": null,
      "outputs": [
        {
          "output_type": "execute_result",
          "data": {
            "text/plain": [
              "9999"
            ]
          },
          "metadata": {
            "tags": []
          },
          "execution_count": 5
        }
      ]
    },
    {
      "cell_type": "code",
      "metadata": {
        "id": "L0GmkRM0YfqF"
      },
      "source": [
        "# 원-핫 인코딩 사용해서 리스트를 변환\n",
        "\n",
        "import numpy as np\n",
        "\n",
        "def vectorize_sequence(sequences, dimension=10000):\n",
        "    # 크기가 (len(sequences), dimension)이고 모둔 원소가 0인 행렬 생성\n",
        "    # (25000, 10000)\n",
        "    results = np.zeros((len(sequences), dimension)) # 모두 0으로 채움\n",
        "    for i, sequence in enumerate(sequences):\n",
        "        results[i, sequence] = 1.    # results[i]에서 특정 인덱스의 위치를 1로 만듦\n",
        "        \n",
        "    return results\n",
        "\n",
        "# 훈련 데이터를 벡터로 변환\n",
        "x_train = vectorize_sequence(train_data)\n",
        "\n",
        "# 테스트 데이터를 벡터로 변환\n",
        "x_test = vectorize_sequence(test_data)"
      ],
      "execution_count": null,
      "outputs": []
    },
    {
      "cell_type": "code",
      "metadata": {
        "id": "fxHneoeHYfnu"
      },
      "source": [
        "# 레이블을 float32 형으로 변한\n",
        "y_train = np.asarray(train_labels).astype('float32')\n",
        "y_test = np.asarray(test_labels).astype('float32')"
      ],
      "execution_count": null,
      "outputs": []
    },
    {
      "cell_type": "code",
      "metadata": {
        "id": "pOtHjsebYfla"
      },
      "source": [
        "# (1) 모델 설정\n",
        "\n",
        "from tensorflow.keras.models import Sequential\n",
        "from tensorflow.keras.layers import Dense\n",
        "import tensorflow as tf\n",
        "\n",
        "tf.random.set_seed(3)\n",
        "\n",
        "model = Sequential()\n",
        "model.add(Dense(16, activation='relu', input_shape=(10000,)))\n",
        "model.add(Dense(16, activation='relu'))\n",
        "model.add(Dense(1, activation='sigmoid'))\n",
        "\n",
        "# 중간의 은닉층은 활성화 함수로 'relu' 사용\n",
        "# - 음수는 0으로 만듦\n",
        "\n",
        "# 마지막 층은 확률을 출력하기 위해 시그모이드 활성화 함수 사용\n",
        "# - 0과 1사이의 점수로\n",
        "# - 어떤 샘플이 타식 1일 가능성이 높다는 것은\n",
        "# - 글 리뷰가 긍정일 가능성이 높다는 것을 의미"
      ],
      "execution_count": null,
      "outputs": []
    },
    {
      "cell_type": "code",
      "metadata": {
        "id": "6K8EUXVcYfjC"
      },
      "source": [
        "# (2) 모델 컴파일\n",
        "# 손실 함수와 옵티마이저 선택해서 모델을 설정하는 단계\n",
        "# 'rmsprop' 옵티마이저와\n",
        "# binary_crossentropy 손실 함수 선택\n",
        "\n",
        "from tensorflow.keras import optimizers\n",
        "\n",
        "# model.compile(optimizer='rmsprop',\n",
        "model.compile(optimizer=optimizers.RMSprop(lr=0.001),\n",
        "             loss='binary_crossentropy',\n",
        "             metrics=['accuracy'])"
      ],
      "execution_count": null,
      "outputs": []
    },
    {
      "cell_type": "markdown",
      "metadata": {
        "id": "JSAHYVhuY5_4"
      },
      "source": [
        "### 훈련 검증"
      ]
    },
    {
      "cell_type": "code",
      "metadata": {
        "id": "v9IBJm3sYfgr"
      },
      "source": [
        "x_val = x_train[:10000]\n",
        "partial_x_train = x_train[10000:]\n",
        "\n",
        "y_val = y_train[:10000]\n",
        "partial_y_train = y_train[10000:]"
      ],
      "execution_count": null,
      "outputs": []
    },
    {
      "cell_type": "code",
      "metadata": {
        "colab": {
          "base_uri": "https://localhost:8080/"
        },
        "id": "iJZjuDzIYfeF",
        "outputId": "00b2801c-1475-43e3-b750-e4bd308916da"
      },
      "source": [
        "# (3) 모델 실행(학습)\n",
        "# Matplotlib을 사용해 훈련과 검증 데이터에 대한 손실과 정확도를 시각화하기 위해\n",
        "# model.fit() 메서드 반환하는 History 객체 생성\n",
        "# 이 객체에는 훈련하는 동안 발생한 모든 정보를 가지고 있음\n",
        "# 딕셔너리 형태의 history 속성을 가지고 있음\n",
        "\n",
        "history = model.fit(partial_x_train, \n",
        "                   partial_y_train,\n",
        "                   epochs=20,\n",
        "                   batch_size=512,\n",
        "                   validation_data=(x_val, y_val))\n",
        "\n",
        "# loss, accuracy, val_loss,  val_accuracy\n",
        "# 훈련 손실, 훈련 정확도, 검증 손실, 검증 정확도"
      ],
      "execution_count": null,
      "outputs": [
        {
          "output_type": "stream",
          "text": [
            "Epoch 1/20\n",
            "30/30 [==============================] - 3s 49ms/step - loss: 0.5036 - accuracy: 0.7921 - val_loss: 0.3853 - val_accuracy: 0.8607\n",
            "Epoch 2/20\n",
            "30/30 [==============================] - 1s 36ms/step - loss: 0.3022 - accuracy: 0.9043 - val_loss: 0.3229 - val_accuracy: 0.8758\n",
            "Epoch 3/20\n",
            "30/30 [==============================] - 1s 36ms/step - loss: 0.2249 - accuracy: 0.9263 - val_loss: 0.3136 - val_accuracy: 0.8709\n",
            "Epoch 4/20\n",
            "30/30 [==============================] - 1s 36ms/step - loss: 0.1766 - accuracy: 0.9443 - val_loss: 0.2813 - val_accuracy: 0.8867\n",
            "Epoch 5/20\n",
            "30/30 [==============================] - 1s 37ms/step - loss: 0.1467 - accuracy: 0.9521 - val_loss: 0.2816 - val_accuracy: 0.8856\n",
            "Epoch 6/20\n",
            "30/30 [==============================] - 1s 38ms/step - loss: 0.1183 - accuracy: 0.9645 - val_loss: 0.2946 - val_accuracy: 0.8843\n",
            "Epoch 7/20\n",
            "30/30 [==============================] - 1s 39ms/step - loss: 0.0982 - accuracy: 0.9701 - val_loss: 0.3084 - val_accuracy: 0.8823\n",
            "Epoch 8/20\n",
            "30/30 [==============================] - 1s 37ms/step - loss: 0.0841 - accuracy: 0.9761 - val_loss: 0.3366 - val_accuracy: 0.8798\n",
            "Epoch 9/20\n",
            "30/30 [==============================] - 1s 35ms/step - loss: 0.0689 - accuracy: 0.9815 - val_loss: 0.3668 - val_accuracy: 0.8715\n",
            "Epoch 10/20\n",
            "30/30 [==============================] - 1s 36ms/step - loss: 0.0587 - accuracy: 0.9855 - val_loss: 0.3730 - val_accuracy: 0.8784\n",
            "Epoch 11/20\n",
            "30/30 [==============================] - 1s 38ms/step - loss: 0.0478 - accuracy: 0.9883 - val_loss: 0.3988 - val_accuracy: 0.8769\n",
            "Epoch 12/20\n",
            "30/30 [==============================] - 1s 36ms/step - loss: 0.0386 - accuracy: 0.9918 - val_loss: 0.4494 - val_accuracy: 0.8670\n",
            "Epoch 13/20\n",
            "30/30 [==============================] - 1s 36ms/step - loss: 0.0312 - accuracy: 0.9933 - val_loss: 0.4581 - val_accuracy: 0.8733\n",
            "Epoch 14/20\n",
            "30/30 [==============================] - 1s 36ms/step - loss: 0.0259 - accuracy: 0.9951 - val_loss: 0.4889 - val_accuracy: 0.8709\n",
            "Epoch 15/20\n",
            "30/30 [==============================] - 1s 35ms/step - loss: 0.0228 - accuracy: 0.9955 - val_loss: 0.5191 - val_accuracy: 0.8703\n",
            "Epoch 16/20\n",
            "30/30 [==============================] - 1s 39ms/step - loss: 0.0140 - accuracy: 0.9992 - val_loss: 0.5446 - val_accuracy: 0.8693\n",
            "Epoch 17/20\n",
            "30/30 [==============================] - 1s 36ms/step - loss: 0.0143 - accuracy: 0.9982 - val_loss: 0.5777 - val_accuracy: 0.8670\n",
            "Epoch 18/20\n",
            "30/30 [==============================] - 1s 36ms/step - loss: 0.0108 - accuracy: 0.9989 - val_loss: 0.6322 - val_accuracy: 0.8630\n",
            "Epoch 19/20\n",
            "30/30 [==============================] - 1s 36ms/step - loss: 0.0087 - accuracy: 0.9991 - val_loss: 0.6516 - val_accuracy: 0.8654\n",
            "Epoch 20/20\n",
            "30/30 [==============================] - 1s 35ms/step - loss: 0.0099 - accuracy: 0.9980 - val_loss: 0.6774 - val_accuracy: 0.8661\n"
          ],
          "name": "stdout"
        }
      ]
    },
    {
      "cell_type": "code",
      "metadata": {
        "colab": {
          "base_uri": "https://localhost:8080/"
        },
        "id": "rExUIyNZYfbg",
        "outputId": "e26dc854-f446-433a-bf4a-a131a667f657"
      },
      "source": [
        "# model.fit()이 반환한 history 속성 확인 (딕셔너리)\n",
        "history_dict = history.history\n",
        "history_dict.keys()\n",
        "\n",
        "# 훈련과 검증하는 동안 모니터링할 측정 지표 포함\n",
        "# loss, accuracy, val_loss,  val_accuracy\n",
        "# 훈련 손실, 훈련 정확도, 검증 손실, 검증 정확도"
      ],
      "execution_count": null,
      "outputs": [
        {
          "output_type": "execute_result",
          "data": {
            "text/plain": [
              "dict_keys(['loss', 'accuracy', 'val_loss', 'val_accuracy'])"
            ]
          },
          "metadata": {
            "tags": []
          },
          "execution_count": 11
        }
      ]
    },
    {
      "cell_type": "code",
      "metadata": {
        "id": "ScGg4TL9YfZc"
      },
      "source": [
        "import matplotlib.pyplot as plt"
      ],
      "execution_count": null,
      "outputs": []
    },
    {
      "cell_type": "code",
      "metadata": {
        "colab": {
          "base_uri": "https://localhost:8080/",
          "height": 295
        },
        "id": "SIxY0q5gYfW0",
        "outputId": "89243f8c-e267-4266-da67-940ca2f6c77d"
      },
      "source": [
        "acc = history.history['accuracy']\n",
        "val_acc = history.history['val_accuracy']\n",
        "loss = history.history['loss']\n",
        "val_loss = history.history['val_loss']\n",
        "\n",
        "epochs = range(1, len(acc) + 1)\n",
        "\n",
        "# 훈련 손실과 검증 손실 시각화\n",
        "plt.plot(epochs, loss, 'bo', label='Training loss')\n",
        "plt.plot(epochs, val_loss, 'b', label='Validation loss')\n",
        "\n",
        "plt.title('Training and Validation losss')\n",
        "plt.xlabel('Epochs')\n",
        "plt.ylabel('Loss')\n",
        "plt.legend()\n",
        "\n",
        "plt.show()"
      ],
      "execution_count": null,
      "outputs": [
        {
          "output_type": "display_data",
          "data": {
            "image/png": "[encoded data removed]",
            "text/plain": [
              "<Figure size 432x288 with 1 Axes>"
            ]
          },
          "metadata": {
            "tags": [],
            "needs_background": "light"
          }
        }
      ]
    },
    {
      "cell_type": "code",
      "metadata": {
        "colab": {
          "base_uri": "https://localhost:8080/",
          "height": 295
        },
        "id": "fKY3-bO3ZEzg",
        "outputId": "1feef727-db01-4739-f0b6-8525f3177a49"
      },
      "source": [
        "# 훈련 정확도와 검증 정확도 시각화\n",
        "\n",
        "plt.clf()  # 그래프 초기화\n",
        "plt.plot(epochs, acc, 'bo', label='Training accuracy')\n",
        "plt.plot(epochs, val_acc, 'b', label='Validation accuracy')\n",
        "\n",
        "plt.title('Training and Validation accuracy')\n",
        "plt.xlabel('Epochs')\n",
        "plt.ylabel('Loss')\n",
        "plt.legend()\n",
        "\n",
        "plt.show()"
      ],
      "execution_count": null,
      "outputs": [
        {
          "output_type": "display_data",
          "data": {
            "image/png": "[encoded data removed]",
            "text/plain": [
              "<Figure size 432x288 with 1 Axes>"
            ]
          },
          "metadata": {
            "tags": [],
            "needs_background": "light"
          }
        }
      ]
    },
    {
      "cell_type": "markdown",
      "metadata": {
        "id": "Zo-PpUUKehBa"
      },
      "source": [
        "## 프로젝트 데이터 불러오기"
      ]
    },
    {
      "cell_type": "code",
      "metadata": {
        "id": "N3O8OmFSZGbQ",
        "colab": {
          "base_uri": "https://localhost:8080/",
          "height": 1000
        },
        "outputId": "17620fad-fadb-44e8-e4f3-e2a44e8aaa46"
      },
      "source": [
        "import pandas as pd\n",
        "df = pd.read_csv('/content/drive/MyDrive/Colab Notebooks/멀티캠/머신러닝/8월 5일/dlvr_call.csv')\n",
        "df.head(20)"
      ],
      "execution_count": 2,
      "outputs": [
        {
          "output_type": "stream",
          "text": [
            "/usr/local/lib/python3.7/dist-packages/IPython/core/interactiveshell.py:2718: DtypeWarning: Columns (19) have mixed types.Specify dtype option on import or set low_memory=False.\n",
            "  interactivity=interactivity, compiler=compiler, result=result)\n"
          ],
          "name": "stderr"
        },
        {
          "output_type": "execute_result",
          "data": {
            "text/html": [
              "<div>\n",
              "<style scoped>\n",
              "    .dataframe tbody tr th:only-of-type {\n",
              "        vertical-align: middle;\n",
              "    }\n",
              "\n",
              "    .dataframe tbody tr th {\n",
              "        vertical-align: top;\n",
              "    }\n",
              "\n",
              "    .dataframe thead th {\n",
              "        text-align: right;\n",
              "    }\n",
              "</style>\n",
              "<table border=\"1\" class=\"dataframe\">\n",
              "  <thead>\n",
              "    <tr style=\"text-align: right;\">\n",
              "      <th></th>\n",
              "      <th>SN</th>\n",
              "      <th>PROCESS_DT</th>\n",
              "      <th>DLVR_REQUST_ENTRPS_ID</th>\n",
              "      <th>DLVR_REQUST_STTUS_VALUE</th>\n",
              "      <th>DLVR_RCEPT_ENTRPS_ID</th>\n",
              "      <th>DLVR_STORE_ID</th>\n",
              "      <th>DLVR_STORE_INDUTY_NM</th>\n",
              "      <th>DLVR_STORE_LEGALDONG_CODE</th>\n",
              "      <th>DLVR_STORE_BRTC_NM</th>\n",
              "      <th>DLVR_STORE_SIGNGU_NM</th>\n",
              "      <th>DLVR_STORE_LEGALDONG_NM</th>\n",
              "      <th>DLVR_STORE_LI_NM</th>\n",
              "      <th>DLVR_STORE_ADSTRD_CODE</th>\n",
              "      <th>DLVR_STORE_RDNMADR_CODE</th>\n",
              "      <th>DLVR_DSTN_LEGALDONG_CODE</th>\n",
              "      <th>DLVR_DSTN_BRTC_NM</th>\n",
              "      <th>DLVR_DSTN_SIGNGU_NM</th>\n",
              "      <th>DLVR_DSTN_LEGALDONG_NM</th>\n",
              "      <th>DLVR_DSTN_LI_NM</th>\n",
              "      <th>DLVR_DSTN_ADSTRD_CODE</th>\n",
              "      <th>DLVR_DSTN_RDNMADR_CODE</th>\n",
              "      <th>DLVR_MAN_ID</th>\n",
              "      <th>DLVR_AMOUNT</th>\n",
              "      <th>CALL_RLAY_FEE_AMOUNT</th>\n",
              "      <th>GOODS_AMOUNT</th>\n",
              "      <th>SETLE_KND_VALUE</th>\n",
              "      <th>SETLE_CARD_NM</th>\n",
              "      <th>DLVR_RCEPT_TIME</th>\n",
              "      <th>DLVR_CARALC_TIME</th>\n",
              "      <th>DLVR_RECPT_TIME</th>\n",
              "      <th>DLVR_COMPT_TIME</th>\n",
              "      <th>DLVR_CANCL_TIME</th>\n",
              "    </tr>\n",
              "  </thead>\n",
              "  <tbody>\n",
              "    <tr>\n",
              "      <th>0</th>\n",
              "      <td>3486929</td>\n",
              "      <td>2019-12-01</td>\n",
              "      <td>C000101</td>\n",
              "      <td>1</td>\n",
              "      <td>C000101</td>\n",
              "      <td>S0021950</td>\n",
              "      <td>족발/보쌈</td>\n",
              "      <td>1156013200</td>\n",
              "      <td>서울특별시</td>\n",
              "      <td>영등포구</td>\n",
              "      <td>신길동</td>\n",
              "      <td>\\N</td>\n",
              "      <td>1156066000</td>\n",
              "      <td>115603000023</td>\n",
              "      <td>1159010800</td>\n",
              "      <td>서울특별시</td>\n",
              "      <td>동작구</td>\n",
              "      <td>대방동</td>\n",
              "      <td>\\N</td>\n",
              "      <td>1159066000</td>\n",
              "      <td>115904157098</td>\n",
              "      <td>D0006140</td>\n",
              "      <td>3300</td>\n",
              "      <td>200</td>\n",
              "      <td>18000</td>\n",
              "      <td>1</td>\n",
              "      <td>승인:KB국민카드</td>\n",
              "      <td>2019-12-01 20:47:52</td>\n",
              "      <td>2019-12-01 20:48:11</td>\n",
              "      <td>2019-12-01 20:55:33</td>\n",
              "      <td>2019-12-01 21:00:15</td>\n",
              "      <td>\\N</td>\n",
              "    </tr>\n",
              "    <tr>\n",
              "      <th>1</th>\n",
              "      <td>3486930</td>\n",
              "      <td>2019-12-01</td>\n",
              "      <td>C000099</td>\n",
              "      <td>1</td>\n",
              "      <td>C000099</td>\n",
              "      <td>S0039210</td>\n",
              "      <td>치킨</td>\n",
              "      <td>4128510200</td>\n",
              "      <td>경기도</td>\n",
              "      <td>고양시 일산동구</td>\n",
              "      <td>중산동</td>\n",
              "      <td>\\N</td>\n",
              "      <td>4128552000</td>\n",
              "      <td>412854379205</td>\n",
              "      <td>4128510200</td>\n",
              "      <td>경기도</td>\n",
              "      <td>고양시 일산동구</td>\n",
              "      <td>중산동</td>\n",
              "      <td>\\N</td>\n",
              "      <td>4128552000</td>\n",
              "      <td>412853193037</td>\n",
              "      <td>D0005898</td>\n",
              "      <td>2900</td>\n",
              "      <td>0</td>\n",
              "      <td>21900</td>\n",
              "      <td>1</td>\n",
              "      <td>승인:현대카드사</td>\n",
              "      <td>2019-12-01 21:58:07</td>\n",
              "      <td>2019-12-01 22:01:06</td>\n",
              "      <td>2019-12-01 22:20:53</td>\n",
              "      <td>2019-12-01 22:26:01</td>\n",
              "      <td>\\N</td>\n",
              "    </tr>\n",
              "    <tr>\n",
              "      <th>2</th>\n",
              "      <td>3486932</td>\n",
              "      <td>2019-12-01</td>\n",
              "      <td>C000029</td>\n",
              "      <td>1</td>\n",
              "      <td>C000043</td>\n",
              "      <td>S0036135</td>\n",
              "      <td>치킨</td>\n",
              "      <td>4115010100</td>\n",
              "      <td>경기도</td>\n",
              "      <td>의정부시</td>\n",
              "      <td>의정부동</td>\n",
              "      <td>\\N</td>\n",
              "      <td>4115051000</td>\n",
              "      <td>411504343421</td>\n",
              "      <td>4115011100</td>\n",
              "      <td>경기도</td>\n",
              "      <td>의정부시</td>\n",
              "      <td>녹양동</td>\n",
              "      <td>\\N</td>\n",
              "      <td>4115062000</td>\n",
              "      <td>411504343083</td>\n",
              "      <td>D0000864</td>\n",
              "      <td>3500</td>\n",
              "      <td>200</td>\n",
              "      <td>19500</td>\n",
              "      <td>2</td>\n",
              "      <td>NaN</td>\n",
              "      <td>2019-12-01 22:20:31</td>\n",
              "      <td>2019-12-01 22:37:45</td>\n",
              "      <td>2019-12-01 22:58:27</td>\n",
              "      <td>2019-12-01 22:58:32</td>\n",
              "      <td>\\N</td>\n",
              "    </tr>\n",
              "    <tr>\n",
              "      <th>3</th>\n",
              "      <td>3486933</td>\n",
              "      <td>2019-12-01</td>\n",
              "      <td>C000105</td>\n",
              "      <td>1</td>\n",
              "      <td>C000105</td>\n",
              "      <td>S0039956</td>\n",
              "      <td>돈까스/일식</td>\n",
              "      <td>4128510400</td>\n",
              "      <td>경기도</td>\n",
              "      <td>고양시 일산동구</td>\n",
              "      <td>장항동</td>\n",
              "      <td>\\N</td>\n",
              "      <td>4128559000</td>\n",
              "      <td>412854379097</td>\n",
              "      <td>4128510500</td>\n",
              "      <td>경기도</td>\n",
              "      <td>고양시 일산동구</td>\n",
              "      <td>마두동</td>\n",
              "      <td>\\N</td>\n",
              "      <td>4128556000</td>\n",
              "      <td>412854379158</td>\n",
              "      <td>D0001526</td>\n",
              "      <td>3500</td>\n",
              "      <td>0</td>\n",
              "      <td>18000</td>\n",
              "      <td>2</td>\n",
              "      <td>NaN</td>\n",
              "      <td>2019-12-01 21:40:39</td>\n",
              "      <td>2019-12-01 21:48:41</td>\n",
              "      <td>2019-12-01 22:06:35</td>\n",
              "      <td>2019-12-01 22:17:57</td>\n",
              "      <td>\\N</td>\n",
              "    </tr>\n",
              "    <tr>\n",
              "      <th>4</th>\n",
              "      <td>3486934</td>\n",
              "      <td>2019-12-01</td>\n",
              "      <td>C000028</td>\n",
              "      <td>1</td>\n",
              "      <td>C000043</td>\n",
              "      <td>S0003074</td>\n",
              "      <td>치킨</td>\n",
              "      <td>4115010900</td>\n",
              "      <td>경기도</td>\n",
              "      <td>의정부시</td>\n",
              "      <td>금오동</td>\n",
              "      <td>\\N</td>\n",
              "      <td>4115058000</td>\n",
              "      <td>411504343342</td>\n",
              "      <td>4115010900</td>\n",
              "      <td>경기도</td>\n",
              "      <td>의정부시</td>\n",
              "      <td>금오동</td>\n",
              "      <td>\\N</td>\n",
              "      <td>4115058000</td>\n",
              "      <td>411503181019</td>\n",
              "      <td>D0000986</td>\n",
              "      <td>3500</td>\n",
              "      <td>200</td>\n",
              "      <td>18000</td>\n",
              "      <td>3</td>\n",
              "      <td>NaN</td>\n",
              "      <td>2019-12-01 19:44:37</td>\n",
              "      <td>2019-12-01 19:48:07</td>\n",
              "      <td>2019-12-01 19:54:30</td>\n",
              "      <td>2019-12-01 20:00:22</td>\n",
              "      <td>\\N</td>\n",
              "    </tr>\n",
              "    <tr>\n",
              "      <th>5</th>\n",
              "      <td>3486940</td>\n",
              "      <td>2019-12-01</td>\n",
              "      <td>C000237</td>\n",
              "      <td>1</td>\n",
              "      <td>C000237</td>\n",
              "      <td>S0021813</td>\n",
              "      <td>아시안/양식</td>\n",
              "      <td>4121010100</td>\n",
              "      <td>경기도</td>\n",
              "      <td>광명시</td>\n",
              "      <td>광명동</td>\n",
              "      <td>\\N</td>\n",
              "      <td>4121055000</td>\n",
              "      <td>412103187064</td>\n",
              "      <td>4121010200</td>\n",
              "      <td>경기도</td>\n",
              "      <td>광명시</td>\n",
              "      <td>철산동</td>\n",
              "      <td>\\N</td>\n",
              "      <td>4121060000</td>\n",
              "      <td>412103187028</td>\n",
              "      <td>D0003991</td>\n",
              "      <td>3300</td>\n",
              "      <td>200</td>\n",
              "      <td>19000</td>\n",
              "      <td>2</td>\n",
              "      <td>NaN</td>\n",
              "      <td>2019-12-01 19:08:19</td>\n",
              "      <td>2019-12-01 19:37:13</td>\n",
              "      <td>2019-12-01 19:58:04</td>\n",
              "      <td>2019-12-01 19:58:06</td>\n",
              "      <td>\\N</td>\n",
              "    </tr>\n",
              "    <tr>\n",
              "      <th>6</th>\n",
              "      <td>3486941</td>\n",
              "      <td>2019-12-01</td>\n",
              "      <td>C000250</td>\n",
              "      <td>1</td>\n",
              "      <td>C000250</td>\n",
              "      <td>S0019514</td>\n",
              "      <td>족발/보쌈</td>\n",
              "      <td>4119011300</td>\n",
              "      <td>경기도</td>\n",
              "      <td>부천시</td>\n",
              "      <td>괴안동</td>\n",
              "      <td>\\N</td>\n",
              "      <td>4119079500</td>\n",
              "      <td>411903185010</td>\n",
              "      <td>4119010700</td>\n",
              "      <td>경기도</td>\n",
              "      <td>부천시</td>\n",
              "      <td>역곡동</td>\n",
              "      <td>\\N</td>\n",
              "      <td>4119060600</td>\n",
              "      <td>411904352372</td>\n",
              "      <td>D0004334</td>\n",
              "      <td>3000</td>\n",
              "      <td>200</td>\n",
              "      <td>32000</td>\n",
              "      <td>1</td>\n",
              "      <td>승인:KB국민카드</td>\n",
              "      <td>2019-12-01 21:17:12</td>\n",
              "      <td>2019-12-01 21:17:50</td>\n",
              "      <td>2019-12-01 21:23:22</td>\n",
              "      <td>2019-12-01 21:36:15</td>\n",
              "      <td>\\N</td>\n",
              "    </tr>\n",
              "    <tr>\n",
              "      <th>7</th>\n",
              "      <td>3486942</td>\n",
              "      <td>2019-12-01</td>\n",
              "      <td>C000240</td>\n",
              "      <td>1</td>\n",
              "      <td>C000238</td>\n",
              "      <td>S0020310</td>\n",
              "      <td>카페/디저트</td>\n",
              "      <td>4119011400</td>\n",
              "      <td>경기도</td>\n",
              "      <td>부천시</td>\n",
              "      <td>송내동</td>\n",
              "      <td>\\N</td>\n",
              "      <td>4119074600</td>\n",
              "      <td>411904355059</td>\n",
              "      <td>4119010800</td>\n",
              "      <td>경기도</td>\n",
              "      <td>부천시</td>\n",
              "      <td>중동</td>\n",
              "      <td>\\N</td>\n",
              "      <td>4119074200</td>\n",
              "      <td>411903184007</td>\n",
              "      <td>D0004845</td>\n",
              "      <td>4500</td>\n",
              "      <td>200</td>\n",
              "      <td>17500</td>\n",
              "      <td>2</td>\n",
              "      <td>NaN</td>\n",
              "      <td>2019-12-01 21:18:23</td>\n",
              "      <td>2019-12-01 21:19:58</td>\n",
              "      <td>2019-12-01 21:48:09</td>\n",
              "      <td>2019-12-01 21:48:59</td>\n",
              "      <td>\\N</td>\n",
              "    </tr>\n",
              "    <tr>\n",
              "      <th>8</th>\n",
              "      <td>3486943</td>\n",
              "      <td>2019-12-01</td>\n",
              "      <td>C000254</td>\n",
              "      <td>1</td>\n",
              "      <td>C000254</td>\n",
              "      <td>S0021038</td>\n",
              "      <td>치킨</td>\n",
              "      <td>4119010800</td>\n",
              "      <td>경기도</td>\n",
              "      <td>부천시</td>\n",
              "      <td>중동</td>\n",
              "      <td>\\N</td>\n",
              "      <td>4119061000</td>\n",
              "      <td>411904352531</td>\n",
              "      <td>4119010900</td>\n",
              "      <td>경기도</td>\n",
              "      <td>부천시</td>\n",
              "      <td>상동</td>\n",
              "      <td>\\N</td>\n",
              "      <td>4119074400</td>\n",
              "      <td>411904352050</td>\n",
              "      <td>D0005264</td>\n",
              "      <td>3500</td>\n",
              "      <td>200</td>\n",
              "      <td>15500</td>\n",
              "      <td>2</td>\n",
              "      <td>NaN</td>\n",
              "      <td>2019-12-01 18:37:31</td>\n",
              "      <td>2019-12-01 19:08:13</td>\n",
              "      <td>2019-12-01 19:26:18</td>\n",
              "      <td>2019-12-01 19:28:36</td>\n",
              "      <td>\\N</td>\n",
              "    </tr>\n",
              "    <tr>\n",
              "      <th>9</th>\n",
              "      <td>3486946</td>\n",
              "      <td>2019-12-01</td>\n",
              "      <td>C000049</td>\n",
              "      <td>1</td>\n",
              "      <td>C000049</td>\n",
              "      <td>S0022458</td>\n",
              "      <td>패스트푸드</td>\n",
              "      <td>1153010800</td>\n",
              "      <td>서울특별시</td>\n",
              "      <td>구로구</td>\n",
              "      <td>오류동</td>\n",
              "      <td>\\N</td>\n",
              "      <td>1153077000</td>\n",
              "      <td>115304148076</td>\n",
              "      <td>1153010900</td>\n",
              "      <td>서울특별시</td>\n",
              "      <td>구로구</td>\n",
              "      <td>궁동</td>\n",
              "      <td>\\N</td>\n",
              "      <td>1153079000</td>\n",
              "      <td>115304148440</td>\n",
              "      <td>D0004578</td>\n",
              "      <td>3000</td>\n",
              "      <td>400</td>\n",
              "      <td>11500</td>\n",
              "      <td>2</td>\n",
              "      <td>NaN</td>\n",
              "      <td>2019-12-01 20:22:17</td>\n",
              "      <td>2019-12-01 20:37:16</td>\n",
              "      <td>2019-12-01 20:44:49</td>\n",
              "      <td>2019-12-01 21:04:42</td>\n",
              "      <td>\\N</td>\n",
              "    </tr>\n",
              "    <tr>\n",
              "      <th>10</th>\n",
              "      <td>3486949</td>\n",
              "      <td>2019-12-01</td>\n",
              "      <td>C000042</td>\n",
              "      <td>1</td>\n",
              "      <td>C000043</td>\n",
              "      <td>S0031720</td>\n",
              "      <td>치킨</td>\n",
              "      <td>4115010400</td>\n",
              "      <td>경기도</td>\n",
              "      <td>의정부시</td>\n",
              "      <td>신곡동</td>\n",
              "      <td>\\N</td>\n",
              "      <td>4115056800</td>\n",
              "      <td>411504343085</td>\n",
              "      <td>4115010400</td>\n",
              "      <td>경기도</td>\n",
              "      <td>의정부시</td>\n",
              "      <td>신곡동</td>\n",
              "      <td>\\N</td>\n",
              "      <td>4115056700</td>\n",
              "      <td>411503181060</td>\n",
              "      <td>D0000558</td>\n",
              "      <td>3500</td>\n",
              "      <td>200</td>\n",
              "      <td>21000</td>\n",
              "      <td>1</td>\n",
              "      <td>승인:롯데카드사</td>\n",
              "      <td>2019-12-01 20:43:30</td>\n",
              "      <td>2019-12-01 20:52:34</td>\n",
              "      <td>2019-12-01 20:58:15</td>\n",
              "      <td>2019-12-01 21:06:22</td>\n",
              "      <td>\\N</td>\n",
              "    </tr>\n",
              "    <tr>\n",
              "      <th>11</th>\n",
              "      <td>3486950</td>\n",
              "      <td>2019-12-01</td>\n",
              "      <td>C000224</td>\n",
              "      <td>1</td>\n",
              "      <td>C000224</td>\n",
              "      <td>S0040852</td>\n",
              "      <td>치킨</td>\n",
              "      <td>4127110200</td>\n",
              "      <td>경기도</td>\n",
              "      <td>안산시 상록구</td>\n",
              "      <td>이동</td>\n",
              "      <td>\\N</td>\n",
              "      <td>4127151500</td>\n",
              "      <td>412713190063</td>\n",
              "      <td>4127110100</td>\n",
              "      <td>경기도</td>\n",
              "      <td>안산시 상록구</td>\n",
              "      <td>일동</td>\n",
              "      <td>\\N</td>\n",
              "      <td>4127151000</td>\n",
              "      <td>412714370397</td>\n",
              "      <td>D0004830</td>\n",
              "      <td>3000</td>\n",
              "      <td>200</td>\n",
              "      <td>24900</td>\n",
              "      <td>2</td>\n",
              "      <td>NaN</td>\n",
              "      <td>2019-12-01 19:24:11</td>\n",
              "      <td>2019-12-01 19:38:20</td>\n",
              "      <td>2019-12-01 19:56:48</td>\n",
              "      <td>2019-12-01 19:56:52</td>\n",
              "      <td>\\N</td>\n",
              "    </tr>\n",
              "    <tr>\n",
              "      <th>12</th>\n",
              "      <td>3486951</td>\n",
              "      <td>2019-12-01</td>\n",
              "      <td>C000238</td>\n",
              "      <td>1</td>\n",
              "      <td>C000238</td>\n",
              "      <td>S0001089</td>\n",
              "      <td>분식</td>\n",
              "      <td>4119010200</td>\n",
              "      <td>경기도</td>\n",
              "      <td>부천시</td>\n",
              "      <td>심곡동</td>\n",
              "      <td>\\N</td>\n",
              "      <td>4119060300</td>\n",
              "      <td>411903184003</td>\n",
              "      <td>4119010800</td>\n",
              "      <td>경기도</td>\n",
              "      <td>부천시</td>\n",
              "      <td>중동</td>\n",
              "      <td>\\N</td>\n",
              "      <td>4119074200</td>\n",
              "      <td>411903000066</td>\n",
              "      <td>D0004861</td>\n",
              "      <td>3000</td>\n",
              "      <td>200</td>\n",
              "      <td>8000</td>\n",
              "      <td>3</td>\n",
              "      <td>NaN</td>\n",
              "      <td>2019-12-01 23:20:23</td>\n",
              "      <td>2019-12-01 23:20:39</td>\n",
              "      <td>2019-12-01 23:27:30</td>\n",
              "      <td>2019-12-01 23:27:32</td>\n",
              "      <td>\\N</td>\n",
              "    </tr>\n",
              "    <tr>\n",
              "      <th>13</th>\n",
              "      <td>3486952</td>\n",
              "      <td>2019-12-01</td>\n",
              "      <td>C000077</td>\n",
              "      <td>1</td>\n",
              "      <td>C000077</td>\n",
              "      <td>S0021647</td>\n",
              "      <td>치킨</td>\n",
              "      <td>4119011500</td>\n",
              "      <td>경기도</td>\n",
              "      <td>부천시</td>\n",
              "      <td>옥길동</td>\n",
              "      <td>\\N</td>\n",
              "      <td>4119079500</td>\n",
              "      <td>411903185011</td>\n",
              "      <td>4119011500</td>\n",
              "      <td>경기도</td>\n",
              "      <td>부천시</td>\n",
              "      <td>옥길동</td>\n",
              "      <td>\\N</td>\n",
              "      <td>4119079500</td>\n",
              "      <td>411903186021</td>\n",
              "      <td>D0001038</td>\n",
              "      <td>3000</td>\n",
              "      <td>200</td>\n",
              "      <td>0</td>\n",
              "      <td>2</td>\n",
              "      <td>NaN</td>\n",
              "      <td>2019-12-01 20:28:58</td>\n",
              "      <td>2019-12-01 20:29:25</td>\n",
              "      <td>2019-12-01 20:53:44</td>\n",
              "      <td>2019-12-01 20:53:54</td>\n",
              "      <td>\\N</td>\n",
              "    </tr>\n",
              "    <tr>\n",
              "      <th>14</th>\n",
              "      <td>3486954</td>\n",
              "      <td>2019-12-01</td>\n",
              "      <td>C000130</td>\n",
              "      <td>1</td>\n",
              "      <td>C000130</td>\n",
              "      <td>S0002353</td>\n",
              "      <td>회</td>\n",
              "      <td>4128112300</td>\n",
              "      <td>경기도</td>\n",
              "      <td>고양시 덕양구</td>\n",
              "      <td>화정동</td>\n",
              "      <td>\\N</td>\n",
              "      <td>4128162100</td>\n",
              "      <td>\\N</td>\n",
              "      <td>4128112800</td>\n",
              "      <td>경기도</td>\n",
              "      <td>고양시 덕양구</td>\n",
              "      <td>행신동</td>\n",
              "      <td>\\N</td>\n",
              "      <td>4128165500</td>\n",
              "      <td>412813192087</td>\n",
              "      <td>D0002268</td>\n",
              "      <td>3500</td>\n",
              "      <td>300</td>\n",
              "      <td>30000</td>\n",
              "      <td>1</td>\n",
              "      <td>승인:비씨카드사</td>\n",
              "      <td>2019-12-01 20:47:42</td>\n",
              "      <td>2019-12-01 20:48:00</td>\n",
              "      <td>2019-12-01 20:56:57</td>\n",
              "      <td>2019-12-01 20:57:18</td>\n",
              "      <td>\\N</td>\n",
              "    </tr>\n",
              "    <tr>\n",
              "      <th>15</th>\n",
              "      <td>3486955</td>\n",
              "      <td>2019-12-01</td>\n",
              "      <td>C000029</td>\n",
              "      <td>1</td>\n",
              "      <td>C000043</td>\n",
              "      <td>S0022958</td>\n",
              "      <td>분식</td>\n",
              "      <td>4115011000</td>\n",
              "      <td>경기도</td>\n",
              "      <td>의정부시</td>\n",
              "      <td>가능동</td>\n",
              "      <td>\\N</td>\n",
              "      <td>4115059500</td>\n",
              "      <td>411503181061</td>\n",
              "      <td>4115010100</td>\n",
              "      <td>경기도</td>\n",
              "      <td>의정부시</td>\n",
              "      <td>의정부동</td>\n",
              "      <td>\\N</td>\n",
              "      <td>4115051000</td>\n",
              "      <td>411503000136</td>\n",
              "      <td>D0000750</td>\n",
              "      <td>3500</td>\n",
              "      <td>200</td>\n",
              "      <td>15500</td>\n",
              "      <td>2</td>\n",
              "      <td>NaN</td>\n",
              "      <td>2019-12-01 20:41:39</td>\n",
              "      <td>2019-12-01 20:42:20</td>\n",
              "      <td>2019-12-01 20:59:08</td>\n",
              "      <td>2019-12-01 21:16:19</td>\n",
              "      <td>\\N</td>\n",
              "    </tr>\n",
              "    <tr>\n",
              "      <th>16</th>\n",
              "      <td>3486959</td>\n",
              "      <td>2019-12-01</td>\n",
              "      <td>C000032</td>\n",
              "      <td>1</td>\n",
              "      <td>C000240</td>\n",
              "      <td>S0000618</td>\n",
              "      <td>카페/디저트</td>\n",
              "      <td>4119010500</td>\n",
              "      <td>경기도</td>\n",
              "      <td>부천시</td>\n",
              "      <td>약대동</td>\n",
              "      <td>\\N</td>\n",
              "      <td>4119074200</td>\n",
              "      <td>411903185015</td>\n",
              "      <td>4119010800</td>\n",
              "      <td>경기도</td>\n",
              "      <td>부천시</td>\n",
              "      <td>중동</td>\n",
              "      <td>\\N</td>\n",
              "      <td>4119074200</td>\n",
              "      <td>411903184007</td>\n",
              "      <td>D0004773</td>\n",
              "      <td>3300</td>\n",
              "      <td>200</td>\n",
              "      <td>15500</td>\n",
              "      <td>2</td>\n",
              "      <td>NaN</td>\n",
              "      <td>2019-12-01 20:16:36</td>\n",
              "      <td>2019-12-01 20:17:26</td>\n",
              "      <td>2019-12-01 20:36:43</td>\n",
              "      <td>2019-12-01 20:37:03</td>\n",
              "      <td>\\N</td>\n",
              "    </tr>\n",
              "    <tr>\n",
              "      <th>17</th>\n",
              "      <td>3486960</td>\n",
              "      <td>2019-12-01</td>\n",
              "      <td>C000049</td>\n",
              "      <td>1</td>\n",
              "      <td>C000049</td>\n",
              "      <td>S0022440</td>\n",
              "      <td>패스트푸드</td>\n",
              "      <td>1153010600</td>\n",
              "      <td>서울특별시</td>\n",
              "      <td>구로구</td>\n",
              "      <td>고척동</td>\n",
              "      <td>\\N</td>\n",
              "      <td>1153072000</td>\n",
              "      <td>115304148103</td>\n",
              "      <td>1153010600</td>\n",
              "      <td>서울특별시</td>\n",
              "      <td>구로구</td>\n",
              "      <td>고척동</td>\n",
              "      <td>\\N</td>\n",
              "      <td>1153073000</td>\n",
              "      <td>115304148179</td>\n",
              "      <td>D0004578</td>\n",
              "      <td>3000</td>\n",
              "      <td>400</td>\n",
              "      <td>13600</td>\n",
              "      <td>2</td>\n",
              "      <td>NaN</td>\n",
              "      <td>2019-12-01 22:38:54</td>\n",
              "      <td>2019-12-01 22:40:24</td>\n",
              "      <td>2019-12-01 22:49:55</td>\n",
              "      <td>2019-12-01 22:55:59</td>\n",
              "      <td>\\N</td>\n",
              "    </tr>\n",
              "    <tr>\n",
              "      <th>18</th>\n",
              "      <td>3486961</td>\n",
              "      <td>2019-12-01</td>\n",
              "      <td>C000209</td>\n",
              "      <td>1</td>\n",
              "      <td>C000249</td>\n",
              "      <td>S0022364</td>\n",
              "      <td>치킨</td>\n",
              "      <td>1154510200</td>\n",
              "      <td>서울특별시</td>\n",
              "      <td>금천구</td>\n",
              "      <td>독산동</td>\n",
              "      <td>\\N</td>\n",
              "      <td>1154563000</td>\n",
              "      <td>115453117004</td>\n",
              "      <td>4121010200</td>\n",
              "      <td>경기도</td>\n",
              "      <td>광명시</td>\n",
              "      <td>철산동</td>\n",
              "      <td>\\N</td>\n",
              "      <td>4121062000</td>\n",
              "      <td>412103187002</td>\n",
              "      <td>D0006547</td>\n",
              "      <td>6300</td>\n",
              "      <td>300</td>\n",
              "      <td>23000</td>\n",
              "      <td>2</td>\n",
              "      <td>NaN</td>\n",
              "      <td>2019-12-01 19:29:12</td>\n",
              "      <td>2019-12-01 19:44:58</td>\n",
              "      <td>2019-12-01 19:52:32</td>\n",
              "      <td>2019-12-01 20:17:08</td>\n",
              "      <td>\\N</td>\n",
              "    </tr>\n",
              "    <tr>\n",
              "      <th>19</th>\n",
              "      <td>3486964</td>\n",
              "      <td>2019-12-01</td>\n",
              "      <td>C000049</td>\n",
              "      <td>1</td>\n",
              "      <td>C000049</td>\n",
              "      <td>S0000200</td>\n",
              "      <td>분식</td>\n",
              "      <td>1153010600</td>\n",
              "      <td>서울특별시</td>\n",
              "      <td>구로구</td>\n",
              "      <td>고척동</td>\n",
              "      <td>\\N</td>\n",
              "      <td>1153072000</td>\n",
              "      <td>115304148103</td>\n",
              "      <td>1153010200</td>\n",
              "      <td>서울특별시</td>\n",
              "      <td>구로구</td>\n",
              "      <td>구로동</td>\n",
              "      <td>\\N</td>\n",
              "      <td>1153052000</td>\n",
              "      <td>115304148289</td>\n",
              "      <td>D0005434</td>\n",
              "      <td>3300</td>\n",
              "      <td>300</td>\n",
              "      <td>15000</td>\n",
              "      <td>2</td>\n",
              "      <td>NaN</td>\n",
              "      <td>2019-12-01 18:52:02</td>\n",
              "      <td>2019-12-01 19:12:08</td>\n",
              "      <td>2019-12-01 19:22:07</td>\n",
              "      <td>2019-12-01 19:43:26</td>\n",
              "      <td>\\N</td>\n",
              "    </tr>\n",
              "  </tbody>\n",
              "</table>\n",
              "</div>"
            ],
            "text/plain": [
              "         SN  PROCESS_DT  ...      DLVR_COMPT_TIME  DLVR_CANCL_TIME\n",
              "0   3486929  2019-12-01  ...  2019-12-01 21:00:15               \\N\n",
              "1   3486930  2019-12-01  ...  2019-12-01 22:26:01               \\N\n",
              "2   3486932  2019-12-01  ...  2019-12-01 22:58:32               \\N\n",
              "3   3486933  2019-12-01  ...  2019-12-01 22:17:57               \\N\n",
              "4   3486934  2019-12-01  ...  2019-12-01 20:00:22               \\N\n",
              "5   3486940  2019-12-01  ...  2019-12-01 19:58:06               \\N\n",
              "6   3486941  2019-12-01  ...  2019-12-01 21:36:15               \\N\n",
              "7   3486942  2019-12-01  ...  2019-12-01 21:48:59               \\N\n",
              "8   3486943  2019-12-01  ...  2019-12-01 19:28:36               \\N\n",
              "9   3486946  2019-12-01  ...  2019-12-01 21:04:42               \\N\n",
              "10  3486949  2019-12-01  ...  2019-12-01 21:06:22               \\N\n",
              "11  3486950  2019-12-01  ...  2019-12-01 19:56:52               \\N\n",
              "12  3486951  2019-12-01  ...  2019-12-01 23:27:32               \\N\n",
              "13  3486952  2019-12-01  ...  2019-12-01 20:53:54               \\N\n",
              "14  3486954  2019-12-01  ...  2019-12-01 20:57:18               \\N\n",
              "15  3486955  2019-12-01  ...  2019-12-01 21:16:19               \\N\n",
              "16  3486959  2019-12-01  ...  2019-12-01 20:37:03               \\N\n",
              "17  3486960  2019-12-01  ...  2019-12-01 22:55:59               \\N\n",
              "18  3486961  2019-12-01  ...  2019-12-01 20:17:08               \\N\n",
              "19  3486964  2019-12-01  ...  2019-12-01 19:43:26               \\N\n",
              "\n",
              "[20 rows x 32 columns]"
            ]
          },
          "metadata": {
            "tags": []
          },
          "execution_count": 2
        }
      ]
    },
    {
      "cell_type": "code",
      "metadata": {
        "colab": {
          "base_uri": "https://localhost:8080/"
        },
        "id": "B-uv6RzWemLf",
        "outputId": "e8332b20-33e7-4c5b-c9e7-5de389ff5772"
      },
      "source": [
        "df['DLVR_STORE_BRTC_NM'].unique()"
      ],
      "execution_count": 3,
      "outputs": [
        {
          "output_type": "execute_result",
          "data": {
            "text/plain": [
              "array(['서울특별시', '경기도'], dtype=object)"
            ]
          },
          "metadata": {
            "tags": []
          },
          "execution_count": 3
        }
      ]
    },
    {
      "cell_type": "code",
      "metadata": {
        "colab": {
          "base_uri": "https://localhost:8080/",
          "height": 309
        },
        "id": "8roag4FGesOB",
        "outputId": "c8d50eee-b2ff-41e7-baa8-7befe2c70bbc"
      },
      "source": [
        "data = df.copy()\n",
        "data.head()"
      ],
      "execution_count": 4,
      "outputs": [
        {
          "output_type": "execute_result",
          "data": {
            "text/html": [
              "<div>\n",
              "<style scoped>\n",
              "    .dataframe tbody tr th:only-of-type {\n",
              "        vertical-align: middle;\n",
              "    }\n",
              "\n",
              "    .dataframe tbody tr th {\n",
              "        vertical-align: top;\n",
              "    }\n",
              "\n",
              "    .dataframe thead th {\n",
              "        text-align: right;\n",
              "    }\n",
              "</style>\n",
              "<table border=\"1\" class=\"dataframe\">\n",
              "  <thead>\n",
              "    <tr style=\"text-align: right;\">\n",
              "      <th></th>\n",
              "      <th>SN</th>\n",
              "      <th>PROCESS_DT</th>\n",
              "      <th>DLVR_REQUST_ENTRPS_ID</th>\n",
              "      <th>DLVR_REQUST_STTUS_VALUE</th>\n",
              "      <th>DLVR_RCEPT_ENTRPS_ID</th>\n",
              "      <th>DLVR_STORE_ID</th>\n",
              "      <th>DLVR_STORE_INDUTY_NM</th>\n",
              "      <th>DLVR_STORE_LEGALDONG_CODE</th>\n",
              "      <th>DLVR_STORE_BRTC_NM</th>\n",
              "      <th>DLVR_STORE_SIGNGU_NM</th>\n",
              "      <th>DLVR_STORE_LEGALDONG_NM</th>\n",
              "      <th>DLVR_STORE_LI_NM</th>\n",
              "      <th>DLVR_STORE_ADSTRD_CODE</th>\n",
              "      <th>DLVR_STORE_RDNMADR_CODE</th>\n",
              "      <th>DLVR_DSTN_LEGALDONG_CODE</th>\n",
              "      <th>DLVR_DSTN_BRTC_NM</th>\n",
              "      <th>DLVR_DSTN_SIGNGU_NM</th>\n",
              "      <th>DLVR_DSTN_LEGALDONG_NM</th>\n",
              "      <th>DLVR_DSTN_LI_NM</th>\n",
              "      <th>DLVR_DSTN_ADSTRD_CODE</th>\n",
              "      <th>DLVR_DSTN_RDNMADR_CODE</th>\n",
              "      <th>DLVR_MAN_ID</th>\n",
              "      <th>DLVR_AMOUNT</th>\n",
              "      <th>CALL_RLAY_FEE_AMOUNT</th>\n",
              "      <th>GOODS_AMOUNT</th>\n",
              "      <th>SETLE_KND_VALUE</th>\n",
              "      <th>SETLE_CARD_NM</th>\n",
              "      <th>DLVR_RCEPT_TIME</th>\n",
              "      <th>DLVR_CARALC_TIME</th>\n",
              "      <th>DLVR_RECPT_TIME</th>\n",
              "      <th>DLVR_COMPT_TIME</th>\n",
              "      <th>DLVR_CANCL_TIME</th>\n",
              "    </tr>\n",
              "  </thead>\n",
              "  <tbody>\n",
              "    <tr>\n",
              "      <th>0</th>\n",
              "      <td>3486929</td>\n",
              "      <td>2019-12-01</td>\n",
              "      <td>C000101</td>\n",
              "      <td>1</td>\n",
              "      <td>C000101</td>\n",
              "      <td>S0021950</td>\n",
              "      <td>족발/보쌈</td>\n",
              "      <td>1156013200</td>\n",
              "      <td>서울특별시</td>\n",
              "      <td>영등포구</td>\n",
              "      <td>신길동</td>\n",
              "      <td>\\N</td>\n",
              "      <td>1156066000</td>\n",
              "      <td>115603000023</td>\n",
              "      <td>1159010800</td>\n",
              "      <td>서울특별시</td>\n",
              "      <td>동작구</td>\n",
              "      <td>대방동</td>\n",
              "      <td>\\N</td>\n",
              "      <td>1159066000</td>\n",
              "      <td>115904157098</td>\n",
              "      <td>D0006140</td>\n",
              "      <td>3300</td>\n",
              "      <td>200</td>\n",
              "      <td>18000</td>\n",
              "      <td>1</td>\n",
              "      <td>승인:KB국민카드</td>\n",
              "      <td>2019-12-01 20:47:52</td>\n",
              "      <td>2019-12-01 20:48:11</td>\n",
              "      <td>2019-12-01 20:55:33</td>\n",
              "      <td>2019-12-01 21:00:15</td>\n",
              "      <td>\\N</td>\n",
              "    </tr>\n",
              "    <tr>\n",
              "      <th>1</th>\n",
              "      <td>3486930</td>\n",
              "      <td>2019-12-01</td>\n",
              "      <td>C000099</td>\n",
              "      <td>1</td>\n",
              "      <td>C000099</td>\n",
              "      <td>S0039210</td>\n",
              "      <td>치킨</td>\n",
              "      <td>4128510200</td>\n",
              "      <td>경기도</td>\n",
              "      <td>고양시 일산동구</td>\n",
              "      <td>중산동</td>\n",
              "      <td>\\N</td>\n",
              "      <td>4128552000</td>\n",
              "      <td>412854379205</td>\n",
              "      <td>4128510200</td>\n",
              "      <td>경기도</td>\n",
              "      <td>고양시 일산동구</td>\n",
              "      <td>중산동</td>\n",
              "      <td>\\N</td>\n",
              "      <td>4128552000</td>\n",
              "      <td>412853193037</td>\n",
              "      <td>D0005898</td>\n",
              "      <td>2900</td>\n",
              "      <td>0</td>\n",
              "      <td>21900</td>\n",
              "      <td>1</td>\n",
              "      <td>승인:현대카드사</td>\n",
              "      <td>2019-12-01 21:58:07</td>\n",
              "      <td>2019-12-01 22:01:06</td>\n",
              "      <td>2019-12-01 22:20:53</td>\n",
              "      <td>2019-12-01 22:26:01</td>\n",
              "      <td>\\N</td>\n",
              "    </tr>\n",
              "    <tr>\n",
              "      <th>2</th>\n",
              "      <td>3486932</td>\n",
              "      <td>2019-12-01</td>\n",
              "      <td>C000029</td>\n",
              "      <td>1</td>\n",
              "      <td>C000043</td>\n",
              "      <td>S0036135</td>\n",
              "      <td>치킨</td>\n",
              "      <td>4115010100</td>\n",
              "      <td>경기도</td>\n",
              "      <td>의정부시</td>\n",
              "      <td>의정부동</td>\n",
              "      <td>\\N</td>\n",
              "      <td>4115051000</td>\n",
              "      <td>411504343421</td>\n",
              "      <td>4115011100</td>\n",
              "      <td>경기도</td>\n",
              "      <td>의정부시</td>\n",
              "      <td>녹양동</td>\n",
              "      <td>\\N</td>\n",
              "      <td>4115062000</td>\n",
              "      <td>411504343083</td>\n",
              "      <td>D0000864</td>\n",
              "      <td>3500</td>\n",
              "      <td>200</td>\n",
              "      <td>19500</td>\n",
              "      <td>2</td>\n",
              "      <td>NaN</td>\n",
              "      <td>2019-12-01 22:20:31</td>\n",
              "      <td>2019-12-01 22:37:45</td>\n",
              "      <td>2019-12-01 22:58:27</td>\n",
              "      <td>2019-12-01 22:58:32</td>\n",
              "      <td>\\N</td>\n",
              "    </tr>\n",
              "    <tr>\n",
              "      <th>3</th>\n",
              "      <td>3486933</td>\n",
              "      <td>2019-12-01</td>\n",
              "      <td>C000105</td>\n",
              "      <td>1</td>\n",
              "      <td>C000105</td>\n",
              "      <td>S0039956</td>\n",
              "      <td>돈까스/일식</td>\n",
              "      <td>4128510400</td>\n",
              "      <td>경기도</td>\n",
              "      <td>고양시 일산동구</td>\n",
              "      <td>장항동</td>\n",
              "      <td>\\N</td>\n",
              "      <td>4128559000</td>\n",
              "      <td>412854379097</td>\n",
              "      <td>4128510500</td>\n",
              "      <td>경기도</td>\n",
              "      <td>고양시 일산동구</td>\n",
              "      <td>마두동</td>\n",
              "      <td>\\N</td>\n",
              "      <td>4128556000</td>\n",
              "      <td>412854379158</td>\n",
              "      <td>D0001526</td>\n",
              "      <td>3500</td>\n",
              "      <td>0</td>\n",
              "      <td>18000</td>\n",
              "      <td>2</td>\n",
              "      <td>NaN</td>\n",
              "      <td>2019-12-01 21:40:39</td>\n",
              "      <td>2019-12-01 21:48:41</td>\n",
              "      <td>2019-12-01 22:06:35</td>\n",
              "      <td>2019-12-01 22:17:57</td>\n",
              "      <td>\\N</td>\n",
              "    </tr>\n",
              "    <tr>\n",
              "      <th>4</th>\n",
              "      <td>3486934</td>\n",
              "      <td>2019-12-01</td>\n",
              "      <td>C000028</td>\n",
              "      <td>1</td>\n",
              "      <td>C000043</td>\n",
              "      <td>S0003074</td>\n",
              "      <td>치킨</td>\n",
              "      <td>4115010900</td>\n",
              "      <td>경기도</td>\n",
              "      <td>의정부시</td>\n",
              "      <td>금오동</td>\n",
              "      <td>\\N</td>\n",
              "      <td>4115058000</td>\n",
              "      <td>411504343342</td>\n",
              "      <td>4115010900</td>\n",
              "      <td>경기도</td>\n",
              "      <td>의정부시</td>\n",
              "      <td>금오동</td>\n",
              "      <td>\\N</td>\n",
              "      <td>4115058000</td>\n",
              "      <td>411503181019</td>\n",
              "      <td>D0000986</td>\n",
              "      <td>3500</td>\n",
              "      <td>200</td>\n",
              "      <td>18000</td>\n",
              "      <td>3</td>\n",
              "      <td>NaN</td>\n",
              "      <td>2019-12-01 19:44:37</td>\n",
              "      <td>2019-12-01 19:48:07</td>\n",
              "      <td>2019-12-01 19:54:30</td>\n",
              "      <td>2019-12-01 20:00:22</td>\n",
              "      <td>\\N</td>\n",
              "    </tr>\n",
              "  </tbody>\n",
              "</table>\n",
              "</div>"
            ],
            "text/plain": [
              "        SN  PROCESS_DT  ...      DLVR_COMPT_TIME  DLVR_CANCL_TIME\n",
              "0  3486929  2019-12-01  ...  2019-12-01 21:00:15               \\N\n",
              "1  3486930  2019-12-01  ...  2019-12-01 22:26:01               \\N\n",
              "2  3486932  2019-12-01  ...  2019-12-01 22:58:32               \\N\n",
              "3  3486933  2019-12-01  ...  2019-12-01 22:17:57               \\N\n",
              "4  3486934  2019-12-01  ...  2019-12-01 20:00:22               \\N\n",
              "\n",
              "[5 rows x 32 columns]"
            ]
          },
          "metadata": {
            "tags": []
          },
          "execution_count": 4
        }
      ]
    },
    {
      "cell_type": "code",
      "metadata": {
        "colab": {
          "base_uri": "https://localhost:8080/"
        },
        "id": "9nbjqONQfS8h",
        "outputId": "ceae915b-ac78-4606-8bfd-3a23c09064a8"
      },
      "source": [
        "data['DLVR_STORE_INDUTY_NM'].unique()"
      ],
      "execution_count": 5,
      "outputs": [
        {
          "output_type": "execute_result",
          "data": {
            "text/plain": [
              "array(['족발/보쌈', '치킨', '돈까스/일식', '아시안/양식', '카페/디저트', '패스트푸드', '분식', '회',\n",
              "       '야식', '한식', '배달전문업체', '중식', '피자', '찜탕', '도시락', '심부름'], dtype=object)"
            ]
          },
          "metadata": {
            "tags": []
          },
          "execution_count": 5
        }
      ]
    },
    {
      "cell_type": "code",
      "metadata": {
        "id": "Jx6jkwcofXLu"
      },
      "source": [
        ""
      ],
      "execution_count": null,
      "outputs": []
    }
  ]
}