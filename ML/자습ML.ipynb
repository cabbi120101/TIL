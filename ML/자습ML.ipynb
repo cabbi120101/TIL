{
  "nbformat": 4,
  "nbformat_minor": 0,
  "metadata": {
    "colab": {
      "name": "자습ML.ipynb",
      "provenance": [],
      "collapsed_sections": [],
      "mount_file_id": "1PrErI8nqKiZi2b3DllcQjl64kTMjzM-D",
      "authorship_tag": "ABX9TyOrRgxsUYEJbb3UYTj0PYxZ",
      "include_colab_link": true
    },
    "kernelspec": {
      "name": "python3",
      "display_name": "Python 3"
    },
    "language_info": {
      "name": "python"
    }
  },
  "cells": [
    {
      "cell_type": "markdown",
      "metadata": {
        "id": "view-in-github",
        "colab_type": "text"
      },
      "source": [
        "<a href=\"https://colab.research.google.com/github/cabbi120101/TIL/blob/master/ML/%EC%9E%90%EC%8A%B5ML.ipynb\" target=\"_parent\"><img src=\"https://colab.research.google.com/assets/colab-badge.svg\" alt=\"Open In Colab\"/></a>"
      ]
    },
    {
      "cell_type": "markdown",
      "metadata": {
        "id": "0sSj44r2OYQ_"
      },
      "source": [
        "## Numpy"
      ]
    },
    {
      "cell_type": "code",
      "metadata": {
        "id": "1YMjTBQqOWpQ"
      },
      "source": [
        "import numpy as np"
      ],
      "execution_count": null,
      "outputs": []
    },
    {
      "cell_type": "markdown",
      "metadata": {
        "id": "QuU-p7M_QOK5"
      },
      "source": [
        "#### Boolean indexing"
      ]
    },
    {
      "cell_type": "code",
      "metadata": {
        "colab": {
          "base_uri": "https://localhost:8080/"
        },
        "id": "7wG3PGTROdKe",
        "outputId": "0153def3-1945-481a-f6eb-cb12011d9ef7"
      },
      "source": [
        "# 불린 인덱싱 (Boolean indexing)\n",
        "array1d = np.arange(start=1, stop=10)\n",
        "# [] 안에 array1d > 5 Boolean indexing을 적용\n",
        "array3 = array1d[array1d > 5]\n",
        "print('array1d > 5 불린 인덱싱 결과 값 :', array3)"
      ],
      "execution_count": null,
      "outputs": [
        {
          "output_type": "stream",
          "text": [
            "array1d > 5 불린 인덱싱 결과 값 : [6 7 8 9]\n"
          ],
          "name": "stdout"
        }
      ]
    },
    {
      "cell_type": "code",
      "metadata": {
        "colab": {
          "base_uri": "https://localhost:8080/"
        },
        "id": "3iRh8mPkPI6g",
        "outputId": "fe51ccd7-6583-473b-9221-2eee15aecba0"
      },
      "source": [
        "test = np.arange(start = 10 , stop=100)\n",
        "test30 = test[test<30]\n",
        "print('시험 30보다 적은 수 :', test30)"
      ],
      "execution_count": null,
      "outputs": [
        {
          "output_type": "stream",
          "text": [
            "시험 30보다 적은 수 : [10 11 12 13 14 15 16 17 18 19 20 21 22 23 24 25 26 27 28 29]\n"
          ],
          "name": "stdout"
        }
      ]
    },
    {
      "cell_type": "code",
      "metadata": {
        "colab": {
          "base_uri": "https://localhost:8080/"
        },
        "id": "rQRGFTSNPiIt",
        "outputId": "c17e6158-ce5d-4cbb-d413-ee5d507b762c"
      },
      "source": [
        "array1d >5"
      ],
      "execution_count": null,
      "outputs": [
        {
          "output_type": "execute_result",
          "data": {
            "text/plain": [
              "array([False, False, False, False, False,  True,  True,  True,  True])"
            ]
          },
          "metadata": {
            "tags": []
          },
          "execution_count": 7
        }
      ]
    },
    {
      "cell_type": "code",
      "metadata": {
        "colab": {
          "base_uri": "https://localhost:8080/"
        },
        "id": "vwVhneO2Pps2",
        "outputId": "0ebf81b7-ff08-4e11-9cb6-889b2d3c1e1f"
      },
      "source": [
        "indexes = np.array([5,6,7,8])\n",
        "array4 = array1d[indexes]\n",
        "print('일반 인덱스로 필터링 결과 :', array4)"
      ],
      "execution_count": null,
      "outputs": [
        {
          "output_type": "stream",
          "text": [
            "일반 인덱스로 필터링 결과 : [6 7 8 9]\n"
          ],
          "name": "stdout"
        }
      ]
    },
    {
      "cell_type": "markdown",
      "metadata": {
        "id": "t39RXR5yQNA6"
      },
      "source": [
        "#### 선형대수 연산 -행렬 내적과 전치 행렬 구하기"
      ]
    },
    {
      "cell_type": "code",
      "metadata": {
        "colab": {
          "base_uri": "https://localhost:8080/"
        },
        "id": "ZgbACYbtQA9_",
        "outputId": "6c88b32c-241b-4121-e8cd-e32cea8f78ba"
      },
      "source": [
        "# 행렬 내적(행렬 곱)\n",
        "A = np.array([[1,2,3],\n",
        "              [4,5,6]])\n",
        "B = np.array([[7,8],\n",
        "              [9,10],\n",
        "              [11,12]])\n",
        "dot_product = np.dot(A,B)\n",
        "print('행렬 내적 결과:\\n', dot_product)"
      ],
      "execution_count": null,
      "outputs": [
        {
          "output_type": "stream",
          "text": [
            "행렬 내적 결과:\n",
            " [[ 58  64]\n",
            " [139 154]]\n"
          ],
          "name": "stdout"
        }
      ]
    },
    {
      "cell_type": "code",
      "metadata": {
        "colab": {
          "base_uri": "https://localhost:8080/"
        },
        "id": "JufjRzv3Qy7c",
        "outputId": "48e9cfbe-f6ef-4a1c-d476-7d8b17081b82"
      },
      "source": [
        "# 전치 행렬\n",
        "A = np.array([[1,2],\n",
        "              [3,4]])\n",
        "transpose_mat = np.transpose(A)\n",
        "print('A의 전치행렬 :\\n', transpose_mat)"
      ],
      "execution_count": null,
      "outputs": [
        {
          "output_type": "stream",
          "text": [
            "A의 전치행렬 :\n",
            " [[1 3]\n",
            " [2 4]]\n"
          ],
          "name": "stdout"
        }
      ]
    },
    {
      "cell_type": "code",
      "metadata": {
        "id": "Ch6_crHERIqV"
      },
      "source": [
        ""
      ],
      "execution_count": null,
      "outputs": []
    },
    {
      "cell_type": "markdown",
      "metadata": {
        "id": "Lk38f-BcRPwH"
      },
      "source": [
        "## Pandas"
      ]
    },
    {
      "cell_type": "markdown",
      "metadata": {
        "id": "EL6rEqvKLO8X"
      },
      "source": [
        "DataFrame ix[]연산자"
      ]
    },
    {
      "cell_type": "code",
      "metadata": {
        "id": "O2t5vb6ORRJp"
      },
      "source": [
        ""
      ],
      "execution_count": null,
      "outputs": []
    },
    {
      "cell_type": "code",
      "metadata": {
        "id": "9dE6D3HaREAX"
      },
      "source": [
        ""
      ],
      "execution_count": null,
      "outputs": []
    },
    {
      "cell_type": "markdown",
      "metadata": {
        "id": "wOHz1f_KRDpl"
      },
      "source": [
        "## 평가 성능평가 지표\n"
      ]
    },
    {
      "cell_type": "code",
      "metadata": {
        "id": "-kZMqi6oRULZ"
      },
      "source": [
        "import numpy as np\n",
        "from sklearn.base import BaseEstimator\n",
        "\n",
        "# 아무런 학습도 하지 않고 성별에 따라 생존자를 예측하는\n",
        "# 단순한 Classifier 생성\n",
        "# BaseEstimator 를 상속 받음\n",
        "class MyDummyClassifier(BaseEstimator):\n",
        "    # fit(): 아무것도 학습하지 않음\n",
        "    def fit(self, X, y=None):\n",
        "        pass\n",
        "\n",
        "    # predict() : 단순히 Sex 피처가 1이면 0, 그렇지 않으면 1로 예측\n",
        "    def predict(self, X):\n",
        "        pred = np.zeros((X.shape[0],1)) # 예측값 초기화: 2차원 형태(, 1)\n",
        "        for i in range(X.shape[0]):\n",
        "            if X['Sex'].iloc[i] == 1 : # '남자'인 경우\n",
        "                pred[i] = 0 # 사망\n",
        "            else :\n",
        "                pred[i] = 1\n",
        "\n",
        "        return pred"
      ],
      "execution_count": 1,
      "outputs": []
    },
    {
      "cell_type": "code",
      "metadata": {
        "id": "PZNVJilkRUp3"
      },
      "source": [
        "# 타이타닉 데이터 전처리 함수(머신러닝05에서 쓴 데이터 전처리 함수)\n",
        "from sklearn.preprocessing import LabelEncoder\n",
        "\n",
        "# Null 처리 함수\n",
        "def fillna(df):\n",
        "    df['Age'].fillna(df['Age'].mean(), inplace=True)\n",
        "    df['Cabin'].fillna('N', inplace=True)\n",
        "    df['Embarked'].fillna('N', inplace=True)\n",
        "    df['Fare'].fillna(0, inplace=True)\n",
        "    \n",
        "    return df\n",
        "\n",
        "# 머신러닝 알고리즘에 불필요한 속성 제거\n",
        "def drop_features(df):\n",
        "    df.drop(['PassengerId', 'Name', 'Ticket'], axis=1, inplace=True)\n",
        "    return df\n",
        "\n",
        "# 레이블 인코딩 수행 함수\n",
        "def format_features(df):\n",
        "    df['Cabin'] = df['Cabin'].str[:1] # 첫 문자만 추출\n",
        "    \n",
        "    features = ['Cabin', 'Sex', 'Embarked']\n",
        "    \n",
        "    for feature in features:\n",
        "        le = LabelEncoder()\n",
        "        le = le.fit(df[feature])\n",
        "        df[feature] = le.transform(df[feature])\n",
        "    \n",
        "    return df\n",
        "\n",
        "# 위에서 만든 모든 함수를 한 번에 호출해서 사용하기 위한\n",
        "# 함수 작성\n",
        "def transform_features(df):\n",
        "    df = fillna(df)\n",
        "    df = drop_features(df)\n",
        "    df = format_features(df)\n",
        "    \n",
        "    return df"
      ],
      "execution_count": 3,
      "outputs": []
    },
    {
      "cell_type": "code",
      "metadata": {
        "colab": {
          "base_uri": "https://localhost:8080/"
        },
        "id": "7vlt-_1WRbOu",
        "outputId": "88882b1f-1c6a-42b7-9665-3ea9f2937015"
      },
      "source": [
        "# 타이타닉 생존자 예측\n",
        "\n",
        "import pandas as pd\n",
        "from sklearn.model_selection import train_test_split\n",
        "from sklearn.metrics import accuracy_score\n",
        "\n",
        "# 원본 데이터를 재로딩, 데이터 가공, 학습/테스트 데이터 세트로 분\n",
        "\n",
        "titanic_df = pd.read_csv('/content/drive/MyDrive/Colab Notebooks/멀티캠/머신러닝/titanic_train.csv')\n",
        "\n",
        "\n",
        "# 결정값 (Label)\n",
        "y_titanic_df = titanic_df['Survived']\n",
        "\n",
        "X_titanic_df = titanic_df.drop('Survived', axis=1)\n",
        "\n",
        "X_titanic_df = transform_features(X_titanic_df)\n",
        "\n",
        "X_train, X_test, y_train, y_test = train_test_split(X_titanic_df, y_titanic_df, test_size=0.2, random_state=11)\n",
        "\n",
        "\n",
        "# 위에서 생성한 MyDummyClassifier를 이용하여 학습/예측/평가 수행\n",
        "my_clf = MyDummyClassifier()\n",
        "my_clf.fit(X_train, y_train)\n",
        "\n",
        "pred = my_clf.predict(X_test)\n",
        "\n",
        "print('DummyClassifier 정확도 : {0:.4f}'.format(accuracy_score(y_test, pred)))\n"
      ],
      "execution_count": 4,
      "outputs": [
        {
          "output_type": "stream",
          "text": [
            "DummyClassifier 정확도 : 0.8324\n"
          ],
          "name": "stdout"
        }
      ]
    },
    {
      "cell_type": "code",
      "metadata": {
        "id": "zQCLZjniRbnq"
      },
      "source": [
        ""
      ],
      "execution_count": null,
      "outputs": []
    }
  ]
}