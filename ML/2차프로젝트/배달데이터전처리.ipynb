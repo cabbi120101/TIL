{
  "nbformat": 4,
  "nbformat_minor": 0,
  "metadata": {
    "colab": {
      "name": "배달데이터전처리.ipynb",
      "provenance": [],
      "collapsed_sections": [],
      "authorship_tag": "ABX9TyPy6t8YM3mIITul8A+xpSn0",
      "include_colab_link": true
    },
    "kernelspec": {
      "name": "python3",
      "display_name": "Python 3"
    },
    "language_info": {
      "name": "python"
    }
  },
  "cells": [
    {
      "cell_type": "markdown",
      "metadata": {
        "id": "view-in-github",
        "colab_type": "text"
      },
      "source": [
        "<a href=\"https://colab.research.google.com/github/cabbi120101/TIL/blob/master/ML/2%EC%B0%A8%ED%94%84%EB%A1%9C%EC%A0%9D%ED%8A%B8/%EB%B0%B0%EB%8B%AC%EB%8D%B0%EC%9D%B4%ED%84%B0%EC%A0%84%EC%B2%98%EB%A6%AC.ipynb\" target=\"_parent\"><img src=\"https://colab.research.google.com/assets/colab-badge.svg\" alt=\"Open In Colab\"/></a>"
      ]
    },
    {
      "cell_type": "code",
      "metadata": {
        "id": "4Ae6CB9fPIpu"
      },
      "source": [
        ""
      ],
      "execution_count": null,
      "outputs": []
    },
    {
      "cell_type": "code",
      "metadata": {
        "colab": {
          "base_uri": "https://localhost:8080/"
        },
        "id": "9kP2_Z0vQRVN",
        "outputId": "545575c8-5010-418b-a881-1708c9229f70"
      },
      "source": [
        "from google.colab import drive\n",
        "drive.mount('/content/drive')"
      ],
      "execution_count": 1,
      "outputs": [
        {
          "output_type": "stream",
          "text": [
            "Drive already mounted at /content/drive; to attempt to forcibly remount, call drive.mount(\"/content/drive\", force_remount=True).\n"
          ],
          "name": "stdout"
        }
      ]
    },
    {
      "cell_type": "code",
      "metadata": {
        "colab": {
          "base_uri": "https://localhost:8080/",
          "height": 1000
        },
        "id": "AnM2HMKqQd7k",
        "outputId": "7052e868-7039-4dc8-b82b-bae7bfd3e17a"
      },
      "source": [
        "import pandas as pd\n",
        "df = pd.read_csv('/content/drive/MyDrive/Colab Notebooks/멀티캠/머신러닝/8월 5일/dlvr_call.csv')\n",
        "df.head(20)"
      ],
      "execution_count": 2,
      "outputs": [
        {
          "output_type": "stream",
          "text": [
            "/usr/local/lib/python3.7/dist-packages/IPython/core/interactiveshell.py:2718: DtypeWarning: Columns (19) have mixed types.Specify dtype option on import or set low_memory=False.\n",
            "  interactivity=interactivity, compiler=compiler, result=result)\n"
          ],
          "name": "stderr"
        },
        {
          "output_type": "execute_result",
          "data": {
            "text/html": [
              "<div>\n",
              "<style scoped>\n",
              "    .dataframe tbody tr th:only-of-type {\n",
              "        vertical-align: middle;\n",
              "    }\n",
              "\n",
              "    .dataframe tbody tr th {\n",
              "        vertical-align: top;\n",
              "    }\n",
              "\n",
              "    .dataframe thead th {\n",
              "        text-align: right;\n",
              "    }\n",
              "</style>\n",
              "<table border=\"1\" class=\"dataframe\">\n",
              "  <thead>\n",
              "    <tr style=\"text-align: right;\">\n",
              "      <th></th>\n",
              "      <th>SN</th>\n",
              "      <th>PROCESS_DT</th>\n",
              "      <th>DLVR_REQUST_ENTRPS_ID</th>\n",
              "      <th>DLVR_REQUST_STTUS_VALUE</th>\n",
              "      <th>DLVR_RCEPT_ENTRPS_ID</th>\n",
              "      <th>DLVR_STORE_ID</th>\n",
              "      <th>DLVR_STORE_INDUTY_NM</th>\n",
              "      <th>DLVR_STORE_LEGALDONG_CODE</th>\n",
              "      <th>DLVR_STORE_BRTC_NM</th>\n",
              "      <th>DLVR_STORE_SIGNGU_NM</th>\n",
              "      <th>DLVR_STORE_LEGALDONG_NM</th>\n",
              "      <th>DLVR_STORE_LI_NM</th>\n",
              "      <th>DLVR_STORE_ADSTRD_CODE</th>\n",
              "      <th>DLVR_STORE_RDNMADR_CODE</th>\n",
              "      <th>DLVR_DSTN_LEGALDONG_CODE</th>\n",
              "      <th>DLVR_DSTN_BRTC_NM</th>\n",
              "      <th>DLVR_DSTN_SIGNGU_NM</th>\n",
              "      <th>DLVR_DSTN_LEGALDONG_NM</th>\n",
              "      <th>DLVR_DSTN_LI_NM</th>\n",
              "      <th>DLVR_DSTN_ADSTRD_CODE</th>\n",
              "      <th>DLVR_DSTN_RDNMADR_CODE</th>\n",
              "      <th>DLVR_MAN_ID</th>\n",
              "      <th>DLVR_AMOUNT</th>\n",
              "      <th>CALL_RLAY_FEE_AMOUNT</th>\n",
              "      <th>GOODS_AMOUNT</th>\n",
              "      <th>SETLE_KND_VALUE</th>\n",
              "      <th>SETLE_CARD_NM</th>\n",
              "      <th>DLVR_RCEPT_TIME</th>\n",
              "      <th>DLVR_CARALC_TIME</th>\n",
              "      <th>DLVR_RECPT_TIME</th>\n",
              "      <th>DLVR_COMPT_TIME</th>\n",
              "      <th>DLVR_CANCL_TIME</th>\n",
              "    </tr>\n",
              "  </thead>\n",
              "  <tbody>\n",
              "    <tr>\n",
              "      <th>0</th>\n",
              "      <td>3486929</td>\n",
              "      <td>2019-12-01</td>\n",
              "      <td>C000101</td>\n",
              "      <td>1</td>\n",
              "      <td>C000101</td>\n",
              "      <td>S0021950</td>\n",
              "      <td>족발/보쌈</td>\n",
              "      <td>1156013200</td>\n",
              "      <td>서울특별시</td>\n",
              "      <td>영등포구</td>\n",
              "      <td>신길동</td>\n",
              "      <td>\\N</td>\n",
              "      <td>1156066000</td>\n",
              "      <td>115603000023</td>\n",
              "      <td>1159010800</td>\n",
              "      <td>서울특별시</td>\n",
              "      <td>동작구</td>\n",
              "      <td>대방동</td>\n",
              "      <td>\\N</td>\n",
              "      <td>1159066000</td>\n",
              "      <td>115904157098</td>\n",
              "      <td>D0006140</td>\n",
              "      <td>3300</td>\n",
              "      <td>200</td>\n",
              "      <td>18000</td>\n",
              "      <td>1</td>\n",
              "      <td>승인:KB국민카드</td>\n",
              "      <td>2019-12-01 20:47:52</td>\n",
              "      <td>2019-12-01 20:48:11</td>\n",
              "      <td>2019-12-01 20:55:33</td>\n",
              "      <td>2019-12-01 21:00:15</td>\n",
              "      <td>\\N</td>\n",
              "    </tr>\n",
              "    <tr>\n",
              "      <th>1</th>\n",
              "      <td>3486930</td>\n",
              "      <td>2019-12-01</td>\n",
              "      <td>C000099</td>\n",
              "      <td>1</td>\n",
              "      <td>C000099</td>\n",
              "      <td>S0039210</td>\n",
              "      <td>치킨</td>\n",
              "      <td>4128510200</td>\n",
              "      <td>경기도</td>\n",
              "      <td>고양시 일산동구</td>\n",
              "      <td>중산동</td>\n",
              "      <td>\\N</td>\n",
              "      <td>4128552000</td>\n",
              "      <td>412854379205</td>\n",
              "      <td>4128510200</td>\n",
              "      <td>경기도</td>\n",
              "      <td>고양시 일산동구</td>\n",
              "      <td>중산동</td>\n",
              "      <td>\\N</td>\n",
              "      <td>4128552000</td>\n",
              "      <td>412853193037</td>\n",
              "      <td>D0005898</td>\n",
              "      <td>2900</td>\n",
              "      <td>0</td>\n",
              "      <td>21900</td>\n",
              "      <td>1</td>\n",
              "      <td>승인:현대카드사</td>\n",
              "      <td>2019-12-01 21:58:07</td>\n",
              "      <td>2019-12-01 22:01:06</td>\n",
              "      <td>2019-12-01 22:20:53</td>\n",
              "      <td>2019-12-01 22:26:01</td>\n",
              "      <td>\\N</td>\n",
              "    </tr>\n",
              "    <tr>\n",
              "      <th>2</th>\n",
              "      <td>3486932</td>\n",
              "      <td>2019-12-01</td>\n",
              "      <td>C000029</td>\n",
              "      <td>1</td>\n",
              "      <td>C000043</td>\n",
              "      <td>S0036135</td>\n",
              "      <td>치킨</td>\n",
              "      <td>4115010100</td>\n",
              "      <td>경기도</td>\n",
              "      <td>의정부시</td>\n",
              "      <td>의정부동</td>\n",
              "      <td>\\N</td>\n",
              "      <td>4115051000</td>\n",
              "      <td>411504343421</td>\n",
              "      <td>4115011100</td>\n",
              "      <td>경기도</td>\n",
              "      <td>의정부시</td>\n",
              "      <td>녹양동</td>\n",
              "      <td>\\N</td>\n",
              "      <td>4115062000</td>\n",
              "      <td>411504343083</td>\n",
              "      <td>D0000864</td>\n",
              "      <td>3500</td>\n",
              "      <td>200</td>\n",
              "      <td>19500</td>\n",
              "      <td>2</td>\n",
              "      <td>NaN</td>\n",
              "      <td>2019-12-01 22:20:31</td>\n",
              "      <td>2019-12-01 22:37:45</td>\n",
              "      <td>2019-12-01 22:58:27</td>\n",
              "      <td>2019-12-01 22:58:32</td>\n",
              "      <td>\\N</td>\n",
              "    </tr>\n",
              "    <tr>\n",
              "      <th>3</th>\n",
              "      <td>3486933</td>\n",
              "      <td>2019-12-01</td>\n",
              "      <td>C000105</td>\n",
              "      <td>1</td>\n",
              "      <td>C000105</td>\n",
              "      <td>S0039956</td>\n",
              "      <td>돈까스/일식</td>\n",
              "      <td>4128510400</td>\n",
              "      <td>경기도</td>\n",
              "      <td>고양시 일산동구</td>\n",
              "      <td>장항동</td>\n",
              "      <td>\\N</td>\n",
              "      <td>4128559000</td>\n",
              "      <td>412854379097</td>\n",
              "      <td>4128510500</td>\n",
              "      <td>경기도</td>\n",
              "      <td>고양시 일산동구</td>\n",
              "      <td>마두동</td>\n",
              "      <td>\\N</td>\n",
              "      <td>4128556000</td>\n",
              "      <td>412854379158</td>\n",
              "      <td>D0001526</td>\n",
              "      <td>3500</td>\n",
              "      <td>0</td>\n",
              "      <td>18000</td>\n",
              "      <td>2</td>\n",
              "      <td>NaN</td>\n",
              "      <td>2019-12-01 21:40:39</td>\n",
              "      <td>2019-12-01 21:48:41</td>\n",
              "      <td>2019-12-01 22:06:35</td>\n",
              "      <td>2019-12-01 22:17:57</td>\n",
              "      <td>\\N</td>\n",
              "    </tr>\n",
              "    <tr>\n",
              "      <th>4</th>\n",
              "      <td>3486934</td>\n",
              "      <td>2019-12-01</td>\n",
              "      <td>C000028</td>\n",
              "      <td>1</td>\n",
              "      <td>C000043</td>\n",
              "      <td>S0003074</td>\n",
              "      <td>치킨</td>\n",
              "      <td>4115010900</td>\n",
              "      <td>경기도</td>\n",
              "      <td>의정부시</td>\n",
              "      <td>금오동</td>\n",
              "      <td>\\N</td>\n",
              "      <td>4115058000</td>\n",
              "      <td>411504343342</td>\n",
              "      <td>4115010900</td>\n",
              "      <td>경기도</td>\n",
              "      <td>의정부시</td>\n",
              "      <td>금오동</td>\n",
              "      <td>\\N</td>\n",
              "      <td>4115058000</td>\n",
              "      <td>411503181019</td>\n",
              "      <td>D0000986</td>\n",
              "      <td>3500</td>\n",
              "      <td>200</td>\n",
              "      <td>18000</td>\n",
              "      <td>3</td>\n",
              "      <td>NaN</td>\n",
              "      <td>2019-12-01 19:44:37</td>\n",
              "      <td>2019-12-01 19:48:07</td>\n",
              "      <td>2019-12-01 19:54:30</td>\n",
              "      <td>2019-12-01 20:00:22</td>\n",
              "      <td>\\N</td>\n",
              "    </tr>\n",
              "    <tr>\n",
              "      <th>5</th>\n",
              "      <td>3486940</td>\n",
              "      <td>2019-12-01</td>\n",
              "      <td>C000237</td>\n",
              "      <td>1</td>\n",
              "      <td>C000237</td>\n",
              "      <td>S0021813</td>\n",
              "      <td>아시안/양식</td>\n",
              "      <td>4121010100</td>\n",
              "      <td>경기도</td>\n",
              "      <td>광명시</td>\n",
              "      <td>광명동</td>\n",
              "      <td>\\N</td>\n",
              "      <td>4121055000</td>\n",
              "      <td>412103187064</td>\n",
              "      <td>4121010200</td>\n",
              "      <td>경기도</td>\n",
              "      <td>광명시</td>\n",
              "      <td>철산동</td>\n",
              "      <td>\\N</td>\n",
              "      <td>4121060000</td>\n",
              "      <td>412103187028</td>\n",
              "      <td>D0003991</td>\n",
              "      <td>3300</td>\n",
              "      <td>200</td>\n",
              "      <td>19000</td>\n",
              "      <td>2</td>\n",
              "      <td>NaN</td>\n",
              "      <td>2019-12-01 19:08:19</td>\n",
              "      <td>2019-12-01 19:37:13</td>\n",
              "      <td>2019-12-01 19:58:04</td>\n",
              "      <td>2019-12-01 19:58:06</td>\n",
              "      <td>\\N</td>\n",
              "    </tr>\n",
              "    <tr>\n",
              "      <th>6</th>\n",
              "      <td>3486941</td>\n",
              "      <td>2019-12-01</td>\n",
              "      <td>C000250</td>\n",
              "      <td>1</td>\n",
              "      <td>C000250</td>\n",
              "      <td>S0019514</td>\n",
              "      <td>족발/보쌈</td>\n",
              "      <td>4119011300</td>\n",
              "      <td>경기도</td>\n",
              "      <td>부천시</td>\n",
              "      <td>괴안동</td>\n",
              "      <td>\\N</td>\n",
              "      <td>4119079500</td>\n",
              "      <td>411903185010</td>\n",
              "      <td>4119010700</td>\n",
              "      <td>경기도</td>\n",
              "      <td>부천시</td>\n",
              "      <td>역곡동</td>\n",
              "      <td>\\N</td>\n",
              "      <td>4119060600</td>\n",
              "      <td>411904352372</td>\n",
              "      <td>D0004334</td>\n",
              "      <td>3000</td>\n",
              "      <td>200</td>\n",
              "      <td>32000</td>\n",
              "      <td>1</td>\n",
              "      <td>승인:KB국민카드</td>\n",
              "      <td>2019-12-01 21:17:12</td>\n",
              "      <td>2019-12-01 21:17:50</td>\n",
              "      <td>2019-12-01 21:23:22</td>\n",
              "      <td>2019-12-01 21:36:15</td>\n",
              "      <td>\\N</td>\n",
              "    </tr>\n",
              "    <tr>\n",
              "      <th>7</th>\n",
              "      <td>3486942</td>\n",
              "      <td>2019-12-01</td>\n",
              "      <td>C000240</td>\n",
              "      <td>1</td>\n",
              "      <td>C000238</td>\n",
              "      <td>S0020310</td>\n",
              "      <td>카페/디저트</td>\n",
              "      <td>4119011400</td>\n",
              "      <td>경기도</td>\n",
              "      <td>부천시</td>\n",
              "      <td>송내동</td>\n",
              "      <td>\\N</td>\n",
              "      <td>4119074600</td>\n",
              "      <td>411904355059</td>\n",
              "      <td>4119010800</td>\n",
              "      <td>경기도</td>\n",
              "      <td>부천시</td>\n",
              "      <td>중동</td>\n",
              "      <td>\\N</td>\n",
              "      <td>4119074200</td>\n",
              "      <td>411903184007</td>\n",
              "      <td>D0004845</td>\n",
              "      <td>4500</td>\n",
              "      <td>200</td>\n",
              "      <td>17500</td>\n",
              "      <td>2</td>\n",
              "      <td>NaN</td>\n",
              "      <td>2019-12-01 21:18:23</td>\n",
              "      <td>2019-12-01 21:19:58</td>\n",
              "      <td>2019-12-01 21:48:09</td>\n",
              "      <td>2019-12-01 21:48:59</td>\n",
              "      <td>\\N</td>\n",
              "    </tr>\n",
              "    <tr>\n",
              "      <th>8</th>\n",
              "      <td>3486943</td>\n",
              "      <td>2019-12-01</td>\n",
              "      <td>C000254</td>\n",
              "      <td>1</td>\n",
              "      <td>C000254</td>\n",
              "      <td>S0021038</td>\n",
              "      <td>치킨</td>\n",
              "      <td>4119010800</td>\n",
              "      <td>경기도</td>\n",
              "      <td>부천시</td>\n",
              "      <td>중동</td>\n",
              "      <td>\\N</td>\n",
              "      <td>4119061000</td>\n",
              "      <td>411904352531</td>\n",
              "      <td>4119010900</td>\n",
              "      <td>경기도</td>\n",
              "      <td>부천시</td>\n",
              "      <td>상동</td>\n",
              "      <td>\\N</td>\n",
              "      <td>4119074400</td>\n",
              "      <td>411904352050</td>\n",
              "      <td>D0005264</td>\n",
              "      <td>3500</td>\n",
              "      <td>200</td>\n",
              "      <td>15500</td>\n",
              "      <td>2</td>\n",
              "      <td>NaN</td>\n",
              "      <td>2019-12-01 18:37:31</td>\n",
              "      <td>2019-12-01 19:08:13</td>\n",
              "      <td>2019-12-01 19:26:18</td>\n",
              "      <td>2019-12-01 19:28:36</td>\n",
              "      <td>\\N</td>\n",
              "    </tr>\n",
              "    <tr>\n",
              "      <th>9</th>\n",
              "      <td>3486946</td>\n",
              "      <td>2019-12-01</td>\n",
              "      <td>C000049</td>\n",
              "      <td>1</td>\n",
              "      <td>C000049</td>\n",
              "      <td>S0022458</td>\n",
              "      <td>패스트푸드</td>\n",
              "      <td>1153010800</td>\n",
              "      <td>서울특별시</td>\n",
              "      <td>구로구</td>\n",
              "      <td>오류동</td>\n",
              "      <td>\\N</td>\n",
              "      <td>1153077000</td>\n",
              "      <td>115304148076</td>\n",
              "      <td>1153010900</td>\n",
              "      <td>서울특별시</td>\n",
              "      <td>구로구</td>\n",
              "      <td>궁동</td>\n",
              "      <td>\\N</td>\n",
              "      <td>1153079000</td>\n",
              "      <td>115304148440</td>\n",
              "      <td>D0004578</td>\n",
              "      <td>3000</td>\n",
              "      <td>400</td>\n",
              "      <td>11500</td>\n",
              "      <td>2</td>\n",
              "      <td>NaN</td>\n",
              "      <td>2019-12-01 20:22:17</td>\n",
              "      <td>2019-12-01 20:37:16</td>\n",
              "      <td>2019-12-01 20:44:49</td>\n",
              "      <td>2019-12-01 21:04:42</td>\n",
              "      <td>\\N</td>\n",
              "    </tr>\n",
              "    <tr>\n",
              "      <th>10</th>\n",
              "      <td>3486949</td>\n",
              "      <td>2019-12-01</td>\n",
              "      <td>C000042</td>\n",
              "      <td>1</td>\n",
              "      <td>C000043</td>\n",
              "      <td>S0031720</td>\n",
              "      <td>치킨</td>\n",
              "      <td>4115010400</td>\n",
              "      <td>경기도</td>\n",
              "      <td>의정부시</td>\n",
              "      <td>신곡동</td>\n",
              "      <td>\\N</td>\n",
              "      <td>4115056800</td>\n",
              "      <td>411504343085</td>\n",
              "      <td>4115010400</td>\n",
              "      <td>경기도</td>\n",
              "      <td>의정부시</td>\n",
              "      <td>신곡동</td>\n",
              "      <td>\\N</td>\n",
              "      <td>4115056700</td>\n",
              "      <td>411503181060</td>\n",
              "      <td>D0000558</td>\n",
              "      <td>3500</td>\n",
              "      <td>200</td>\n",
              "      <td>21000</td>\n",
              "      <td>1</td>\n",
              "      <td>승인:롯데카드사</td>\n",
              "      <td>2019-12-01 20:43:30</td>\n",
              "      <td>2019-12-01 20:52:34</td>\n",
              "      <td>2019-12-01 20:58:15</td>\n",
              "      <td>2019-12-01 21:06:22</td>\n",
              "      <td>\\N</td>\n",
              "    </tr>\n",
              "    <tr>\n",
              "      <th>11</th>\n",
              "      <td>3486950</td>\n",
              "      <td>2019-12-01</td>\n",
              "      <td>C000224</td>\n",
              "      <td>1</td>\n",
              "      <td>C000224</td>\n",
              "      <td>S0040852</td>\n",
              "      <td>치킨</td>\n",
              "      <td>4127110200</td>\n",
              "      <td>경기도</td>\n",
              "      <td>안산시 상록구</td>\n",
              "      <td>이동</td>\n",
              "      <td>\\N</td>\n",
              "      <td>4127151500</td>\n",
              "      <td>412713190063</td>\n",
              "      <td>4127110100</td>\n",
              "      <td>경기도</td>\n",
              "      <td>안산시 상록구</td>\n",
              "      <td>일동</td>\n",
              "      <td>\\N</td>\n",
              "      <td>4127151000</td>\n",
              "      <td>412714370397</td>\n",
              "      <td>D0004830</td>\n",
              "      <td>3000</td>\n",
              "      <td>200</td>\n",
              "      <td>24900</td>\n",
              "      <td>2</td>\n",
              "      <td>NaN</td>\n",
              "      <td>2019-12-01 19:24:11</td>\n",
              "      <td>2019-12-01 19:38:20</td>\n",
              "      <td>2019-12-01 19:56:48</td>\n",
              "      <td>2019-12-01 19:56:52</td>\n",
              "      <td>\\N</td>\n",
              "    </tr>\n",
              "    <tr>\n",
              "      <th>12</th>\n",
              "      <td>3486951</td>\n",
              "      <td>2019-12-01</td>\n",
              "      <td>C000238</td>\n",
              "      <td>1</td>\n",
              "      <td>C000238</td>\n",
              "      <td>S0001089</td>\n",
              "      <td>분식</td>\n",
              "      <td>4119010200</td>\n",
              "      <td>경기도</td>\n",
              "      <td>부천시</td>\n",
              "      <td>심곡동</td>\n",
              "      <td>\\N</td>\n",
              "      <td>4119060300</td>\n",
              "      <td>411903184003</td>\n",
              "      <td>4119010800</td>\n",
              "      <td>경기도</td>\n",
              "      <td>부천시</td>\n",
              "      <td>중동</td>\n",
              "      <td>\\N</td>\n",
              "      <td>4119074200</td>\n",
              "      <td>411903000066</td>\n",
              "      <td>D0004861</td>\n",
              "      <td>3000</td>\n",
              "      <td>200</td>\n",
              "      <td>8000</td>\n",
              "      <td>3</td>\n",
              "      <td>NaN</td>\n",
              "      <td>2019-12-01 23:20:23</td>\n",
              "      <td>2019-12-01 23:20:39</td>\n",
              "      <td>2019-12-01 23:27:30</td>\n",
              "      <td>2019-12-01 23:27:32</td>\n",
              "      <td>\\N</td>\n",
              "    </tr>\n",
              "    <tr>\n",
              "      <th>13</th>\n",
              "      <td>3486952</td>\n",
              "      <td>2019-12-01</td>\n",
              "      <td>C000077</td>\n",
              "      <td>1</td>\n",
              "      <td>C000077</td>\n",
              "      <td>S0021647</td>\n",
              "      <td>치킨</td>\n",
              "      <td>4119011500</td>\n",
              "      <td>경기도</td>\n",
              "      <td>부천시</td>\n",
              "      <td>옥길동</td>\n",
              "      <td>\\N</td>\n",
              "      <td>4119079500</td>\n",
              "      <td>411903185011</td>\n",
              "      <td>4119011500</td>\n",
              "      <td>경기도</td>\n",
              "      <td>부천시</td>\n",
              "      <td>옥길동</td>\n",
              "      <td>\\N</td>\n",
              "      <td>4119079500</td>\n",
              "      <td>411903186021</td>\n",
              "      <td>D0001038</td>\n",
              "      <td>3000</td>\n",
              "      <td>200</td>\n",
              "      <td>0</td>\n",
              "      <td>2</td>\n",
              "      <td>NaN</td>\n",
              "      <td>2019-12-01 20:28:58</td>\n",
              "      <td>2019-12-01 20:29:25</td>\n",
              "      <td>2019-12-01 20:53:44</td>\n",
              "      <td>2019-12-01 20:53:54</td>\n",
              "      <td>\\N</td>\n",
              "    </tr>\n",
              "    <tr>\n",
              "      <th>14</th>\n",
              "      <td>3486954</td>\n",
              "      <td>2019-12-01</td>\n",
              "      <td>C000130</td>\n",
              "      <td>1</td>\n",
              "      <td>C000130</td>\n",
              "      <td>S0002353</td>\n",
              "      <td>회</td>\n",
              "      <td>4128112300</td>\n",
              "      <td>경기도</td>\n",
              "      <td>고양시 덕양구</td>\n",
              "      <td>화정동</td>\n",
              "      <td>\\N</td>\n",
              "      <td>4128162100</td>\n",
              "      <td>\\N</td>\n",
              "      <td>4128112800</td>\n",
              "      <td>경기도</td>\n",
              "      <td>고양시 덕양구</td>\n",
              "      <td>행신동</td>\n",
              "      <td>\\N</td>\n",
              "      <td>4128165500</td>\n",
              "      <td>412813192087</td>\n",
              "      <td>D0002268</td>\n",
              "      <td>3500</td>\n",
              "      <td>300</td>\n",
              "      <td>30000</td>\n",
              "      <td>1</td>\n",
              "      <td>승인:비씨카드사</td>\n",
              "      <td>2019-12-01 20:47:42</td>\n",
              "      <td>2019-12-01 20:48:00</td>\n",
              "      <td>2019-12-01 20:56:57</td>\n",
              "      <td>2019-12-01 20:57:18</td>\n",
              "      <td>\\N</td>\n",
              "    </tr>\n",
              "    <tr>\n",
              "      <th>15</th>\n",
              "      <td>3486955</td>\n",
              "      <td>2019-12-01</td>\n",
              "      <td>C000029</td>\n",
              "      <td>1</td>\n",
              "      <td>C000043</td>\n",
              "      <td>S0022958</td>\n",
              "      <td>분식</td>\n",
              "      <td>4115011000</td>\n",
              "      <td>경기도</td>\n",
              "      <td>의정부시</td>\n",
              "      <td>가능동</td>\n",
              "      <td>\\N</td>\n",
              "      <td>4115059500</td>\n",
              "      <td>411503181061</td>\n",
              "      <td>4115010100</td>\n",
              "      <td>경기도</td>\n",
              "      <td>의정부시</td>\n",
              "      <td>의정부동</td>\n",
              "      <td>\\N</td>\n",
              "      <td>4115051000</td>\n",
              "      <td>411503000136</td>\n",
              "      <td>D0000750</td>\n",
              "      <td>3500</td>\n",
              "      <td>200</td>\n",
              "      <td>15500</td>\n",
              "      <td>2</td>\n",
              "      <td>NaN</td>\n",
              "      <td>2019-12-01 20:41:39</td>\n",
              "      <td>2019-12-01 20:42:20</td>\n",
              "      <td>2019-12-01 20:59:08</td>\n",
              "      <td>2019-12-01 21:16:19</td>\n",
              "      <td>\\N</td>\n",
              "    </tr>\n",
              "    <tr>\n",
              "      <th>16</th>\n",
              "      <td>3486959</td>\n",
              "      <td>2019-12-01</td>\n",
              "      <td>C000032</td>\n",
              "      <td>1</td>\n",
              "      <td>C000240</td>\n",
              "      <td>S0000618</td>\n",
              "      <td>카페/디저트</td>\n",
              "      <td>4119010500</td>\n",
              "      <td>경기도</td>\n",
              "      <td>부천시</td>\n",
              "      <td>약대동</td>\n",
              "      <td>\\N</td>\n",
              "      <td>4119074200</td>\n",
              "      <td>411903185015</td>\n",
              "      <td>4119010800</td>\n",
              "      <td>경기도</td>\n",
              "      <td>부천시</td>\n",
              "      <td>중동</td>\n",
              "      <td>\\N</td>\n",
              "      <td>4119074200</td>\n",
              "      <td>411903184007</td>\n",
              "      <td>D0004773</td>\n",
              "      <td>3300</td>\n",
              "      <td>200</td>\n",
              "      <td>15500</td>\n",
              "      <td>2</td>\n",
              "      <td>NaN</td>\n",
              "      <td>2019-12-01 20:16:36</td>\n",
              "      <td>2019-12-01 20:17:26</td>\n",
              "      <td>2019-12-01 20:36:43</td>\n",
              "      <td>2019-12-01 20:37:03</td>\n",
              "      <td>\\N</td>\n",
              "    </tr>\n",
              "    <tr>\n",
              "      <th>17</th>\n",
              "      <td>3486960</td>\n",
              "      <td>2019-12-01</td>\n",
              "      <td>C000049</td>\n",
              "      <td>1</td>\n",
              "      <td>C000049</td>\n",
              "      <td>S0022440</td>\n",
              "      <td>패스트푸드</td>\n",
              "      <td>1153010600</td>\n",
              "      <td>서울특별시</td>\n",
              "      <td>구로구</td>\n",
              "      <td>고척동</td>\n",
              "      <td>\\N</td>\n",
              "      <td>1153072000</td>\n",
              "      <td>115304148103</td>\n",
              "      <td>1153010600</td>\n",
              "      <td>서울특별시</td>\n",
              "      <td>구로구</td>\n",
              "      <td>고척동</td>\n",
              "      <td>\\N</td>\n",
              "      <td>1153073000</td>\n",
              "      <td>115304148179</td>\n",
              "      <td>D0004578</td>\n",
              "      <td>3000</td>\n",
              "      <td>400</td>\n",
              "      <td>13600</td>\n",
              "      <td>2</td>\n",
              "      <td>NaN</td>\n",
              "      <td>2019-12-01 22:38:54</td>\n",
              "      <td>2019-12-01 22:40:24</td>\n",
              "      <td>2019-12-01 22:49:55</td>\n",
              "      <td>2019-12-01 22:55:59</td>\n",
              "      <td>\\N</td>\n",
              "    </tr>\n",
              "    <tr>\n",
              "      <th>18</th>\n",
              "      <td>3486961</td>\n",
              "      <td>2019-12-01</td>\n",
              "      <td>C000209</td>\n",
              "      <td>1</td>\n",
              "      <td>C000249</td>\n",
              "      <td>S0022364</td>\n",
              "      <td>치킨</td>\n",
              "      <td>1154510200</td>\n",
              "      <td>서울특별시</td>\n",
              "      <td>금천구</td>\n",
              "      <td>독산동</td>\n",
              "      <td>\\N</td>\n",
              "      <td>1154563000</td>\n",
              "      <td>115453117004</td>\n",
              "      <td>4121010200</td>\n",
              "      <td>경기도</td>\n",
              "      <td>광명시</td>\n",
              "      <td>철산동</td>\n",
              "      <td>\\N</td>\n",
              "      <td>4121062000</td>\n",
              "      <td>412103187002</td>\n",
              "      <td>D0006547</td>\n",
              "      <td>6300</td>\n",
              "      <td>300</td>\n",
              "      <td>23000</td>\n",
              "      <td>2</td>\n",
              "      <td>NaN</td>\n",
              "      <td>2019-12-01 19:29:12</td>\n",
              "      <td>2019-12-01 19:44:58</td>\n",
              "      <td>2019-12-01 19:52:32</td>\n",
              "      <td>2019-12-01 20:17:08</td>\n",
              "      <td>\\N</td>\n",
              "    </tr>\n",
              "    <tr>\n",
              "      <th>19</th>\n",
              "      <td>3486964</td>\n",
              "      <td>2019-12-01</td>\n",
              "      <td>C000049</td>\n",
              "      <td>1</td>\n",
              "      <td>C000049</td>\n",
              "      <td>S0000200</td>\n",
              "      <td>분식</td>\n",
              "      <td>1153010600</td>\n",
              "      <td>서울특별시</td>\n",
              "      <td>구로구</td>\n",
              "      <td>고척동</td>\n",
              "      <td>\\N</td>\n",
              "      <td>1153072000</td>\n",
              "      <td>115304148103</td>\n",
              "      <td>1153010200</td>\n",
              "      <td>서울특별시</td>\n",
              "      <td>구로구</td>\n",
              "      <td>구로동</td>\n",
              "      <td>\\N</td>\n",
              "      <td>1153052000</td>\n",
              "      <td>115304148289</td>\n",
              "      <td>D0005434</td>\n",
              "      <td>3300</td>\n",
              "      <td>300</td>\n",
              "      <td>15000</td>\n",
              "      <td>2</td>\n",
              "      <td>NaN</td>\n",
              "      <td>2019-12-01 18:52:02</td>\n",
              "      <td>2019-12-01 19:12:08</td>\n",
              "      <td>2019-12-01 19:22:07</td>\n",
              "      <td>2019-12-01 19:43:26</td>\n",
              "      <td>\\N</td>\n",
              "    </tr>\n",
              "  </tbody>\n",
              "</table>\n",
              "</div>"
            ],
            "text/plain": [
              "         SN  PROCESS_DT  ...      DLVR_COMPT_TIME  DLVR_CANCL_TIME\n",
              "0   3486929  2019-12-01  ...  2019-12-01 21:00:15               \\N\n",
              "1   3486930  2019-12-01  ...  2019-12-01 22:26:01               \\N\n",
              "2   3486932  2019-12-01  ...  2019-12-01 22:58:32               \\N\n",
              "3   3486933  2019-12-01  ...  2019-12-01 22:17:57               \\N\n",
              "4   3486934  2019-12-01  ...  2019-12-01 20:00:22               \\N\n",
              "5   3486940  2019-12-01  ...  2019-12-01 19:58:06               \\N\n",
              "6   3486941  2019-12-01  ...  2019-12-01 21:36:15               \\N\n",
              "7   3486942  2019-12-01  ...  2019-12-01 21:48:59               \\N\n",
              "8   3486943  2019-12-01  ...  2019-12-01 19:28:36               \\N\n",
              "9   3486946  2019-12-01  ...  2019-12-01 21:04:42               \\N\n",
              "10  3486949  2019-12-01  ...  2019-12-01 21:06:22               \\N\n",
              "11  3486950  2019-12-01  ...  2019-12-01 19:56:52               \\N\n",
              "12  3486951  2019-12-01  ...  2019-12-01 23:27:32               \\N\n",
              "13  3486952  2019-12-01  ...  2019-12-01 20:53:54               \\N\n",
              "14  3486954  2019-12-01  ...  2019-12-01 20:57:18               \\N\n",
              "15  3486955  2019-12-01  ...  2019-12-01 21:16:19               \\N\n",
              "16  3486959  2019-12-01  ...  2019-12-01 20:37:03               \\N\n",
              "17  3486960  2019-12-01  ...  2019-12-01 22:55:59               \\N\n",
              "18  3486961  2019-12-01  ...  2019-12-01 20:17:08               \\N\n",
              "19  3486964  2019-12-01  ...  2019-12-01 19:43:26               \\N\n",
              "\n",
              "[20 rows x 32 columns]"
            ]
          },
          "metadata": {
            "tags": []
          },
          "execution_count": 2
        }
      ]
    },
    {
      "cell_type": "code",
      "metadata": {
        "colab": {
          "base_uri": "https://localhost:8080/"
        },
        "id": "yx9bw7ZFQ10k",
        "outputId": "40cb0f65-4310-4b69-8cd9-91a25b9b69da"
      },
      "source": [
        "df['DLVR_STORE_BRTC_NM'].unique()"
      ],
      "execution_count": 3,
      "outputs": [
        {
          "output_type": "execute_result",
          "data": {
            "text/plain": [
              "array(['서울특별시', '경기도'], dtype=object)"
            ]
          },
          "metadata": {
            "tags": []
          },
          "execution_count": 3
        }
      ]
    },
    {
      "cell_type": "code",
      "metadata": {
        "colab": {
          "base_uri": "https://localhost:8080/",
          "height": 309
        },
        "id": "IHrVX0UWSiHF",
        "outputId": "ed9f2cb9-6fca-4ba2-a7d6-cf23bae346ab"
      },
      "source": [
        "data = df.copy()\n",
        "data.head()"
      ],
      "execution_count": 4,
      "outputs": [
        {
          "output_type": "execute_result",
          "data": {
            "text/html": [
              "<div>\n",
              "<style scoped>\n",
              "    .dataframe tbody tr th:only-of-type {\n",
              "        vertical-align: middle;\n",
              "    }\n",
              "\n",
              "    .dataframe tbody tr th {\n",
              "        vertical-align: top;\n",
              "    }\n",
              "\n",
              "    .dataframe thead th {\n",
              "        text-align: right;\n",
              "    }\n",
              "</style>\n",
              "<table border=\"1\" class=\"dataframe\">\n",
              "  <thead>\n",
              "    <tr style=\"text-align: right;\">\n",
              "      <th></th>\n",
              "      <th>SN</th>\n",
              "      <th>PROCESS_DT</th>\n",
              "      <th>DLVR_REQUST_ENTRPS_ID</th>\n",
              "      <th>DLVR_REQUST_STTUS_VALUE</th>\n",
              "      <th>DLVR_RCEPT_ENTRPS_ID</th>\n",
              "      <th>DLVR_STORE_ID</th>\n",
              "      <th>DLVR_STORE_INDUTY_NM</th>\n",
              "      <th>DLVR_STORE_LEGALDONG_CODE</th>\n",
              "      <th>DLVR_STORE_BRTC_NM</th>\n",
              "      <th>DLVR_STORE_SIGNGU_NM</th>\n",
              "      <th>DLVR_STORE_LEGALDONG_NM</th>\n",
              "      <th>DLVR_STORE_LI_NM</th>\n",
              "      <th>DLVR_STORE_ADSTRD_CODE</th>\n",
              "      <th>DLVR_STORE_RDNMADR_CODE</th>\n",
              "      <th>DLVR_DSTN_LEGALDONG_CODE</th>\n",
              "      <th>DLVR_DSTN_BRTC_NM</th>\n",
              "      <th>DLVR_DSTN_SIGNGU_NM</th>\n",
              "      <th>DLVR_DSTN_LEGALDONG_NM</th>\n",
              "      <th>DLVR_DSTN_LI_NM</th>\n",
              "      <th>DLVR_DSTN_ADSTRD_CODE</th>\n",
              "      <th>DLVR_DSTN_RDNMADR_CODE</th>\n",
              "      <th>DLVR_MAN_ID</th>\n",
              "      <th>DLVR_AMOUNT</th>\n",
              "      <th>CALL_RLAY_FEE_AMOUNT</th>\n",
              "      <th>GOODS_AMOUNT</th>\n",
              "      <th>SETLE_KND_VALUE</th>\n",
              "      <th>SETLE_CARD_NM</th>\n",
              "      <th>DLVR_RCEPT_TIME</th>\n",
              "      <th>DLVR_CARALC_TIME</th>\n",
              "      <th>DLVR_RECPT_TIME</th>\n",
              "      <th>DLVR_COMPT_TIME</th>\n",
              "      <th>DLVR_CANCL_TIME</th>\n",
              "    </tr>\n",
              "  </thead>\n",
              "  <tbody>\n",
              "    <tr>\n",
              "      <th>0</th>\n",
              "      <td>3486929</td>\n",
              "      <td>2019-12-01</td>\n",
              "      <td>C000101</td>\n",
              "      <td>1</td>\n",
              "      <td>C000101</td>\n",
              "      <td>S0021950</td>\n",
              "      <td>족발/보쌈</td>\n",
              "      <td>1156013200</td>\n",
              "      <td>서울특별시</td>\n",
              "      <td>영등포구</td>\n",
              "      <td>신길동</td>\n",
              "      <td>\\N</td>\n",
              "      <td>1156066000</td>\n",
              "      <td>115603000023</td>\n",
              "      <td>1159010800</td>\n",
              "      <td>서울특별시</td>\n",
              "      <td>동작구</td>\n",
              "      <td>대방동</td>\n",
              "      <td>\\N</td>\n",
              "      <td>1159066000</td>\n",
              "      <td>115904157098</td>\n",
              "      <td>D0006140</td>\n",
              "      <td>3300</td>\n",
              "      <td>200</td>\n",
              "      <td>18000</td>\n",
              "      <td>1</td>\n",
              "      <td>승인:KB국민카드</td>\n",
              "      <td>2019-12-01 20:47:52</td>\n",
              "      <td>2019-12-01 20:48:11</td>\n",
              "      <td>2019-12-01 20:55:33</td>\n",
              "      <td>2019-12-01 21:00:15</td>\n",
              "      <td>\\N</td>\n",
              "    </tr>\n",
              "    <tr>\n",
              "      <th>1</th>\n",
              "      <td>3486930</td>\n",
              "      <td>2019-12-01</td>\n",
              "      <td>C000099</td>\n",
              "      <td>1</td>\n",
              "      <td>C000099</td>\n",
              "      <td>S0039210</td>\n",
              "      <td>치킨</td>\n",
              "      <td>4128510200</td>\n",
              "      <td>경기도</td>\n",
              "      <td>고양시 일산동구</td>\n",
              "      <td>중산동</td>\n",
              "      <td>\\N</td>\n",
              "      <td>4128552000</td>\n",
              "      <td>412854379205</td>\n",
              "      <td>4128510200</td>\n",
              "      <td>경기도</td>\n",
              "      <td>고양시 일산동구</td>\n",
              "      <td>중산동</td>\n",
              "      <td>\\N</td>\n",
              "      <td>4128552000</td>\n",
              "      <td>412853193037</td>\n",
              "      <td>D0005898</td>\n",
              "      <td>2900</td>\n",
              "      <td>0</td>\n",
              "      <td>21900</td>\n",
              "      <td>1</td>\n",
              "      <td>승인:현대카드사</td>\n",
              "      <td>2019-12-01 21:58:07</td>\n",
              "      <td>2019-12-01 22:01:06</td>\n",
              "      <td>2019-12-01 22:20:53</td>\n",
              "      <td>2019-12-01 22:26:01</td>\n",
              "      <td>\\N</td>\n",
              "    </tr>\n",
              "    <tr>\n",
              "      <th>2</th>\n",
              "      <td>3486932</td>\n",
              "      <td>2019-12-01</td>\n",
              "      <td>C000029</td>\n",
              "      <td>1</td>\n",
              "      <td>C000043</td>\n",
              "      <td>S0036135</td>\n",
              "      <td>치킨</td>\n",
              "      <td>4115010100</td>\n",
              "      <td>경기도</td>\n",
              "      <td>의정부시</td>\n",
              "      <td>의정부동</td>\n",
              "      <td>\\N</td>\n",
              "      <td>4115051000</td>\n",
              "      <td>411504343421</td>\n",
              "      <td>4115011100</td>\n",
              "      <td>경기도</td>\n",
              "      <td>의정부시</td>\n",
              "      <td>녹양동</td>\n",
              "      <td>\\N</td>\n",
              "      <td>4115062000</td>\n",
              "      <td>411504343083</td>\n",
              "      <td>D0000864</td>\n",
              "      <td>3500</td>\n",
              "      <td>200</td>\n",
              "      <td>19500</td>\n",
              "      <td>2</td>\n",
              "      <td>NaN</td>\n",
              "      <td>2019-12-01 22:20:31</td>\n",
              "      <td>2019-12-01 22:37:45</td>\n",
              "      <td>2019-12-01 22:58:27</td>\n",
              "      <td>2019-12-01 22:58:32</td>\n",
              "      <td>\\N</td>\n",
              "    </tr>\n",
              "    <tr>\n",
              "      <th>3</th>\n",
              "      <td>3486933</td>\n",
              "      <td>2019-12-01</td>\n",
              "      <td>C000105</td>\n",
              "      <td>1</td>\n",
              "      <td>C000105</td>\n",
              "      <td>S0039956</td>\n",
              "      <td>돈까스/일식</td>\n",
              "      <td>4128510400</td>\n",
              "      <td>경기도</td>\n",
              "      <td>고양시 일산동구</td>\n",
              "      <td>장항동</td>\n",
              "      <td>\\N</td>\n",
              "      <td>4128559000</td>\n",
              "      <td>412854379097</td>\n",
              "      <td>4128510500</td>\n",
              "      <td>경기도</td>\n",
              "      <td>고양시 일산동구</td>\n",
              "      <td>마두동</td>\n",
              "      <td>\\N</td>\n",
              "      <td>4128556000</td>\n",
              "      <td>412854379158</td>\n",
              "      <td>D0001526</td>\n",
              "      <td>3500</td>\n",
              "      <td>0</td>\n",
              "      <td>18000</td>\n",
              "      <td>2</td>\n",
              "      <td>NaN</td>\n",
              "      <td>2019-12-01 21:40:39</td>\n",
              "      <td>2019-12-01 21:48:41</td>\n",
              "      <td>2019-12-01 22:06:35</td>\n",
              "      <td>2019-12-01 22:17:57</td>\n",
              "      <td>\\N</td>\n",
              "    </tr>\n",
              "    <tr>\n",
              "      <th>4</th>\n",
              "      <td>3486934</td>\n",
              "      <td>2019-12-01</td>\n",
              "      <td>C000028</td>\n",
              "      <td>1</td>\n",
              "      <td>C000043</td>\n",
              "      <td>S0003074</td>\n",
              "      <td>치킨</td>\n",
              "      <td>4115010900</td>\n",
              "      <td>경기도</td>\n",
              "      <td>의정부시</td>\n",
              "      <td>금오동</td>\n",
              "      <td>\\N</td>\n",
              "      <td>4115058000</td>\n",
              "      <td>411504343342</td>\n",
              "      <td>4115010900</td>\n",
              "      <td>경기도</td>\n",
              "      <td>의정부시</td>\n",
              "      <td>금오동</td>\n",
              "      <td>\\N</td>\n",
              "      <td>4115058000</td>\n",
              "      <td>411503181019</td>\n",
              "      <td>D0000986</td>\n",
              "      <td>3500</td>\n",
              "      <td>200</td>\n",
              "      <td>18000</td>\n",
              "      <td>3</td>\n",
              "      <td>NaN</td>\n",
              "      <td>2019-12-01 19:44:37</td>\n",
              "      <td>2019-12-01 19:48:07</td>\n",
              "      <td>2019-12-01 19:54:30</td>\n",
              "      <td>2019-12-01 20:00:22</td>\n",
              "      <td>\\N</td>\n",
              "    </tr>\n",
              "  </tbody>\n",
              "</table>\n",
              "</div>"
            ],
            "text/plain": [
              "        SN  PROCESS_DT  ...      DLVR_COMPT_TIME  DLVR_CANCL_TIME\n",
              "0  3486929  2019-12-01  ...  2019-12-01 21:00:15               \\N\n",
              "1  3486930  2019-12-01  ...  2019-12-01 22:26:01               \\N\n",
              "2  3486932  2019-12-01  ...  2019-12-01 22:58:32               \\N\n",
              "3  3486933  2019-12-01  ...  2019-12-01 22:17:57               \\N\n",
              "4  3486934  2019-12-01  ...  2019-12-01 20:00:22               \\N\n",
              "\n",
              "[5 rows x 32 columns]"
            ]
          },
          "metadata": {
            "tags": []
          },
          "execution_count": 4
        }
      ]
    },
    {
      "cell_type": "code",
      "metadata": {
        "colab": {
          "base_uri": "https://localhost:8080/"
        },
        "id": "clYLCi6uUJIx",
        "outputId": "13d73a80-9bc2-438f-b6b7-5ed7b75454ed"
      },
      "source": [
        "data['DLVR_STORE_INDUTY_NM'].unique()"
      ],
      "execution_count": 5,
      "outputs": [
        {
          "output_type": "execute_result",
          "data": {
            "text/plain": [
              "array(['족발/보쌈', '치킨', '돈까스/일식', '아시안/양식', '카페/디저트', '패스트푸드', '분식', '회',\n",
              "       '야식', '한식', '배달전문업체', '중식', '피자', '찜탕', '도시락', '심부름'], dtype=object)"
            ]
          },
          "metadata": {
            "tags": []
          },
          "execution_count": 5
        }
      ]
    },
    {
      "cell_type": "code",
      "metadata": {
        "id": "2alCp1uIVOmv",
        "colab": {
          "base_uri": "https://localhost:8080/"
        },
        "outputId": "eed70de6-f28c-4e8c-8491-6e9761fa08f2"
      },
      "source": [
        "data.info()"
      ],
      "execution_count": 6,
      "outputs": [
        {
          "output_type": "stream",
          "text": [
            "<class 'pandas.core.frame.DataFrame'>\n",
            "RangeIndex: 4296271 entries, 0 to 4296270\n",
            "Data columns (total 32 columns):\n",
            " #   Column                     Dtype \n",
            "---  ------                     ----- \n",
            " 0   SN                         int64 \n",
            " 1   PROCESS_DT                 object\n",
            " 2   DLVR_REQUST_ENTRPS_ID      object\n",
            " 3   DLVR_REQUST_STTUS_VALUE    int64 \n",
            " 4   DLVR_RCEPT_ENTRPS_ID       object\n",
            " 5   DLVR_STORE_ID              object\n",
            " 6   DLVR_STORE_INDUTY_NM       object\n",
            " 7   DLVR_STORE_LEGALDONG_CODE  int64 \n",
            " 8   DLVR_STORE_BRTC_NM         object\n",
            " 9   DLVR_STORE_SIGNGU_NM       object\n",
            " 10  DLVR_STORE_LEGALDONG_NM    object\n",
            " 11  DLVR_STORE_LI_NM           object\n",
            " 12  DLVR_STORE_ADSTRD_CODE     int64 \n",
            " 13  DLVR_STORE_RDNMADR_CODE    object\n",
            " 14  DLVR_DSTN_LEGALDONG_CODE   int64 \n",
            " 15  DLVR_DSTN_BRTC_NM          object\n",
            " 16  DLVR_DSTN_SIGNGU_NM        object\n",
            " 17  DLVR_DSTN_LEGALDONG_NM     object\n",
            " 18  DLVR_DSTN_LI_NM            object\n",
            " 19  DLVR_DSTN_ADSTRD_CODE      object\n",
            " 20  DLVR_DSTN_RDNMADR_CODE     object\n",
            " 21  DLVR_MAN_ID                object\n",
            " 22  DLVR_AMOUNT                int64 \n",
            " 23  CALL_RLAY_FEE_AMOUNT       int64 \n",
            " 24  GOODS_AMOUNT               int64 \n",
            " 25  SETLE_KND_VALUE            int64 \n",
            " 26  SETLE_CARD_NM              object\n",
            " 27  DLVR_RCEPT_TIME            object\n",
            " 28  DLVR_CARALC_TIME           object\n",
            " 29  DLVR_RECPT_TIME            object\n",
            " 30  DLVR_COMPT_TIME            object\n",
            " 31  DLVR_CANCL_TIME            object\n",
            "dtypes: int64(9), object(23)\n",
            "memory usage: 1.0+ GB\n"
          ],
          "name": "stdout"
        }
      ]
    },
    {
      "cell_type": "code",
      "metadata": {
        "colab": {
          "base_uri": "https://localhost:8080/"
        },
        "id": "2gjb2E1iAskb",
        "outputId": "b1b7b85c-c035-428c-fd9e-0f720c5bdd0c"
      },
      "source": [
        "data.columns"
      ],
      "execution_count": 7,
      "outputs": [
        {
          "output_type": "execute_result",
          "data": {
            "text/plain": [
              "Index(['SN', 'PROCESS_DT', 'DLVR_REQUST_ENTRPS_ID', 'DLVR_REQUST_STTUS_VALUE',\n",
              "       'DLVR_RCEPT_ENTRPS_ID', 'DLVR_STORE_ID', 'DLVR_STORE_INDUTY_NM',\n",
              "       'DLVR_STORE_LEGALDONG_CODE', 'DLVR_STORE_BRTC_NM',\n",
              "       'DLVR_STORE_SIGNGU_NM', 'DLVR_STORE_LEGALDONG_NM', 'DLVR_STORE_LI_NM',\n",
              "       'DLVR_STORE_ADSTRD_CODE', 'DLVR_STORE_RDNMADR_CODE',\n",
              "       'DLVR_DSTN_LEGALDONG_CODE', 'DLVR_DSTN_BRTC_NM', 'DLVR_DSTN_SIGNGU_NM',\n",
              "       'DLVR_DSTN_LEGALDONG_NM', 'DLVR_DSTN_LI_NM', 'DLVR_DSTN_ADSTRD_CODE',\n",
              "       'DLVR_DSTN_RDNMADR_CODE', 'DLVR_MAN_ID', 'DLVR_AMOUNT',\n",
              "       'CALL_RLAY_FEE_AMOUNT', 'GOODS_AMOUNT', 'SETLE_KND_VALUE',\n",
              "       'SETLE_CARD_NM', 'DLVR_RCEPT_TIME', 'DLVR_CARALC_TIME',\n",
              "       'DLVR_RECPT_TIME', 'DLVR_COMPT_TIME', 'DLVR_CANCL_TIME'],\n",
              "      dtype='object')"
            ]
          },
          "metadata": {
            "tags": []
          },
          "execution_count": 7
        }
      ]
    },
    {
      "cell_type": "code",
      "metadata": {
        "id": "Mi7nKouKBc3s"
      },
      "source": [
        "data_clear = data.drop(['SN',  'DLVR_REQUST_ENTRPS_ID', \n",
        "       'DLVR_RCEPT_ENTRPS_ID', \n",
        "       'DLVR_STORE_LEGALDONG_CODE',  'DLVR_STORE_LI_NM',\n",
        "       'DLVR_STORE_ADSTRD_CODE', 'DLVR_STORE_RDNMADR_CODE',\n",
        "       'DLVR_DSTN_LEGALDONG_CODE',  'DLVR_DSTN_LI_NM', 'DLVR_DSTN_ADSTRD_CODE',\n",
        "       'DLVR_DSTN_RDNMADR_CODE', 'DLVR_MAN_ID', \n",
        "       'CALL_RLAY_FEE_AMOUNT',  'SETLE_KND_VALUE',\n",
        "       'SETLE_CARD_NM', 'DLVR_CARALC_TIME'], axis=1)"
      ],
      "execution_count": 8,
      "outputs": []
    },
    {
      "cell_type": "code",
      "metadata": {
        "colab": {
          "base_uri": "https://localhost:8080/",
          "height": 524
        },
        "id": "XwHSVYffBc0t",
        "outputId": "e6e66aa0-9838-4a50-dedd-95e982b1203d"
      },
      "source": [
        "data_clear"
      ],
      "execution_count": 9,
      "outputs": [
        {
          "output_type": "execute_result",
          "data": {
            "text/html": [
              "<div>\n",
              "<style scoped>\n",
              "    .dataframe tbody tr th:only-of-type {\n",
              "        vertical-align: middle;\n",
              "    }\n",
              "\n",
              "    .dataframe tbody tr th {\n",
              "        vertical-align: top;\n",
              "    }\n",
              "\n",
              "    .dataframe thead th {\n",
              "        text-align: right;\n",
              "    }\n",
              "</style>\n",
              "<table border=\"1\" class=\"dataframe\">\n",
              "  <thead>\n",
              "    <tr style=\"text-align: right;\">\n",
              "      <th></th>\n",
              "      <th>PROCESS_DT</th>\n",
              "      <th>DLVR_REQUST_STTUS_VALUE</th>\n",
              "      <th>DLVR_STORE_ID</th>\n",
              "      <th>DLVR_STORE_INDUTY_NM</th>\n",
              "      <th>DLVR_STORE_BRTC_NM</th>\n",
              "      <th>DLVR_STORE_SIGNGU_NM</th>\n",
              "      <th>DLVR_STORE_LEGALDONG_NM</th>\n",
              "      <th>DLVR_DSTN_BRTC_NM</th>\n",
              "      <th>DLVR_DSTN_SIGNGU_NM</th>\n",
              "      <th>DLVR_DSTN_LEGALDONG_NM</th>\n",
              "      <th>DLVR_AMOUNT</th>\n",
              "      <th>GOODS_AMOUNT</th>\n",
              "      <th>DLVR_RCEPT_TIME</th>\n",
              "      <th>DLVR_RECPT_TIME</th>\n",
              "      <th>DLVR_COMPT_TIME</th>\n",
              "      <th>DLVR_CANCL_TIME</th>\n",
              "    </tr>\n",
              "  </thead>\n",
              "  <tbody>\n",
              "    <tr>\n",
              "      <th>0</th>\n",
              "      <td>2019-12-01</td>\n",
              "      <td>1</td>\n",
              "      <td>S0021950</td>\n",
              "      <td>족발/보쌈</td>\n",
              "      <td>서울특별시</td>\n",
              "      <td>영등포구</td>\n",
              "      <td>신길동</td>\n",
              "      <td>서울특별시</td>\n",
              "      <td>동작구</td>\n",
              "      <td>대방동</td>\n",
              "      <td>3300</td>\n",
              "      <td>18000</td>\n",
              "      <td>2019-12-01 20:47:52</td>\n",
              "      <td>2019-12-01 20:55:33</td>\n",
              "      <td>2019-12-01 21:00:15</td>\n",
              "      <td>\\N</td>\n",
              "    </tr>\n",
              "    <tr>\n",
              "      <th>1</th>\n",
              "      <td>2019-12-01</td>\n",
              "      <td>1</td>\n",
              "      <td>S0039210</td>\n",
              "      <td>치킨</td>\n",
              "      <td>경기도</td>\n",
              "      <td>고양시 일산동구</td>\n",
              "      <td>중산동</td>\n",
              "      <td>경기도</td>\n",
              "      <td>고양시 일산동구</td>\n",
              "      <td>중산동</td>\n",
              "      <td>2900</td>\n",
              "      <td>21900</td>\n",
              "      <td>2019-12-01 21:58:07</td>\n",
              "      <td>2019-12-01 22:20:53</td>\n",
              "      <td>2019-12-01 22:26:01</td>\n",
              "      <td>\\N</td>\n",
              "    </tr>\n",
              "    <tr>\n",
              "      <th>2</th>\n",
              "      <td>2019-12-01</td>\n",
              "      <td>1</td>\n",
              "      <td>S0036135</td>\n",
              "      <td>치킨</td>\n",
              "      <td>경기도</td>\n",
              "      <td>의정부시</td>\n",
              "      <td>의정부동</td>\n",
              "      <td>경기도</td>\n",
              "      <td>의정부시</td>\n",
              "      <td>녹양동</td>\n",
              "      <td>3500</td>\n",
              "      <td>19500</td>\n",
              "      <td>2019-12-01 22:20:31</td>\n",
              "      <td>2019-12-01 22:58:27</td>\n",
              "      <td>2019-12-01 22:58:32</td>\n",
              "      <td>\\N</td>\n",
              "    </tr>\n",
              "    <tr>\n",
              "      <th>3</th>\n",
              "      <td>2019-12-01</td>\n",
              "      <td>1</td>\n",
              "      <td>S0039956</td>\n",
              "      <td>돈까스/일식</td>\n",
              "      <td>경기도</td>\n",
              "      <td>고양시 일산동구</td>\n",
              "      <td>장항동</td>\n",
              "      <td>경기도</td>\n",
              "      <td>고양시 일산동구</td>\n",
              "      <td>마두동</td>\n",
              "      <td>3500</td>\n",
              "      <td>18000</td>\n",
              "      <td>2019-12-01 21:40:39</td>\n",
              "      <td>2019-12-01 22:06:35</td>\n",
              "      <td>2019-12-01 22:17:57</td>\n",
              "      <td>\\N</td>\n",
              "    </tr>\n",
              "    <tr>\n",
              "      <th>4</th>\n",
              "      <td>2019-12-01</td>\n",
              "      <td>1</td>\n",
              "      <td>S0003074</td>\n",
              "      <td>치킨</td>\n",
              "      <td>경기도</td>\n",
              "      <td>의정부시</td>\n",
              "      <td>금오동</td>\n",
              "      <td>경기도</td>\n",
              "      <td>의정부시</td>\n",
              "      <td>금오동</td>\n",
              "      <td>3500</td>\n",
              "      <td>18000</td>\n",
              "      <td>2019-12-01 19:44:37</td>\n",
              "      <td>2019-12-01 19:54:30</td>\n",
              "      <td>2019-12-01 20:00:22</td>\n",
              "      <td>\\N</td>\n",
              "    </tr>\n",
              "    <tr>\n",
              "      <th>...</th>\n",
              "      <td>...</td>\n",
              "      <td>...</td>\n",
              "      <td>...</td>\n",
              "      <td>...</td>\n",
              "      <td>...</td>\n",
              "      <td>...</td>\n",
              "      <td>...</td>\n",
              "      <td>...</td>\n",
              "      <td>...</td>\n",
              "      <td>...</td>\n",
              "      <td>...</td>\n",
              "      <td>...</td>\n",
              "      <td>...</td>\n",
              "      <td>...</td>\n",
              "      <td>...</td>\n",
              "      <td>...</td>\n",
              "    </tr>\n",
              "    <tr>\n",
              "      <th>4296266</th>\n",
              "      <td>2020-03-31</td>\n",
              "      <td>1</td>\n",
              "      <td>S0021188</td>\n",
              "      <td>족발/보쌈</td>\n",
              "      <td>경기도</td>\n",
              "      <td>광명시</td>\n",
              "      <td>철산동</td>\n",
              "      <td>경기도</td>\n",
              "      <td>광명시</td>\n",
              "      <td>철산동</td>\n",
              "      <td>3300</td>\n",
              "      <td>20900</td>\n",
              "      <td>2020-03-31 23:56</td>\n",
              "      <td>2020-04-01 0:14</td>\n",
              "      <td>2020-04-01 0:18</td>\n",
              "      <td>\\N</td>\n",
              "    </tr>\n",
              "    <tr>\n",
              "      <th>4296267</th>\n",
              "      <td>2020-03-31</td>\n",
              "      <td>1</td>\n",
              "      <td>S0021967</td>\n",
              "      <td>치킨</td>\n",
              "      <td>서울특별시</td>\n",
              "      <td>영등포구</td>\n",
              "      <td>대림동</td>\n",
              "      <td>서울특별시</td>\n",
              "      <td>관악구</td>\n",
              "      <td>신림동</td>\n",
              "      <td>6300</td>\n",
              "      <td>26000</td>\n",
              "      <td>2020-03-31 23:55</td>\n",
              "      <td>2020-04-01 0:17</td>\n",
              "      <td>2020-04-01 0:26</td>\n",
              "      <td>\\N</td>\n",
              "    </tr>\n",
              "    <tr>\n",
              "      <th>4296268</th>\n",
              "      <td>2020-03-31</td>\n",
              "      <td>1</td>\n",
              "      <td>S0035329</td>\n",
              "      <td>분식</td>\n",
              "      <td>경기도</td>\n",
              "      <td>안산시 상록구</td>\n",
              "      <td>본오동</td>\n",
              "      <td>경기도</td>\n",
              "      <td>안산시 단원구</td>\n",
              "      <td>고잔동</td>\n",
              "      <td>5500</td>\n",
              "      <td>17000</td>\n",
              "      <td>2020-03-31 23:58</td>\n",
              "      <td>2020-04-01 0:18</td>\n",
              "      <td>2020-04-01 0:30</td>\n",
              "      <td>\\N</td>\n",
              "    </tr>\n",
              "    <tr>\n",
              "      <th>4296269</th>\n",
              "      <td>2020-03-31</td>\n",
              "      <td>1</td>\n",
              "      <td>S0002286</td>\n",
              "      <td>족발/보쌈</td>\n",
              "      <td>경기도</td>\n",
              "      <td>고양시 덕양구</td>\n",
              "      <td>화정동</td>\n",
              "      <td>경기도</td>\n",
              "      <td>고양시 덕양구</td>\n",
              "      <td>행신동</td>\n",
              "      <td>4000</td>\n",
              "      <td>35000</td>\n",
              "      <td>2020-03-31 23:56</td>\n",
              "      <td>2020-04-01 0:16</td>\n",
              "      <td>2020-04-01 0:23</td>\n",
              "      <td>\\N</td>\n",
              "    </tr>\n",
              "    <tr>\n",
              "      <th>4296270</th>\n",
              "      <td>2020-03-31</td>\n",
              "      <td>1</td>\n",
              "      <td>S0022157</td>\n",
              "      <td>야식</td>\n",
              "      <td>서울특별시</td>\n",
              "      <td>금천구</td>\n",
              "      <td>독산동</td>\n",
              "      <td>서울특별시</td>\n",
              "      <td>금천구</td>\n",
              "      <td>독산동</td>\n",
              "      <td>3300</td>\n",
              "      <td>30000</td>\n",
              "      <td>2020-03-31 23:55</td>\n",
              "      <td>2020-04-01 0:11</td>\n",
              "      <td>2020-04-01 0:15</td>\n",
              "      <td>\\N</td>\n",
              "    </tr>\n",
              "  </tbody>\n",
              "</table>\n",
              "<p>4296271 rows × 16 columns</p>\n",
              "</div>"
            ],
            "text/plain": [
              "         PROCESS_DT  ...  DLVR_CANCL_TIME\n",
              "0        2019-12-01  ...               \\N\n",
              "1        2019-12-01  ...               \\N\n",
              "2        2019-12-01  ...               \\N\n",
              "3        2019-12-01  ...               \\N\n",
              "4        2019-12-01  ...               \\N\n",
              "...             ...  ...              ...\n",
              "4296266  2020-03-31  ...               \\N\n",
              "4296267  2020-03-31  ...               \\N\n",
              "4296268  2020-03-31  ...               \\N\n",
              "4296269  2020-03-31  ...               \\N\n",
              "4296270  2020-03-31  ...               \\N\n",
              "\n",
              "[4296271 rows x 16 columns]"
            ]
          },
          "metadata": {
            "tags": []
          },
          "execution_count": 9
        }
      ]
    },
    {
      "cell_type": "code",
      "metadata": {
        "colab": {
          "base_uri": "https://localhost:8080/",
          "height": 309
        },
        "id": "qnT7CDJQBcx8",
        "outputId": "7c3c1846-1097-4e18-deee-1f7f58f17ab0"
      },
      "source": [
        "data_clear = data_clear.sort_values('PROCESS_DT')\n",
        "data_clear.head()"
      ],
      "execution_count": 10,
      "outputs": [
        {
          "output_type": "execute_result",
          "data": {
            "text/html": [
              "<div>\n",
              "<style scoped>\n",
              "    .dataframe tbody tr th:only-of-type {\n",
              "        vertical-align: middle;\n",
              "    }\n",
              "\n",
              "    .dataframe tbody tr th {\n",
              "        vertical-align: top;\n",
              "    }\n",
              "\n",
              "    .dataframe thead th {\n",
              "        text-align: right;\n",
              "    }\n",
              "</style>\n",
              "<table border=\"1\" class=\"dataframe\">\n",
              "  <thead>\n",
              "    <tr style=\"text-align: right;\">\n",
              "      <th></th>\n",
              "      <th>PROCESS_DT</th>\n",
              "      <th>DLVR_REQUST_STTUS_VALUE</th>\n",
              "      <th>DLVR_STORE_ID</th>\n",
              "      <th>DLVR_STORE_INDUTY_NM</th>\n",
              "      <th>DLVR_STORE_BRTC_NM</th>\n",
              "      <th>DLVR_STORE_SIGNGU_NM</th>\n",
              "      <th>DLVR_STORE_LEGALDONG_NM</th>\n",
              "      <th>DLVR_DSTN_BRTC_NM</th>\n",
              "      <th>DLVR_DSTN_SIGNGU_NM</th>\n",
              "      <th>DLVR_DSTN_LEGALDONG_NM</th>\n",
              "      <th>DLVR_AMOUNT</th>\n",
              "      <th>GOODS_AMOUNT</th>\n",
              "      <th>DLVR_RCEPT_TIME</th>\n",
              "      <th>DLVR_RECPT_TIME</th>\n",
              "      <th>DLVR_COMPT_TIME</th>\n",
              "      <th>DLVR_CANCL_TIME</th>\n",
              "    </tr>\n",
              "  </thead>\n",
              "  <tbody>\n",
              "    <tr>\n",
              "      <th>0</th>\n",
              "      <td>2019-12-01</td>\n",
              "      <td>1</td>\n",
              "      <td>S0021950</td>\n",
              "      <td>족발/보쌈</td>\n",
              "      <td>서울특별시</td>\n",
              "      <td>영등포구</td>\n",
              "      <td>신길동</td>\n",
              "      <td>서울특별시</td>\n",
              "      <td>동작구</td>\n",
              "      <td>대방동</td>\n",
              "      <td>3300</td>\n",
              "      <td>18000</td>\n",
              "      <td>2019-12-01 20:47:52</td>\n",
              "      <td>2019-12-01 20:55:33</td>\n",
              "      <td>2019-12-01 21:00:15</td>\n",
              "      <td>\\N</td>\n",
              "    </tr>\n",
              "    <tr>\n",
              "      <th>6582</th>\n",
              "      <td>2019-12-01</td>\n",
              "      <td>1</td>\n",
              "      <td>S0001514</td>\n",
              "      <td>패스트푸드</td>\n",
              "      <td>서울특별시</td>\n",
              "      <td>영등포구</td>\n",
              "      <td>문래동3가</td>\n",
              "      <td>서울특별시</td>\n",
              "      <td>영등포구</td>\n",
              "      <td>영등포동6가</td>\n",
              "      <td>3650</td>\n",
              "      <td>12700</td>\n",
              "      <td>2019-12-01 19:21:24</td>\n",
              "      <td>2019-12-01 19:34:32</td>\n",
              "      <td>2019-12-01 19:52:01</td>\n",
              "      <td>\\N</td>\n",
              "    </tr>\n",
              "    <tr>\n",
              "      <th>6583</th>\n",
              "      <td>2019-12-01</td>\n",
              "      <td>1</td>\n",
              "      <td>S0019631</td>\n",
              "      <td>분식</td>\n",
              "      <td>서울특별시</td>\n",
              "      <td>금천구</td>\n",
              "      <td>독산동</td>\n",
              "      <td>서울특별시</td>\n",
              "      <td>금천구</td>\n",
              "      <td>가산동</td>\n",
              "      <td>3800</td>\n",
              "      <td>19000</td>\n",
              "      <td>2019-12-01 21:11:32</td>\n",
              "      <td>2019-12-01 21:28:38</td>\n",
              "      <td>2019-12-01 21:45:18</td>\n",
              "      <td>\\N</td>\n",
              "    </tr>\n",
              "    <tr>\n",
              "      <th>6584</th>\n",
              "      <td>2019-12-01</td>\n",
              "      <td>1</td>\n",
              "      <td>S0036411</td>\n",
              "      <td>한식</td>\n",
              "      <td>경기도</td>\n",
              "      <td>의정부시</td>\n",
              "      <td>의정부동</td>\n",
              "      <td>경기도</td>\n",
              "      <td>의정부시</td>\n",
              "      <td>가능동</td>\n",
              "      <td>3500</td>\n",
              "      <td>26000</td>\n",
              "      <td>2019-12-01 19:42:38</td>\n",
              "      <td>2019-12-01 20:05:06</td>\n",
              "      <td>2019-12-01 20:17:21</td>\n",
              "      <td>\\N</td>\n",
              "    </tr>\n",
              "    <tr>\n",
              "      <th>6585</th>\n",
              "      <td>2019-12-01</td>\n",
              "      <td>1</td>\n",
              "      <td>S0035249</td>\n",
              "      <td>분식</td>\n",
              "      <td>서울특별시</td>\n",
              "      <td>영등포구</td>\n",
              "      <td>신길동</td>\n",
              "      <td>서울특별시</td>\n",
              "      <td>영등포구</td>\n",
              "      <td>문래동6가</td>\n",
              "      <td>5200</td>\n",
              "      <td>0</td>\n",
              "      <td>2019-12-01 19:34:57</td>\n",
              "      <td>2019-12-01 19:51:34</td>\n",
              "      <td>2019-12-01 20:10:34</td>\n",
              "      <td>\\N</td>\n",
              "    </tr>\n",
              "  </tbody>\n",
              "</table>\n",
              "</div>"
            ],
            "text/plain": [
              "      PROCESS_DT  DLVR_REQUST_STTUS_VALUE  ...      DLVR_COMPT_TIME DLVR_CANCL_TIME\n",
              "0     2019-12-01                        1  ...  2019-12-01 21:00:15              \\N\n",
              "6582  2019-12-01                        1  ...  2019-12-01 19:52:01              \\N\n",
              "6583  2019-12-01                        1  ...  2019-12-01 21:45:18              \\N\n",
              "6584  2019-12-01                        1  ...  2019-12-01 20:17:21              \\N\n",
              "6585  2019-12-01                        1  ...  2019-12-01 20:10:34              \\N\n",
              "\n",
              "[5 rows x 16 columns]"
            ]
          },
          "metadata": {
            "tags": []
          },
          "execution_count": 10
        }
      ]
    },
    {
      "cell_type": "code",
      "metadata": {
        "colab": {
          "base_uri": "https://localhost:8080/",
          "height": 309
        },
        "id": "FW48HjHQBcvE",
        "outputId": "4fbe5fd9-f0ee-4c62-d3d0-d9651a0c1c3d"
      },
      "source": [
        "data_clear.tail()"
      ],
      "execution_count": 11,
      "outputs": [
        {
          "output_type": "execute_result",
          "data": {
            "text/html": [
              "<div>\n",
              "<style scoped>\n",
              "    .dataframe tbody tr th:only-of-type {\n",
              "        vertical-align: middle;\n",
              "    }\n",
              "\n",
              "    .dataframe tbody tr th {\n",
              "        vertical-align: top;\n",
              "    }\n",
              "\n",
              "    .dataframe thead th {\n",
              "        text-align: right;\n",
              "    }\n",
              "</style>\n",
              "<table border=\"1\" class=\"dataframe\">\n",
              "  <thead>\n",
              "    <tr style=\"text-align: right;\">\n",
              "      <th></th>\n",
              "      <th>PROCESS_DT</th>\n",
              "      <th>DLVR_REQUST_STTUS_VALUE</th>\n",
              "      <th>DLVR_STORE_ID</th>\n",
              "      <th>DLVR_STORE_INDUTY_NM</th>\n",
              "      <th>DLVR_STORE_BRTC_NM</th>\n",
              "      <th>DLVR_STORE_SIGNGU_NM</th>\n",
              "      <th>DLVR_STORE_LEGALDONG_NM</th>\n",
              "      <th>DLVR_DSTN_BRTC_NM</th>\n",
              "      <th>DLVR_DSTN_SIGNGU_NM</th>\n",
              "      <th>DLVR_DSTN_LEGALDONG_NM</th>\n",
              "      <th>DLVR_AMOUNT</th>\n",
              "      <th>GOODS_AMOUNT</th>\n",
              "      <th>DLVR_RCEPT_TIME</th>\n",
              "      <th>DLVR_RECPT_TIME</th>\n",
              "      <th>DLVR_COMPT_TIME</th>\n",
              "      <th>DLVR_CANCL_TIME</th>\n",
              "    </tr>\n",
              "  </thead>\n",
              "  <tbody>\n",
              "    <tr>\n",
              "      <th>3526954</th>\n",
              "      <td>2020-05-31</td>\n",
              "      <td>1</td>\n",
              "      <td>S0039845</td>\n",
              "      <td>피자</td>\n",
              "      <td>서울특별시</td>\n",
              "      <td>도봉구</td>\n",
              "      <td>창동</td>\n",
              "      <td>서울특별시</td>\n",
              "      <td>도봉구</td>\n",
              "      <td>창동</td>\n",
              "      <td>3300</td>\n",
              "      <td>30500</td>\n",
              "      <td>2020-05-31 17:47:35</td>\n",
              "      <td>2020-05-31 18:00:43</td>\n",
              "      <td>2020-05-31 18:02:30</td>\n",
              "      <td>\\N</td>\n",
              "    </tr>\n",
              "    <tr>\n",
              "      <th>3526953</th>\n",
              "      <td>2020-05-31</td>\n",
              "      <td>1</td>\n",
              "      <td>S0019385</td>\n",
              "      <td>돈까스/일식</td>\n",
              "      <td>경기도</td>\n",
              "      <td>광명시</td>\n",
              "      <td>광명동</td>\n",
              "      <td>서울특별시</td>\n",
              "      <td>구로구</td>\n",
              "      <td>고척동</td>\n",
              "      <td>4300</td>\n",
              "      <td>46500</td>\n",
              "      <td>2020-05-31 17:30:47</td>\n",
              "      <td>2020-05-31 17:54:21</td>\n",
              "      <td>2020-05-31 18:07:59</td>\n",
              "      <td>\\N</td>\n",
              "    </tr>\n",
              "    <tr>\n",
              "      <th>3526952</th>\n",
              "      <td>2020-05-31</td>\n",
              "      <td>1</td>\n",
              "      <td>S0001034</td>\n",
              "      <td>피자</td>\n",
              "      <td>경기도</td>\n",
              "      <td>부천시</td>\n",
              "      <td>심곡동</td>\n",
              "      <td>경기도</td>\n",
              "      <td>부천시</td>\n",
              "      <td>원미동</td>\n",
              "      <td>3800</td>\n",
              "      <td>35000</td>\n",
              "      <td>2020-05-31 17:45:29</td>\n",
              "      <td>2020-05-31 18:12:09</td>\n",
              "      <td>2020-05-31 18:12:12</td>\n",
              "      <td>\\N</td>\n",
              "    </tr>\n",
              "    <tr>\n",
              "      <th>3526950</th>\n",
              "      <td>2020-05-31</td>\n",
              "      <td>1</td>\n",
              "      <td>S0002229</td>\n",
              "      <td>패스트푸드</td>\n",
              "      <td>경기도</td>\n",
              "      <td>고양시 덕양구</td>\n",
              "      <td>행신동</td>\n",
              "      <td>경기도</td>\n",
              "      <td>고양시 덕양구</td>\n",
              "      <td>토당동</td>\n",
              "      <td>3500</td>\n",
              "      <td>27200</td>\n",
              "      <td>2020-05-31 17:32:40</td>\n",
              "      <td>2020-05-31 17:47:36</td>\n",
              "      <td>2020-05-31 17:47:51</td>\n",
              "      <td>\\N</td>\n",
              "    </tr>\n",
              "    <tr>\n",
              "      <th>3522174</th>\n",
              "      <td>2020-05-31</td>\n",
              "      <td>1</td>\n",
              "      <td>S0025539</td>\n",
              "      <td>야식</td>\n",
              "      <td>경기도</td>\n",
              "      <td>의정부시</td>\n",
              "      <td>민락동</td>\n",
              "      <td>경기도</td>\n",
              "      <td>의정부시</td>\n",
              "      <td>민락동</td>\n",
              "      <td>4000</td>\n",
              "      <td>31500</td>\n",
              "      <td>2020-05-31 16:36:26</td>\n",
              "      <td>2020-05-31 16:52:31</td>\n",
              "      <td>2020-05-31 17:05:47</td>\n",
              "      <td>\\N</td>\n",
              "    </tr>\n",
              "  </tbody>\n",
              "</table>\n",
              "</div>"
            ],
            "text/plain": [
              "         PROCESS_DT  ...  DLVR_CANCL_TIME\n",
              "3526954  2020-05-31  ...               \\N\n",
              "3526953  2020-05-31  ...               \\N\n",
              "3526952  2020-05-31  ...               \\N\n",
              "3526950  2020-05-31  ...               \\N\n",
              "3522174  2020-05-31  ...               \\N\n",
              "\n",
              "[5 rows x 16 columns]"
            ]
          },
          "metadata": {
            "tags": []
          },
          "execution_count": 11
        }
      ]
    },
    {
      "cell_type": "code",
      "metadata": {
        "colab": {
          "base_uri": "https://localhost:8080/"
        },
        "id": "mUZMZoRfb5UU",
        "outputId": "0d3ef44e-c119-41a5-ef9c-3341ee63e822"
      },
      "source": [
        "data_clear['DLVR_STORE_SIGNGU_NM'].value_counts()"
      ],
      "execution_count": 12,
      "outputs": [
        {
          "output_type": "execute_result",
          "data": {
            "text/plain": [
              "의정부시        1099517\n",
              "부천시          548336\n",
              "광명시          368327\n",
              "구로구          357818\n",
              "고양시 덕양구      272814\n",
              "금천구          167738\n",
              "안산시 상록구      155620\n",
              "영등포구         155350\n",
              "남양주시         152750\n",
              "시흥시          126936\n",
              "평택시          102961\n",
              "도봉구           90283\n",
              "은평구           81589\n",
              "동두천시          80220\n",
              "포천시           74512\n",
              "안양시 동안구       65559\n",
              "화성시           58880\n",
              "고양시 일산서구      50589\n",
              "동작구           44280\n",
              "광주시           34603\n",
              "고양시 일산동구      28848\n",
              "관악구           28453\n",
              "양주시           24882\n",
              "용인시 처인구       23046\n",
              "노원구           19849\n",
              "양천구           18412\n",
              "파주시           13025\n",
              "강북구            6940\n",
              "성남시 중원구        6730\n",
              "성남시 수정구        6704\n",
              "연천군            6299\n",
              "수원시 권선구        6219\n",
              "김포시            4801\n",
              "서대문구           2856\n",
              "서초구            2793\n",
              "성북구            2413\n",
              "강남구            1734\n",
              "수원시 팔달구        1198\n",
              "구리시             972\n",
              "안양시 만안구         489\n",
              "이천시             394\n",
              "강동구             326\n",
              "수원시 장안구          86\n",
              "여주시              53\n",
              "강서구              41\n",
              "중랑구              11\n",
              "양평군               6\n",
              "송파구               3\n",
              "하남시               2\n",
              "안산시 단원구           2\n",
              "동대문구              1\n",
              "오산시               1\n",
              "Name: DLVR_STORE_SIGNGU_NM, dtype: int64"
            ]
          },
          "metadata": {
            "tags": []
          },
          "execution_count": 12
        }
      ]
    },
    {
      "cell_type": "code",
      "metadata": {
        "colab": {
          "base_uri": "https://localhost:8080/"
        },
        "id": "AqjHU3dcBcrz",
        "outputId": "bdc71ba7-e189-437a-ca55-0fcf46986b63"
      },
      "source": [
        "data_clear['DLVR_STORE_BRTC_NM'].unique()"
      ],
      "execution_count": 13,
      "outputs": [
        {
          "output_type": "execute_result",
          "data": {
            "text/plain": [
              "array(['서울특별시', '경기도'], dtype=object)"
            ]
          },
          "metadata": {
            "tags": []
          },
          "execution_count": 13
        }
      ]
    },
    {
      "cell_type": "code",
      "metadata": {
        "colab": {
          "base_uri": "https://localhost:8080/",
          "height": 609
        },
        "id": "v-exJvDsBcos",
        "outputId": "12f1e4c1-6e6f-4921-89c8-b2a7fb2efe85"
      },
      "source": [
        "data_ST_s = data_clear[data_clear['DLVR_STORE_BRTC_NM'] == '서울특별시']\n",
        "data_ST_s"
      ],
      "execution_count": 14,
      "outputs": [
        {
          "output_type": "execute_result",
          "data": {
            "text/html": [
              "<div>\n",
              "<style scoped>\n",
              "    .dataframe tbody tr th:only-of-type {\n",
              "        vertical-align: middle;\n",
              "    }\n",
              "\n",
              "    .dataframe tbody tr th {\n",
              "        vertical-align: top;\n",
              "    }\n",
              "\n",
              "    .dataframe thead th {\n",
              "        text-align: right;\n",
              "    }\n",
              "</style>\n",
              "<table border=\"1\" class=\"dataframe\">\n",
              "  <thead>\n",
              "    <tr style=\"text-align: right;\">\n",
              "      <th></th>\n",
              "      <th>PROCESS_DT</th>\n",
              "      <th>DLVR_REQUST_STTUS_VALUE</th>\n",
              "      <th>DLVR_STORE_ID</th>\n",
              "      <th>DLVR_STORE_INDUTY_NM</th>\n",
              "      <th>DLVR_STORE_BRTC_NM</th>\n",
              "      <th>DLVR_STORE_SIGNGU_NM</th>\n",
              "      <th>DLVR_STORE_LEGALDONG_NM</th>\n",
              "      <th>DLVR_DSTN_BRTC_NM</th>\n",
              "      <th>DLVR_DSTN_SIGNGU_NM</th>\n",
              "      <th>DLVR_DSTN_LEGALDONG_NM</th>\n",
              "      <th>DLVR_AMOUNT</th>\n",
              "      <th>GOODS_AMOUNT</th>\n",
              "      <th>DLVR_RCEPT_TIME</th>\n",
              "      <th>DLVR_RECPT_TIME</th>\n",
              "      <th>DLVR_COMPT_TIME</th>\n",
              "      <th>DLVR_CANCL_TIME</th>\n",
              "    </tr>\n",
              "  </thead>\n",
              "  <tbody>\n",
              "    <tr>\n",
              "      <th>0</th>\n",
              "      <td>2019-12-01</td>\n",
              "      <td>1</td>\n",
              "      <td>S0021950</td>\n",
              "      <td>족발/보쌈</td>\n",
              "      <td>서울특별시</td>\n",
              "      <td>영등포구</td>\n",
              "      <td>신길동</td>\n",
              "      <td>서울특별시</td>\n",
              "      <td>동작구</td>\n",
              "      <td>대방동</td>\n",
              "      <td>3300</td>\n",
              "      <td>18000</td>\n",
              "      <td>2019-12-01 20:47:52</td>\n",
              "      <td>2019-12-01 20:55:33</td>\n",
              "      <td>2019-12-01 21:00:15</td>\n",
              "      <td>\\N</td>\n",
              "    </tr>\n",
              "    <tr>\n",
              "      <th>6582</th>\n",
              "      <td>2019-12-01</td>\n",
              "      <td>1</td>\n",
              "      <td>S0001514</td>\n",
              "      <td>패스트푸드</td>\n",
              "      <td>서울특별시</td>\n",
              "      <td>영등포구</td>\n",
              "      <td>문래동3가</td>\n",
              "      <td>서울특별시</td>\n",
              "      <td>영등포구</td>\n",
              "      <td>영등포동6가</td>\n",
              "      <td>3650</td>\n",
              "      <td>12700</td>\n",
              "      <td>2019-12-01 19:21:24</td>\n",
              "      <td>2019-12-01 19:34:32</td>\n",
              "      <td>2019-12-01 19:52:01</td>\n",
              "      <td>\\N</td>\n",
              "    </tr>\n",
              "    <tr>\n",
              "      <th>6583</th>\n",
              "      <td>2019-12-01</td>\n",
              "      <td>1</td>\n",
              "      <td>S0019631</td>\n",
              "      <td>분식</td>\n",
              "      <td>서울특별시</td>\n",
              "      <td>금천구</td>\n",
              "      <td>독산동</td>\n",
              "      <td>서울특별시</td>\n",
              "      <td>금천구</td>\n",
              "      <td>가산동</td>\n",
              "      <td>3800</td>\n",
              "      <td>19000</td>\n",
              "      <td>2019-12-01 21:11:32</td>\n",
              "      <td>2019-12-01 21:28:38</td>\n",
              "      <td>2019-12-01 21:45:18</td>\n",
              "      <td>\\N</td>\n",
              "    </tr>\n",
              "    <tr>\n",
              "      <th>6585</th>\n",
              "      <td>2019-12-01</td>\n",
              "      <td>1</td>\n",
              "      <td>S0035249</td>\n",
              "      <td>분식</td>\n",
              "      <td>서울특별시</td>\n",
              "      <td>영등포구</td>\n",
              "      <td>신길동</td>\n",
              "      <td>서울특별시</td>\n",
              "      <td>영등포구</td>\n",
              "      <td>문래동6가</td>\n",
              "      <td>5200</td>\n",
              "      <td>0</td>\n",
              "      <td>2019-12-01 19:34:57</td>\n",
              "      <td>2019-12-01 19:51:34</td>\n",
              "      <td>2019-12-01 20:10:34</td>\n",
              "      <td>\\N</td>\n",
              "    </tr>\n",
              "    <tr>\n",
              "      <th>6590</th>\n",
              "      <td>2019-12-01</td>\n",
              "      <td>1</td>\n",
              "      <td>S0029507</td>\n",
              "      <td>족발/보쌈</td>\n",
              "      <td>서울특별시</td>\n",
              "      <td>은평구</td>\n",
              "      <td>갈현동</td>\n",
              "      <td>서울특별시</td>\n",
              "      <td>은평구</td>\n",
              "      <td>갈현동</td>\n",
              "      <td>3300</td>\n",
              "      <td>41000</td>\n",
              "      <td>2019-12-01 18:39:14</td>\n",
              "      <td>2019-12-01 18:52:33</td>\n",
              "      <td>2019-12-01 18:57:54</td>\n",
              "      <td>\\N</td>\n",
              "    </tr>\n",
              "    <tr>\n",
              "      <th>...</th>\n",
              "      <td>...</td>\n",
              "      <td>...</td>\n",
              "      <td>...</td>\n",
              "      <td>...</td>\n",
              "      <td>...</td>\n",
              "      <td>...</td>\n",
              "      <td>...</td>\n",
              "      <td>...</td>\n",
              "      <td>...</td>\n",
              "      <td>...</td>\n",
              "      <td>...</td>\n",
              "      <td>...</td>\n",
              "      <td>...</td>\n",
              "      <td>...</td>\n",
              "      <td>...</td>\n",
              "      <td>...</td>\n",
              "    </tr>\n",
              "    <tr>\n",
              "      <th>3526965</th>\n",
              "      <td>2020-05-31</td>\n",
              "      <td>1</td>\n",
              "      <td>S0000273</td>\n",
              "      <td>치킨</td>\n",
              "      <td>서울특별시</td>\n",
              "      <td>구로구</td>\n",
              "      <td>개봉동</td>\n",
              "      <td>서울특별시</td>\n",
              "      <td>양천구</td>\n",
              "      <td>신정동</td>\n",
              "      <td>3300</td>\n",
              "      <td>26900</td>\n",
              "      <td>2020-05-31 17:39:06</td>\n",
              "      <td>2020-05-31 18:08:03</td>\n",
              "      <td>2020-05-31 18:14:48</td>\n",
              "      <td>\\N</td>\n",
              "    </tr>\n",
              "    <tr>\n",
              "      <th>3526964</th>\n",
              "      <td>2020-05-31</td>\n",
              "      <td>1</td>\n",
              "      <td>S0000658</td>\n",
              "      <td>카페/디저트</td>\n",
              "      <td>서울특별시</td>\n",
              "      <td>동작구</td>\n",
              "      <td>대방동</td>\n",
              "      <td>서울특별시</td>\n",
              "      <td>동작구</td>\n",
              "      <td>신대방동</td>\n",
              "      <td>3300</td>\n",
              "      <td>22000</td>\n",
              "      <td>2020-05-31 17:29:52</td>\n",
              "      <td>2020-05-31 17:53:12</td>\n",
              "      <td>2020-05-31 18:00:56</td>\n",
              "      <td>\\N</td>\n",
              "    </tr>\n",
              "    <tr>\n",
              "      <th>3526956</th>\n",
              "      <td>2020-05-31</td>\n",
              "      <td>1</td>\n",
              "      <td>S0000115</td>\n",
              "      <td>치킨</td>\n",
              "      <td>서울특별시</td>\n",
              "      <td>구로구</td>\n",
              "      <td>개봉동</td>\n",
              "      <td>서울특별시</td>\n",
              "      <td>구로구</td>\n",
              "      <td>개봉동</td>\n",
              "      <td>3300</td>\n",
              "      <td>23900</td>\n",
              "      <td>2020-05-31 17:45:48</td>\n",
              "      <td>2020-05-31 18:09:17</td>\n",
              "      <td>2020-05-31 18:13:57</td>\n",
              "      <td>\\N</td>\n",
              "    </tr>\n",
              "    <tr>\n",
              "      <th>3526955</th>\n",
              "      <td>2020-05-31</td>\n",
              "      <td>1</td>\n",
              "      <td>S0000192</td>\n",
              "      <td>치킨</td>\n",
              "      <td>서울특별시</td>\n",
              "      <td>구로구</td>\n",
              "      <td>고척동</td>\n",
              "      <td>서울특별시</td>\n",
              "      <td>구로구</td>\n",
              "      <td>개봉동</td>\n",
              "      <td>3600</td>\n",
              "      <td>22000</td>\n",
              "      <td>2020-05-31 17:36:58</td>\n",
              "      <td>2020-05-31 17:59:03</td>\n",
              "      <td>2020-05-31 18:09:57</td>\n",
              "      <td>\\N</td>\n",
              "    </tr>\n",
              "    <tr>\n",
              "      <th>3526954</th>\n",
              "      <td>2020-05-31</td>\n",
              "      <td>1</td>\n",
              "      <td>S0039845</td>\n",
              "      <td>피자</td>\n",
              "      <td>서울특별시</td>\n",
              "      <td>도봉구</td>\n",
              "      <td>창동</td>\n",
              "      <td>서울특별시</td>\n",
              "      <td>도봉구</td>\n",
              "      <td>창동</td>\n",
              "      <td>3300</td>\n",
              "      <td>30500</td>\n",
              "      <td>2020-05-31 17:47:35</td>\n",
              "      <td>2020-05-31 18:00:43</td>\n",
              "      <td>2020-05-31 18:02:30</td>\n",
              "      <td>\\N</td>\n",
              "    </tr>\n",
              "  </tbody>\n",
              "</table>\n",
              "<p>980890 rows × 16 columns</p>\n",
              "</div>"
            ],
            "text/plain": [
              "         PROCESS_DT  ...  DLVR_CANCL_TIME\n",
              "0        2019-12-01  ...               \\N\n",
              "6582     2019-12-01  ...               \\N\n",
              "6583     2019-12-01  ...               \\N\n",
              "6585     2019-12-01  ...               \\N\n",
              "6590     2019-12-01  ...               \\N\n",
              "...             ...  ...              ...\n",
              "3526965  2020-05-31  ...               \\N\n",
              "3526964  2020-05-31  ...               \\N\n",
              "3526956  2020-05-31  ...               \\N\n",
              "3526955  2020-05-31  ...               \\N\n",
              "3526954  2020-05-31  ...               \\N\n",
              "\n",
              "[980890 rows x 16 columns]"
            ]
          },
          "metadata": {
            "tags": []
          },
          "execution_count": 14
        }
      ]
    },
    {
      "cell_type": "code",
      "metadata": {
        "colab": {
          "base_uri": "https://localhost:8080/"
        },
        "id": "j6BntIiSBcl4",
        "outputId": "f1ca391b-c612-41a1-9f3a-c4a22aad20b1"
      },
      "source": [
        "data_ST_s.info()"
      ],
      "execution_count": 15,
      "outputs": [
        {
          "output_type": "stream",
          "text": [
            "<class 'pandas.core.frame.DataFrame'>\n",
            "Int64Index: 980890 entries, 0 to 3526954\n",
            "Data columns (total 16 columns):\n",
            " #   Column                   Non-Null Count   Dtype \n",
            "---  ------                   --------------   ----- \n",
            " 0   PROCESS_DT               980890 non-null  object\n",
            " 1   DLVR_REQUST_STTUS_VALUE  980890 non-null  int64 \n",
            " 2   DLVR_STORE_ID            980890 non-null  object\n",
            " 3   DLVR_STORE_INDUTY_NM     980890 non-null  object\n",
            " 4   DLVR_STORE_BRTC_NM       980890 non-null  object\n",
            " 5   DLVR_STORE_SIGNGU_NM     980890 non-null  object\n",
            " 6   DLVR_STORE_LEGALDONG_NM  980890 non-null  object\n",
            " 7   DLVR_DSTN_BRTC_NM        980890 non-null  object\n",
            " 8   DLVR_DSTN_SIGNGU_NM      980890 non-null  object\n",
            " 9   DLVR_DSTN_LEGALDONG_NM   980890 non-null  object\n",
            " 10  DLVR_AMOUNT              980890 non-null  int64 \n",
            " 11  GOODS_AMOUNT             980890 non-null  int64 \n",
            " 12  DLVR_RCEPT_TIME          980890 non-null  object\n",
            " 13  DLVR_RECPT_TIME          980890 non-null  object\n",
            " 14  DLVR_COMPT_TIME          980890 non-null  object\n",
            " 15  DLVR_CANCL_TIME          980890 non-null  object\n",
            "dtypes: int64(3), object(13)\n",
            "memory usage: 127.2+ MB\n"
          ],
          "name": "stdout"
        }
      ]
    },
    {
      "cell_type": "code",
      "metadata": {
        "colab": {
          "base_uri": "https://localhost:8080/"
        },
        "id": "vv0tcD1NBci_",
        "outputId": "f0a033af-0948-4b95-8b5c-c2010cde74c0"
      },
      "source": [
        "data_ST_s.columns"
      ],
      "execution_count": 16,
      "outputs": [
        {
          "output_type": "execute_result",
          "data": {
            "text/plain": [
              "Index(['PROCESS_DT', 'DLVR_REQUST_STTUS_VALUE', 'DLVR_STORE_ID',\n",
              "       'DLVR_STORE_INDUTY_NM', 'DLVR_STORE_BRTC_NM', 'DLVR_STORE_SIGNGU_NM',\n",
              "       'DLVR_STORE_LEGALDONG_NM', 'DLVR_DSTN_BRTC_NM', 'DLVR_DSTN_SIGNGU_NM',\n",
              "       'DLVR_DSTN_LEGALDONG_NM', 'DLVR_AMOUNT', 'GOODS_AMOUNT',\n",
              "       'DLVR_RCEPT_TIME', 'DLVR_RECPT_TIME', 'DLVR_COMPT_TIME',\n",
              "       'DLVR_CANCL_TIME'],\n",
              "      dtype='object')"
            ]
          },
          "metadata": {
            "tags": []
          },
          "execution_count": 16
        }
      ]
    },
    {
      "cell_type": "code",
      "metadata": {
        "colab": {
          "base_uri": "https://localhost:8080/",
          "height": 224
        },
        "id": "rxqOi6OEBcgZ",
        "outputId": "cda30f98-0726-4318-c274-cd9fe5e9f7e4"
      },
      "source": [
        "test_ST_s = data_ST_s.drop([ 'DLVR_STORE_ID',\n",
        "        'DLVR_STORE_BRTC_NM',  'DLVR_DSTN_BRTC_NM', 'DLVR_DSTN_SIGNGU_NM',\n",
        "       'DLVR_DSTN_LEGALDONG_NM', \n",
        "       'DLVR_RCEPT_TIME', 'DLVR_RECPT_TIME', 'DLVR_COMPT_TIME',\n",
        "       'DLVR_CANCL_TIME'], axis=1)\n",
        "test_ST_s.head()"
      ],
      "execution_count": 17,
      "outputs": [
        {
          "output_type": "execute_result",
          "data": {
            "text/html": [
              "<div>\n",
              "<style scoped>\n",
              "    .dataframe tbody tr th:only-of-type {\n",
              "        vertical-align: middle;\n",
              "    }\n",
              "\n",
              "    .dataframe tbody tr th {\n",
              "        vertical-align: top;\n",
              "    }\n",
              "\n",
              "    .dataframe thead th {\n",
              "        text-align: right;\n",
              "    }\n",
              "</style>\n",
              "<table border=\"1\" class=\"dataframe\">\n",
              "  <thead>\n",
              "    <tr style=\"text-align: right;\">\n",
              "      <th></th>\n",
              "      <th>PROCESS_DT</th>\n",
              "      <th>DLVR_REQUST_STTUS_VALUE</th>\n",
              "      <th>DLVR_STORE_INDUTY_NM</th>\n",
              "      <th>DLVR_STORE_SIGNGU_NM</th>\n",
              "      <th>DLVR_STORE_LEGALDONG_NM</th>\n",
              "      <th>DLVR_AMOUNT</th>\n",
              "      <th>GOODS_AMOUNT</th>\n",
              "    </tr>\n",
              "  </thead>\n",
              "  <tbody>\n",
              "    <tr>\n",
              "      <th>0</th>\n",
              "      <td>2019-12-01</td>\n",
              "      <td>1</td>\n",
              "      <td>족발/보쌈</td>\n",
              "      <td>영등포구</td>\n",
              "      <td>신길동</td>\n",
              "      <td>3300</td>\n",
              "      <td>18000</td>\n",
              "    </tr>\n",
              "    <tr>\n",
              "      <th>6582</th>\n",
              "      <td>2019-12-01</td>\n",
              "      <td>1</td>\n",
              "      <td>패스트푸드</td>\n",
              "      <td>영등포구</td>\n",
              "      <td>문래동3가</td>\n",
              "      <td>3650</td>\n",
              "      <td>12700</td>\n",
              "    </tr>\n",
              "    <tr>\n",
              "      <th>6583</th>\n",
              "      <td>2019-12-01</td>\n",
              "      <td>1</td>\n",
              "      <td>분식</td>\n",
              "      <td>금천구</td>\n",
              "      <td>독산동</td>\n",
              "      <td>3800</td>\n",
              "      <td>19000</td>\n",
              "    </tr>\n",
              "    <tr>\n",
              "      <th>6585</th>\n",
              "      <td>2019-12-01</td>\n",
              "      <td>1</td>\n",
              "      <td>분식</td>\n",
              "      <td>영등포구</td>\n",
              "      <td>신길동</td>\n",
              "      <td>5200</td>\n",
              "      <td>0</td>\n",
              "    </tr>\n",
              "    <tr>\n",
              "      <th>6590</th>\n",
              "      <td>2019-12-01</td>\n",
              "      <td>1</td>\n",
              "      <td>족발/보쌈</td>\n",
              "      <td>은평구</td>\n",
              "      <td>갈현동</td>\n",
              "      <td>3300</td>\n",
              "      <td>41000</td>\n",
              "    </tr>\n",
              "  </tbody>\n",
              "</table>\n",
              "</div>"
            ],
            "text/plain": [
              "      PROCESS_DT  DLVR_REQUST_STTUS_VALUE  ... DLVR_AMOUNT GOODS_AMOUNT\n",
              "0     2019-12-01                        1  ...        3300        18000\n",
              "6582  2019-12-01                        1  ...        3650        12700\n",
              "6583  2019-12-01                        1  ...        3800        19000\n",
              "6585  2019-12-01                        1  ...        5200            0\n",
              "6590  2019-12-01                        1  ...        3300        41000\n",
              "\n",
              "[5 rows x 7 columns]"
            ]
          },
          "metadata": {
            "tags": []
          },
          "execution_count": 17
        }
      ]
    },
    {
      "cell_type": "code",
      "metadata": {
        "colab": {
          "base_uri": "https://localhost:8080/",
          "height": 241
        },
        "id": "nwnpnw26aR7e",
        "outputId": "94b71850-e330-4032-9c16-b344f8377e74"
      },
      "source": [
        "test_ST_s['지불금액'] = test_ST_s['DLVR_AMOUNT'] + test_ST_s['GOODS_AMOUNT']\n",
        "test_ST_s.head()"
      ],
      "execution_count": 18,
      "outputs": [
        {
          "output_type": "execute_result",
          "data": {
            "text/html": [
              "<div>\n",
              "<style scoped>\n",
              "    .dataframe tbody tr th:only-of-type {\n",
              "        vertical-align: middle;\n",
              "    }\n",
              "\n",
              "    .dataframe tbody tr th {\n",
              "        vertical-align: top;\n",
              "    }\n",
              "\n",
              "    .dataframe thead th {\n",
              "        text-align: right;\n",
              "    }\n",
              "</style>\n",
              "<table border=\"1\" class=\"dataframe\">\n",
              "  <thead>\n",
              "    <tr style=\"text-align: right;\">\n",
              "      <th></th>\n",
              "      <th>PROCESS_DT</th>\n",
              "      <th>DLVR_REQUST_STTUS_VALUE</th>\n",
              "      <th>DLVR_STORE_INDUTY_NM</th>\n",
              "      <th>DLVR_STORE_SIGNGU_NM</th>\n",
              "      <th>DLVR_STORE_LEGALDONG_NM</th>\n",
              "      <th>DLVR_AMOUNT</th>\n",
              "      <th>GOODS_AMOUNT</th>\n",
              "      <th>지불금액</th>\n",
              "    </tr>\n",
              "  </thead>\n",
              "  <tbody>\n",
              "    <tr>\n",
              "      <th>0</th>\n",
              "      <td>2019-12-01</td>\n",
              "      <td>1</td>\n",
              "      <td>족발/보쌈</td>\n",
              "      <td>영등포구</td>\n",
              "      <td>신길동</td>\n",
              "      <td>3300</td>\n",
              "      <td>18000</td>\n",
              "      <td>21300</td>\n",
              "    </tr>\n",
              "    <tr>\n",
              "      <th>6582</th>\n",
              "      <td>2019-12-01</td>\n",
              "      <td>1</td>\n",
              "      <td>패스트푸드</td>\n",
              "      <td>영등포구</td>\n",
              "      <td>문래동3가</td>\n",
              "      <td>3650</td>\n",
              "      <td>12700</td>\n",
              "      <td>16350</td>\n",
              "    </tr>\n",
              "    <tr>\n",
              "      <th>6583</th>\n",
              "      <td>2019-12-01</td>\n",
              "      <td>1</td>\n",
              "      <td>분식</td>\n",
              "      <td>금천구</td>\n",
              "      <td>독산동</td>\n",
              "      <td>3800</td>\n",
              "      <td>19000</td>\n",
              "      <td>22800</td>\n",
              "    </tr>\n",
              "    <tr>\n",
              "      <th>6585</th>\n",
              "      <td>2019-12-01</td>\n",
              "      <td>1</td>\n",
              "      <td>분식</td>\n",
              "      <td>영등포구</td>\n",
              "      <td>신길동</td>\n",
              "      <td>5200</td>\n",
              "      <td>0</td>\n",
              "      <td>5200</td>\n",
              "    </tr>\n",
              "    <tr>\n",
              "      <th>6590</th>\n",
              "      <td>2019-12-01</td>\n",
              "      <td>1</td>\n",
              "      <td>족발/보쌈</td>\n",
              "      <td>은평구</td>\n",
              "      <td>갈현동</td>\n",
              "      <td>3300</td>\n",
              "      <td>41000</td>\n",
              "      <td>44300</td>\n",
              "    </tr>\n",
              "  </tbody>\n",
              "</table>\n",
              "</div>"
            ],
            "text/plain": [
              "      PROCESS_DT  DLVR_REQUST_STTUS_VALUE  ... GOODS_AMOUNT   지불금액\n",
              "0     2019-12-01                        1  ...        18000  21300\n",
              "6582  2019-12-01                        1  ...        12700  16350\n",
              "6583  2019-12-01                        1  ...        19000  22800\n",
              "6585  2019-12-01                        1  ...            0   5200\n",
              "6590  2019-12-01                        1  ...        41000  44300\n",
              "\n",
              "[5 rows x 8 columns]"
            ]
          },
          "metadata": {
            "tags": []
          },
          "execution_count": 18
        }
      ]
    },
    {
      "cell_type": "code",
      "metadata": {
        "colab": {
          "base_uri": "https://localhost:8080/",
          "height": 179
        },
        "id": "2e3iHvDManUw",
        "outputId": "ebf44af3-d24b-4558-ad45-94a367268d02"
      },
      "source": [
        "test_ST_s = test_ST_s.drop(['GOODS_AMOUNT','DLVR_AMOUNT'], axis=1)\n",
        "test_ST_s.head(3)"
      ],
      "execution_count": 19,
      "outputs": [
        {
          "output_type": "execute_result",
          "data": {
            "text/html": [
              "<div>\n",
              "<style scoped>\n",
              "    .dataframe tbody tr th:only-of-type {\n",
              "        vertical-align: middle;\n",
              "    }\n",
              "\n",
              "    .dataframe tbody tr th {\n",
              "        vertical-align: top;\n",
              "    }\n",
              "\n",
              "    .dataframe thead th {\n",
              "        text-align: right;\n",
              "    }\n",
              "</style>\n",
              "<table border=\"1\" class=\"dataframe\">\n",
              "  <thead>\n",
              "    <tr style=\"text-align: right;\">\n",
              "      <th></th>\n",
              "      <th>PROCESS_DT</th>\n",
              "      <th>DLVR_REQUST_STTUS_VALUE</th>\n",
              "      <th>DLVR_STORE_INDUTY_NM</th>\n",
              "      <th>DLVR_STORE_SIGNGU_NM</th>\n",
              "      <th>DLVR_STORE_LEGALDONG_NM</th>\n",
              "      <th>지불금액</th>\n",
              "    </tr>\n",
              "  </thead>\n",
              "  <tbody>\n",
              "    <tr>\n",
              "      <th>0</th>\n",
              "      <td>2019-12-01</td>\n",
              "      <td>1</td>\n",
              "      <td>족발/보쌈</td>\n",
              "      <td>영등포구</td>\n",
              "      <td>신길동</td>\n",
              "      <td>21300</td>\n",
              "    </tr>\n",
              "    <tr>\n",
              "      <th>6582</th>\n",
              "      <td>2019-12-01</td>\n",
              "      <td>1</td>\n",
              "      <td>패스트푸드</td>\n",
              "      <td>영등포구</td>\n",
              "      <td>문래동3가</td>\n",
              "      <td>16350</td>\n",
              "    </tr>\n",
              "    <tr>\n",
              "      <th>6583</th>\n",
              "      <td>2019-12-01</td>\n",
              "      <td>1</td>\n",
              "      <td>분식</td>\n",
              "      <td>금천구</td>\n",
              "      <td>독산동</td>\n",
              "      <td>22800</td>\n",
              "    </tr>\n",
              "  </tbody>\n",
              "</table>\n",
              "</div>"
            ],
            "text/plain": [
              "      PROCESS_DT  DLVR_REQUST_STTUS_VALUE  ... DLVR_STORE_LEGALDONG_NM   지불금액\n",
              "0     2019-12-01                        1  ...                     신길동  21300\n",
              "6582  2019-12-01                        1  ...                   문래동3가  16350\n",
              "6583  2019-12-01                        1  ...                     독산동  22800\n",
              "\n",
              "[3 rows x 6 columns]"
            ]
          },
          "metadata": {
            "tags": []
          },
          "execution_count": 19
        }
      ]
    },
    {
      "cell_type": "code",
      "metadata": {
        "colab": {
          "base_uri": "https://localhost:8080/"
        },
        "id": "NQSRrFkcWNDm",
        "outputId": "dbbe2054-6b49-4079-b41b-771829345e50"
      },
      "source": [
        "test_ST_s['DLVR_STORE_SIGNGU_NM']"
      ],
      "execution_count": 20,
      "outputs": [
        {
          "output_type": "execute_result",
          "data": {
            "text/plain": [
              "0          영등포구\n",
              "6582       영등포구\n",
              "6583        금천구\n",
              "6585       영등포구\n",
              "6590        은평구\n",
              "           ... \n",
              "3526965     구로구\n",
              "3526964     동작구\n",
              "3526956     구로구\n",
              "3526955     구로구\n",
              "3526954     도봉구\n",
              "Name: DLVR_STORE_SIGNGU_NM, Length: 980890, dtype: object"
            ]
          },
          "metadata": {
            "tags": []
          },
          "execution_count": 20
        }
      ]
    },
    {
      "cell_type": "code",
      "metadata": {
        "colab": {
          "base_uri": "https://localhost:8080/"
        },
        "id": "05nSeGQCY6rr",
        "outputId": "8e032794-b96c-4622-8ea3-cde6e9dd37ef"
      },
      "source": [
        "test_ST_s.info()"
      ],
      "execution_count": 21,
      "outputs": [
        {
          "output_type": "stream",
          "text": [
            "<class 'pandas.core.frame.DataFrame'>\n",
            "Int64Index: 980890 entries, 0 to 3526954\n",
            "Data columns (total 6 columns):\n",
            " #   Column                   Non-Null Count   Dtype \n",
            "---  ------                   --------------   ----- \n",
            " 0   PROCESS_DT               980890 non-null  object\n",
            " 1   DLVR_REQUST_STTUS_VALUE  980890 non-null  int64 \n",
            " 2   DLVR_STORE_INDUTY_NM     980890 non-null  object\n",
            " 3   DLVR_STORE_SIGNGU_NM     980890 non-null  object\n",
            " 4   DLVR_STORE_LEGALDONG_NM  980890 non-null  object\n",
            " 5   지불금액                     980890 non-null  int64 \n",
            "dtypes: int64(2), object(4)\n",
            "memory usage: 52.4+ MB\n"
          ],
          "name": "stdout"
        }
      ]
    },
    {
      "cell_type": "code",
      "metadata": {
        "colab": {
          "base_uri": "https://localhost:8080/"
        },
        "id": "tYbs08m2bkC8",
        "outputId": "55e4b9da-ff1c-4cf1-c1e3-c80165df8447"
      },
      "source": [
        "test_ST_s['DLVR_STORE_SIGNGU_NM'].value_counts()"
      ],
      "execution_count": 22,
      "outputs": [
        {
          "output_type": "execute_result",
          "data": {
            "text/plain": [
              "구로구     357818\n",
              "금천구     167738\n",
              "영등포구    155350\n",
              "도봉구      90283\n",
              "은평구      81589\n",
              "동작구      44280\n",
              "관악구      28453\n",
              "노원구      19849\n",
              "양천구      18412\n",
              "강북구       6940\n",
              "서대문구      2856\n",
              "서초구       2793\n",
              "성북구       2413\n",
              "강남구       1734\n",
              "강동구        326\n",
              "강서구         41\n",
              "중랑구         11\n",
              "송파구          3\n",
              "동대문구         1\n",
              "Name: DLVR_STORE_SIGNGU_NM, dtype: int64"
            ]
          },
          "metadata": {
            "tags": []
          },
          "execution_count": 22
        }
      ]
    },
    {
      "cell_type": "code",
      "metadata": {
        "id": "ddyPU8EEcbMy"
      },
      "source": [
        "import pandas as pd\n",
        "import numpy as np\n",
        "import seaborn as sns\n",
        "import matplotlib.pyplot as plt\n",
        "%matplotlib inline\n",
        "import warnings\n",
        "warnings.filterwarnings('ignore')"
      ],
      "execution_count": 23,
      "outputs": []
    },
    {
      "cell_type": "code",
      "metadata": {
        "colab": {
          "base_uri": "https://localhost:8080/",
          "height": 312
        },
        "id": "-xoTLUCEcVYg",
        "outputId": "51fb500d-fd54-498f-dab4-b33efe1e939a"
      },
      "source": [
        "plt.title('Seoul')\n",
        "sns.distplot(test_ST_s['지불금액'])\n"
      ],
      "execution_count": 24,
      "outputs": [
        {
          "output_type": "execute_result",
          "data": {
            "text/plain": [
              "<matplotlib.axes._subplots.AxesSubplot at 0x7fc46f42de50>"
            ]
          },
          "metadata": {
            "tags": []
          },
          "execution_count": 24
        },
        {
          "output_type": "display_data",
          "data": {
            "image/png": "[encoded data removed]",
            "text/plain": [
              "<Figure size 432x288 with 1 Axes>"
            ]
          },
          "metadata": {
            "tags": [],
            "needs_background": "light"
          }
        }
      ]
    },
    {
      "cell_type": "code",
      "metadata": {
        "colab": {
          "base_uri": "https://localhost:8080/",
          "height": 312
        },
        "id": "FOmiOTI5c9t_",
        "outputId": "e024bf35-d6e3-47b2-e3a0-a8ec244b5498"
      },
      "source": [
        "plt.title('Log Seoul')\n",
        "log_Seoul = np.log1p(test_ST_s['지불금액'])\n",
        "sns.distplot(log_Seoul)"
      ],
      "execution_count": 25,
      "outputs": [
        {
          "output_type": "execute_result",
          "data": {
            "text/plain": [
              "<matplotlib.axes._subplots.AxesSubplot at 0x7fc464145090>"
            ]
          },
          "metadata": {
            "tags": []
          },
          "execution_count": 25
        },
        {
          "output_type": "display_data",
          "data": {
            "image/png": "[encoded data removed]",
            "text/plain": [
              "<Figure size 432x288 with 1 Axes>"
            ]
          },
          "metadata": {
            "tags": [],
            "needs_background": "light"
          }
        }
      ]
    },
    {
      "cell_type": "code",
      "metadata": {
        "colab": {
          "base_uri": "https://localhost:8080/"
        },
        "id": "a5lbMmLAdaf-",
        "outputId": "d03d0bcb-b15c-4fc6-d149-c208947529eb"
      },
      "source": [
        "# Null 값이 있는 피처명과 타입 추출\n",
        "null_column_count = test_ST_s.isnull().sum()[test_ST_s.isnull().sum() > 0]\n",
        "null_column_count"
      ],
      "execution_count": 26,
      "outputs": [
        {
          "output_type": "execute_result",
          "data": {
            "text/plain": [
              "Series([], dtype: int64)"
            ]
          },
          "metadata": {
            "tags": []
          },
          "execution_count": 26
        }
      ]
    },
    {
      "cell_type": "code",
      "metadata": {
        "id": "wqkcC2-fBcdQ"
      },
      "source": [
        "# test_song = test_ST_s[test_ST_s['DLVR_STORE_SIGNGU_NM']=='강동구']\n",
        "# test_song.head()"
      ],
      "execution_count": 27,
      "outputs": []
    },
    {
      "cell_type": "code",
      "metadata": {
        "id": "6xaZbyxIXvTC"
      },
      "source": [
        "# test_song = test_song[test_song['DLVR_REQUST_STTUS_VALUE']== 1]\n",
        "# test_song.info()"
      ],
      "execution_count": 30,
      "outputs": []
    },
    {
      "cell_type": "code",
      "metadata": {
        "id": "kGd75p3_WI1T"
      },
      "source": [
        "# test_no_song = test_ST_s[test_ST_s['DLVR_STORE_SIGNGU_NM'] != '강동구']\n",
        "# test_no_song"
      ],
      "execution_count": 32,
      "outputs": []
    },
    {
      "cell_type": "code",
      "metadata": {
        "id": "IJ46YNKPXdw7"
      },
      "source": [
        "\n",
        "# 그룹 바이로 구별로 묶어서 한 구를 y로 놓고 예측\n",
        "# DLVR_STORE_INDUTY_NM는 원핫으로 하고"
      ],
      "execution_count": 33,
      "outputs": []
    },
    {
      "cell_type": "code",
      "metadata": {
        "colab": {
          "base_uri": "https://localhost:8080/"
        },
        "id": "0-TZuXrucYCG",
        "outputId": "e7eb5780-7f1f-437c-d46f-9346f11e8152"
      },
      "source": [
        "test_ST_s.info()"
      ],
      "execution_count": 31,
      "outputs": [
        {
          "output_type": "stream",
          "text": [
            "<class 'pandas.core.frame.DataFrame'>\n",
            "Int64Index: 980890 entries, 0 to 3526954\n",
            "Data columns (total 6 columns):\n",
            " #   Column                   Non-Null Count   Dtype \n",
            "---  ------                   --------------   ----- \n",
            " 0   PROCESS_DT               980890 non-null  object\n",
            " 1   DLVR_REQUST_STTUS_VALUE  980890 non-null  int64 \n",
            " 2   DLVR_STORE_INDUTY_NM     980890 non-null  object\n",
            " 3   DLVR_STORE_SIGNGU_NM     980890 non-null  object\n",
            " 4   DLVR_STORE_LEGALDONG_NM  980890 non-null  object\n",
            " 5   지불금액                     980890 non-null  int64 \n",
            "dtypes: int64(2), object(4)\n",
            "memory usage: 52.4+ MB\n"
          ],
          "name": "stdout"
        }
      ]
    },
    {
      "cell_type": "code",
      "metadata": {
        "colab": {
          "base_uri": "https://localhost:8080/"
        },
        "id": "JBOGeGbIciG4",
        "outputId": "d0915446-c550-4564-99a2-908e4ac3c7cf"
      },
      "source": [
        "test_ST_s.isnull().sum().values"
      ],
      "execution_count": 34,
      "outputs": [
        {
          "output_type": "execute_result",
          "data": {
            "text/plain": [
              "array([0, 0, 0, 0, 0, 0])"
            ]
          },
          "metadata": {
            "tags": []
          },
          "execution_count": 34
        }
      ]
    },
    {
      "cell_type": "code",
      "metadata": {
        "colab": {
          "base_uri": "https://localhost:8080/",
          "height": 181
        },
        "id": "b5DFLRwtkkJT",
        "outputId": "e96ab938-75f5-4449-b4bb-51159db96a88"
      },
      "source": [
        "test_heat = test_ST_s(index='PROCESS_DT', columns='DLVR_STORE_SIGNGU_NM',values='지불금액')"
      ],
      "execution_count": 36,
      "outputs": [
        {
          "output_type": "error",
          "ename": "TypeError",
          "evalue": "ignored",
          "traceback": [
            "\u001b[0;31m---------------------------------------------------------------------------\u001b[0m",
            "\u001b[0;31mTypeError\u001b[0m                                 Traceback (most recent call last)",
            "\u001b[0;32m<ipython-input-36-7748f6298d91>\u001b[0m in \u001b[0;36m<module>\u001b[0;34m()\u001b[0m\n\u001b[0;32m----> 1\u001b[0;31m \u001b[0mtest_heat\u001b[0m \u001b[0;34m=\u001b[0m \u001b[0mtest_ST_s\u001b[0m\u001b[0;34m(\u001b[0m\u001b[0mindex\u001b[0m\u001b[0;34m=\u001b[0m\u001b[0;34m'PROCESS_DT'\u001b[0m\u001b[0;34m,\u001b[0m \u001b[0mcolumns\u001b[0m\u001b[0;34m=\u001b[0m\u001b[0;34m'DLVR_STORE_SIGNGU_NM'\u001b[0m\u001b[0;34m,\u001b[0m\u001b[0mvalues\u001b[0m\u001b[0;34m=\u001b[0m\u001b[0;34m'지불금액'\u001b[0m\u001b[0;34m)\u001b[0m\u001b[0;34m\u001b[0m\u001b[0;34m\u001b[0m\u001b[0m\n\u001b[0m",
            "\u001b[0;31mTypeError\u001b[0m: 'DataFrame' object is not callable"
          ]
        }
      ]
    },
    {
      "cell_type": "code",
      "metadata": {
        "id": "aBILKyw2k87c"
      },
      "source": [
        "# test_heat의 지역별 상관관계로 히트맵제작\n",
        "# 어떤 구들로 할지 컬럼에 있는 구들로 df로 설정\n",
        "df = test_hest[['강남구', '강동구', '강북구', '강서구', '관악구', '광진구', '구로구','금천구','노원구','도봉구','동대문구','동작구','마포구','서대문구','서초구','성동구','성북구','송파구','양천구','영등포구','용산구','은평구','종로구','중구','중랑구']]\n",
        "# 원래 대각선 기준으로 대칭이지만 mask로 위를 가림\n",
        "mask = np.triu(np.ones_like(df.corr(), dtype=np.bool))\n",
        "plt.rcParams['font.size'] = 15\n",
        "# 사이즈 정함\n",
        "fig, ax = plt.subplots(figsize=(25, 10))\n",
        "# corr로 상관계수 구함\n",
        "sns.heatmap(df.corr(), \n",
        "            annot=True, \n",
        "            cmap=\"YlGnBu\", #cmap는 색 변환 가능 종류 많음\n",
        "            # cmap='Blues',\n",
        "            vmin=0,\n",
        "            mask = mask)\n",
        "# 타이틀 작성함\n",
        "ax.set_title('Correlation Heatmap', pad = 10)\n",
        "# #그래프 저장\n",
        "# plt.savefig('/content/data/2021_구별상관관계.png',dpi=100)\n",
        "\n",
        "plt.show()"
      ],
      "execution_count": null,
      "outputs": []
    },
    {
      "cell_type": "code",
      "metadata": {
        "id": "GLZIUNTaeWb7"
      },
      "source": [
        "# SalePrice 로그 변환\n",
        "# original_SalePrice = house_df['SalePrice']\n",
        "test_ST_s['지불금액'] = np.log1p(test_ST_s['지불금액'])\n",
        "\n"
      ],
      "execution_count": 43,
      "outputs": []
    },
    {
      "cell_type": "code",
      "metadata": {
        "id": "iQJxrNv9jRIY"
      },
      "source": [
        "test_1 = test_ST_s.drop(['DLVR_STORE_LEGALDONG_NM'], axis=1)"
      ],
      "execution_count": 45,
      "outputs": []
    },
    {
      "cell_type": "code",
      "metadata": {
        "colab": {
          "base_uri": "https://localhost:8080/"
        },
        "id": "RHSHNhh0gwrY",
        "outputId": "d5230668-503d-410b-ba7f-9ebe1990ca32"
      },
      "source": [
        "print('Null 피처의 Type :\\n', test_1.dtypes[null_column_count.index])\n"
      ],
      "execution_count": 46,
      "outputs": [
        {
          "output_type": "stream",
          "text": [
            "Null 피처의 Type :\n",
            " Series([], dtype: object)\n"
          ],
          "name": "stdout"
        }
      ]
    },
    {
      "cell_type": "code",
      "metadata": {
        "colab": {
          "base_uri": "https://localhost:8080/"
        },
        "id": "FamX3KWKi89s",
        "outputId": "935a2c21-1c25-4f4a-cd97-1f27ae841c61"
      },
      "source": [
        "print('get_dummies() 수행 전 데이터 Shape', test_1.shape)\n",
        "test_1_ohe = pd.get_dummies(test_1)\n",
        "print('get_dummies() 수행 후 데이터 Shape', test_1_ohe.shape)\n"
      ],
      "execution_count": 48,
      "outputs": [
        {
          "output_type": "stream",
          "text": [
            "get_dummies() 수행 전 데이터 Shape (980890, 5)\n",
            "get_dummies() 수행 후 데이터 Shape (980890, 219)\n"
          ],
          "name": "stdout"
        }
      ]
    },
    {
      "cell_type": "code",
      "metadata": {
        "id": "QtCITA6_jynp"
      },
      "source": [
        "# 단일 모델의 RMSE 값 반환\n",
        "def get_rmse(model): # 학습된 모델을 받아서 예측하고 RMSE 반환\n",
        "    pred = model.predict(X_test)\n",
        "    mse = mean_squared_error(y_test, pred)\n",
        "    rmse = np.sqrt(mse)\n",
        "    \n",
        "    print('{0} 로그 변환된 RMSE :{1}'.format(model.__class__.__name__, np.round(rmse, 3)))\n",
        "    return rmse\n",
        "\n",
        "\n",
        "# 여러 모델의 RMSE 값 반환\n",
        "def get_rmses(models):\n",
        "    rmses = []\n",
        "    for model in models:\n",
        "        rmse = get_rmse(model)\n",
        "        rmses.append(rmse)\n",
        "\n",
        "    return rmses"
      ],
      "execution_count": 49,
      "outputs": []
    },
    {
      "cell_type": "code",
      "metadata": {
        "id": "rT9Cwma5j1iY"
      },
      "source": [
        "# LinearRegression, Ridge, Lasso 를 이용해서 선형 계열의 회귀 모델 만들기"
      ],
      "execution_count": 50,
      "outputs": []
    },
    {
      "cell_type": "code",
      "metadata": {
        "colab": {
          "base_uri": "https://localhost:8080/"
        },
        "id": "H5UsDKn7j29U",
        "outputId": "e3b7f7b4-afea-432a-b3c6-149d449e3489"
      },
      "source": [
        "from sklearn.linear_model import LinearRegression, Ridge, Lasso\n",
        "from sklearn.model_selection import train_test_split\n",
        "from sklearn.metrics import mean_squared_error\n",
        "\n",
        "# 타깃/피처 데이터 세트 생성\n",
        "y_target = test_1_ohe['지불금액']\n",
        "X_features = test_1_ohe.drop('지불금액', axis=1, inplace=False)\n",
        "\n",
        "# 학습/테스트 데이터 세트 분리\n",
        "X_train , X_test , y_train , y_test = train_test_split(X_features , y_target, test_size=0.2, random_state=156)\n",
        "# X_train , X_val , y_train , y_val = train_test_split(X_train, y_train, test_size=0.2, random_state=156)\n",
        "\n",
        "# LinearRegression, Ridge, Lasso 학습/예측/평가\n",
        "lr_reg = LinearRegression()\n",
        "lr_reg.fit(X_train, y_train)\n",
        "\n",
        "ridge_reg = Ridge()\n",
        "ridge_reg.fit(X_train, y_train)\n",
        "\n",
        "lasso_reg = Lasso()\n",
        "lasso_reg.fit(X_train, y_train)\n",
        "\n",
        "# 평가 함수 호출\n",
        "models = [lr_reg, ridge_reg, lasso_reg]\n",
        "get_rmses(models) # 학습된 모델 전달하고 RMSE 출력\n",
        "\n",
        "# 결과\n",
        "# 라쏘가 타 회귀 방식보다 성능이 많이 떨어지는 결과\n",
        "# --> 최적 하이퍼 파라미터 튜닝 필요\n",
        "# --> alpha 하이퍼 파라미터 최적화를 릿지와 라쏘 모델에 대해 수행 \n",
        "\n",
        "# 먼저 피처별 회귀 계수를 시각화해서\n",
        "# 모델별로 어떤 피처의 회기 계수로 구성되는지 확인"
      ],
      "execution_count": 52,
      "outputs": [
        {
          "output_type": "stream",
          "text": [
            "LinearRegression 로그 변환된 RMSE :0.633\n",
            "Ridge 로그 변환된 RMSE :0.633\n",
            "Lasso 로그 변환된 RMSE :0.661\n"
          ],
          "name": "stdout"
        },
        {
          "output_type": "execute_result",
          "data": {
            "text/plain": [
              "[0.633169032120803, 0.633167010664969, 0.6610637930871053]"
            ]
          },
          "metadata": {
            "tags": []
          },
          "execution_count": 52
        }
      ]
    },
    {
      "cell_type": "code",
      "metadata": {
        "id": "NsibQMglj26G"
      },
      "source": [
        ""
      ],
      "execution_count": null,
      "outputs": []
    },
    {
      "cell_type": "code",
      "metadata": {
        "id": "g6XQl8zDj22F"
      },
      "source": [
        ""
      ],
      "execution_count": null,
      "outputs": []
    },
    {
      "cell_type": "code",
      "metadata": {
        "id": "rD1OWg9lj2yq"
      },
      "source": [
        ""
      ],
      "execution_count": null,
      "outputs": []
    },
    {
      "cell_type": "code",
      "metadata": {
        "id": "41pq8VLTj2vF"
      },
      "source": [
        ""
      ],
      "execution_count": null,
      "outputs": []
    },
    {
      "cell_type": "code",
      "metadata": {
        "id": "1IMw4-_Lj2rs"
      },
      "source": [
        ""
      ],
      "execution_count": null,
      "outputs": []
    },
    {
      "cell_type": "code",
      "metadata": {
        "id": "QuXvAT9tj2oU"
      },
      "source": [
        ""
      ],
      "execution_count": null,
      "outputs": []
    },
    {
      "cell_type": "code",
      "metadata": {
        "id": "rAwLByLkj2lE"
      },
      "source": [
        ""
      ],
      "execution_count": null,
      "outputs": []
    },
    {
      "cell_type": "code",
      "metadata": {
        "id": "-KfKsROXj2hv"
      },
      "source": [
        ""
      ],
      "execution_count": null,
      "outputs": []
    },
    {
      "cell_type": "code",
      "metadata": {
        "id": "rXiE_4tUj2eb"
      },
      "source": [
        ""
      ],
      "execution_count": null,
      "outputs": []
    },
    {
      "cell_type": "code",
      "metadata": {
        "id": "kEzt0Q8Pj2a9"
      },
      "source": [
        ""
      ],
      "execution_count": null,
      "outputs": []
    },
    {
      "cell_type": "code",
      "metadata": {
        "id": "a3vysZZzj2Xm"
      },
      "source": [
        ""
      ],
      "execution_count": null,
      "outputs": []
    },
    {
      "cell_type": "code",
      "metadata": {
        "id": "5zAOEpXqj2UI"
      },
      "source": [
        ""
      ],
      "execution_count": null,
      "outputs": []
    },
    {
      "cell_type": "code",
      "metadata": {
        "id": "_ENkAlXtjoaG"
      },
      "source": [
        ""
      ],
      "execution_count": null,
      "outputs": []
    }
  ]
}