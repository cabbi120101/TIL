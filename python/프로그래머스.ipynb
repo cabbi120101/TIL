{
  "nbformat": 4,
  "nbformat_minor": 0,
  "metadata": {
    "colab": {
      "name": "프로그래머스.ipynb",
      "provenance": [],
      "collapsed_sections": [],
      "authorship_tag": "ABX9TyMm2hjteK8COzi07039LrxO",
      "include_colab_link": true
    },
    "kernelspec": {
      "name": "python3",
      "display_name": "Python 3"
    },
    "language_info": {
      "name": "python"
    }
  },
  "cells": [
    {
      "cell_type": "markdown",
      "metadata": {
        "id": "view-in-github",
        "colab_type": "text"
      },
      "source": [
        "<a href=\"https://colab.research.google.com/github/cabbi120101/TIL/blob/master/python/%ED%94%84%EB%A1%9C%EA%B7%B8%EB%9E%98%EB%A8%B8%EC%8A%A4.ipynb\" target=\"_parent\"><img src=\"https://colab.research.google.com/assets/colab-badge.svg\" alt=\"Open In Colab\"/></a>"
      ]
    },
    {
      "cell_type": "markdown",
      "metadata": {
        "id": "y14_lzt8h5MD"
      },
      "source": [
        "1단계 아이디 추천"
      ]
    },
    {
      "cell_type": "code",
      "metadata": {
        "id": "14W8XAREh2q3"
      },
      "source": [
        "import re\n",
        "\n",
        "def solution(new_id):\n",
        "    # 1단계\n",
        "    new_id = new_id.lower()\n",
        "    \n",
        "    # 2단계\n",
        "    # new_id = ''.join(filter(str.isalnum, new_id))\n",
        "    new_id = re.sub(\"[^a-z0-9\\-\\_\\.]\",\"\",new_id)\n",
        "    \n",
        "    #3단계\n",
        "    while '..' in new_id:\n",
        "        new_id = new_id.replace('..','.')\n",
        "    \n",
        "    #4단계\n",
        "    if len(new_id) != 0 and new_id[0] == '.':\n",
        "        new_id = new_id[1:]\n",
        "            \n",
        "    if len(new_id) != 0 and new_id[-1] == '.':\n",
        "        new_id = new_id[:-1]\n",
        "    \n",
        "        \n",
        "    # 5단계\n",
        "    if len(new_id) == 0:\n",
        "        new_id = 'a'\n",
        "        \n",
        "    # 6단계\n",
        "    if len(new_id) >= 16:\n",
        "        new_id = new_id[:15]\n",
        "        \n",
        "    if new_id[-1] == '.':\n",
        "        new_id = new_id[:-1]\n",
        "    \n",
        "    # 7단계\n",
        "    while len(new_id) <= 2:\n",
        "        new_id = new_id + new_id[-1]\n",
        "    \n",
        "    return new_id"
      ],
      "execution_count": null,
      "outputs": []
    },
    {
      "cell_type": "code",
      "metadata": {
        "id": "1qKhBA3roqRS"
      },
      "source": [
        "def solution(board, moves):\n",
        "    basket = []\n",
        "    answer = 0\n",
        "    for one_move in moves:\n",
        "        # a = board[one_move -1][-1]\n",
        "        \n",
        "        for check_board in range(len(board)):\n",
        "            a = board[check_board][one_move-1]\n",
        "            \n",
        "            if a != 0:\n",
        "                basket.append(a)\n",
        "                board[check_board][one_move-1] = 0\n",
        "                break\n",
        "            \n",
        "        if len(basket)>1 and basket[-1]==basket[-2]:\n",
        "            basket.pop()\n",
        "            basket.pop()\n",
        "            answer += 2\n",
        "    return answer"
      ],
      "execution_count": null,
      "outputs": []
    },
    {
      "cell_type": "markdown",
      "metadata": {
        "id": "VNoNhjmQhIMR"
      },
      "source": [
        "부족한 금액 계산하기"
      ]
    },
    {
      "cell_type": "code",
      "metadata": {
        "id": "czANpZ9hoqOO"
      },
      "source": [
        "def solution(price, money, count):\n",
        "        \n",
        "    to_pay = 0\n",
        "    \n",
        "    for ride_count in range(count+1):\n",
        "        \n",
        "        to_pay += price * ride_count\n",
        "        \n",
        "        answer = to_pay - money\n",
        "        \n",
        "        if answer >= 0:\n",
        "            answer\n",
        "        else:\n",
        "            answer = 0\n",
        "    # to_pay = sum(map(lambda x: x * price, range(1, count+1)))\n",
        "    # answer = to_pay - money\n",
        "    # if answer >= 0:\n",
        "    #     answer\n",
        "    # else:\n",
        "    #     answer = 0\n",
        "    return answer"
      ],
      "execution_count": null,
      "outputs": []
    },
    {
      "cell_type": "markdown",
      "metadata": {
        "id": "v-tT8KaFtFRD"
      },
      "source": [
        "모의고사"
      ]
    },
    {
      "cell_type": "code",
      "metadata": {
        "id": "Yk1dC-1CoqK-"
      },
      "source": [
        "def solution(answers):\n",
        "    score = [0,0,0]\n",
        "    winner_list = []\n",
        "    \n",
        "    supo_1 = [1,2,3,4,5]\n",
        "    supo_2 = [2,1,2,3,2,4,2,5]\n",
        "    supo_3 = [3,3,1,1,2,2,4,4,5,5]\n",
        "    \n",
        "    supo_1 = supo_1 + supo_1 * len(answers)\n",
        "    supo_2 = supo_2 + supo_2 * len(answers)\n",
        "    supo_3 = supo_3 + supo_3 * len(answers)\n",
        "    \n",
        "    for answer2,supo_1_an, supo_2_an, supo_3_an in zip(answers,supo_1,supo_2,supo_3):\n",
        "                  \n",
        "        if supo_1_an == answer2:\n",
        "            score[0] += 1\n",
        "        else:\n",
        "            score[0] += 0\n",
        "\n",
        "        if supo_2_an == answer2:\n",
        "            score[1] += 1\n",
        "        else:\n",
        "            score[1] += 0\n",
        "\n",
        "        if supo_3_an == answer2:\n",
        "            score[2] += 1\n",
        "        else:\n",
        "            score[2] += 0\n",
        "            \n",
        "    \n",
        "    for i in range(3):\n",
        "        if score[i] == max(score):\n",
        "            winner_list.append(i+1)\n",
        "    \n",
        "    \n",
        "    return winner_list"
      ],
      "execution_count": null,
      "outputs": []
    },
    {
      "cell_type": "code",
      "metadata": {
        "id": "iS0Sc3Yetjdm"
      },
      "source": [
        ""
      ],
      "execution_count": null,
      "outputs": []
    },
    {
      "cell_type": "markdown",
      "metadata": {
        "id": "6JETchCztkhi"
      },
      "source": [
        "소수구하기"
      ]
    },
    {
      "cell_type": "code",
      "metadata": {
        "id": "4vKgI3Zqtjav"
      },
      "source": [
        "import itertools\n",
        "def solution(nums):\n",
        "    \n",
        "    list_nums = list(itertools.combinations(nums,3))\n",
        "    answer = 0    \n",
        "    \n",
        "    for number in range(len(nums)-1):\n",
        "        \n",
        "        is_this_so = sum(list_nums[number])\n",
        "        \n",
        "        for i in range(2, is_this_so):\n",
        "                       \n",
        "            if is_this_so%i == 0:\n",
        "                b = 1\n",
        "        if b == 0:\n",
        "            answer += 1           \n",
        "            \n",
        "    return answer"
      ],
      "execution_count": null,
      "outputs": []
    },
    {
      "cell_type": "code",
      "metadata": {
        "colab": {
          "base_uri": "https://localhost:8080/"
        },
        "id": "Pf77QWr1t29T",
        "outputId": "b203bd29-74db-4930-b256-1e5387152cee"
      },
      "source": [
        "num = [1,2,3,4]\n",
        "solution(num)"
      ],
      "execution_count": null,
      "outputs": [
        {
          "output_type": "execute_result",
          "data": {
            "text/plain": [
              "0"
            ]
          },
          "metadata": {},
          "execution_count": 2
        }
      ]
    },
    {
      "cell_type": "code",
      "metadata": {
        "id": "W7k9nO9St9WK"
      },
      "source": [
        "def solution(nums):\n",
        "    \n",
        "    n = len(nums)\n",
        "    picked = []\n",
        "    start = 0\n",
        "    answer = 0\n",
        "    \n",
        "    def recur(start, n):\n",
        "        b = 0\n",
        "        \n",
        "        if len(picked) == 3:\n",
        "            for i in range(2, sum(picked)):\n",
        "                if sum(picked)%i == 0:\n",
        "                    b = 1\n",
        "                if b == 0:\n",
        "                    answer += 1\n",
        "            \n",
        "    \n",
        "        for pick_num in range(start, n):\n",
        "            picked.append(nums[pick_num])\n",
        "            start = picked[-1] + 1\n",
        "            recur(start, n)\n",
        "            picked.pop()\n",
        "            \n",
        "    recur(start, n)\n",
        "            \n",
        "    return answer"
      ],
      "execution_count": null,
      "outputs": []
    },
    {
      "cell_type": "code",
      "metadata": {
        "id": "n-s-aqm3it6r"
      },
      "source": [
        ""
      ],
      "execution_count": null,
      "outputs": []
    },
    {
      "cell_type": "markdown",
      "metadata": {
        "id": "t1kvNRGCgvAS"
      },
      "source": [
        ""
      ]
    },
    {
      "cell_type": "code",
      "metadata": {
        "id": "UJz5SMZzgC_e",
        "colab": {
          "base_uri": "https://localhost:8080/"
        },
        "outputId": "d159cc63-0268-431f-acbc-42a839fc84b1"
      },
      "source": [
        "num = int(input())\n",
        "\n",
        "def solution(num, m):\n",
        "    \n",
        "    if m == 1:\n",
        "        print('_'*(4*num)+'\"재귀함수가 뭔가요?\"')\n",
        "        print('_'*(4*num)+'\"재귀함수는 자기 자신을 호출하는 함수라네\"')\n",
        "        print('_'*(4*num)+'라고 답변하였지.')\n",
        "    if m == 0:\n",
        "        return\n",
        "    print('어느 한 컴퓨터공학과 학생이 유명한 교수님을 찾아가 물었다.')\n",
        "\n",
        "    print('_'*(4*(num-m))+'\"재귀함수가 뭔가요?\"')\n",
        "    print('_'*(4*(num-m))+'\"잘 들어보게. 옛날옛날 한 산 꼭대기에 이세상 모든 지식을 통달한 선인이 있었어.')\n",
        "    print('_'*(4*(num-m))+'마을 사람들은 모두 그 선인에게 수많은 질문을 했고, 모두 지혜롭게 대답해 주었지.')\n",
        "    print('_'*(4*(num-m))+'그의 답은 대부분 옳았다고 하네. 그런데 어느 날, 그 선인에게 한 선비가 찾아와서 물었어.\"')\n",
        "    \n",
        "    solution(num,m-1)\n",
        "solution(num,0)"
      ],
      "execution_count": 60,
      "outputs": [
        {
          "output_type": "stream",
          "text": [
            "2\n"
          ],
          "name": "stdout"
        }
      ]
    },
    {
      "cell_type": "code",
      "metadata": {
        "colab": {
          "base_uri": "https://localhost:8080/"
        },
        "id": "cg1YSfy5lFra",
        "outputId": "56cacd47-d73f-4c97-a0ec-c3df4e2d84f1"
      },
      "source": [
        "num = int(input())\n",
        "print(\"어느 한 컴퓨터공학과 학생이 유명한 교수님을 찾아가 물었다.\")\n",
        "def recur(num,idx):\n",
        "    if num == idx:\n",
        "        for i in range(idx):\n",
        "            print(\"____\", end=\"\")\n",
        "        print(\"\\\"재귀함수가 뭔가요?\\\"\")\n",
        "        for i in range(idx):\n",
        "            print(\"____\", end=\"\")\n",
        "        print(\"\\\"재귀함수는 자기 자신을 호출하는 함수라네\\\"\")\n",
        "        for i in range(idx):\n",
        "            print(\"____\", end=\"\")\n",
        "        print(\"라고 답변하였지.\")\n",
        "        return\n",
        "    for i in range(idx):\n",
        "        print(\"____\",end=\"\")\n",
        "    print(\"\\\"재귀함수가 뭔가요?\\\"\")\n",
        "    for i in range(idx):\n",
        "        print(\"____\",end=\"\")\n",
        "    print(\"\\\"잘 들어보게. 옛날옛날 한 산 꼭대기에 이세상 모든 지식을 통달한 선인이 있었어.\")\n",
        "    for i in range(idx):\n",
        "        print(\"____\",end=\"\")\n",
        "    print(\"마을 사람들은 모두 그 선인에게 수많은 질문을 했고, 모두 지혜롭게 대답해 주었지.\")\n",
        "    for i in range(idx):\n",
        "        print(\"____\",end=\"\")\n",
        "    print(\"그의 답은 대부분 옳았다고 하네. 그런데 어느 날, 그 선인에게 한 선비가 찾아와서 물었어.\\\"\")\n",
        "\n",
        "    recur(num,idx+1)\n",
        "    for i in range(idx):\n",
        "        print(\"____\",end=\"\")\n",
        "    print(\"라고 답변하였지.\")\n",
        "\n",
        "\n",
        "\n",
        "recur(num,0)"
      ],
      "execution_count": 58,
      "outputs": [
        {
          "output_type": "stream",
          "text": [
            "2\n",
            "어느 한 컴퓨터공학과 학생이 유명한 교수님을 찾아가 물었다.\n",
            "\"재귀함수가 뭔가요?\"\n",
            "\"잘 들어보게. 옛날옛날 한 산 꼭대기에 이세상 모든 지식을 통달한 선인이 있었어.\n",
            "마을 사람들은 모두 그 선인에게 수많은 질문을 했고, 모두 지혜롭게 대답해 주었지.\n",
            "그의 답은 대부분 옳았다고 하네. 그런데 어느 날, 그 선인에게 한 선비가 찾아와서 물었어.\"\n",
            "____\"재귀함수가 뭔가요?\"\n",
            "____\"잘 들어보게. 옛날옛날 한 산 꼭대기에 이세상 모든 지식을 통달한 선인이 있었어.\n",
            "____마을 사람들은 모두 그 선인에게 수많은 질문을 했고, 모두 지혜롭게 대답해 주었지.\n",
            "____그의 답은 대부분 옳았다고 하네. 그런데 어느 날, 그 선인에게 한 선비가 찾아와서 물었어.\"\n",
            "________\"재귀함수가 뭔가요?\"\n",
            "________\"재귀함수는 자기 자신을 호출하는 함수라네\"\n",
            "________라고 답변하였지.\n",
            "____라고 답변하였지.\n",
            "라고 답변하였지.\n"
          ],
          "name": "stdout"
        }
      ]
    },
    {
      "cell_type": "code",
      "metadata": {
        "id": "HKiMp2PElOuQ"
      },
      "source": [
        ""
      ],
      "execution_count": null,
      "outputs": []
    }
  ]
}