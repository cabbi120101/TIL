{
  "nbformat": 4,
  "nbformat_minor": 0,
  "metadata": {
    "colab": {
      "name": "프로그래머스.ipynb",
      "provenance": [],
      "collapsed_sections": [],
      "authorship_tag": "ABX9TyO59i6aAWzjDHHe9CHGKNgf",
      "include_colab_link": true
    },
    "kernelspec": {
      "name": "python3",
      "display_name": "Python 3"
    },
    "language_info": {
      "name": "python"
    }
  },
  "cells": [
    {
      "cell_type": "markdown",
      "metadata": {
        "id": "view-in-github",
        "colab_type": "text"
      },
      "source": [
        "<a href=\"https://colab.research.google.com/github/cabbi120101/TIL/blob/master/python/%ED%94%84%EB%A1%9C%EA%B7%B8%EB%9E%98%EB%A8%B8%EC%8A%A4.ipynb\" target=\"_parent\"><img src=\"https://colab.research.google.com/assets/colab-badge.svg\" alt=\"Open In Colab\"/></a>"
      ]
    },
    {
      "cell_type": "markdown",
      "metadata": {
        "id": "y14_lzt8h5MD"
      },
      "source": [
        "1단계 아이디 추천"
      ]
    },
    {
      "cell_type": "code",
      "metadata": {
        "id": "14W8XAREh2q3"
      },
      "source": [
        "import re\n",
        "\n",
        "def solution(new_id):\n",
        "    # 1단계\n",
        "    new_id = new_id.lower()\n",
        "    \n",
        "    # 2단계\n",
        "    # new_id = ''.join(filter(str.isalnum, new_id))\n",
        "    new_id = re.sub(\"[^a-z0-9\\-\\_\\.]\",\"\",new_id)\n",
        "    \n",
        "    #3단계\n",
        "    while '..' in new_id:\n",
        "        new_id = new_id.replace('..','.')\n",
        "    \n",
        "    #4단계\n",
        "    if len(new_id) != 0 and new_id[0] == '.':\n",
        "        new_id = new_id[1:]\n",
        "            \n",
        "    if len(new_id) != 0 and new_id[-1] == '.':\n",
        "        new_id = new_id[:-1]\n",
        "    \n",
        "        \n",
        "    # 5단계\n",
        "    if len(new_id) == 0:\n",
        "        new_id = 'a'\n",
        "        \n",
        "    # 6단계\n",
        "    if len(new_id) >= 16:\n",
        "        new_id = new_id[:15]\n",
        "        \n",
        "    if new_id[-1] == '.':\n",
        "        new_id = new_id[:-1]\n",
        "    \n",
        "    # 7단계\n",
        "    while len(new_id) <= 2:\n",
        "        new_id = new_id + new_id[-1]\n",
        "    \n",
        "    return new_id"
      ],
      "execution_count": null,
      "outputs": []
    },
    {
      "cell_type": "code",
      "metadata": {
        "id": "1qKhBA3roqRS"
      },
      "source": [
        "def solution(board, moves):\n",
        "    basket = []\n",
        "    answer = 0\n",
        "    for one_move in moves:\n",
        "        # a = board[one_move -1][-1]\n",
        "        \n",
        "        for check_board in range(len(board)):\n",
        "            a = board[check_board][one_move-1]\n",
        "            \n",
        "            if a != 0:\n",
        "                basket.append(a)\n",
        "                board[check_board][one_move-1] = 0\n",
        "                break\n",
        "            \n",
        "        if len(basket)>1 and basket[-1]==basket[-2]:\n",
        "            basket.pop()\n",
        "            basket.pop()\n",
        "            answer += 2\n",
        "    return answer"
      ],
      "execution_count": null,
      "outputs": []
    },
    {
      "cell_type": "markdown",
      "metadata": {
        "id": "VNoNhjmQhIMR"
      },
      "source": [
        "부족한 금액 계산하기"
      ]
    },
    {
      "cell_type": "code",
      "metadata": {
        "id": "czANpZ9hoqOO"
      },
      "source": [
        "def solution(price, money, count):\n",
        "        \n",
        "    to_pay = 0\n",
        "    \n",
        "    for ride_count in range(count+1):\n",
        "        \n",
        "        to_pay += price * ride_count\n",
        "        \n",
        "        answer = to_pay - money\n",
        "        \n",
        "        if answer >= 0:\n",
        "            answer\n",
        "        else:\n",
        "            answer = 0\n",
        "    # to_pay = sum(map(lambda x: x * price, range(1, count+1)))\n",
        "    # answer = to_pay - money\n",
        "    # if answer >= 0:\n",
        "    #     answer\n",
        "    # else:\n",
        "    #     answer = 0\n",
        "    return answer"
      ],
      "execution_count": null,
      "outputs": []
    },
    {
      "cell_type": "markdown",
      "metadata": {
        "id": "v-tT8KaFtFRD"
      },
      "source": [
        "모의고사"
      ]
    },
    {
      "cell_type": "code",
      "metadata": {
        "id": "Yk1dC-1CoqK-"
      },
      "source": [
        "def solution(answers):\n",
        "    score = [0,0,0]\n",
        "    winner_list = []\n",
        "    \n",
        "    supo_1 = [1,2,3,4,5]\n",
        "    supo_2 = [2,1,2,3,2,4,2,5]\n",
        "    supo_3 = [3,3,1,1,2,2,4,4,5,5]\n",
        "    \n",
        "    supo_1 = supo_1 + supo_1 * len(answers)\n",
        "    supo_2 = supo_2 + supo_2 * len(answers)\n",
        "    supo_3 = supo_3 + supo_3 * len(answers)\n",
        "    \n",
        "    for answer2,supo_1_an, supo_2_an, supo_3_an in zip(answers,supo_1,supo_2,supo_3):\n",
        "                  \n",
        "        if supo_1_an == answer2:\n",
        "            score[0] += 1\n",
        "        else:\n",
        "            score[0] += 0\n",
        "\n",
        "        if supo_2_an == answer2:\n",
        "            score[1] += 1\n",
        "        else:\n",
        "            score[1] += 0\n",
        "\n",
        "        if supo_3_an == answer2:\n",
        "            score[2] += 1\n",
        "        else:\n",
        "            score[2] += 0\n",
        "            \n",
        "    \n",
        "    for i in range(3):\n",
        "        if score[i] == max(score):\n",
        "            winner_list.append(i+1)\n",
        "    \n",
        "    \n",
        "    return winner_list"
      ],
      "execution_count": null,
      "outputs": []
    },
    {
      "cell_type": "code",
      "metadata": {
        "id": "iS0Sc3Yetjdm"
      },
      "source": [
        ""
      ],
      "execution_count": null,
      "outputs": []
    },
    {
      "cell_type": "markdown",
      "metadata": {
        "id": "6JETchCztkhi"
      },
      "source": [
        "소수구하기"
      ]
    },
    {
      "cell_type": "code",
      "metadata": {
        "id": "4vKgI3Zqtjav"
      },
      "source": [
        "import itertools\n",
        "def solution(nums):\n",
        "    \n",
        "    list_nums = list(itertools.combinations(nums,3))\n",
        "    answer = 0    \n",
        "    \n",
        "    for number in range(len(nums)-1):\n",
        "        \n",
        "        is_this_so = sum(list_nums[number])\n",
        "        \n",
        "        for i in range(2, is_this_so):\n",
        "                       \n",
        "            if is_this_so%i == 0:\n",
        "                b = 1\n",
        "        if b == 0:\n",
        "            answer += 1           \n",
        "            \n",
        "    return answer"
      ],
      "execution_count": null,
      "outputs": []
    },
    {
      "cell_type": "code",
      "metadata": {
        "colab": {
          "base_uri": "https://localhost:8080/"
        },
        "id": "Pf77QWr1t29T",
        "outputId": "b203bd29-74db-4930-b256-1e5387152cee"
      },
      "source": [
        "num = [1,2,3,4]\n",
        "solution(num)"
      ],
      "execution_count": null,
      "outputs": [
        {
          "output_type": "execute_result",
          "data": {
            "text/plain": [
              "0"
            ]
          },
          "metadata": {},
          "execution_count": 2
        }
      ]
    },
    {
      "cell_type": "code",
      "metadata": {
        "id": "W7k9nO9St9WK"
      },
      "source": [
        "def solution(nums):\n",
        "    \n",
        "    n = len(nums)\n",
        "    picked = []\n",
        "    start = 0\n",
        "    answer = 0\n",
        "    \n",
        "    def recur(start, n):\n",
        "        b = 0\n",
        "        \n",
        "        if len(picked) == 3:\n",
        "            for i in range(2, sum(picked)):\n",
        "                if sum(picked)%i == 0:\n",
        "                    b = 1\n",
        "                if b == 0:\n",
        "                    answer += 1\n",
        "            \n",
        "    \n",
        "        for pick_num in range(start, n):\n",
        "            picked.append(nums[pick_num])\n",
        "            start = picked[-1] + 1\n",
        "            recur(start, n)\n",
        "            picked.pop()\n",
        "            \n",
        "    recur(start, n)\n",
        "            \n",
        "    return answer"
      ],
      "execution_count": null,
      "outputs": []
    },
    {
      "cell_type": "code",
      "metadata": {
        "id": "n-s-aqm3it6r"
      },
      "source": [
        ""
      ],
      "execution_count": null,
      "outputs": []
    },
    {
      "cell_type": "markdown",
      "metadata": {
        "id": "t1kvNRGCgvAS"
      },
      "source": [
        ""
      ]
    },
    {
      "cell_type": "code",
      "metadata": {
        "id": "UJz5SMZzgC_e",
        "colab": {
          "base_uri": "https://localhost:8080/"
        },
        "outputId": "cfae3c1d-a89e-45e6-b8ea-00e15db63a34"
      },
      "source": [
        "num = int(input())\n",
        "\n",
        "def solution(num, m):\n",
        "    \n",
        "    if m == 1:\n",
        "        print('_'*(4*num)+'\"재귀함수가 뭔가요?\"')\n",
        "        print('_'*(4*num)+'\"재귀함수는 자기 자신을 호출하는 함수라네\"')\n",
        "        print('_'*(4*num)+'라고 답변하였지.')\n",
        "    if m == 0:\n",
        "        return\n",
        "    print('어느 한 컴퓨터공학과 학생이 유명한 교수님을 찾아가 물었다.')\n",
        "\n",
        "    print('_'*(4*(num-m))+'\"재귀함수가 뭔가요?\"')\n",
        "    print('_'*(4*(num-m))+'\"잘 들어보게. 옛날옛날 한 산 꼭대기에 이세상 모든 지식을 통달한 선인이 있었어.')\n",
        "    print('_'*(4*(num-m))+'마을 사람들은 모두 그 선인에게 수많은 질문을 했고, 모두 지혜롭게 대답해 주었지.')\n",
        "    print('_'*(4*(num-m))+'그의 답은 대부분 옳았다고 하네. 그런데 어느 날, 그 선인에게 한 선비가 찾아와서 물었어.\"')\n",
        "    \n",
        "    solution(num,m-1)\n",
        "solution(num,5)"
      ],
      "execution_count": null,
      "outputs": [
        {
          "output_type": "stream",
          "text": [
            "8\n",
            "어느 한 컴퓨터공학과 학생이 유명한 교수님을 찾아가 물었다.\n",
            "____________\"재귀함수가 뭔가요?\"\n",
            "____________\"잘 들어보게. 옛날옛날 한 산 꼭대기에 이세상 모든 지식을 통달한 선인이 있었어.\n",
            "____________마을 사람들은 모두 그 선인에게 수많은 질문을 했고, 모두 지혜롭게 대답해 주었지.\n",
            "____________그의 답은 대부분 옳았다고 하네. 그런데 어느 날, 그 선인에게 한 선비가 찾아와서 물었어.\"\n",
            "어느 한 컴퓨터공학과 학생이 유명한 교수님을 찾아가 물었다.\n",
            "________________\"재귀함수가 뭔가요?\"\n",
            "________________\"잘 들어보게. 옛날옛날 한 산 꼭대기에 이세상 모든 지식을 통달한 선인이 있었어.\n",
            "________________마을 사람들은 모두 그 선인에게 수많은 질문을 했고, 모두 지혜롭게 대답해 주었지.\n",
            "________________그의 답은 대부분 옳았다고 하네. 그런데 어느 날, 그 선인에게 한 선비가 찾아와서 물었어.\"\n",
            "어느 한 컴퓨터공학과 학생이 유명한 교수님을 찾아가 물었다.\n",
            "____________________\"재귀함수가 뭔가요?\"\n",
            "____________________\"잘 들어보게. 옛날옛날 한 산 꼭대기에 이세상 모든 지식을 통달한 선인이 있었어.\n",
            "____________________마을 사람들은 모두 그 선인에게 수많은 질문을 했고, 모두 지혜롭게 대답해 주었지.\n",
            "____________________그의 답은 대부분 옳았다고 하네. 그런데 어느 날, 그 선인에게 한 선비가 찾아와서 물었어.\"\n",
            "어느 한 컴퓨터공학과 학생이 유명한 교수님을 찾아가 물었다.\n",
            "________________________\"재귀함수가 뭔가요?\"\n",
            "________________________\"잘 들어보게. 옛날옛날 한 산 꼭대기에 이세상 모든 지식을 통달한 선인이 있었어.\n",
            "________________________마을 사람들은 모두 그 선인에게 수많은 질문을 했고, 모두 지혜롭게 대답해 주었지.\n",
            "________________________그의 답은 대부분 옳았다고 하네. 그런데 어느 날, 그 선인에게 한 선비가 찾아와서 물었어.\"\n",
            "________________________________\"재귀함수가 뭔가요?\"\n",
            "________________________________\"재귀함수는 자기 자신을 호출하는 함수라네\"\n",
            "________________________________라고 답변하였지.\n",
            "어느 한 컴퓨터공학과 학생이 유명한 교수님을 찾아가 물었다.\n",
            "____________________________\"재귀함수가 뭔가요?\"\n",
            "____________________________\"잘 들어보게. 옛날옛날 한 산 꼭대기에 이세상 모든 지식을 통달한 선인이 있었어.\n",
            "____________________________마을 사람들은 모두 그 선인에게 수많은 질문을 했고, 모두 지혜롭게 대답해 주었지.\n",
            "____________________________그의 답은 대부분 옳았다고 하네. 그런데 어느 날, 그 선인에게 한 선비가 찾아와서 물었어.\"\n"
          ],
          "name": "stdout"
        }
      ]
    },
    {
      "cell_type": "code",
      "metadata": {
        "colab": {
          "base_uri": "https://localhost:8080/"
        },
        "id": "cg1YSfy5lFra",
        "outputId": "56cacd47-d73f-4c97-a0ec-c3df4e2d84f1"
      },
      "source": [
        "num = int(input())\n",
        "print(\"어느 한 컴퓨터공학과 학생이 유명한 교수님을 찾아가 물었다.\")\n",
        "def recur(num,idx):\n",
        "    if num == idx:\n",
        "        for i in range(idx):\n",
        "            print(\"____\", end=\"\")\n",
        "        print(\"\\\"재귀함수가 뭔가요?\\\"\")\n",
        "        for i in range(idx):\n",
        "            print(\"____\", end=\"\")\n",
        "        print(\"\\\"재귀함수는 자기 자신을 호출하는 함수라네\\\"\")\n",
        "        for i in range(idx):\n",
        "            print(\"____\", end=\"\")\n",
        "        print(\"라고 답변하였지.\")\n",
        "        return\n",
        "    for i in range(idx):\n",
        "        print(\"____\",end=\"\")\n",
        "    print(\"\\\"재귀함수가 뭔가요?\\\"\")\n",
        "    for i in range(idx):\n",
        "        print(\"____\",end=\"\")\n",
        "    print(\"\\\"잘 들어보게. 옛날옛날 한 산 꼭대기에 이세상 모든 지식을 통달한 선인이 있었어.\")\n",
        "    for i in range(idx):\n",
        "        print(\"____\",end=\"\")\n",
        "    print(\"마을 사람들은 모두 그 선인에게 수많은 질문을 했고, 모두 지혜롭게 대답해 주었지.\")\n",
        "    for i in range(idx):\n",
        "        print(\"____\",end=\"\")\n",
        "    print(\"그의 답은 대부분 옳았다고 하네. 그런데 어느 날, 그 선인에게 한 선비가 찾아와서 물었어.\\\"\")\n",
        "\n",
        "    recur(num,idx+1)\n",
        "    for i in range(idx):\n",
        "        print(\"____\",end=\"\")\n",
        "    print(\"라고 답변하였지.\")\n",
        "\n",
        "\n",
        "\n",
        "recur(num,0)"
      ],
      "execution_count": null,
      "outputs": [
        {
          "output_type": "stream",
          "text": [
            "2\n",
            "어느 한 컴퓨터공학과 학생이 유명한 교수님을 찾아가 물었다.\n",
            "\"재귀함수가 뭔가요?\"\n",
            "\"잘 들어보게. 옛날옛날 한 산 꼭대기에 이세상 모든 지식을 통달한 선인이 있었어.\n",
            "마을 사람들은 모두 그 선인에게 수많은 질문을 했고, 모두 지혜롭게 대답해 주었지.\n",
            "그의 답은 대부분 옳았다고 하네. 그런데 어느 날, 그 선인에게 한 선비가 찾아와서 물었어.\"\n",
            "____\"재귀함수가 뭔가요?\"\n",
            "____\"잘 들어보게. 옛날옛날 한 산 꼭대기에 이세상 모든 지식을 통달한 선인이 있었어.\n",
            "____마을 사람들은 모두 그 선인에게 수많은 질문을 했고, 모두 지혜롭게 대답해 주었지.\n",
            "____그의 답은 대부분 옳았다고 하네. 그런데 어느 날, 그 선인에게 한 선비가 찾아와서 물었어.\"\n",
            "________\"재귀함수가 뭔가요?\"\n",
            "________\"재귀함수는 자기 자신을 호출하는 함수라네\"\n",
            "________라고 답변하였지.\n",
            "____라고 답변하였지.\n",
            "라고 답변하였지.\n"
          ],
          "name": "stdout"
        }
      ]
    },
    {
      "cell_type": "code",
      "metadata": {
        "colab": {
          "base_uri": "https://localhost:8080/"
        },
        "id": "HKiMp2PElOuQ",
        "outputId": "9b288193-de35-4ec4-df63-e853e131d2db"
      },
      "source": [
        "def dfs(idx):\n",
        "    if idx == n:\n",
        "        for chat in last_chates:\n",
        "            print('____'*idx, end='')\n",
        "            print(chat)\n",
        "        return\n",
        "    for chat in chates:\n",
        "        print('____'*idx, end='')\n",
        "        print(chat)\n",
        "    dfs(idx+1)\n",
        "    print('____'*idx, end='')\n",
        "    print(last)\n",
        " \n",
        " \n",
        "n = int(input())\n",
        " \n",
        "print('어느 한 컴퓨터공학과 학생이 유명한 교수님을 찾아가 물었다.')\n",
        " \n",
        "chates = ['\"재귀함수가 뭔가요?\"', \n",
        "'\"잘 들어보게. 옛날옛날 한 산 꼭대기에 이세상 모든 지식을 통달한 선인이 있었어.',\n",
        "'마을 사람들은 모두 그 선인에게 수많은 질문을 했고, 모두 지혜롭게 대답해 주었지.',\n",
        "'그의 답은 대부분 옳았다고 하네. 그런데 어느 날, 그 선인에게 한 선비가 찾아와서 물었어.\"'\n",
        "]\n",
        " \n",
        "last = '라고 답변하였지.'\n",
        " \n",
        "last_chates = [\n",
        "    '\"재귀함수가 뭔가요?\"', \n",
        "    '\"재귀함수는 자기 자신을 호출하는 함수라네\"',\n",
        "    last\n",
        "]\n",
        " \n",
        " \n",
        " \n",
        "dfs(0)\n"
      ],
      "execution_count": null,
      "outputs": [
        {
          "output_type": "stream",
          "text": [
            "6\n",
            "어느 한 컴퓨터공학과 학생이 유명한 교수님을 찾아가 물었다.\n",
            "\"재귀함수가 뭔가요?\"\n",
            "\"잘 들어보게. 옛날옛날 한 산 꼭대기에 이세상 모든 지식을 통달한 선인이 있었어.\n",
            "마을 사람들은 모두 그 선인에게 수많은 질문을 했고, 모두 지혜롭게 대답해 주었지.\n",
            "그의 답은 대부분 옳았다고 하네. 그런데 어느 날, 그 선인에게 한 선비가 찾아와서 물었어.\"\n",
            "____\"재귀함수가 뭔가요?\"\n",
            "____\"잘 들어보게. 옛날옛날 한 산 꼭대기에 이세상 모든 지식을 통달한 선인이 있었어.\n",
            "____마을 사람들은 모두 그 선인에게 수많은 질문을 했고, 모두 지혜롭게 대답해 주었지.\n",
            "____그의 답은 대부분 옳았다고 하네. 그런데 어느 날, 그 선인에게 한 선비가 찾아와서 물었어.\"\n",
            "________\"재귀함수가 뭔가요?\"\n",
            "________\"잘 들어보게. 옛날옛날 한 산 꼭대기에 이세상 모든 지식을 통달한 선인이 있었어.\n",
            "________마을 사람들은 모두 그 선인에게 수많은 질문을 했고, 모두 지혜롭게 대답해 주었지.\n",
            "________그의 답은 대부분 옳았다고 하네. 그런데 어느 날, 그 선인에게 한 선비가 찾아와서 물었어.\"\n",
            "____________\"재귀함수가 뭔가요?\"\n",
            "____________\"잘 들어보게. 옛날옛날 한 산 꼭대기에 이세상 모든 지식을 통달한 선인이 있었어.\n",
            "____________마을 사람들은 모두 그 선인에게 수많은 질문을 했고, 모두 지혜롭게 대답해 주었지.\n",
            "____________그의 답은 대부분 옳았다고 하네. 그런데 어느 날, 그 선인에게 한 선비가 찾아와서 물었어.\"\n",
            "________________\"재귀함수가 뭔가요?\"\n",
            "________________\"잘 들어보게. 옛날옛날 한 산 꼭대기에 이세상 모든 지식을 통달한 선인이 있었어.\n",
            "________________마을 사람들은 모두 그 선인에게 수많은 질문을 했고, 모두 지혜롭게 대답해 주었지.\n",
            "________________그의 답은 대부분 옳았다고 하네. 그런데 어느 날, 그 선인에게 한 선비가 찾아와서 물었어.\"\n",
            "____________________\"재귀함수가 뭔가요?\"\n",
            "____________________\"잘 들어보게. 옛날옛날 한 산 꼭대기에 이세상 모든 지식을 통달한 선인이 있었어.\n",
            "____________________마을 사람들은 모두 그 선인에게 수많은 질문을 했고, 모두 지혜롭게 대답해 주었지.\n",
            "____________________그의 답은 대부분 옳았다고 하네. 그런데 어느 날, 그 선인에게 한 선비가 찾아와서 물었어.\"\n",
            "________________________\"재귀함수가 뭔가요?\"\n",
            "________________________\"재귀함수는 자기 자신을 호출하는 함수라네\"\n",
            "________________________라고 답변하였지.\n",
            "____________________라고 답변하였지.\n",
            "________________라고 답변하였지.\n",
            "____________라고 답변하였지.\n",
            "________라고 답변하였지.\n",
            "____라고 답변하였지.\n",
            "라고 답변하였지.\n"
          ],
          "name": "stdout"
        }
      ]
    },
    {
      "cell_type": "code",
      "metadata": {
        "id": "MZ8CqAOM5OCd"
      },
      "source": [
        "array = [1, 5, 2, 6, 3, 7, 4]\n",
        "commands = [[2, 5, 3], [4, 4, 1], [1, 7, 3]]"
      ],
      "execution_count": null,
      "outputs": []
    },
    {
      "cell_type": "code",
      "metadata": {
        "id": "T9G0Aj0xKQ6G"
      },
      "source": [
        "def solution(array, commands):\n",
        "    order = len(commands)\n",
        "    answer = []\n",
        "    \n",
        "    while order != 0:\n",
        "        i = commands[order-1][0]\n",
        "        j = commands[order-1][1]\n",
        "        k = commands[order-1][2]\n",
        "        slice = array[i-1:j]\n",
        "        slice.sort()\n",
        "        answer.append(slice[k-1])\n",
        "        order -= 1\n",
        "    answer = answer[::-1]\n",
        "    return answer"
      ],
      "execution_count": null,
      "outputs": []
    },
    {
      "cell_type": "code",
      "metadata": {
        "colab": {
          "base_uri": "https://localhost:8080/"
        },
        "id": "rtwbffUmKQ2-",
        "outputId": "b0d89676-18bd-42af-d09b-aaa45f002837"
      },
      "source": [
        "solution(array, commands)"
      ],
      "execution_count": null,
      "outputs": [
        {
          "output_type": "execute_result",
          "data": {
            "text/plain": [
              "[5, 6, 3]"
            ]
          },
          "metadata": {},
          "execution_count": 17
        }
      ]
    },
    {
      "cell_type": "code",
      "metadata": {
        "id": "vbnWvsgfKQxx"
      },
      "source": [
        "print(\"어느 한 컴퓨터공학과 학생이 유명한 교수님을 찾아가 물었다.\")\n",
        "\n",
        "def what_is_recurrsion(num, repeat_num=0):\n",
        "    \n",
        "    blank_str = \"____\" * repeat_num\n",
        "    print(blank_str + '\"재귀함수가 뭔가요?\"')\n",
        "    \n",
        "    # base\n",
        "    if num == 0:\n",
        "        print(blank_str+'\"재귀함수는 자기 자신을 호출하는 함수라네\"')\n",
        "        print(blank_str+'라고 답변하였지.')\n",
        "        return None\n",
        "    \n",
        "    print(blank_str + '\"잘 들어보게. 옛날옛날 한 산 꼭대기에 이세상 모든 지식을 통달한 선인이 있었어.')\n",
        "    print(blank_str + '마을 사람들은 모두 그 선인에게 수많은 질문을 했고, 모두 지혜롭게 대답해 주었지.')\n",
        "    print(blank_str + '그의 답은 대부분 옳았다고 하네. 그런데 어느 날, 그 선인에게 한 선비가 찾아와서 물었어.\"')\n",
        "    \n",
        "    what_is_recurrsion(num-1, repeat_num+1)\n",
        "    \n",
        "    print(blank_str + '라고 답변하였지.')\n",
        "    \"재귀함수가 뭔가요?\"\n",
        "\n",
        "what_is_recurrsion(int(input()))"
      ],
      "execution_count": null,
      "outputs": []
    },
    {
      "cell_type": "code",
      "metadata": {
        "id": "GF7Wag0ZKQvJ"
      },
      "source": [
        ""
      ],
      "execution_count": null,
      "outputs": []
    }
  ]
}