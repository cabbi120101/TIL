{
  "nbformat": 4,
  "nbformat_minor": 0,
  "metadata": {
    "colab": {
      "name": "프로그래머스.ipynb",
      "provenance": [],
      "collapsed_sections": [],
      "authorship_tag": "ABX9TyNjLe2pDXjyox1+KNyskE8O",
      "include_colab_link": true
    },
    "kernelspec": {
      "name": "python3",
      "display_name": "Python 3"
    },
    "language_info": {
      "name": "python"
    }
  },
  "cells": [
    {
      "cell_type": "markdown",
      "metadata": {
        "id": "view-in-github",
        "colab_type": "text"
      },
      "source": [
        "<a href=\"https://colab.research.google.com/github/cabbi120101/TIL/blob/master/python/%ED%94%84%EB%A1%9C%EA%B7%B8%EB%9E%98%EB%A8%B8%EC%8A%A4.ipynb\" target=\"_parent\"><img src=\"https://colab.research.google.com/assets/colab-badge.svg\" alt=\"Open In Colab\"/></a>"
      ]
    },
    {
      "cell_type": "markdown",
      "metadata": {
        "id": "y14_lzt8h5MD"
      },
      "source": [
        "1단계 아이디 추천"
      ]
    },
    {
      "cell_type": "code",
      "metadata": {
        "id": "14W8XAREh2q3"
      },
      "source": [
        "import re\n",
        "\n",
        "def solution(new_id):\n",
        "    # 1단계\n",
        "    new_id = new_id.lower()\n",
        "    \n",
        "    # 2단계\n",
        "    # new_id = ''.join(filter(str.isalnum, new_id))\n",
        "    new_id = re.sub(\"[^a-z0-9\\-\\_\\.]\",\"\",new_id)\n",
        "    \n",
        "    #3단계\n",
        "    while '..' in new_id:\n",
        "        new_id = new_id.replace('..','.')\n",
        "    \n",
        "    #4단계\n",
        "    if len(new_id) != 0 and new_id[0] == '.':\n",
        "        new_id = new_id[1:]\n",
        "            \n",
        "    if len(new_id) != 0 and new_id[-1] == '.':\n",
        "        new_id = new_id[:-1]\n",
        "    \n",
        "        \n",
        "    # 5단계\n",
        "    if len(new_id) == 0:\n",
        "        new_id = 'a'\n",
        "        \n",
        "    # 6단계\n",
        "    if len(new_id) >= 16:\n",
        "        new_id = new_id[:15]\n",
        "        \n",
        "    if new_id[-1] == '.':\n",
        "        new_id = new_id[:-1]\n",
        "    \n",
        "    # 7단계\n",
        "    while len(new_id) <= 2:\n",
        "        new_id = new_id + new_id[-1]\n",
        "    \n",
        "    return new_id"
      ],
      "execution_count": null,
      "outputs": []
    },
    {
      "cell_type": "code",
      "metadata": {
        "id": "1qKhBA3roqRS"
      },
      "source": [
        "def solution(board, moves):\n",
        "    basket = []\n",
        "    answer = 0\n",
        "    for one_move in moves:\n",
        "        # a = board[one_move -1][-1]\n",
        "        \n",
        "        for check_board in range(len(board)):\n",
        "            a = board[check_board][one_move-1]\n",
        "            \n",
        "            if a != 0:\n",
        "                basket.append(a)\n",
        "                board[check_board][one_move-1] = 0\n",
        "                break\n",
        "            \n",
        "        if len(basket)>1 and basket[-1]==basket[-2]:\n",
        "            basket.pop()\n",
        "            basket.pop()\n",
        "            answer += 2\n",
        "    return answer"
      ],
      "execution_count": null,
      "outputs": []
    },
    {
      "cell_type": "markdown",
      "metadata": {
        "id": "VNoNhjmQhIMR"
      },
      "source": [
        "부족한 금액 계산하기"
      ]
    },
    {
      "cell_type": "code",
      "metadata": {
        "id": "czANpZ9hoqOO"
      },
      "source": [
        "def solution(price, money, count):\n",
        "        \n",
        "    to_pay = 0\n",
        "    \n",
        "    for ride_count in range(count+1):\n",
        "        \n",
        "        to_pay += price * ride_count\n",
        "        \n",
        "        answer = to_pay - money\n",
        "        \n",
        "        if answer >= 0:\n",
        "            answer\n",
        "        else:\n",
        "            answer = 0\n",
        "    # to_pay = sum(map(lambda x: x * price, range(1, count+1)))\n",
        "    # answer = to_pay - money\n",
        "    # if answer >= 0:\n",
        "    #     answer\n",
        "    # else:\n",
        "    #     answer = 0\n",
        "    return answer"
      ],
      "execution_count": null,
      "outputs": []
    },
    {
      "cell_type": "markdown",
      "metadata": {
        "id": "v-tT8KaFtFRD"
      },
      "source": [
        "모의고사"
      ]
    },
    {
      "cell_type": "code",
      "metadata": {
        "id": "Yk1dC-1CoqK-"
      },
      "source": [
        "def solution(answers):\n",
        "    score = [0,0,0]\n",
        "    winner_list = []\n",
        "    \n",
        "    supo_1 = [1,2,3,4,5]\n",
        "    supo_2 = [2,1,2,3,2,4,2,5]\n",
        "    supo_3 = [3,3,1,1,2,2,4,4,5,5]\n",
        "    \n",
        "    supo_1 = supo_1 + supo_1 * len(answers)\n",
        "    supo_2 = supo_2 + supo_2 * len(answers)\n",
        "    supo_3 = supo_3 + supo_3 * len(answers)\n",
        "    \n",
        "    for answer2,supo_1_an, supo_2_an, supo_3_an in zip(answers,supo_1,supo_2,supo_3):\n",
        "                  \n",
        "        if supo_1_an == answer2:\n",
        "            score[0] += 1\n",
        "        else:\n",
        "            score[0] += 0\n",
        "\n",
        "        if supo_2_an == answer2:\n",
        "            score[1] += 1\n",
        "        else:\n",
        "            score[1] += 0\n",
        "\n",
        "        if supo_3_an == answer2:\n",
        "            score[2] += 1\n",
        "        else:\n",
        "            score[2] += 0\n",
        "            \n",
        "    \n",
        "    for i in range(3):\n",
        "        if score[i] == max(score):\n",
        "            winner_list.append(i+1)\n",
        "    \n",
        "    \n",
        "    return winner_list"
      ],
      "execution_count": null,
      "outputs": []
    }
  ]
}