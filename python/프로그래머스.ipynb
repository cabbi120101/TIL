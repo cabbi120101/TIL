{
  "nbformat": 4,
  "nbformat_minor": 0,
  "metadata": {
    "colab": {
      "name": "프로그래머스.ipynb",
      "provenance": [],
      "collapsed_sections": [],
      "authorship_tag": "ABX9TyOKRX+4mXQNc0OK5/XK3dQL",
      "include_colab_link": true
    },
    "kernelspec": {
      "name": "python3",
      "display_name": "Python 3"
    },
    "language_info": {
      "name": "python"
    }
  },
  "cells": [
    {
      "cell_type": "markdown",
      "metadata": {
        "id": "view-in-github",
        "colab_type": "text"
      },
      "source": [
        "<a href=\"https://colab.research.google.com/github/cabbi120101/TIL/blob/master/python/%ED%94%84%EB%A1%9C%EA%B7%B8%EB%9E%98%EB%A8%B8%EC%8A%A4.ipynb\" target=\"_parent\"><img src=\"https://colab.research.google.com/assets/colab-badge.svg\" alt=\"Open In Colab\"/></a>"
      ]
    },
    {
      "cell_type": "markdown",
      "metadata": {
        "id": "y14_lzt8h5MD"
      },
      "source": [
        "1단계 아이디 추천"
      ]
    },
    {
      "cell_type": "code",
      "metadata": {
        "id": "14W8XAREh2q3"
      },
      "source": [
        "import re\n",
        "\n",
        "def solution(new_id):\n",
        "    # 1단계\n",
        "    new_id = new_id.lower()\n",
        "    \n",
        "    # 2단계\n",
        "    # new_id = ''.join(filter(str.isalnum, new_id))\n",
        "    new_id = re.sub(\"[^a-z0-9\\-\\_\\.]\",\"\",new_id)\n",
        "    \n",
        "    #3단계\n",
        "    while '..' in new_id:\n",
        "        new_id = new_id.replace('..','.')\n",
        "    \n",
        "    #4단계\n",
        "    if len(new_id) != 0 and new_id[0] == '.':\n",
        "        new_id = new_id[1:]\n",
        "            \n",
        "    if len(new_id) != 0 and new_id[-1] == '.':\n",
        "        new_id = new_id[:-1]\n",
        "    \n",
        "        \n",
        "    # 5단계\n",
        "    if len(new_id) == 0:\n",
        "        new_id = 'a'\n",
        "        \n",
        "    # 6단계\n",
        "    if len(new_id) >= 16:\n",
        "        new_id = new_id[:15]\n",
        "        \n",
        "    if new_id[-1] == '.':\n",
        "        new_id = new_id[:-1]\n",
        "    \n",
        "    # 7단계\n",
        "    while len(new_id) <= 2:\n",
        "        new_id = new_id + new_id[-1]\n",
        "    \n",
        "    return new_id"
      ],
      "execution_count": null,
      "outputs": []
    },
    {
      "cell_type": "code",
      "metadata": {
        "id": "1qKhBA3roqRS"
      },
      "source": [
        "def solution(board, moves):\n",
        "    basket = []\n",
        "    answer = 0\n",
        "    for one_move in moves:\n",
        "        # a = board[one_move -1][-1]\n",
        "        \n",
        "        for check_board in range(len(board)):\n",
        "            a = board[check_board][one_move-1]\n",
        "            \n",
        "            if a != 0:\n",
        "                basket.append(a)\n",
        "                board[check_board][one_move-1] = 0\n",
        "                break\n",
        "            \n",
        "        if len(basket)>1 and basket[-1]==basket[-2]:\n",
        "            basket.pop()\n",
        "            basket.pop()\n",
        "            answer += 2\n",
        "    return answer"
      ],
      "execution_count": null,
      "outputs": []
    },
    {
      "cell_type": "markdown",
      "metadata": {
        "id": "VNoNhjmQhIMR"
      },
      "source": [
        "부족한 금액 계산하기"
      ]
    },
    {
      "cell_type": "code",
      "metadata": {
        "id": "czANpZ9hoqOO"
      },
      "source": [
        "def solution(price, money, count):\n",
        "        \n",
        "    to_pay = 0\n",
        "    \n",
        "    for ride_count in range(count+1):\n",
        "        \n",
        "        to_pay += price * ride_count\n",
        "        \n",
        "        answer = to_pay - money\n",
        "        \n",
        "        if answer >= 0:\n",
        "            answer\n",
        "        else:\n",
        "            answer = 0\n",
        "    # to_pay = sum(map(lambda x: x * price, range(1, count+1)))\n",
        "    # answer = to_pay - money\n",
        "    # if answer >= 0:\n",
        "    #     answer\n",
        "    # else:\n",
        "    #     answer = 0\n",
        "    return answer"
      ],
      "execution_count": null,
      "outputs": []
    },
    {
      "cell_type": "markdown",
      "metadata": {
        "id": "v-tT8KaFtFRD"
      },
      "source": [
        "모의고사"
      ]
    },
    {
      "cell_type": "code",
      "metadata": {
        "id": "Yk1dC-1CoqK-"
      },
      "source": [
        "def solution(answers):\n",
        "    score = [0,0,0]\n",
        "    winner_list = []\n",
        "    \n",
        "    supo_1 = [1,2,3,4,5]\n",
        "    supo_2 = [2,1,2,3,2,4,2,5]\n",
        "    supo_3 = [3,3,1,1,2,2,4,4,5,5]\n",
        "    \n",
        "    supo_1 = supo_1 + supo_1 * len(answers)\n",
        "    supo_2 = supo_2 + supo_2 * len(answers)\n",
        "    supo_3 = supo_3 + supo_3 * len(answers)\n",
        "    \n",
        "    for answer2,supo_1_an, supo_2_an, supo_3_an in zip(answers,supo_1,supo_2,supo_3):\n",
        "                  \n",
        "        if supo_1_an == answer2:\n",
        "            score[0] += 1\n",
        "        else:\n",
        "            score[0] += 0\n",
        "\n",
        "        if supo_2_an == answer2:\n",
        "            score[1] += 1\n",
        "        else:\n",
        "            score[1] += 0\n",
        "\n",
        "        if supo_3_an == answer2:\n",
        "            score[2] += 1\n",
        "        else:\n",
        "            score[2] += 0\n",
        "            \n",
        "    \n",
        "    for i in range(3):\n",
        "        if score[i] == max(score):\n",
        "            winner_list.append(i+1)\n",
        "    \n",
        "    \n",
        "    return winner_list"
      ],
      "execution_count": null,
      "outputs": []
    },
    {
      "cell_type": "code",
      "metadata": {
        "id": "iS0Sc3Yetjdm"
      },
      "source": [
        ""
      ],
      "execution_count": null,
      "outputs": []
    },
    {
      "cell_type": "markdown",
      "metadata": {
        "id": "6JETchCztkhi"
      },
      "source": [
        "소수구하기"
      ]
    },
    {
      "cell_type": "code",
      "metadata": {
        "id": "4vKgI3Zqtjav"
      },
      "source": [
        "import itertools\n",
        "def solution(nums):\n",
        "    \n",
        "    list_nums = list(itertools.combinations(nums,3))\n",
        "    answer = 0    \n",
        "    \n",
        "    for number in range(len(nums)-1):\n",
        "        \n",
        "        is_this_so = sum(list_nums[number])\n",
        "        \n",
        "        for i in range(2, is_this_so):\n",
        "                       \n",
        "            if is_this_so%i == 0:\n",
        "                b = 1\n",
        "        if b == 0:\n",
        "            answer += 1           \n",
        "            \n",
        "    return answer"
      ],
      "execution_count": null,
      "outputs": []
    },
    {
      "cell_type": "code",
      "metadata": {
        "colab": {
          "base_uri": "https://localhost:8080/"
        },
        "id": "Pf77QWr1t29T",
        "outputId": "b203bd29-74db-4930-b256-1e5387152cee"
      },
      "source": [
        "num = [1,2,3,4]\n",
        "solution(num)"
      ],
      "execution_count": null,
      "outputs": [
        {
          "output_type": "execute_result",
          "data": {
            "text/plain": [
              "0"
            ]
          },
          "metadata": {},
          "execution_count": 2
        }
      ]
    },
    {
      "cell_type": "code",
      "metadata": {
        "id": "W7k9nO9St9WK"
      },
      "source": [
        "def solution(nums):\n",
        "    \n",
        "    n = len(nums)\n",
        "    picked = []\n",
        "    start = 0\n",
        "    answer = 0\n",
        "    \n",
        "    def recur(start, n):\n",
        "        b = 0\n",
        "        \n",
        "        if len(picked) == 3:\n",
        "            for i in range(2, sum(picked)):\n",
        "                if sum(picked)%i == 0:\n",
        "                    b = 1\n",
        "                if b == 0:\n",
        "                    answer += 1\n",
        "            \n",
        "    \n",
        "        for pick_num in range(start, n):\n",
        "            picked.append(nums[pick_num])\n",
        "            start = picked[-1] + 1\n",
        "            recur(start, n)\n",
        "            picked.pop()\n",
        "            \n",
        "    recur(start, n)\n",
        "            \n",
        "    return answer"
      ],
      "execution_count": null,
      "outputs": []
    },
    {
      "cell_type": "code",
      "metadata": {
        "id": "n-s-aqm3it6r"
      },
      "source": [
        ""
      ],
      "execution_count": null,
      "outputs": []
    },
    {
      "cell_type": "markdown",
      "metadata": {
        "id": "t1kvNRGCgvAS"
      },
      "source": [
        ""
      ]
    },
    {
      "cell_type": "code",
      "metadata": {
        "id": "UJz5SMZzgC_e",
        "colab": {
          "base_uri": "https://localhost:8080/"
        },
        "outputId": "cfae3c1d-a89e-45e6-b8ea-00e15db63a34"
      },
      "source": [
        "num = int(input())\n",
        "\n",
        "def solution(num, m):\n",
        "    \n",
        "    if m == 1:\n",
        "        print('_'*(4*num)+'\"재귀함수가 뭔가요?\"')\n",
        "        print('_'*(4*num)+'\"재귀함수는 자기 자신을 호출하는 함수라네\"')\n",
        "        print('_'*(4*num)+'라고 답변하였지.')\n",
        "    if m == 0:\n",
        "        return\n",
        "    print('어느 한 컴퓨터공학과 학생이 유명한 교수님을 찾아가 물었다.')\n",
        "\n",
        "    print('_'*(4*(num-m))+'\"재귀함수가 뭔가요?\"')\n",
        "    print('_'*(4*(num-m))+'\"잘 들어보게. 옛날옛날 한 산 꼭대기에 이세상 모든 지식을 통달한 선인이 있었어.')\n",
        "    print('_'*(4*(num-m))+'마을 사람들은 모두 그 선인에게 수많은 질문을 했고, 모두 지혜롭게 대답해 주었지.')\n",
        "    print('_'*(4*(num-m))+'그의 답은 대부분 옳았다고 하네. 그런데 어느 날, 그 선인에게 한 선비가 찾아와서 물었어.\"')\n",
        "    \n",
        "    solution(num,m-1)\n",
        "solution(num,5)"
      ],
      "execution_count": null,
      "outputs": [
        {
          "output_type": "stream",
          "text": [
            "8\n",
            "어느 한 컴퓨터공학과 학생이 유명한 교수님을 찾아가 물었다.\n",
            "____________\"재귀함수가 뭔가요?\"\n",
            "____________\"잘 들어보게. 옛날옛날 한 산 꼭대기에 이세상 모든 지식을 통달한 선인이 있었어.\n",
            "____________마을 사람들은 모두 그 선인에게 수많은 질문을 했고, 모두 지혜롭게 대답해 주었지.\n",
            "____________그의 답은 대부분 옳았다고 하네. 그런데 어느 날, 그 선인에게 한 선비가 찾아와서 물었어.\"\n",
            "어느 한 컴퓨터공학과 학생이 유명한 교수님을 찾아가 물었다.\n",
            "________________\"재귀함수가 뭔가요?\"\n",
            "________________\"잘 들어보게. 옛날옛날 한 산 꼭대기에 이세상 모든 지식을 통달한 선인이 있었어.\n",
            "________________마을 사람들은 모두 그 선인에게 수많은 질문을 했고, 모두 지혜롭게 대답해 주었지.\n",
            "________________그의 답은 대부분 옳았다고 하네. 그런데 어느 날, 그 선인에게 한 선비가 찾아와서 물었어.\"\n",
            "어느 한 컴퓨터공학과 학생이 유명한 교수님을 찾아가 물었다.\n",
            "____________________\"재귀함수가 뭔가요?\"\n",
            "____________________\"잘 들어보게. 옛날옛날 한 산 꼭대기에 이세상 모든 지식을 통달한 선인이 있었어.\n",
            "____________________마을 사람들은 모두 그 선인에게 수많은 질문을 했고, 모두 지혜롭게 대답해 주었지.\n",
            "____________________그의 답은 대부분 옳았다고 하네. 그런데 어느 날, 그 선인에게 한 선비가 찾아와서 물었어.\"\n",
            "어느 한 컴퓨터공학과 학생이 유명한 교수님을 찾아가 물었다.\n",
            "________________________\"재귀함수가 뭔가요?\"\n",
            "________________________\"잘 들어보게. 옛날옛날 한 산 꼭대기에 이세상 모든 지식을 통달한 선인이 있었어.\n",
            "________________________마을 사람들은 모두 그 선인에게 수많은 질문을 했고, 모두 지혜롭게 대답해 주었지.\n",
            "________________________그의 답은 대부분 옳았다고 하네. 그런데 어느 날, 그 선인에게 한 선비가 찾아와서 물었어.\"\n",
            "________________________________\"재귀함수가 뭔가요?\"\n",
            "________________________________\"재귀함수는 자기 자신을 호출하는 함수라네\"\n",
            "________________________________라고 답변하였지.\n",
            "어느 한 컴퓨터공학과 학생이 유명한 교수님을 찾아가 물었다.\n",
            "____________________________\"재귀함수가 뭔가요?\"\n",
            "____________________________\"잘 들어보게. 옛날옛날 한 산 꼭대기에 이세상 모든 지식을 통달한 선인이 있었어.\n",
            "____________________________마을 사람들은 모두 그 선인에게 수많은 질문을 했고, 모두 지혜롭게 대답해 주었지.\n",
            "____________________________그의 답은 대부분 옳았다고 하네. 그런데 어느 날, 그 선인에게 한 선비가 찾아와서 물었어.\"\n"
          ],
          "name": "stdout"
        }
      ]
    },
    {
      "cell_type": "code",
      "metadata": {
        "colab": {
          "base_uri": "https://localhost:8080/"
        },
        "id": "cg1YSfy5lFra",
        "outputId": "56cacd47-d73f-4c97-a0ec-c3df4e2d84f1"
      },
      "source": [
        "num = int(input())\n",
        "print(\"어느 한 컴퓨터공학과 학생이 유명한 교수님을 찾아가 물었다.\")\n",
        "def recur(num,idx):\n",
        "    if num == idx:\n",
        "        for i in range(idx):\n",
        "            print(\"____\", end=\"\")\n",
        "        print(\"\\\"재귀함수가 뭔가요?\\\"\")\n",
        "        for i in range(idx):\n",
        "            print(\"____\", end=\"\")\n",
        "        print(\"\\\"재귀함수는 자기 자신을 호출하는 함수라네\\\"\")\n",
        "        for i in range(idx):\n",
        "            print(\"____\", end=\"\")\n",
        "        print(\"라고 답변하였지.\")\n",
        "        return\n",
        "    for i in range(idx):\n",
        "        print(\"____\",end=\"\")\n",
        "    print(\"\\\"재귀함수가 뭔가요?\\\"\")\n",
        "    for i in range(idx):\n",
        "        print(\"____\",end=\"\")\n",
        "    print(\"\\\"잘 들어보게. 옛날옛날 한 산 꼭대기에 이세상 모든 지식을 통달한 선인이 있었어.\")\n",
        "    for i in range(idx):\n",
        "        print(\"____\",end=\"\")\n",
        "    print(\"마을 사람들은 모두 그 선인에게 수많은 질문을 했고, 모두 지혜롭게 대답해 주었지.\")\n",
        "    for i in range(idx):\n",
        "        print(\"____\",end=\"\")\n",
        "    print(\"그의 답은 대부분 옳았다고 하네. 그런데 어느 날, 그 선인에게 한 선비가 찾아와서 물었어.\\\"\")\n",
        "\n",
        "    recur(num,idx+1)\n",
        "    for i in range(idx):\n",
        "        print(\"____\",end=\"\")\n",
        "    print(\"라고 답변하였지.\")\n",
        "\n",
        "\n",
        "\n",
        "recur(num,0)"
      ],
      "execution_count": null,
      "outputs": [
        {
          "output_type": "stream",
          "text": [
            "2\n",
            "어느 한 컴퓨터공학과 학생이 유명한 교수님을 찾아가 물었다.\n",
            "\"재귀함수가 뭔가요?\"\n",
            "\"잘 들어보게. 옛날옛날 한 산 꼭대기에 이세상 모든 지식을 통달한 선인이 있었어.\n",
            "마을 사람들은 모두 그 선인에게 수많은 질문을 했고, 모두 지혜롭게 대답해 주었지.\n",
            "그의 답은 대부분 옳았다고 하네. 그런데 어느 날, 그 선인에게 한 선비가 찾아와서 물었어.\"\n",
            "____\"재귀함수가 뭔가요?\"\n",
            "____\"잘 들어보게. 옛날옛날 한 산 꼭대기에 이세상 모든 지식을 통달한 선인이 있었어.\n",
            "____마을 사람들은 모두 그 선인에게 수많은 질문을 했고, 모두 지혜롭게 대답해 주었지.\n",
            "____그의 답은 대부분 옳았다고 하네. 그런데 어느 날, 그 선인에게 한 선비가 찾아와서 물었어.\"\n",
            "________\"재귀함수가 뭔가요?\"\n",
            "________\"재귀함수는 자기 자신을 호출하는 함수라네\"\n",
            "________라고 답변하였지.\n",
            "____라고 답변하였지.\n",
            "라고 답변하였지.\n"
          ],
          "name": "stdout"
        }
      ]
    },
    {
      "cell_type": "code",
      "metadata": {
        "colab": {
          "base_uri": "https://localhost:8080/"
        },
        "id": "HKiMp2PElOuQ",
        "outputId": "9b288193-de35-4ec4-df63-e853e131d2db"
      },
      "source": [
        "def dfs(idx):\n",
        "    if idx == n:\n",
        "        for chat in last_chates:\n",
        "            print('____'*idx, end='')\n",
        "            print(chat)\n",
        "        return\n",
        "    for chat in chates:\n",
        "        print('____'*idx, end='')\n",
        "        print(chat)\n",
        "    dfs(idx+1)\n",
        "    print('____'*idx, end='')\n",
        "    print(last)\n",
        " \n",
        " \n",
        "n = int(input())\n",
        " \n",
        "print('어느 한 컴퓨터공학과 학생이 유명한 교수님을 찾아가 물었다.')\n",
        " \n",
        "chates = ['\"재귀함수가 뭔가요?\"', \n",
        "'\"잘 들어보게. 옛날옛날 한 산 꼭대기에 이세상 모든 지식을 통달한 선인이 있었어.',\n",
        "'마을 사람들은 모두 그 선인에게 수많은 질문을 했고, 모두 지혜롭게 대답해 주었지.',\n",
        "'그의 답은 대부분 옳았다고 하네. 그런데 어느 날, 그 선인에게 한 선비가 찾아와서 물었어.\"'\n",
        "]\n",
        " \n",
        "last = '라고 답변하였지.'\n",
        " \n",
        "last_chates = [\n",
        "    '\"재귀함수가 뭔가요?\"', \n",
        "    '\"재귀함수는 자기 자신을 호출하는 함수라네\"',\n",
        "    last\n",
        "]\n",
        " \n",
        " \n",
        " \n",
        "dfs(0)\n"
      ],
      "execution_count": null,
      "outputs": [
        {
          "output_type": "stream",
          "text": [
            "6\n",
            "어느 한 컴퓨터공학과 학생이 유명한 교수님을 찾아가 물었다.\n",
            "\"재귀함수가 뭔가요?\"\n",
            "\"잘 들어보게. 옛날옛날 한 산 꼭대기에 이세상 모든 지식을 통달한 선인이 있었어.\n",
            "마을 사람들은 모두 그 선인에게 수많은 질문을 했고, 모두 지혜롭게 대답해 주었지.\n",
            "그의 답은 대부분 옳았다고 하네. 그런데 어느 날, 그 선인에게 한 선비가 찾아와서 물었어.\"\n",
            "____\"재귀함수가 뭔가요?\"\n",
            "____\"잘 들어보게. 옛날옛날 한 산 꼭대기에 이세상 모든 지식을 통달한 선인이 있었어.\n",
            "____마을 사람들은 모두 그 선인에게 수많은 질문을 했고, 모두 지혜롭게 대답해 주었지.\n",
            "____그의 답은 대부분 옳았다고 하네. 그런데 어느 날, 그 선인에게 한 선비가 찾아와서 물었어.\"\n",
            "________\"재귀함수가 뭔가요?\"\n",
            "________\"잘 들어보게. 옛날옛날 한 산 꼭대기에 이세상 모든 지식을 통달한 선인이 있었어.\n",
            "________마을 사람들은 모두 그 선인에게 수많은 질문을 했고, 모두 지혜롭게 대답해 주었지.\n",
            "________그의 답은 대부분 옳았다고 하네. 그런데 어느 날, 그 선인에게 한 선비가 찾아와서 물었어.\"\n",
            "____________\"재귀함수가 뭔가요?\"\n",
            "____________\"잘 들어보게. 옛날옛날 한 산 꼭대기에 이세상 모든 지식을 통달한 선인이 있었어.\n",
            "____________마을 사람들은 모두 그 선인에게 수많은 질문을 했고, 모두 지혜롭게 대답해 주었지.\n",
            "____________그의 답은 대부분 옳았다고 하네. 그런데 어느 날, 그 선인에게 한 선비가 찾아와서 물었어.\"\n",
            "________________\"재귀함수가 뭔가요?\"\n",
            "________________\"잘 들어보게. 옛날옛날 한 산 꼭대기에 이세상 모든 지식을 통달한 선인이 있었어.\n",
            "________________마을 사람들은 모두 그 선인에게 수많은 질문을 했고, 모두 지혜롭게 대답해 주었지.\n",
            "________________그의 답은 대부분 옳았다고 하네. 그런데 어느 날, 그 선인에게 한 선비가 찾아와서 물었어.\"\n",
            "____________________\"재귀함수가 뭔가요?\"\n",
            "____________________\"잘 들어보게. 옛날옛날 한 산 꼭대기에 이세상 모든 지식을 통달한 선인이 있었어.\n",
            "____________________마을 사람들은 모두 그 선인에게 수많은 질문을 했고, 모두 지혜롭게 대답해 주었지.\n",
            "____________________그의 답은 대부분 옳았다고 하네. 그런데 어느 날, 그 선인에게 한 선비가 찾아와서 물었어.\"\n",
            "________________________\"재귀함수가 뭔가요?\"\n",
            "________________________\"재귀함수는 자기 자신을 호출하는 함수라네\"\n",
            "________________________라고 답변하였지.\n",
            "____________________라고 답변하였지.\n",
            "________________라고 답변하였지.\n",
            "____________라고 답변하였지.\n",
            "________라고 답변하였지.\n",
            "____라고 답변하였지.\n",
            "라고 답변하였지.\n"
          ],
          "name": "stdout"
        }
      ]
    },
    {
      "cell_type": "code",
      "metadata": {
        "id": "MZ8CqAOM5OCd"
      },
      "source": [
        "array = [1, 5, 2, 6, 3, 7, 4]\n",
        "commands = [[2, 5, 3], [4, 4, 1], [1, 7, 3]]"
      ],
      "execution_count": null,
      "outputs": []
    },
    {
      "cell_type": "code",
      "metadata": {
        "id": "T9G0Aj0xKQ6G"
      },
      "source": [
        "def solution(array, commands):\n",
        "    order = len(commands)\n",
        "    answer = []\n",
        "    \n",
        "    while order != 0:\n",
        "        i = commands[order-1][0]\n",
        "        j = commands[order-1][1]\n",
        "        k = commands[order-1][2]\n",
        "        slice = array[i-1:j]\n",
        "        slice.sort()\n",
        "        answer.append(slice[k-1])\n",
        "        order -= 1\n",
        "    answer = answer[::-1]\n",
        "    return answer"
      ],
      "execution_count": null,
      "outputs": []
    },
    {
      "cell_type": "code",
      "metadata": {
        "colab": {
          "base_uri": "https://localhost:8080/"
        },
        "id": "rtwbffUmKQ2-",
        "outputId": "b0d89676-18bd-42af-d09b-aaa45f002837"
      },
      "source": [
        "solution(array, commands)"
      ],
      "execution_count": null,
      "outputs": [
        {
          "output_type": "execute_result",
          "data": {
            "text/plain": [
              "[5, 6, 3]"
            ]
          },
          "metadata": {},
          "execution_count": 17
        }
      ]
    },
    {
      "cell_type": "code",
      "metadata": {
        "id": "vbnWvsgfKQxx"
      },
      "source": [
        "print(\"어느 한 컴퓨터공학과 학생이 유명한 교수님을 찾아가 물었다.\")\n",
        "\n",
        "def what_is_recurrsion(num, repeat_num=0):\n",
        "    \n",
        "    blank_str = \"____\" * repeat_num\n",
        "    print(blank_str + '\"재귀함수가 뭔가요?\"')\n",
        "    \n",
        "    # base\n",
        "    if num == 0:\n",
        "        print(blank_str+'\"재귀함수는 자기 자신을 호출하는 함수라네\"')\n",
        "        print(blank_str+'라고 답변하였지.')\n",
        "        return None\n",
        "    \n",
        "    print(blank_str + '\"잘 들어보게. 옛날옛날 한 산 꼭대기에 이세상 모든 지식을 통달한 선인이 있었어.')\n",
        "    print(blank_str + '마을 사람들은 모두 그 선인에게 수많은 질문을 했고, 모두 지혜롭게 대답해 주었지.')\n",
        "    print(blank_str + '그의 답은 대부분 옳았다고 하네. 그런데 어느 날, 그 선인에게 한 선비가 찾아와서 물었어.\"')\n",
        "    \n",
        "    what_is_recurrsion(num-1, repeat_num+1)\n",
        "    \n",
        "    print(blank_str + '라고 답변하였지.')\n",
        "    \"재귀함수가 뭔가요?\"\n",
        "\n",
        "what_is_recurrsion(int(input()))"
      ],
      "execution_count": null,
      "outputs": []
    },
    {
      "cell_type": "code",
      "metadata": {
        "id": "xkShFFMOXJrr"
      },
      "source": [
        "id_list =[\"muzi\", \"frodo\", \"apeach\", \"neo\"]\n",
        "report = [\"muzi frodo\",\"apeach frodo\",\"frodo neo\",\"muzi neo\",\"apeach muzi\"]\n",
        "k = 2"
      ],
      "execution_count": 1,
      "outputs": []
    },
    {
      "cell_type": "code",
      "metadata": {
        "id": "phAjVd37XSf6"
      },
      "source": [
        "import pandas as pd\n"
      ],
      "execution_count": 2,
      "outputs": []
    },
    {
      "cell_type": "code",
      "metadata": {
        "colab": {
          "base_uri": "https://localhost:8080/",
          "height": 173
        },
        "id": "6ktKEAcNXX_C",
        "outputId": "cee46d23-6658-4c82-e189-1b193e94f9f9"
      },
      "source": [
        "kakao = pd.DataFrame()\n",
        "kakao['id'] = id_list\n",
        "kakao"
      ],
      "execution_count": 5,
      "outputs": [
        {
          "output_type": "execute_result",
          "data": {
            "text/html": [
              "<div>\n",
              "<style scoped>\n",
              "    .dataframe tbody tr th:only-of-type {\n",
              "        vertical-align: middle;\n",
              "    }\n",
              "\n",
              "    .dataframe tbody tr th {\n",
              "        vertical-align: top;\n",
              "    }\n",
              "\n",
              "    .dataframe thead th {\n",
              "        text-align: right;\n",
              "    }\n",
              "</style>\n",
              "<table border=\"1\" class=\"dataframe\">\n",
              "  <thead>\n",
              "    <tr style=\"text-align: right;\">\n",
              "      <th></th>\n",
              "      <th>id</th>\n",
              "    </tr>\n",
              "  </thead>\n",
              "  <tbody>\n",
              "    <tr>\n",
              "      <th>0</th>\n",
              "      <td>muzi</td>\n",
              "    </tr>\n",
              "    <tr>\n",
              "      <th>1</th>\n",
              "      <td>frodo</td>\n",
              "    </tr>\n",
              "    <tr>\n",
              "      <th>2</th>\n",
              "      <td>apeach</td>\n",
              "    </tr>\n",
              "    <tr>\n",
              "      <th>3</th>\n",
              "      <td>neo</td>\n",
              "    </tr>\n",
              "  </tbody>\n",
              "</table>\n",
              "</div>"
            ],
            "text/plain": [
              "       id\n",
              "0    muzi\n",
              "1   frodo\n",
              "2  apeach\n",
              "3     neo"
            ]
          },
          "metadata": {},
          "execution_count": 5
        }
      ]
    },
    {
      "cell_type": "code",
      "metadata": {
        "id": "724J6-q3X0zU"
      },
      "source": [
        "repo = pd.DataFrame()\n",
        "repo['report'] = report"
      ],
      "execution_count": 8,
      "outputs": []
    },
    {
      "cell_type": "code",
      "metadata": {
        "colab": {
          "base_uri": "https://localhost:8080/"
        },
        "id": "WdWTRGa-Xo9Y",
        "outputId": "c6f65b7f-bdc8-4df8-b06f-0a1f84a060ff"
      },
      "source": [
        "range(len(kakao))"
      ],
      "execution_count": 6,
      "outputs": [
        {
          "output_type": "execute_result",
          "data": {
            "text/plain": [
              "range(0, 4)"
            ]
          },
          "metadata": {},
          "execution_count": 6
        }
      ]
    },
    {
      "cell_type": "code",
      "metadata": {
        "colab": {
          "base_uri": "https://localhost:8080/"
        },
        "id": "05EizbjlYVMp",
        "outputId": "b2149b96-57db-4f84-f36a-5ad23572aeca"
      },
      "source": [
        "repo['report'][0].split()"
      ],
      "execution_count": 15,
      "outputs": [
        {
          "output_type": "execute_result",
          "data": {
            "text/plain": [
              "['muzi', 'frodo']"
            ]
          },
          "metadata": {},
          "execution_count": 15
        }
      ]
    },
    {
      "cell_type": "code",
      "metadata": {
        "colab": {
          "base_uri": "https://localhost:8080/",
          "height": 37
        },
        "id": "7evsy0BZXp8y",
        "outputId": "d82c9d08-514f-4111-8b75-588211e889f6"
      },
      "source": [
        "repo['report'][0].split()[1]"
      ],
      "execution_count": 19,
      "outputs": [
        {
          "output_type": "execute_result",
          "data": {
            "application/vnd.google.colaboratory.intrinsic+json": {
              "type": "string"
            },
            "text/plain": [
              "'frodo'"
            ]
          },
          "metadata": {},
          "execution_count": 19
        }
      ]
    },
    {
      "cell_type": "code",
      "metadata": {
        "id": "GF7Wag0ZKQvJ"
      },
      "source": [
        "for i in range(len(kakao)):\n",
        "    kakao['report'][i].split(' ')\n",
        "    if kakao['report'][i][0]"
      ],
      "execution_count": null,
      "outputs": []
    },
    {
      "cell_type": "code",
      "metadata": {
        "id": "GY6NFmM8abbi"
      },
      "source": [
        "report2 = [\"ryan con\", \"ryan con\", \"ryan con\", \"ryan con\"]"
      ],
      "execution_count": 31,
      "outputs": []
    },
    {
      "cell_type": "code",
      "metadata": {
        "colab": {
          "base_uri": "https://localhost:8080/"
        },
        "id": "3hfBP0V1a_3B",
        "outputId": "3d76eb49-fe18-4d38-929d-cca199f8080a"
      },
      "source": [
        "list(set(report2))"
      ],
      "execution_count": 34,
      "outputs": [
        {
          "output_type": "execute_result",
          "data": {
            "text/plain": [
              "['ryan con']"
            ]
          },
          "metadata": {},
          "execution_count": 34
        }
      ]
    },
    {
      "cell_type": "code",
      "metadata": {
        "id": "_9nPMIvjcH58"
      },
      "source": [
        "id_list =[\"muzi\", \"frodo\", \"apeach\", \"neo\"]\n",
        "report = [\"muzi frodo\",\"apeach frodo\",\"frodo neo\",\"muzi neo\",\"apeach muzi\"]\n",
        "k = 2\n"
      ],
      "execution_count": 71,
      "outputs": []
    },
    {
      "cell_type": "code",
      "metadata": {
        "id": "HzBSgkdWe_7z"
      },
      "source": [
        "kakao = pd.DataFrame()\n",
        "kakao['id_list'] = id_list\n"
      ],
      "execution_count": 67,
      "outputs": []
    },
    {
      "cell_type": "code",
      "metadata": {
        "colab": {
          "base_uri": "https://localhost:8080/",
          "height": 173
        },
        "id": "BPQtxMPhfB6-",
        "outputId": "0366a797-fa97-4628-8ef6-8854b65131d8"
      },
      "source": [
        "kakao"
      ],
      "execution_count": 66,
      "outputs": [
        {
          "output_type": "execute_result",
          "data": {
            "text/html": [
              "<div>\n",
              "<style scoped>\n",
              "    .dataframe tbody tr th:only-of-type {\n",
              "        vertical-align: middle;\n",
              "    }\n",
              "\n",
              "    .dataframe tbody tr th {\n",
              "        vertical-align: top;\n",
              "    }\n",
              "\n",
              "    .dataframe thead th {\n",
              "        text-align: right;\n",
              "    }\n",
              "</style>\n",
              "<table border=\"1\" class=\"dataframe\">\n",
              "  <thead>\n",
              "    <tr style=\"text-align: right;\">\n",
              "      <th></th>\n",
              "      <th>id_list</th>\n",
              "    </tr>\n",
              "  </thead>\n",
              "  <tbody>\n",
              "    <tr>\n",
              "      <th>0</th>\n",
              "      <td>muzi</td>\n",
              "    </tr>\n",
              "    <tr>\n",
              "      <th>1</th>\n",
              "      <td>frodo</td>\n",
              "    </tr>\n",
              "    <tr>\n",
              "      <th>2</th>\n",
              "      <td>apeach</td>\n",
              "    </tr>\n",
              "    <tr>\n",
              "      <th>3</th>\n",
              "      <td>neo</td>\n",
              "    </tr>\n",
              "  </tbody>\n",
              "</table>\n",
              "</div>"
            ],
            "text/plain": [
              "  id_list\n",
              "0    muzi\n",
              "1   frodo\n",
              "2  apeach\n",
              "3     neo"
            ]
          },
          "metadata": {},
          "execution_count": 66
        }
      ]
    },
    {
      "cell_type": "code",
      "metadata": {
        "colab": {
          "base_uri": "https://localhost:8080/"
        },
        "id": "6O2ueGVScRQe",
        "outputId": "dcfcf70b-a1e9-457e-f84f-3f2eddeb013e"
      },
      "source": [
        "list(set(report))"
      ],
      "execution_count": 50,
      "outputs": [
        {
          "output_type": "execute_result",
          "data": {
            "text/plain": [
              "['muzi neo', 'muzi frodo', 'frodo neo', 'apeach frodo', 'apeach muzi']"
            ]
          },
          "metadata": {},
          "execution_count": 50
        }
      ]
    },
    {
      "cell_type": "code",
      "metadata": {
        "id": "dWIa1Ss4iPnq"
      },
      "source": [
        "id_list =[\"muzi\", \"frodo\", \"apeach\", \"neo\"]\n",
        "report = [\"muzi frodo\",\"apeach frodo\",\"frodo neo\",\"muzi neo\",\"apeach muzi\"]\n",
        "k = 2\n"
      ],
      "execution_count": 87,
      "outputs": []
    },
    {
      "cell_type": "code",
      "metadata": {
        "id": "MtEFb52KaclJ"
      },
      "source": [
        "id_list =[\"muzi\", \"frodo\", \"apeach\", \"neo\"]\n",
        "report = [\"muzi frodo\",\"apeach frodo\",\"frodo neo\",\"muzi neo\",\"apeach muzi\"]\n",
        "k = 2\n",
        "\n",
        "report = list(set(report))\n",
        "ban_list = []\n",
        "result = []\n",
        "answer = []\n",
        "final = []\n",
        "for i in range(len(report)):\n",
        "    ban_id = report[i].split()\n",
        "    ban_list.append(ban_id[1])\n",
        "for j in range(len(id_list)):\n",
        "    if ban_list.count(id_list[j]) >= k:\n",
        "        result.append(id_list[j])\n",
        "for i in range(len(report)):\n",
        "    who_banned_this = report[i].split()\n",
        "    if who_banned_this[1] in result:\n",
        "        answer.append(who_banned_this[0])\n",
        "for a in range(len(id_list)):\n",
        "    final.append(answer.count(id_list[a]))"
      ],
      "execution_count": 100,
      "outputs": []
    },
    {
      "cell_type": "code",
      "metadata": {
        "colab": {
          "base_uri": "https://localhost:8080/"
        },
        "id": "aEljA022afB7",
        "outputId": "ddc694c7-889a-4fa5-fd9a-6ad66f253754"
      },
      "source": [
        "final"
      ],
      "execution_count": 101,
      "outputs": [
        {
          "output_type": "execute_result",
          "data": {
            "text/plain": [
              "[2, 1, 1, 0]"
            ]
          },
          "metadata": {},
          "execution_count": 101
        }
      ]
    },
    {
      "cell_type": "code",
      "metadata": {
        "colab": {
          "base_uri": "https://localhost:8080/"
        },
        "id": "8QpJtF2GaiUh",
        "outputId": "ea865d3a-7445-4e8d-8618-fb61cd600dc0"
      },
      "source": [
        "report = [\"ryan con\", \"ryan con\", \"ryan con\", \"ryan con\"]\n",
        "k = 3\n",
        "\n",
        "list(set(report))"
      ],
      "execution_count": 97,
      "outputs": [
        {
          "output_type": "execute_result",
          "data": {
            "text/plain": [
              "['ryan con']"
            ]
          },
          "metadata": {},
          "execution_count": 97
        }
      ]
    },
    {
      "cell_type": "code",
      "metadata": {
        "id": "OQzPZ6RVlbEm"
      },
      "source": [
        "def convert(n, base):\n",
        "    T = \"0123456789ABCDEF\"\n",
        "    q, r = divmod(n, base)\n",
        "    if q == 0:\n",
        "        return T[r]\n",
        "    else:\n",
        "        return convert(q, base) + T[r]"
      ],
      "execution_count": 102,
      "outputs": []
    },
    {
      "cell_type": "code",
      "metadata": {
        "colab": {
          "base_uri": "https://localhost:8080/"
        },
        "id": "Tnhkjxv_nB2N",
        "outputId": "759ca1b1-2556-4a61-a6a6-e63aba21673b"
      },
      "source": [
        "convert(437674,3).split('0')"
      ],
      "execution_count": 115,
      "outputs": [
        {
          "output_type": "execute_result",
          "data": {
            "text/plain": [
              "['211', '2', '1', '1', '11']"
            ]
          },
          "metadata": {},
          "execution_count": 115
        }
      ]
    },
    {
      "cell_type": "code",
      "metadata": {
        "id": "XDt4TV2_nGWD"
      },
      "source": [
        "def is_this_P(N):\n",
        "    arr = [True]*(N+1)\n",
        "    \n",
        "    for i in range(2, N+1):\n",
        "        if arr[i] == True:\n",
        "            j = 2\n",
        "            \n",
        "            while (i*j)<= N:\n",
        "                arr[i*j] = False\n",
        "                j += 1\n",
        "    return arr"
      ],
      "execution_count": 127,
      "outputs": []
    },
    {
      "cell_type": "code",
      "metadata": {
        "colab": {
          "base_uri": "https://localhost:8080/"
        },
        "id": "l3e_YF3eqs1_",
        "outputId": "bcd8f411-3b59-48ca-bb7c-15447a609928"
      },
      "source": [
        "is_this_P(10)"
      ],
      "execution_count": 128,
      "outputs": [
        {
          "output_type": "execute_result",
          "data": {
            "text/plain": [
              "[True, True, True, True, False, True, False, True, False, False, False]"
            ]
          },
          "metadata": {},
          "execution_count": 128
        }
      ]
    },
    {
      "cell_type": "code",
      "metadata": {
        "id": "CORHpRE8qhF_"
      },
      "source": [
        "def is_prime_num(n):\n",
        "    arr = [True] * (n + 1) # 특정 수가 지워졌는지 아닌지 확인하기 위한 배열\n",
        "\n",
        "    for i in range(2, n + 1):\n",
        "        if arr[i] == True: # 특정 수가 지워지지 않았다면 (소수여서)\n",
        "            j = 2\n",
        "\n",
        "            while (i * j) <= n:\n",
        "                arr[i*j] = False # i의 배수의 값을 False로 지워준다.\n",
        "                j += 1\n",
        "\n",
        "    return arr"
      ],
      "execution_count": 119,
      "outputs": []
    },
    {
      "cell_type": "code",
      "metadata": {
        "colab": {
          "base_uri": "https://localhost:8080/"
        },
        "id": "VuVVLl_tqrGj",
        "outputId": "64cea0a6-3559-4a01-a3de-14f8aa0e98f3"
      },
      "source": [
        "import math\n",
        "\n",
        "# 소수 판별 함수(에라토스테네스의 체)\n",
        "def is_prime_number(n):\n",
        "# 2부터 n까지의 모든 수에 대하여 소수 판별\n",
        "    array = [True for i in range(n+1)] # 처음엔 모든 수가 소수(True)인 것으로 초기화(0과 1은 제외)\n",
        "\n",
        "# 에라토스테네스의 체\n",
        "    for i in range(2, int(math.sqrt(n)) + 1): #2부터 n의 제곱근까지의 모든 수를 확인하며\n",
        "        if array[i] == True: # i가 소수인 경우(남은 수인 경우)\n",
        "            # i를 제외한 i의 모든 배수를 지우기\n",
        "            j = 2\n",
        "            while i * j <= n:\n",
        "                array[i * j] = False\n",
        "                j += 1\n",
        "\n",
        "    return [ i for i in range(2, n+1) if array[i] ]\n",
        "\n",
        "# N이 1,000,000 이내로 주어지는 경우 활용할 것 => 이론상 400만번 정도 연산이고 메모리도 충분함\n",
        "\n",
        "print(is_prime_number(26))"
      ],
      "execution_count": 131,
      "outputs": [
        {
          "output_type": "stream",
          "name": "stdout",
          "text": [
            "[2, 3, 5, 7, 11, 13, 17, 19, 23]\n"
          ]
        }
      ]
    },
    {
      "cell_type": "code",
      "metadata": {
        "colab": {
          "base_uri": "https://localhost:8080/"
        },
        "id": "OMDLhyvrrM5Y",
        "outputId": "77f3f70e-d14e-455f-c7e1-f0611f2c8b7e"
      },
      "source": [
        "a = 5\n",
        "b=0\n",
        "for i in range(2,a):\n",
        "    if a%i ==0:\n",
        "        b=1\n",
        "if b == 0:\n",
        "    print(a)\n",
        "else:\n",
        "    print(b)\n",
        "\n"
      ],
      "execution_count": 139,
      "outputs": [
        {
          "output_type": "stream",
          "name": "stdout",
          "text": [
            "5\n"
          ]
        }
      ]
    },
    {
      "cell_type": "code",
      "metadata": {
        "id": "to9PvFzor1NR"
      },
      "source": [
        "def is_this_P(N):\n",
        "        b = 0\n",
        "        for i in range(2,N):\n",
        "            if N%1 == 0:\n",
        "                b = 1\n",
        "        if b == 0:\n",
        "            \n",
        "        else:\n",
        "            0"
      ],
      "execution_count": 140,
      "outputs": []
    },
    {
      "cell_type": "code",
      "metadata": {
        "id": "LIjfhfxvsRkG"
      },
      "source": [
        "is_this_P(5)"
      ],
      "execution_count": 141,
      "outputs": []
    },
    {
      "cell_type": "code",
      "metadata": {
        "id": "Cv3xE8MNtELt"
      },
      "source": [
        "n = 437674\n",
        "k = 3"
      ],
      "execution_count": 144,
      "outputs": []
    },
    {
      "cell_type": "code",
      "metadata": {
        "id": "SV4kiXwouMpy"
      },
      "source": [
        "def make_Jinsu(i,j):\n",
        "    T ='0123456789ABCDEF'\n",
        "    q,r = divmod(i, j)\n",
        "    if q == 0:\n",
        "        return T[r]\n",
        "    else:\n",
        "        return make_Jinsu(q,j) + T[r]"
      ],
      "execution_count": 157,
      "outputs": []
    },
    {
      "cell_type": "code",
      "metadata": {
        "id": "0Gy0rDsGuOQX"
      },
      "source": [
        "def is_this_P(n):\n",
        "    b = 0\n",
        "    yes_P = 0\n",
        "    for k in range(2,n):\n",
        "        if n%k == 0:\n",
        "            b = 1\n",
        "    if b == 0:\n",
        "        result2 += 1\n",
        "    else:\n",
        "        result2 += 0"
      ],
      "execution_count": 165,
      "outputs": []
    },
    {
      "cell_type": "code",
      "metadata": {
        "id": "z0y_HdjRuO9Z"
      },
      "source": [
        "jinsu = make_Jinsu(n,k).split('0')\n",
        "result2 = 0"
      ],
      "execution_count": 166,
      "outputs": []
    },
    {
      "cell_type": "code",
      "metadata": {
        "id": "pCL1Z3oTuRJQ"
      },
      "source": [
        "def solution(n, k):\n",
        "    def make_Jinsu(i,j):\n",
        "        T ='0123456789ABCDEF'\n",
        "        q,r = divmod(i, j)\n",
        "        if q == 0:\n",
        "            return T[r]\n",
        "        else:\n",
        "            return make_Jinsu(q,j) + T[r]\n",
        "    jinsu= make_Jinsu(n,k).split('0')\n",
        "    result = 0\n",
        "    def is_this_P(N):\n",
        "        b = 0\n",
        "        yes_P = 0\n",
        "        if N == 1:\n",
        "            b = 1\n",
        "        for i in range(2,N):\n",
        "            if N%i == 0:\n",
        "                b = 1\n",
        "        if b == 0:\n",
        "            yes_P += 1\n",
        "        else:\n",
        "            yes_P += 0\n",
        "        return yes_P\n",
        "            \n",
        "    for i in range(len(jinsu)):\n",
        "        result = result + is_this_P(int(jinsu[i]))\n",
        "    \n",
        "    return result"
      ],
      "execution_count": 174,
      "outputs": []
    },
    {
      "cell_type": "code",
      "metadata": {
        "id": "2t9wXZM1v0JG"
      },
      "source": [
        "def solution(n, k):\n",
        "    def make_Jinsu(i,j):\n",
        "        T ='0123456789ABCDEF'\n",
        "        q,r = divmod(i, j)\n",
        "        if q == 0:\n",
        "            return T[r]\n",
        "        else:\n",
        "            return make_Jinsu(q,j) + T[r]\n",
        "    jinsu= make_Jinsu(n,k).split('0')\n",
        "    result = 0\n",
        "    def is_this_P(N):\n",
        "        b = 0\n",
        "        yes_P = 0\n",
        "        if N == 1:\n",
        "            b = 1\n",
        "        for i in range(2,N):\n",
        "            if N%i == 0:\n",
        "                b = 1\n",
        "        if b == 0:\n",
        "            yes_P += 1\n",
        "        else:\n",
        "            yes_P += 0\n",
        "        return yes_P\n",
        "            \n",
        "    for i in range(len(jinsu)):\n",
        "        result = result + is_this_P(int(jinsu[i]))\n",
        "    \n",
        "    return result"
      ],
      "execution_count": 176,
      "outputs": []
    },
    {
      "cell_type": "code",
      "metadata": {
        "colab": {
          "base_uri": "https://localhost:8080/"
        },
        "id": "0VXsIkxWu5r4",
        "outputId": "cbd5067f-c2ed-459c-ad1c-2ecddc0c5690"
      },
      "source": [
        "solution(437674,3)"
      ],
      "execution_count": 177,
      "outputs": [
        {
          "output_type": "execute_result",
          "data": {
            "text/plain": [
              "3"
            ]
          },
          "metadata": {},
          "execution_count": 177
        }
      ]
    },
    {
      "cell_type": "code",
      "metadata": {
        "id": "qG1jOi-NwANM"
      },
      "source": [
        "def make_Jinsu(i,j):\n",
        "        T ='0123456789ABCDEF'\n",
        "        q,r = divmod(i, j)\n",
        "        if q == 0:\n",
        "            return T[r]\n",
        "        else:\n",
        "            return make_Jinsu(q,j) + T[r]"
      ],
      "execution_count": 180,
      "outputs": []
    },
    {
      "cell_type": "code",
      "metadata": {
        "id": "Bt4eiQ88wbqc"
      },
      "source": [
        "sample_list = ' '.join(sample_list).split()"
      ],
      "execution_count": null,
      "outputs": []
    },
    {
      "cell_type": "code",
      "metadata": {
        "colab": {
          "base_uri": "https://localhost:8080/"
        },
        "id": "fbtK0GyqwqMg",
        "outputId": "c36c8624-852e-4abc-bfa8-356b331a18f8"
      },
      "source": [
        "' '.join(make_Jinsu(110011,10).split('0')).split()"
      ],
      "execution_count": 185,
      "outputs": [
        {
          "output_type": "execute_result",
          "data": {
            "text/plain": [
              "['11', '11']"
            ]
          },
          "metadata": {},
          "execution_count": 185
        }
      ]
    },
    {
      "cell_type": "code",
      "metadata": {
        "colab": {
          "base_uri": "https://localhost:8080/"
        },
        "id": "33XH3_x4wDLX",
        "outputId": "3ccf9127-2820-4b5e-92cd-9eb9965169b4"
      },
      "source": [
        "' '.join(make_Jinsu(110011,10).split('0')).split()"
      ],
      "execution_count": 184,
      "outputs": [
        {
          "output_type": "execute_result",
          "data": {
            "text/plain": [
              "['11', '11']"
            ]
          },
          "metadata": {},
          "execution_count": 184
        }
      ]
    },
    {
      "cell_type": "code",
      "metadata": {
        "colab": {
          "base_uri": "https://localhost:8080/",
          "height": 283
        },
        "id": "L3029wlbv2t4",
        "outputId": "d2c5ab11-973d-48ea-ef72-408feb263ae2"
      },
      "source": [
        "solution(110011,10)"
      ],
      "execution_count": 178,
      "outputs": [
        {
          "output_type": "error",
          "ename": "ValueError",
          "evalue": "ignored",
          "traceback": [
            "\u001b[0;31m---------------------------------------------------------------------------\u001b[0m",
            "\u001b[0;31mValueError\u001b[0m                                Traceback (most recent call last)",
            "\u001b[0;32m<ipython-input-178-c294768847e8>\u001b[0m in \u001b[0;36m<module>\u001b[0;34m()\u001b[0m\n\u001b[0;32m----> 1\u001b[0;31m \u001b[0msolution\u001b[0m\u001b[0;34m(\u001b[0m\u001b[0;36m110011\u001b[0m\u001b[0;34m,\u001b[0m\u001b[0;36m10\u001b[0m\u001b[0;34m)\u001b[0m\u001b[0;34m\u001b[0m\u001b[0;34m\u001b[0m\u001b[0m\n\u001b[0m",
            "\u001b[0;32m<ipython-input-176-1a383fff279a>\u001b[0m in \u001b[0;36msolution\u001b[0;34m(n, k)\u001b[0m\n\u001b[1;32m     24\u001b[0m \u001b[0;34m\u001b[0m\u001b[0m\n\u001b[1;32m     25\u001b[0m     \u001b[0;32mfor\u001b[0m \u001b[0mi\u001b[0m \u001b[0;32min\u001b[0m \u001b[0mrange\u001b[0m\u001b[0;34m(\u001b[0m\u001b[0mlen\u001b[0m\u001b[0;34m(\u001b[0m\u001b[0mjinsu\u001b[0m\u001b[0;34m)\u001b[0m\u001b[0;34m)\u001b[0m\u001b[0;34m:\u001b[0m\u001b[0;34m\u001b[0m\u001b[0;34m\u001b[0m\u001b[0m\n\u001b[0;32m---> 26\u001b[0;31m         \u001b[0mresult\u001b[0m \u001b[0;34m=\u001b[0m \u001b[0mresult\u001b[0m \u001b[0;34m+\u001b[0m \u001b[0mis_this_P\u001b[0m\u001b[0;34m(\u001b[0m\u001b[0mint\u001b[0m\u001b[0;34m(\u001b[0m\u001b[0mjinsu\u001b[0m\u001b[0;34m[\u001b[0m\u001b[0mi\u001b[0m\u001b[0;34m]\u001b[0m\u001b[0;34m)\u001b[0m\u001b[0;34m)\u001b[0m\u001b[0;34m\u001b[0m\u001b[0;34m\u001b[0m\u001b[0m\n\u001b[0m\u001b[1;32m     27\u001b[0m \u001b[0;34m\u001b[0m\u001b[0m\n\u001b[1;32m     28\u001b[0m     \u001b[0;32mreturn\u001b[0m \u001b[0mresult\u001b[0m\u001b[0;34m\u001b[0m\u001b[0;34m\u001b[0m\u001b[0m\n",
            "\u001b[0;31mValueError\u001b[0m: invalid literal for int() with base 10: ''"
          ]
        }
      ]
    },
    {
      "cell_type": "code",
      "metadata": {
        "colab": {
          "base_uri": "https://localhost:8080/",
          "height": 317
        },
        "id": "Q--xUwE-sUsH",
        "outputId": "46de7239-a570-40c1-8797-cb8470fad3b3"
      },
      "source": [
        "def make_Jinsu(i,j):\n",
        "    T ='0123456789ABCDEF'\n",
        "    q,r = divmod(i, j)\n",
        "    if q == 0:\n",
        "        return T[r]\n",
        "    else:\n",
        "        return make_Jinsu(q,j) + T[r]\n",
        "def is_this_P(n):\n",
        "    b = 0\n",
        "    for k in range(2,n):\n",
        "        if n%k == 0:\n",
        "            b = 1\n",
        "    if b == 0:\n",
        "        result += 1\n",
        "    else:\n",
        "        result += 0\n",
        "jinsu = make_Jinsu(n,k).split('0')\n",
        "result = 0\n",
        "        \n",
        "for i in range(len(jinsu)):\n",
        "    is_this_P(jinsu[i])\n"
      ],
      "execution_count": 156,
      "outputs": [
        {
          "output_type": "error",
          "ename": "TypeError",
          "evalue": "ignored",
          "traceback": [
            "\u001b[0;31m---------------------------------------------------------------------------\u001b[0m",
            "\u001b[0;31mTypeError\u001b[0m                                 Traceback (most recent call last)",
            "\u001b[0;32m<ipython-input-156-217fed72062a>\u001b[0m in \u001b[0;36m<module>\u001b[0;34m()\u001b[0m\n\u001b[1;32m     19\u001b[0m \u001b[0;34m\u001b[0m\u001b[0m\n\u001b[1;32m     20\u001b[0m \u001b[0;32mfor\u001b[0m \u001b[0mi\u001b[0m \u001b[0;32min\u001b[0m \u001b[0mrange\u001b[0m\u001b[0;34m(\u001b[0m\u001b[0mlen\u001b[0m\u001b[0;34m(\u001b[0m\u001b[0mjinsu\u001b[0m\u001b[0;34m)\u001b[0m\u001b[0;34m)\u001b[0m\u001b[0;34m:\u001b[0m\u001b[0;34m\u001b[0m\u001b[0;34m\u001b[0m\u001b[0m\n\u001b[0;32m---> 21\u001b[0;31m     \u001b[0mis_this_P\u001b[0m\u001b[0;34m(\u001b[0m\u001b[0mjinsu\u001b[0m\u001b[0;34m[\u001b[0m\u001b[0mi\u001b[0m\u001b[0;34m]\u001b[0m\u001b[0;34m)\u001b[0m\u001b[0;34m\u001b[0m\u001b[0;34m\u001b[0m\u001b[0m\n\u001b[0m",
            "\u001b[0;32m<ipython-input-156-217fed72062a>\u001b[0m in \u001b[0;36mis_this_P\u001b[0;34m(n)\u001b[0m\n\u001b[1;32m      8\u001b[0m \u001b[0;32mdef\u001b[0m \u001b[0mis_this_P\u001b[0m\u001b[0;34m(\u001b[0m\u001b[0mn\u001b[0m\u001b[0;34m)\u001b[0m\u001b[0;34m:\u001b[0m\u001b[0;34m\u001b[0m\u001b[0;34m\u001b[0m\u001b[0m\n\u001b[1;32m      9\u001b[0m     \u001b[0mb\u001b[0m \u001b[0;34m=\u001b[0m \u001b[0;36m0\u001b[0m\u001b[0;34m\u001b[0m\u001b[0;34m\u001b[0m\u001b[0m\n\u001b[0;32m---> 10\u001b[0;31m     \u001b[0;32mfor\u001b[0m \u001b[0mk\u001b[0m \u001b[0;32min\u001b[0m \u001b[0mrange\u001b[0m\u001b[0;34m(\u001b[0m\u001b[0;36m2\u001b[0m\u001b[0;34m,\u001b[0m\u001b[0mn\u001b[0m\u001b[0;34m)\u001b[0m\u001b[0;34m:\u001b[0m\u001b[0;34m\u001b[0m\u001b[0;34m\u001b[0m\u001b[0m\n\u001b[0m\u001b[1;32m     11\u001b[0m         \u001b[0;32mif\u001b[0m \u001b[0mnum\u001b[0m\u001b[0;34m%\u001b[0m\u001b[0mk\u001b[0m \u001b[0;34m==\u001b[0m \u001b[0;36m0\u001b[0m\u001b[0;34m:\u001b[0m\u001b[0;34m\u001b[0m\u001b[0;34m\u001b[0m\u001b[0m\n\u001b[1;32m     12\u001b[0m             \u001b[0mb\u001b[0m \u001b[0;34m=\u001b[0m \u001b[0;36m1\u001b[0m\u001b[0;34m\u001b[0m\u001b[0;34m\u001b[0m\u001b[0m\n",
            "\u001b[0;31mTypeError\u001b[0m: 'str' object cannot be interpreted as an integer"
          ]
        }
      ]
    },
    {
      "cell_type": "code",
      "metadata": {
        "id": "eO0fUUL4tD36"
      },
      "source": [
        "def is_this_P(num):\n",
        "    b = 0\n",
        "    for i in range(2,num):\n",
        "        if num%1 == 0:\n",
        "            b = 1\n",
        "    if b == 0:\n",
        "        result += 1\n",
        "    else:\n",
        "        result += 0"
      ],
      "execution_count": 149,
      "outputs": []
    },
    {
      "cell_type": "markdown",
      "metadata": {
        "id": "nrZuPzlixdkv"
      },
      "source": [
        "##2"
      ]
    },
    {
      "cell_type": "code",
      "metadata": {
        "id": "FXmEE3apthVE"
      },
      "source": [
        "def solution(n, k):\n",
        "    def make_Jinsu(i,j):\n",
        "        T ='0123456789ABCDEF'\n",
        "        q,r = divmod(i, j)\n",
        "        if q == 0:\n",
        "            return T[r]\n",
        "        else:\n",
        "            return make_Jinsu(q,j) + T[r]\n",
        "    def is_this_P(N):\n",
        "        b = 0\n",
        "        yes_P = 0\n",
        "        if N == 1:\n",
        "            b = 1\n",
        "        for i in range(2,N):\n",
        "            if N%i == 0:\n",
        "                b = 1\n",
        "        if b == 0:\n",
        "            yes_P += 1\n",
        "        else:\n",
        "            yes_P += 0\n",
        "        return yes_P\n",
        "    jinsu= ' '.join(make_Jinsu(n,k).split('0')).split()\n",
        "    result = 0            \n",
        "    for i in range(len(jinsu)):\n",
        "        result = result + is_this_P(int(jinsu[i]))\n",
        "    \n",
        "    return result"
      ],
      "execution_count": 186,
      "outputs": []
    },
    {
      "cell_type": "code",
      "metadata": {
        "colab": {
          "base_uri": "https://localhost:8080/",
          "height": 307
        },
        "id": "GzAhxG7-xfLY",
        "outputId": "4ee77676-6f7d-46a3-8b9e-a8b622688561"
      },
      "source": [
        "solution(21301283214098,8)"
      ],
      "execution_count": 191,
      "outputs": [
        {
          "output_type": "error",
          "ename": "KeyboardInterrupt",
          "evalue": "ignored",
          "traceback": [
            "\u001b[0;31m---------------------------------------------------------------------------\u001b[0m",
            "\u001b[0;31mKeyboardInterrupt\u001b[0m                         Traceback (most recent call last)",
            "\u001b[0;32m<ipython-input-191-a170e19bb2a2>\u001b[0m in \u001b[0;36m<module>\u001b[0;34m()\u001b[0m\n\u001b[0;32m----> 1\u001b[0;31m \u001b[0msolution\u001b[0m\u001b[0;34m(\u001b[0m\u001b[0;36m21301283214098\u001b[0m\u001b[0;34m,\u001b[0m\u001b[0;36m8\u001b[0m\u001b[0;34m)\u001b[0m\u001b[0;34m\u001b[0m\u001b[0;34m\u001b[0m\u001b[0m\n\u001b[0m",
            "\u001b[0;32m<ipython-input-186-83df5a968970>\u001b[0m in \u001b[0;36msolution\u001b[0;34m(n, k)\u001b[0m\n\u001b[1;32m     23\u001b[0m     \u001b[0mresult\u001b[0m \u001b[0;34m=\u001b[0m \u001b[0;36m0\u001b[0m\u001b[0;34m\u001b[0m\u001b[0;34m\u001b[0m\u001b[0m\n\u001b[1;32m     24\u001b[0m     \u001b[0;32mfor\u001b[0m \u001b[0mi\u001b[0m \u001b[0;32min\u001b[0m \u001b[0mrange\u001b[0m\u001b[0;34m(\u001b[0m\u001b[0mlen\u001b[0m\u001b[0;34m(\u001b[0m\u001b[0mjinsu\u001b[0m\u001b[0;34m)\u001b[0m\u001b[0;34m)\u001b[0m\u001b[0;34m:\u001b[0m\u001b[0;34m\u001b[0m\u001b[0;34m\u001b[0m\u001b[0m\n\u001b[0;32m---> 25\u001b[0;31m         \u001b[0mresult\u001b[0m \u001b[0;34m=\u001b[0m \u001b[0mresult\u001b[0m \u001b[0;34m+\u001b[0m \u001b[0mis_this_P\u001b[0m\u001b[0;34m(\u001b[0m\u001b[0mint\u001b[0m\u001b[0;34m(\u001b[0m\u001b[0mjinsu\u001b[0m\u001b[0;34m[\u001b[0m\u001b[0mi\u001b[0m\u001b[0;34m]\u001b[0m\u001b[0;34m)\u001b[0m\u001b[0;34m)\u001b[0m\u001b[0;34m\u001b[0m\u001b[0;34m\u001b[0m\u001b[0m\n\u001b[0m\u001b[1;32m     26\u001b[0m \u001b[0;34m\u001b[0m\u001b[0m\n\u001b[1;32m     27\u001b[0m     \u001b[0;32mreturn\u001b[0m \u001b[0mresult\u001b[0m\u001b[0;34m\u001b[0m\u001b[0;34m\u001b[0m\u001b[0m\n",
            "\u001b[0;32m<ipython-input-186-83df5a968970>\u001b[0m in \u001b[0;36mis_this_P\u001b[0;34m(N)\u001b[0m\n\u001b[1;32m     13\u001b[0m             \u001b[0mb\u001b[0m \u001b[0;34m=\u001b[0m \u001b[0;36m1\u001b[0m\u001b[0;34m\u001b[0m\u001b[0;34m\u001b[0m\u001b[0m\n\u001b[1;32m     14\u001b[0m         \u001b[0;32mfor\u001b[0m \u001b[0mi\u001b[0m \u001b[0;32min\u001b[0m \u001b[0mrange\u001b[0m\u001b[0;34m(\u001b[0m\u001b[0;36m2\u001b[0m\u001b[0;34m,\u001b[0m\u001b[0mN\u001b[0m\u001b[0;34m)\u001b[0m\u001b[0;34m:\u001b[0m\u001b[0;34m\u001b[0m\u001b[0;34m\u001b[0m\u001b[0m\n\u001b[0;32m---> 15\u001b[0;31m             \u001b[0;32mif\u001b[0m \u001b[0mN\u001b[0m\u001b[0;34m%\u001b[0m\u001b[0mi\u001b[0m \u001b[0;34m==\u001b[0m \u001b[0;36m0\u001b[0m\u001b[0;34m:\u001b[0m\u001b[0;34m\u001b[0m\u001b[0;34m\u001b[0m\u001b[0m\n\u001b[0m\u001b[1;32m     16\u001b[0m                 \u001b[0mb\u001b[0m \u001b[0;34m=\u001b[0m \u001b[0;36m1\u001b[0m\u001b[0;34m\u001b[0m\u001b[0;34m\u001b[0m\u001b[0m\n\u001b[1;32m     17\u001b[0m         \u001b[0;32mif\u001b[0m \u001b[0mb\u001b[0m \u001b[0;34m==\u001b[0m \u001b[0;36m0\u001b[0m\u001b[0;34m:\u001b[0m\u001b[0;34m\u001b[0m\u001b[0;34m\u001b[0m\u001b[0m\n",
            "\u001b[0;31mKeyboardInterrupt\u001b[0m: "
          ]
        }
      ]
    },
    {
      "cell_type": "code",
      "metadata": {
        "id": "EuIAOp2Xxi2y"
      },
      "source": [
        "records = [\"05:34 5961 IN\", \"06:00 0000 IN\", \"06:34 0000 OUT\", \"07:59 5961 OUT\", \"07:59 0148 IN\", \"18:59 0000 IN\", \"19:09 0148 OUT\", \"22:59 5961 IN\", \"23:00 5961 OUT\"]"
      ],
      "execution_count": 199,
      "outputs": []
    },
    {
      "cell_type": "code",
      "metadata": {
        "colab": {
          "base_uri": "https://localhost:8080/",
          "height": 37
        },
        "id": "czbCOiYM1EyV",
        "outputId": "08c90e9c-185f-4841-df65-c5d316080771"
      },
      "source": [
        "a[0].split()[1]"
      ],
      "execution_count": 197,
      "outputs": [
        {
          "output_type": "execute_result",
          "data": {
            "application/vnd.google.colaboratory.intrinsic+json": {
              "type": "string"
            },
            "text/plain": [
              "'5961'"
            ]
          },
          "metadata": {},
          "execution_count": 197
        }
      ]
    },
    {
      "cell_type": "code",
      "metadata": {
        "colab": {
          "base_uri": "https://localhost:8080/"
        },
        "id": "s204Q1I81I62",
        "outputId": "0fe77717-4d71-4f73-ce57-61bdb5eaeb1d"
      },
      "source": [
        "HI_car = []\n",
        "IN_time = []\n",
        "for i in range(len(records)):\n",
        "    record = records[i].split()\n",
        "    if record[2] == 'IN':\n",
        "        HI_car.append(record[1])\n",
        "        IN_time.append(record[0])\n",
        "        print(HI_car)\n",
        "        print(IN_time)\n",
        "    else:\n",
        "        print(IN_time[HI_car.index(record[1])])"
      ],
      "execution_count": 203,
      "outputs": [
        {
          "output_type": "stream",
          "name": "stdout",
          "text": [
            "['5961']\n",
            "['05:34']\n",
            "['5961', '0000']\n",
            "['05:34', '06:00']\n",
            "06:00\n",
            "05:34\n",
            "['5961', '0000', '0148']\n",
            "['05:34', '06:00', '07:59']\n",
            "['5961', '0000', '0148', '0000']\n",
            "['05:34', '06:00', '07:59', '18:59']\n",
            "07:59\n",
            "['5961', '0000', '0148', '0000', '5961']\n",
            "['05:34', '06:00', '07:59', '18:59', '22:59']\n",
            "05:34\n"
          ]
        }
      ]
    },
    {
      "cell_type": "code",
      "metadata": {
        "id": "IGztf5yL2rbI"
      },
      "source": [
        "record = records[0].split()"
      ],
      "execution_count": 204,
      "outputs": []
    },
    {
      "cell_type": "code",
      "metadata": {
        "colab": {
          "base_uri": "https://localhost:8080/",
          "height": 164
        },
        "id": "irTpwsYG3RnO",
        "outputId": "92ba6219-edaf-4049-a9b0-a7683c205506"
      },
      "source": [
        "record[0] - record[1]"
      ],
      "execution_count": 211,
      "outputs": [
        {
          "output_type": "error",
          "ename": "TypeError",
          "evalue": "ignored",
          "traceback": [
            "\u001b[0;31m---------------------------------------------------------------------------\u001b[0m",
            "\u001b[0;31mTypeError\u001b[0m                                 Traceback (most recent call last)",
            "\u001b[0;32m<ipython-input-211-a67c43d84885>\u001b[0m in \u001b[0;36m<module>\u001b[0;34m()\u001b[0m\n\u001b[0;32m----> 1\u001b[0;31m \u001b[0mrecord\u001b[0m\u001b[0;34m[\u001b[0m\u001b[0;36m0\u001b[0m\u001b[0;34m]\u001b[0m \u001b[0;34m-\u001b[0m \u001b[0mrecord\u001b[0m\u001b[0;34m[\u001b[0m\u001b[0;36m1\u001b[0m\u001b[0;34m]\u001b[0m\u001b[0;34m\u001b[0m\u001b[0;34m\u001b[0m\u001b[0m\n\u001b[0m",
            "\u001b[0;31mTypeError\u001b[0m: unsupported operand type(s) for -: 'str' and 'str'"
          ]
        }
      ]
    },
    {
      "cell_type": "code",
      "metadata": {
        "id": "9kF5aOwd38aK"
      },
      "source": [
        ""
      ],
      "execution_count": null,
      "outputs": []
    },
    {
      "cell_type": "code",
      "metadata": {
        "colab": {
          "base_uri": "https://localhost:8080/"
        },
        "id": "UFqMHiY33TJ6",
        "outputId": "f13ea420-1013-44c8-b198-edb18fb3feff"
      },
      "source": [
        "int(record[0].split(':')[0]) - 3"
      ],
      "execution_count": 208,
      "outputs": [
        {
          "output_type": "execute_result",
          "data": {
            "text/plain": [
              "2"
            ]
          },
          "metadata": {},
          "execution_count": 208
        }
      ]
    },
    {
      "cell_type": "code",
      "metadata": {
        "id": "DiuOHkN23Wdw"
      },
      "source": [
        ""
      ],
      "execution_count": null,
      "outputs": []
    }
  ]
}