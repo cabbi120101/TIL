{
 "cells": [
  {
   "cell_type": "markdown",
   "id": "7005e92c",
   "metadata": {},
   "source": [
    "# 효율 적인 코드짜기"
   ]
  },
  {
   "cell_type": "code",
   "execution_count": 1,
   "id": "a9f41d21",
   "metadata": {},
   "outputs": [],
   "source": [
    "# 큐 구현 예제\n",
    "from collections import deque"
   ]
  },
  {
   "cell_type": "code",
   "execution_count": 2,
   "id": "1033a3c9",
   "metadata": {},
   "outputs": [],
   "source": [
    "# 큐 구현을 위해 deque 라이브러리 사용\n",
    "queue = deque()"
   ]
  },
  {
   "cell_type": "code",
   "execution_count": 3,
   "id": "9f8ef1e1",
   "metadata": {},
   "outputs": [
    {
     "name": "stdout",
     "output_type": "stream",
     "text": [
      "deque([2, 3, 7, 4])\n",
      "deque([4, 7, 3, 2])\n"
     ]
    }
   ],
   "source": [
    "# 큐에 삽입 도중에 popleft는 왼쪽을 삭제 의미.\n",
    "#큐는 가장 공평한 자료구조\n",
    "queue.append(5)\n",
    "queue.append(2)\n",
    "queue.append(3)\n",
    "queue.append(7)\n",
    "queue.popleft()\n",
    "queue.append(4)\n",
    "print(queue) #먼저 들어온 순서대로 출력\n",
    "queue.reverse() #역순으로 바꾸기\n",
    "print(queue)"
   ]
  },
  {
   "cell_type": "code",
   "execution_count": 4,
   "id": "50b20005",
   "metadata": {},
   "outputs": [],
   "source": [
    "# 우선순위 큐 구현하는 법\n",
    "# 1. 단순히 리스트를 이용\n",
    "# 2. 힙(heap)을 이용하여 구현 (단순히 N개의 데이터를 힙에 넣었다가 모두 꺼내는 작업은 정렬과 동일하다.)"
   ]
  },
  {
   "cell_type": "markdown",
   "id": "30dde1d0",
   "metadata": {},
   "source": [
    "# 힙의 특징\n",
    "- 힙은 완전히 이진 트리 자료구조의 일종\n",
    "- 힙에서 항상 루트 노드(root node)를 제거 한다.\n",
    "- 최소 힙(min heap): 루트 노드가 가장 작은 값을 가진다. 값이 작은 데이터가 우선적으로 제거된다.\n",
    "- 최대 힙(mac heap): 루트 노드가 가장 큰 값을 가진다. 값이 큰 데이터가 우선적으로 제거 됨.\n"
   ]
  },
  {
   "cell_type": "markdown",
   "id": "8f151f9b",
   "metadata": {},
   "source": [
    "# 최소 힙 구성 함수 (Min-Heapify())\n",
    "- 새로운 원소가 삽입되었을 때 힙 성질을 유지하도록 할 수 있다.\n",
    "- 원소가 제거 되었을 대 힙 성질 유지, 원소를 제거할 때는 가장 마지막 노드가 루트 노드의 위치에 오도록 한다.\n"
   ]
  },
  {
   "cell_type": "code",
   "execution_count": 7,
   "id": "69f489cf",
   "metadata": {},
   "outputs": [],
   "source": [
    "# 우선순위 큐 라이브러리를 활용한 힙 정렬 구현 예제\n",
    "import sys\n",
    "import heapq\n",
    "input = sys.stdin.readline\n"
   ]
  },
  {
   "cell_type": "code",
   "execution_count": 9,
   "id": "f7d285b4",
   "metadata": {},
   "outputs": [
    {
     "ename": "ValueError",
     "evalue": "invalid literal for int() with base 10: ''",
     "output_type": "error",
     "traceback": [
      "\u001b[0;31m---------------------------------------------------------------------------\u001b[0m",
      "\u001b[0;31mValueError\u001b[0m                                Traceback (most recent call last)",
      "\u001b[0;32m<ipython-input-9-7bdd80748cfe>\u001b[0m in \u001b[0;36m<module>\u001b[0;34m\u001b[0m\n\u001b[1;32m     12\u001b[0m     \u001b[0;32mreturn\u001b[0m \u001b[0mresult\u001b[0m\u001b[0;34m\u001b[0m\u001b[0;34m\u001b[0m\u001b[0m\n\u001b[1;32m     13\u001b[0m \u001b[0;34m\u001b[0m\u001b[0m\n\u001b[0;32m---> 14\u001b[0;31m \u001b[0mn\u001b[0m \u001b[0;34m=\u001b[0m \u001b[0mint\u001b[0m\u001b[0;34m(\u001b[0m\u001b[0minput\u001b[0m\u001b[0;34m(\u001b[0m\u001b[0;34m)\u001b[0m\u001b[0;34m)\u001b[0m\u001b[0;34m\u001b[0m\u001b[0;34m\u001b[0m\u001b[0m\n\u001b[0m\u001b[1;32m     15\u001b[0m \u001b[0marr\u001b[0m \u001b[0;34m=\u001b[0m \u001b[0;34m[\u001b[0m\u001b[0;34m]\u001b[0m\u001b[0;34m\u001b[0m\u001b[0;34m\u001b[0m\u001b[0m\n\u001b[1;32m     16\u001b[0m \u001b[0;34m\u001b[0m\u001b[0m\n",
      "\u001b[0;31mValueError\u001b[0m: invalid literal for int() with base 10: ''"
     ]
    }
   ],
   "source": [
    "# 왜 invalid literal for int() with base 같은 value에러가 나는지 알아보기\n",
    "\n",
    "def heapsort(iterable):\n",
    "    h = []\n",
    "    result = []\n",
    "    #모든 원소를 차례대로 힙에 삽입\n",
    "    for value in iterable:\n",
    "        heapq.heappush(h, value)\n",
    "    #힙에 삽입된 모든 원소를 차례대로 꺼내어 담기\n",
    "    for i in range(len(h)):\n",
    "        result.append(heapq.heappop(h))\n",
    "    return result\n",
    "\n",
    "n = int(input())\n",
    "arr = []\n",
    "\n",
    "for i in range(n):\n",
    "    arr.append(int(input()))\n",
    "    \n",
    "    \n",
    "res = heapsort(arr)\n",
    "\n",
    "for i in range(n):\n",
    "    print(res[i])"
   ]
  },
  {
   "cell_type": "code",
   "execution_count": null,
   "id": "766e517b",
   "metadata": {},
   "outputs": [],
   "source": [
    "# 정렬 알고리즘 \n",
    "- 정렬(Sorting)이란 데이터를 특정한 기준에 따라 순서대로 나열하는 것\n"
   ]
  },
  {
   "cell_type": "markdown",
   "id": "f25cf6b0",
   "metadata": {},
   "source": [
    "## 이진탐색 떡볶이 문제"
   ]
  },
  {
   "cell_type": "code",
   "execution_count": 6,
   "id": "efc7e56a",
   "metadata": {},
   "outputs": [
    {
     "name": "stdout",
     "output_type": "stream",
     "text": [
      "4 6\n",
      "19 18 6\n",
      "15\n"
     ]
    }
   ],
   "source": [
    "n,m = list(map(int,input().split(' ')))\n",
    "array = list(map(int, input().split()))\n",
    "start = 0\n",
    "end = max(array)\n",
    "\n",
    "result = 0\n",
    "while(start <= end):\n",
    "    total = 0\n",
    "    mid = (start + end) // 2\n",
    "    for x in array:\n",
    "        if x > mid:\n",
    "            total += x - mid\n",
    "    if total < m:\n",
    "        end = mid - 1\n",
    "        \n",
    "    else:\n",
    "        result = mid\n",
    "        start = mid + 1\n",
    "        \n",
    "print(result)"
   ]
  },
  {
   "cell_type": "code",
   "execution_count": 1,
   "id": "c2b2a1e8",
   "metadata": {},
   "outputs": [],
   "source": [
    "## 구간 합 빠르게 계산하기"
   ]
  },
  {
   "cell_type": "code",
   "execution_count": 2,
   "id": "c2f62357",
   "metadata": {},
   "outputs": [
    {
     "output_type": "stream",
     "name": "stdout",
     "text": [
      "70\n"
     ]
    }
   ],
   "source": [
    "n = 5\n",
    "data = [10,20,30,40,50]\n",
    "\n",
    "sum_value = 0\n",
    "prefix_sum = [0]\n",
    "for i in data:\n",
    "    sum_value += i\n",
    "    prefix_sum.append(sum_value)\n",
    "\n",
    "left = 3\n",
    "right =4\n",
    "print(prefix_sum[right] - prefix_sum[left - 1])"
   ]
  },
  {
   "cell_type": "code",
   "execution_count": null,
   "id": "a503e5be",
   "metadata": {},
   "outputs": [],
   "source": []
  },
  {
   "cell_type": "code",
   "execution_count": 1,
   "id": "d2f5b19a",
   "metadata": {},
   "outputs": [],
   "source": [
    "## 특정합을 가지는 부분 연속 수열 찾기 문제"
   ]
  },
  {
   "cell_type": "code",
   "execution_count": 22,
   "id": "38fbe4f5",
   "metadata": {},
   "outputs": [
    {
     "output_type": "stream",
     "name": "stdout",
     "text": [
      "3\n"
     ]
    }
   ],
   "source": [
    "n = 5 # 데이터의 개수\n",
    "m = 5 # 찾고자 하는 부분합\n",
    "data = [1,2,3,2,5]\n",
    "\n",
    "count = 0\n",
    "interval_sum = 0\n",
    "end = 0\n",
    "\n",
    "for start in range(n):\n",
    "    while interval_sum < m and end < n:\n",
    "        interval_sum += data[end]\n",
    "        end += 1\n",
    "\n",
    "    if interval_sum == m:\n",
    "        count += 1\n",
    "    interval_sum -= data[start]\n",
    "\n",
    "print(count)\n"
   ]
  },
  {
   "cell_type": "code",
   "execution_count": null,
   "metadata": {},
   "outputs": [],
   "source": [
    "## 퀵정렬 소스코드: 파이썬의 장점을 살린 방식"
   ]
  },
  {
   "cell_type": "code",
   "execution_count": 2,
   "metadata": {},
   "outputs": [
    {
     "output_type": "stream",
     "name": "stdout",
     "text": [
      "[0, 1, 2, 3, 4, 5, 6, 7, 8, 9]\n"
     ]
    }
   ],
   "source": [
    "array = [5,7,9,0,3,1,6,2,4,8,]\n",
    "\n",
    "def quick_sort(array):\n",
    "    if len(array) <= 1:\n",
    "        return array\n",
    "    pivot = array[0]\n",
    "    tail = array[1:]\n",
    "\n",
    "    left_side = [x for x in tail if x<= pivot]\n",
    "    right_side = [x for x in tail if x > pivot]\n",
    "    return quick_sort(left_side) + [pivot] + quick_sort(right_side)\n",
    "\n",
    "print(quick_sort(array))"
   ]
  },
  {
   "cell_type": "code",
   "execution_count": null,
   "metadata": {},
   "outputs": [],
   "source": [
    "## 바이너리 인덱스 트리 구현"
   ]
  },
  {
   "cell_type": "code",
   "execution_count": 5,
   "metadata": {},
   "outputs": [],
   "source": [
    "import sys\n",
    "input = sys.stdin.readline"
   ]
  },
  {
   "cell_type": "code",
   "execution_count": 9,
   "metadata": {},
   "outputs": [
    {
     "output_type": "error",
     "ename": "ValueError",
     "evalue": "not enough values to unpack (expected 3, got 0)",
     "traceback": [
      "\u001b[0;31m---------------------------------------------------------------------------\u001b[0m",
      "\u001b[0;31mValueError\u001b[0m                                Traceback (most recent call last)",
      "\u001b[0;32m<ipython-input-9-875e2718d9a5>\u001b[0m in \u001b[0;36m<module>\u001b[0;34m\u001b[0m\n\u001b[1;32m      2\u001b[0m \u001b[0minput\u001b[0m \u001b[0;34m=\u001b[0m \u001b[0msys\u001b[0m\u001b[0;34m.\u001b[0m\u001b[0mstdin\u001b[0m\u001b[0;34m.\u001b[0m\u001b[0mreadline\u001b[0m\u001b[0;34m\u001b[0m\u001b[0;34m\u001b[0m\u001b[0m\n\u001b[1;32m      3\u001b[0m \u001b[0;31m# 데이터의 개수 n, 변경횟수m, 구간합 계산 횟수k\u001b[0m\u001b[0;34m\u001b[0m\u001b[0;34m\u001b[0m\u001b[0;34m\u001b[0m\u001b[0m\n\u001b[0;32m----> 4\u001b[0;31m \u001b[0mn\u001b[0m\u001b[0;34m,\u001b[0m \u001b[0mm\u001b[0m\u001b[0;34m,\u001b[0m \u001b[0mk\u001b[0m \u001b[0;34m=\u001b[0m \u001b[0mmap\u001b[0m\u001b[0;34m(\u001b[0m\u001b[0mint\u001b[0m\u001b[0;34m,\u001b[0m \u001b[0minput\u001b[0m\u001b[0;34m(\u001b[0m\u001b[0;34m)\u001b[0m\u001b[0;34m.\u001b[0m\u001b[0msplit\u001b[0m\u001b[0;34m(\u001b[0m\u001b[0;34m)\u001b[0m\u001b[0;34m)\u001b[0m\u001b[0;34m\u001b[0m\u001b[0;34m\u001b[0m\u001b[0m\n\u001b[0m\u001b[1;32m      5\u001b[0m \u001b[0;34m\u001b[0m\u001b[0m\n\u001b[1;32m      6\u001b[0m \u001b[0;34m\u001b[0m\u001b[0m\n",
      "\u001b[0;31mValueError\u001b[0m: not enough values to unpack (expected 3, got 0)"
     ]
    }
   ],
   "source": [
    "import sys\n",
    "input = sys.stdin.readline\n",
    "# 데이터의 개수 n, 변경횟수m, 구간합 계산 횟수k\n",
    "n, m, k = map(int, input().split())\n",
    "\n",
    "\n",
    "arr = [0] * (n + 1)\n",
    "tree = [0] * (n - 1)\n",
    "\n",
    "def prefix_sum(i): # i번째 수까지의 누적 합을 계산하는 함수\n",
    "    result = 0\n",
    "    while i > 0:\n",
    "        result += tree[i]\n",
    "        # 0이 아닌 마지막 비트만큼 빼가면서 이동\n",
    "        i -= (i & -i)\n",
    "    return result\n",
    "\n",
    "# i번째 수를 dif 만큼 더하는 함수\n",
    "def update(i, dif):\n",
    "    while i <= n:\n",
    "        tree[i] += dif\n",
    "        i += (i & -i)\n",
    "\n",
    "# start부터 end까지의 구간 합을 계산하는 함수\n",
    "def interval_sum(start, end):\n",
    "    return prefix_sum(end) - prefix_sum(start - 1)\n",
    "\n",
    "for i in range(1, n + 1):\n",
    "    x = int(input())\n",
    "    arr[i] = x\n",
    "    update(i,x)\n",
    "\n",
    "for i in range(m + k):\n",
    "    a, b, c = map(int, input().split())\n",
    "\n",
    "    if a == 1:\n",
    "        update(b, c - arr[b])\n",
    "        arr[b] = c\n",
    "    else:\n",
    "        print(interval_sum(b,c))\n",
    "    "
   ]
  },
  {
   "cell_type": "code",
   "execution_count": null,
   "metadata": {},
   "outputs": [],
   "source": [
    "## 동적문제 금광\n",
    "### 첫째줄에 테스트 케이스 T가 입력됩니다.(1<= T <= 1000)\n",
    "### 매 데스트 케이스 첫째 줄에 n과 m이 공백으로 구분되어 입력된다. (1<=n,m<=20)\n",
    "### 둘째 줄에 n X m개의 위치에 매장된 금의 개수가 공백으로 구분되어 입력된다 1이상 100이하의 수\n",
    "### 출력조건: 테스트 케이스마다 채굴자가 얻을 수 있는 금의 최대 크기를 출력한다. 각 테스트 케이스는 줄 바꿈을 이용해 구분한다."
   ]
  },
  {
   "cell_type": "code",
   "execution_count": 1,
   "metadata": {},
   "outputs": [
    {
     "output_type": "stream",
     "name": "stdout",
     "text": [
      "19\n",
      "14\n"
     ]
    }
   ],
   "source": [
    "for tc in range(int(input())):\n",
    "    n,m = map(int, input().split())\n",
    "    array = list(map(int, input().split()))\n",
    "    dp = []\n",
    "    index = 0\n",
    "    for i in range(n):\n",
    "        dp.append(array[index:index + m])\n",
    "        index += m\n",
    "    for j in range(1, m):\n",
    "        if i == 0: left_up = 0\n",
    "        else: left_up = dp[i - 1][j - 1]\n",
    "        if i == n -1: left_down = 0\n",
    "        else: left_down = dp[i+1][j-1]\n",
    "        left = dp[i][j-1]\n",
    "        dp[i][j] = dp[i][j] + max(left_up, left_down, left)\n",
    "    result = 0\n",
    "    for i in range(n):\n",
    "        result = max(result, dp[i][m-1])\n",
    "    print(result)\n",
    "    "
   ]
  },
  {
   "cell_type": "code",
   "execution_count": null,
   "metadata": {},
   "outputs": [],
   "source": []
  },
  {
   "cell_type": "code",
   "execution_count": null,
   "metadata": {},
   "outputs": [],
   "source": []
  },
  {
   "cell_type": "code",
   "execution_count": null,
   "metadata": {},
   "outputs": [],
   "source": []
  },
  {
   "cell_type": "code",
   "execution_count": null,
   "metadata": {},
   "outputs": [],
   "source": []
  }
 ],
 "metadata": {
  "kernelspec": {
   "name": "python3",
   "display_name": "Python 3.8.8 64-bit ('base': conda)"
  },
  "language_info": {
   "codemirror_mode": {
    "name": "ipython",
    "version": 3
   },
   "file_extension": ".py",
   "mimetype": "text/x-python",
   "name": "python",
   "nbconvert_exporter": "python",
   "pygments_lexer": "ipython3",
   "version": "3.8.8"
  },
  "interpreter": {
   "hash": "3c39010337157f8f9b76e5c92d27c4ef06e55d99063a013adb54dfd9093da596"
  }
 },
 "nbformat": 4,
 "nbformat_minor": 5
}