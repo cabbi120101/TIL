{
  "nbformat": 4,
  "nbformat_minor": 0,
  "metadata": {
    "colab": {
      "name": "코로나(시.도데이터 그래프).ipynb",
      "provenance": [],
      "collapsed_sections": [],
      "authorship_tag": "ABX9TyOqJOFFRym+628Fcw2T2DPu"
    },
    "kernelspec": {
      "name": "python3",
      "display_name": "Python 3"
    },
    "language_info": {
      "name": "python"
    }
  },
  "cells": [
    {
      "cell_type": "code",
      "metadata": {
        "id": "Qf76SmSrokFA"
      },
      "source": [
        "import numpy as np\n",
        "import pandas as pd\n",
        "from datetime import datetime"
      ],
      "execution_count": null,
      "outputs": []
    },
    {
      "cell_type": "code",
      "metadata": {
        "colab": {
          "base_uri": "https://localhost:8080/",
          "height": 419
        },
        "id": "XKz3Ize7pKiQ",
        "outputId": "5ba460a1-1b5b-4a7f-f67c-7fb05aeb88c2"
      },
      "source": [
        "# 데이터 불러오기\n",
        "data_file = '/content/data/코로나(시도 정리).csv'\n",
        "df = pd.read_csv(data_file)\n",
        "df"
      ],
      "execution_count": null,
      "outputs": [
        {
          "output_type": "execute_result",
          "data": {
            "text/html": [
              "<div>\n",
              "<style scoped>\n",
              "    .dataframe tbody tr th:only-of-type {\n",
              "        vertical-align: middle;\n",
              "    }\n",
              "\n",
              "    .dataframe tbody tr th {\n",
              "        vertical-align: top;\n",
              "    }\n",
              "\n",
              "    .dataframe thead th {\n",
              "        text-align: right;\n",
              "    }\n",
              "</style>\n",
              "<table border=\"1\" class=\"dataframe\">\n",
              "  <thead>\n",
              "    <tr style=\"text-align: right;\">\n",
              "      <th></th>\n",
              "      <th>확진자수</th>\n",
              "      <th>지역</th>\n",
              "      <th>전일대비증감수</th>\n",
              "      <th>지역발생수</th>\n",
              "      <th>10만명당발생률</th>\n",
              "      <th>기준일</th>\n",
              "    </tr>\n",
              "  </thead>\n",
              "  <tbody>\n",
              "    <tr>\n",
              "      <th>0</th>\n",
              "      <td>4378.0</td>\n",
              "      <td>검역</td>\n",
              "      <td>25</td>\n",
              "      <td>0.0</td>\n",
              "      <td>-</td>\n",
              "      <td>2021년 07월 05일 00시</td>\n",
              "    </tr>\n",
              "    <tr>\n",
              "      <th>1</th>\n",
              "      <td>1280.0</td>\n",
              "      <td>제주</td>\n",
              "      <td>6</td>\n",
              "      <td>5.0</td>\n",
              "      <td>190.83</td>\n",
              "      <td>2021년 07월 05일 00시</td>\n",
              "    </tr>\n",
              "    <tr>\n",
              "      <th>2</th>\n",
              "      <td>5317.0</td>\n",
              "      <td>경남</td>\n",
              "      <td>22</td>\n",
              "      <td>20.0</td>\n",
              "      <td>158.18</td>\n",
              "      <td>2021년 07월 05일 00시</td>\n",
              "    </tr>\n",
              "    <tr>\n",
              "      <th>3</th>\n",
              "      <td>4987.0</td>\n",
              "      <td>경북</td>\n",
              "      <td>13</td>\n",
              "      <td>10.0</td>\n",
              "      <td>187.30</td>\n",
              "      <td>2021년 07월 05일 00시</td>\n",
              "    </tr>\n",
              "    <tr>\n",
              "      <th>4</th>\n",
              "      <td>1670.0</td>\n",
              "      <td>전남</td>\n",
              "      <td>6</td>\n",
              "      <td>3.0</td>\n",
              "      <td>89.56</td>\n",
              "      <td>2021년 07월 05일 00시</td>\n",
              "    </tr>\n",
              "    <tr>\n",
              "      <th>...</th>\n",
              "      <td>...</td>\n",
              "      <td>...</td>\n",
              "      <td>...</td>\n",
              "      <td>...</td>\n",
              "      <td>...</td>\n",
              "      <td>...</td>\n",
              "    </tr>\n",
              "    <tr>\n",
              "      <th>8620</th>\n",
              "      <td>84.0</td>\n",
              "      <td>인천</td>\n",
              "      <td>0</td>\n",
              "      <td>0.0</td>\n",
              "      <td>2.84</td>\n",
              "      <td>2020년 4월 08일 00시</td>\n",
              "    </tr>\n",
              "    <tr>\n",
              "      <th>8621</th>\n",
              "      <td>6807.0</td>\n",
              "      <td>대구</td>\n",
              "      <td>4</td>\n",
              "      <td>4.0</td>\n",
              "      <td>279.38</td>\n",
              "      <td>2020년 4월 08일 00시</td>\n",
              "    </tr>\n",
              "    <tr>\n",
              "      <th>8622</th>\n",
              "      <td>125.0</td>\n",
              "      <td>부산</td>\n",
              "      <td>0</td>\n",
              "      <td>0.0</td>\n",
              "      <td>3.66</td>\n",
              "      <td>2020년 4월 08일 00시</td>\n",
              "    </tr>\n",
              "    <tr>\n",
              "      <th>8623</th>\n",
              "      <td>590.0</td>\n",
              "      <td>서울</td>\n",
              "      <td>12</td>\n",
              "      <td>5.0</td>\n",
              "      <td>6.06</td>\n",
              "      <td>2020년 4월 08일 00시</td>\n",
              "    </tr>\n",
              "    <tr>\n",
              "      <th>8624</th>\n",
              "      <td>10423.0</td>\n",
              "      <td>합계</td>\n",
              "      <td>39</td>\n",
              "      <td>16.0</td>\n",
              "      <td>20.10</td>\n",
              "      <td>2020년 4월 08일 00시</td>\n",
              "    </tr>\n",
              "  </tbody>\n",
              "</table>\n",
              "<p>8625 rows × 6 columns</p>\n",
              "</div>"
            ],
            "text/plain": [
              "         확진자수  지역  전일대비증감수  지역발생수 10만명당발생률                기준일\n",
              "0      4378.0  검역       25    0.0        -  2021년 07월 05일 00시\n",
              "1      1280.0  제주        6    5.0   190.83  2021년 07월 05일 00시\n",
              "2      5317.0  경남       22   20.0   158.18  2021년 07월 05일 00시\n",
              "3      4987.0  경북       13   10.0   187.30  2021년 07월 05일 00시\n",
              "4      1670.0  전남        6    3.0    89.56  2021년 07월 05일 00시\n",
              "...       ...  ..      ...    ...      ...                ...\n",
              "8620     84.0  인천        0    0.0     2.84   2020년 4월 08일 00시\n",
              "8621   6807.0  대구        4    4.0   279.38   2020년 4월 08일 00시\n",
              "8622    125.0  부산        0    0.0     3.66   2020년 4월 08일 00시\n",
              "8623    590.0  서울       12    5.0     6.06   2020년 4월 08일 00시\n",
              "8624  10423.0  합계       39   16.0    20.10   2020년 4월 08일 00시\n",
              "\n",
              "[8625 rows x 6 columns]"
            ]
          },
          "metadata": {
            "tags": []
          },
          "execution_count": 4
        }
      ]
    },
    {
      "cell_type": "code",
      "metadata": {
        "colab": {
          "base_uri": "https://localhost:8080/",
          "height": 204
        },
        "id": "MwkOJIORq-gd",
        "outputId": "65b3f128-a092-45e4-bd7f-0340fe978ff3"
      },
      "source": [
        "data = df.copy()\n",
        "data.head()"
      ],
      "execution_count": null,
      "outputs": [
        {
          "output_type": "execute_result",
          "data": {
            "text/html": [
              "<div>\n",
              "<style scoped>\n",
              "    .dataframe tbody tr th:only-of-type {\n",
              "        vertical-align: middle;\n",
              "    }\n",
              "\n",
              "    .dataframe tbody tr th {\n",
              "        vertical-align: top;\n",
              "    }\n",
              "\n",
              "    .dataframe thead th {\n",
              "        text-align: right;\n",
              "    }\n",
              "</style>\n",
              "<table border=\"1\" class=\"dataframe\">\n",
              "  <thead>\n",
              "    <tr style=\"text-align: right;\">\n",
              "      <th></th>\n",
              "      <th>확진자수</th>\n",
              "      <th>지역</th>\n",
              "      <th>전일대비증감수</th>\n",
              "      <th>지역발생수</th>\n",
              "      <th>10만명당발생률</th>\n",
              "      <th>기준일</th>\n",
              "    </tr>\n",
              "  </thead>\n",
              "  <tbody>\n",
              "    <tr>\n",
              "      <th>0</th>\n",
              "      <td>4378.0</td>\n",
              "      <td>검역</td>\n",
              "      <td>25</td>\n",
              "      <td>0.0</td>\n",
              "      <td>-</td>\n",
              "      <td>2021년 07월 05일 00시</td>\n",
              "    </tr>\n",
              "    <tr>\n",
              "      <th>1</th>\n",
              "      <td>1280.0</td>\n",
              "      <td>제주</td>\n",
              "      <td>6</td>\n",
              "      <td>5.0</td>\n",
              "      <td>190.83</td>\n",
              "      <td>2021년 07월 05일 00시</td>\n",
              "    </tr>\n",
              "    <tr>\n",
              "      <th>2</th>\n",
              "      <td>5317.0</td>\n",
              "      <td>경남</td>\n",
              "      <td>22</td>\n",
              "      <td>20.0</td>\n",
              "      <td>158.18</td>\n",
              "      <td>2021년 07월 05일 00시</td>\n",
              "    </tr>\n",
              "    <tr>\n",
              "      <th>3</th>\n",
              "      <td>4987.0</td>\n",
              "      <td>경북</td>\n",
              "      <td>13</td>\n",
              "      <td>10.0</td>\n",
              "      <td>187.30</td>\n",
              "      <td>2021년 07월 05일 00시</td>\n",
              "    </tr>\n",
              "    <tr>\n",
              "      <th>4</th>\n",
              "      <td>1670.0</td>\n",
              "      <td>전남</td>\n",
              "      <td>6</td>\n",
              "      <td>3.0</td>\n",
              "      <td>89.56</td>\n",
              "      <td>2021년 07월 05일 00시</td>\n",
              "    </tr>\n",
              "  </tbody>\n",
              "</table>\n",
              "</div>"
            ],
            "text/plain": [
              "     확진자수  지역  전일대비증감수  지역발생수 10만명당발생률                기준일\n",
              "0  4378.0  검역       25    0.0        -  2021년 07월 05일 00시\n",
              "1  1280.0  제주        6    5.0   190.83  2021년 07월 05일 00시\n",
              "2  5317.0  경남       22   20.0   158.18  2021년 07월 05일 00시\n",
              "3  4987.0  경북       13   10.0   187.30  2021년 07월 05일 00시\n",
              "4  1670.0  전남        6    3.0    89.56  2021년 07월 05일 00시"
            ]
          },
          "metadata": {
            "tags": []
          },
          "execution_count": 10
        }
      ]
    },
    {
      "cell_type": "code",
      "metadata": {
        "colab": {
          "base_uri": "https://localhost:8080/"
        },
        "id": "KvgyRGA_qh8k",
        "outputId": "589b60d9-a712-4eeb-e886-1d6fff888ebd"
      },
      "source": [
        "data.info()"
      ],
      "execution_count": null,
      "outputs": [
        {
          "output_type": "stream",
          "text": [
            "<class 'pandas.core.frame.DataFrame'>\n",
            "RangeIndex: 8625 entries, 0 to 8624\n",
            "Data columns (total 6 columns):\n",
            " #   Column    Non-Null Count  Dtype  \n",
            "---  ------    --------------  -----  \n",
            " 0   확진자수      8625 non-null   float64\n",
            " 1   지역        8625 non-null   object \n",
            " 2   전일대비증감수   8625 non-null   int64  \n",
            " 3   지역발생수     8625 non-null   float64\n",
            " 4   10만명당발생률  8625 non-null   object \n",
            " 5   기준일       8625 non-null   object \n",
            "dtypes: float64(2), int64(1), object(3)\n",
            "memory usage: 404.4+ KB\n"
          ],
          "name": "stdout"
        }
      ]
    },
    {
      "cell_type": "code",
      "metadata": {
        "id": "bsFTHqu5zIeI"
      },
      "source": [
        ""
      ],
      "execution_count": null,
      "outputs": []
    },
    {
      "cell_type": "code",
      "metadata": {
        "colab": {
          "base_uri": "https://localhost:8080/",
          "height": 419
        },
        "id": "YF97KVAEpdi6",
        "outputId": "dce24d3a-f8b7-4e32-d62d-89dd2f6fab8e"
      },
      "source": [
        "# 기준일 기준 내림차순 정렬\n",
        "data = data.sort_values('기준일', ascending=False).reset_index(drop=True)\n",
        "data"
      ],
      "execution_count": null,
      "outputs": [
        {
          "output_type": "execute_result",
          "data": {
            "text/html": [
              "<div>\n",
              "<style scoped>\n",
              "    .dataframe tbody tr th:only-of-type {\n",
              "        vertical-align: middle;\n",
              "    }\n",
              "\n",
              "    .dataframe tbody tr th {\n",
              "        vertical-align: top;\n",
              "    }\n",
              "\n",
              "    .dataframe thead th {\n",
              "        text-align: right;\n",
              "    }\n",
              "</style>\n",
              "<table border=\"1\" class=\"dataframe\">\n",
              "  <thead>\n",
              "    <tr style=\"text-align: right;\">\n",
              "      <th></th>\n",
              "      <th>확진자수</th>\n",
              "      <th>지역</th>\n",
              "      <th>전일대비증감수</th>\n",
              "      <th>지역발생수</th>\n",
              "      <th>10만명당발생률</th>\n",
              "      <th>기준일</th>\n",
              "    </tr>\n",
              "  </thead>\n",
              "  <tbody>\n",
              "    <tr>\n",
              "      <th>0</th>\n",
              "      <td>4378.0</td>\n",
              "      <td>검역</td>\n",
              "      <td>25</td>\n",
              "      <td>0.0</td>\n",
              "      <td>-</td>\n",
              "      <td>2021년 07월 05일 00시</td>\n",
              "    </tr>\n",
              "    <tr>\n",
              "      <th>1</th>\n",
              "      <td>6896.0</td>\n",
              "      <td>인천</td>\n",
              "      <td>22</td>\n",
              "      <td>16.0</td>\n",
              "      <td>233.28</td>\n",
              "      <td>2021년 07월 05일 00시</td>\n",
              "    </tr>\n",
              "    <tr>\n",
              "      <th>2</th>\n",
              "      <td>578.0</td>\n",
              "      <td>세종</td>\n",
              "      <td>4</td>\n",
              "      <td>4.0</td>\n",
              "      <td>168.84</td>\n",
              "      <td>2021년 07월 05일 00시</td>\n",
              "    </tr>\n",
              "    <tr>\n",
              "      <th>3</th>\n",
              "      <td>3328.0</td>\n",
              "      <td>충북</td>\n",
              "      <td>3</td>\n",
              "      <td>3.0</td>\n",
              "      <td>208.08</td>\n",
              "      <td>2021년 07월 05일 00시</td>\n",
              "    </tr>\n",
              "    <tr>\n",
              "      <th>4</th>\n",
              "      <td>3881.0</td>\n",
              "      <td>충남</td>\n",
              "      <td>12</td>\n",
              "      <td>10.0</td>\n",
              "      <td>182.85</td>\n",
              "      <td>2021년 07월 05일 00시</td>\n",
              "    </tr>\n",
              "    <tr>\n",
              "      <th>...</th>\n",
              "      <td>...</td>\n",
              "      <td>...</td>\n",
              "      <td>...</td>\n",
              "      <td>...</td>\n",
              "      <td>...</td>\n",
              "      <td>...</td>\n",
              "    </tr>\n",
              "    <tr>\n",
              "      <th>8620</th>\n",
              "      <td>17.0</td>\n",
              "      <td>전북</td>\n",
              "      <td>0</td>\n",
              "      <td>0.0</td>\n",
              "      <td>0.94</td>\n",
              "      <td>2020년 04월 10일 00시</td>\n",
              "    </tr>\n",
              "    <tr>\n",
              "      <th>8621</th>\n",
              "      <td>352.0</td>\n",
              "      <td>검역</td>\n",
              "      <td>4</td>\n",
              "      <td>0.0</td>\n",
              "      <td>-</td>\n",
              "      <td>2020년 04월 10일 00시</td>\n",
              "    </tr>\n",
              "    <tr>\n",
              "      <th>8622</th>\n",
              "      <td>15.0</td>\n",
              "      <td>전남</td>\n",
              "      <td>0</td>\n",
              "      <td>0.0</td>\n",
              "      <td>0.80</td>\n",
              "      <td>2020년 04월 10일 00시</td>\n",
              "    </tr>\n",
              "    <tr>\n",
              "      <th>8623</th>\n",
              "      <td>1327.0</td>\n",
              "      <td>경북</td>\n",
              "      <td>7</td>\n",
              "      <td>7.0</td>\n",
              "      <td>49.84</td>\n",
              "      <td>2020년 04월 10일 00시</td>\n",
              "    </tr>\n",
              "    <tr>\n",
              "      <th>8624</th>\n",
              "      <td>46.0</td>\n",
              "      <td>세종</td>\n",
              "      <td>0</td>\n",
              "      <td>0.0</td>\n",
              "      <td>13.44</td>\n",
              "      <td>2020년 04월 10일 00시</td>\n",
              "    </tr>\n",
              "  </tbody>\n",
              "</table>\n",
              "<p>8625 rows × 6 columns</p>\n",
              "</div>"
            ],
            "text/plain": [
              "        확진자수  지역  전일대비증감수  지역발생수 10만명당발생률                기준일\n",
              "0     4378.0  검역       25    0.0        -  2021년 07월 05일 00시\n",
              "1     6896.0  인천       22   16.0   233.28  2021년 07월 05일 00시\n",
              "2      578.0  세종        4    4.0   168.84  2021년 07월 05일 00시\n",
              "3     3328.0  충북        3    3.0   208.08  2021년 07월 05일 00시\n",
              "4     3881.0  충남       12   10.0   182.85  2021년 07월 05일 00시\n",
              "...      ...  ..      ...    ...      ...                ...\n",
              "8620    17.0  전북        0    0.0     0.94  2020년 04월 10일 00시\n",
              "8621   352.0  검역        4    0.0        -  2020년 04월 10일 00시\n",
              "8622    15.0  전남        0    0.0     0.80  2020년 04월 10일 00시\n",
              "8623  1327.0  경북        7    7.0    49.84  2020년 04월 10일 00시\n",
              "8624    46.0  세종        0    0.0    13.44  2020년 04월 10일 00시\n",
              "\n",
              "[8625 rows x 6 columns]"
            ]
          },
          "metadata": {
            "tags": []
          },
          "execution_count": 14
        }
      ]
    },
    {
      "cell_type": "code",
      "metadata": {
        "colab": {
          "base_uri": "https://localhost:8080/"
        },
        "id": "dGm8pw_OycF3",
        "outputId": "44614a5e-a745-4f06-944a-50f1ef242ef0"
      },
      "source": [
        "df['지역'].unique()"
      ],
      "execution_count": null,
      "outputs": [
        {
          "output_type": "execute_result",
          "data": {
            "text/plain": [
              "array(['검역', '인천', '세종', '충북', '충남', '경남', '전남', '강원', '전북', '경기', '경북',\n",
              "       '울산', '부산', '대전', '합계', '서울', '제주', '대구', '광주'], dtype=object)"
            ]
          },
          "metadata": {
            "tags": []
          },
          "execution_count": 21
        }
      ]
    },
    {
      "cell_type": "code",
      "metadata": {
        "id": "PulozA0CycrY"
      },
      "source": [
        "df = df[df['지역']!='합계' ].copy()\n",
        "df = df[df['지역']!='검역' ].copy()\n",
        "df['행정구역(시군구)별'].unique()"
      ],
      "execution_count": null,
      "outputs": []
    },
    {
      "cell_type": "code",
      "metadata": {
        "id": "u18dyJspycvN"
      },
      "source": [
        ""
      ],
      "execution_count": null,
      "outputs": []
    },
    {
      "cell_type": "code",
      "metadata": {
        "id": "caiGmaDHycy3"
      },
      "source": [
        ""
      ],
      "execution_count": null,
      "outputs": []
    },
    {
      "cell_type": "code",
      "metadata": {
        "id": "-hStIhjQyc2o"
      },
      "source": [
        ""
      ],
      "execution_count": null,
      "outputs": []
    },
    {
      "cell_type": "code",
      "metadata": {
        "id": "hb8NXWIZyc6M"
      },
      "source": [
        ""
      ],
      "execution_count": null,
      "outputs": []
    },
    {
      "cell_type": "code",
      "metadata": {
        "colab": {
          "base_uri": "https://localhost:8080/"
        },
        "id": "4R2p6mbOrGX1",
        "outputId": "b8763aed-a4df-4c0b-e887-adecd7245872"
      },
      "source": [
        "# plotly 설치\n",
        "!pip install plotly\n",
        "import plotly.graph_objects as go\n",
        "import plotly.express as px\n",
        "from plotly.subplots import make_subplots"
      ],
      "execution_count": null,
      "outputs": [
        {
          "output_type": "stream",
          "text": [
            "Requirement already satisfied: plotly in /usr/local/lib/python3.7/dist-packages (4.4.1)\n",
            "Requirement already satisfied: retrying>=1.3.3 in /usr/local/lib/python3.7/dist-packages (from plotly) (1.3.3)\n",
            "Requirement already satisfied: six in /usr/local/lib/python3.7/dist-packages (from plotly) (1.15.0)\n"
          ],
          "name": "stdout"
        }
      ]
    },
    {
      "cell_type": "code",
      "metadata": {
        "id": "1mje006yu5A7"
      },
      "source": [
        "df = data.copy()"
      ],
      "execution_count": null,
      "outputs": []
    },
    {
      "cell_type": "code",
      "metadata": {
        "id": "YEImqmMLvLFf"
      },
      "source": [
        ""
      ],
      "execution_count": null,
      "outputs": []
    }
  ]
}