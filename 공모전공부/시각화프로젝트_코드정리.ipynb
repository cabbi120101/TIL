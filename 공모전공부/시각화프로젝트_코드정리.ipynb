{
  "nbformat": 4,
  "nbformat_minor": 0,
  "metadata": {
    "colab": {
      "name": "시각화프로젝트-코드정리.ipynb",
      "provenance": [],
      "authorship_tag": "ABX9TyP4fEEcmgJuJAB5pM4bjfBz",
      "include_colab_link": true
    },
    "kernelspec": {
      "name": "python3",
      "display_name": "Python 3"
    },
    "language_info": {
      "name": "python"
    }
  },
  "cells": [
    {
      "cell_type": "markdown",
      "metadata": {
        "id": "view-in-github",
        "colab_type": "text"
      },
      "source": [
        "<a href=\"https://colab.research.google.com/github/cabbi120101/TIL/blob/master/%EA%B3%B5%EB%AA%A8%EC%A0%84%EA%B3%B5%EB%B6%80/%EC%8B%9C%EA%B0%81%ED%99%94%ED%94%84%EB%A1%9C%EC%A0%9D%ED%8A%B8_%EC%BD%94%EB%93%9C%EC%A0%95%EB%A6%AC.ipynb\" target=\"_parent\"><img src=\"https://colab.research.google.com/assets/colab-badge.svg\" alt=\"Open In Colab\"/></a>"
      ]
    },
    {
      "cell_type": "code",
      "metadata": {
        "id": "0PK1F0Dyhx0Q"
      },
      "source": [
        "import numpy as np\n",
        "import pandas as pd\n",
        "import matplotlib as mp\n",
        "import matplotlib.pyplot as plt\n",
        "import seaborn as sns"
      ],
      "execution_count": null,
      "outputs": []
    },
    {
      "cell_type": "markdown",
      "metadata": {
        "id": "QOtPQnj4iONp"
      },
      "source": [
        "## 전처리 과정"
      ]
    },
    {
      "cell_type": "code",
      "metadata": {
        "id": "57lOzg0wiHTG"
      },
      "source": [
        "# xlsx 읽으려면 필요\n",
        "pip install xlsxwriter"
      ],
      "execution_count": null,
      "outputs": []
    },
    {
      "cell_type": "code",
      "metadata": {
        "id": "40NRgsJ9iHQF"
      },
      "source": [
        "# matplotlib 그래프 그릴때 한글화 중 필요\n",
        "\n",
        "!apt -qq -y install fonts-nanum > /dev/null\n",
        " \n",
        "import matplotlib.pyplot as plt\n",
        "import matplotlib.font_manager as fm\n",
        " \n",
        "fontpath = '/usr/share/fonts/truetype/nanum/NanumBarunGothic.ttf'\n",
        "font = fm.FontProperties(fname=fontpath, size=10)\n",
        "fm._rebuild()\n",
        " \n",
        "# 그래프에 retina display 적용\n",
        "%config InlineBackend.figure_format = 'retina'\n",
        " \n",
        "# Colab 의 한글 폰트 설정\n",
        "plt.rc('font', family='NanumBarunGothic') "
      ],
      "execution_count": null,
      "outputs": []
    },
    {
      "cell_type": "markdown",
      "metadata": {
        "id": "n1f4oEcanUol"
      },
      "source": [
        "#### 여러 csv 합치기"
      ]
    },
    {
      "cell_type": "code",
      "metadata": {
        "id": "ftOB19EJnYYJ"
      },
      "source": [
        "# 사용한것\n",
        "import pandas as pd\n",
        "import csv\n",
        "import glob\n",
        "import os\n",
        "import sys\n",
        "from google.colab import drive\n",
        "drive.mount('/content/drive')"
      ],
      "execution_count": null,
      "outputs": []
    },
    {
      "cell_type": "code",
      "metadata": {
        "id": "a731eGoBnYVQ"
      },
      "source": [
        "#csv 파일들 디렉토리 위치\n",
        "input_file = r'경로'\n",
        "output_file = r'저장할 곳 경로및 이름까지 여기서 설정'\n",
        "\n",
        "allfile_list=glob.glob(os.path.join(input_file, 'CARD_*.csv'))\n",
        "print(allfile_list)"
      ],
      "execution_count": null,
      "outputs": []
    },
    {
      "cell_type": "code",
      "metadata": {
        "id": "avL8XhEWniX_"
      },
      "source": [
        "# 인코딩이 계속 안되서 화나서 종류별로 시도 할 수 있게 만듬\n",
        "allData = []\n",
        "for thisfile in allfile_list:\n",
        "    \n",
        "    try:\n",
        "        df = pd.read_csv(thisfile, encoding='utf-8')\n",
        "        # this_encoding = \"utf-8\"\n",
        "    except:\n",
        "        try:\n",
        "            df = pd.red_csv(thisfile, encoding='cp949')\n",
        "            # this_encoding = \"cp949\"\n",
        "        except:\n",
        "            try:\n",
        "                df = pd.red_csv(thisfile, encoding='euc-kr')\n",
        "                # this_encoding = \"euc-kr\"\n",
        "            except:\n",
        "                try:\n",
        "                    df = pd.red_csv(thisfile, encoding='utf-16')\n",
        "                    # this_encoding = \"utf-16\"\n",
        "                except:\n",
        "                    try:\n",
        "                        df = pd.red_csv(thisfile, encoding='latin-1').reset_index(drop=True)\n",
        "                        # this_encoding = \"latin-1\"\n",
        "                    except:\n",
        "                        print(thisfile,'예외')\n",
        "                        continue # 다음 루프로 건너 뜀\n",
        "    # 그러다가 파일이 밀린 경우도 있어서 아래 코드 첨부\n",
        "    # 하나씩 밀린 경우를 찾음\n",
        "    if df[\"등록일자\"].isna().sum() == len(df):\n",
        "\n",
        "        # 모든 등록일자가 nan임\n",
        "        df = df.reset_index()\n",
        "        df.columns = \"사용일자\", \"노선명\", \"역명\", \"승차총승객수\", \"하차총승객수\", \"등록일자\", \"낸\"\n",
        "        df = df.drop([\"낸\"], axis=1)\n",
        "    \n",
        "    allData.append(df)\n",
        "    display(df.head())\n",
        "    \n",
        "dataCombine = pd.concat(allData, axis=0, ignore_index=True)\n",
        "\n",
        "dataCombine.to_csv(output_file, index=False)"
      ],
      "execution_count": null,
      "outputs": []
    },
    {
      "cell_type": "code",
      "metadata": {
        "id": "pbbDC0RUniSF"
      },
      "source": [
        "#데이터 저장함\n",
        "data_file = '/content/data/sub_all_all.csv'\n",
        "df = pd.read_csv(data_file)\n"
      ],
      "execution_count": null,
      "outputs": []
    },
    {
      "cell_type": "code",
      "metadata": {
        "id": "2W2S1o0wn04M"
      },
      "source": [
        "# csv로 데이터 저장\n",
        "big_df.to_csv('/content/data/지하철총데이터.csv', index=False)"
      ],
      "execution_count": null,
      "outputs": []
    },
    {
      "cell_type": "code",
      "metadata": {
        "id": "IHi7cFWVn0yb"
      },
      "source": [
        ""
      ],
      "execution_count": null,
      "outputs": []
    },
    {
      "cell_type": "code",
      "metadata": {
        "id": "StcjcMIaiHLJ"
      },
      "source": [
        "# 파일을 경로에서 불러와 csv형식으로 읽는것\n",
        "data_file = '데이터 경로'\n",
        "df = pd.read_csv(data_file)\n",
        "df.head()"
      ],
      "execution_count": null,
      "outputs": []
    },
    {
      "cell_type": "code",
      "metadata": {
        "id": "Leq5w0OuiHIr"
      },
      "source": [
        "# dataframe 정보확인\n",
        "df.info()"
      ],
      "execution_count": null,
      "outputs": []
    },
    {
      "cell_type": "code",
      "metadata": {
        "id": "fv1l4lgFiHGL"
      },
      "source": [
        "#지역이라는 column 확인\n",
        "df['지역'].unique()"
      ],
      "execution_count": null,
      "outputs": []
    },
    {
      "cell_type": "code",
      "metadata": {
        "id": "PFwUVVGniHDc"
      },
      "source": [
        "# 필요없는 타시도, 기타 추출, != 제외 \n",
        "df = df[df['지역']!='타시도' ].copy()\n",
        "df = df[df['지역']!='기타' ].copy()\n",
        "df['지역'].unique()"
      ],
      "execution_count": null,
      "outputs": []
    },
    {
      "cell_type": "code",
      "metadata": {
        "id": "y-Wc90ZPiHA4"
      },
      "source": [
        "# 컬럼 타입확인\n",
        "addr = df['지역']\n",
        "type(addr)"
      ],
      "execution_count": null,
      "outputs": []
    },
    {
      "cell_type": "code",
      "metadata": {
        "id": "BajUtY1XiG-Q"
      },
      "source": [
        "# 공백이 있는 것들 없는 것으로 교체(데이터를 1대1 교환을 함)\n",
        "df = df.replace({' 중랑구':'중랑구','강남구 ':'강남구','송파구 ' : '송파구','서초구 ':'서초구','마포구 ':'마포구','강서구 ':'강서구','서대문구 ':'서대문구'})"
      ],
      "execution_count": null,
      "outputs": []
    },
    {
      "cell_type": "code",
      "metadata": {
        "id": "k0GptTjoiG7o"
      },
      "source": [
        "# 데이터 앞 5 인덱스 확인\n",
        "df.head()"
      ],
      "execution_count": null,
      "outputs": []
    },
    {
      "cell_type": "code",
      "metadata": {
        "id": "c7qPvv5oiG40"
      },
      "source": [
        "# 값을 확인 할 수 있다. 컬럼의 값들의 갯수를 카운트 \n",
        "df['지역'].value_counts()"
      ],
      "execution_count": null,
      "outputs": []
    },
    {
      "cell_type": "code",
      "metadata": {
        "id": "oLC7oCEAjdp-"
      },
      "source": [
        "# 컬럼을 지역,연도, 월로 가지는 그룹으로 묶음\n",
        "df_area = df.groupby(['지역', '연도','월'])[['지역']]\n",
        "area_count = df_area.count()\n",
        "area_count"
      ],
      "execution_count": null,
      "outputs": []
    },
    {
      "cell_type": "code",
      "metadata": {
        "id": "zKTexWDDiGx1"
      },
      "source": [
        "# 컬럼 명을 변경 그리고 index를 reset 해줌\n",
        "area_count.rename(columns = {'지역' : '확진자수'}, inplace = True) #컬럼명 변경\n",
        "area_count = area_count.reset_index()\n",
        "area_count"
      ],
      "execution_count": null,
      "outputs": []
    },
    {
      "cell_type": "code",
      "metadata": {
        "id": "T90nezWMkbvR"
      },
      "source": [
        "# 5구로 나누는 함수 만듬, 5구 명으로 여러가지 구들을 설정한 것. 보다 쉽게 하기 위해 함수 만듬\n",
        "def set_five(row,value):\n",
        "    return value[row]\n",
        "\n",
        "five_gu = {'강남구':'강남구','강동구':'강남구','송파구':'강남구','서초구':'강남구',\n",
        "           '동작구':'강서구','관악구':'강서구','금천구':'강서구','영등포구':'강서구','양천구':'강서구','구로구':'강서구','강서구':'강서구',\n",
        "           '중랑구':'중랑구','광진구':'중랑구','동대문구':'중랑구','성동구':'중랑구',\n",
        "           '은평구':'중구','종로구':'중구','서대문구':'중구','마포구':'중구','용산구':'중구','중구':'중구',\n",
        "           '도봉구':'강북구','강북구':'강북구','성북구':'강북구','노원구':'강북구'\n",
        "           }\n"
      ],
      "execution_count": null,
      "outputs": []
    },
    {
      "cell_type": "code",
      "metadata": {
        "id": "E27CPlqwkbtE"
      },
      "source": [
        "# 위에서 만든 set_five를 df_2021에 사용하는 모습\n",
        "df_2021['오구']=df_2021['지역'].apply(set_five, args=(five_gu, ))\n",
        "df_2021.head()"
      ],
      "execution_count": null,
      "outputs": []
    },
    {
      "cell_type": "code",
      "metadata": {
        "id": "bwlU0WA6kbog"
      },
      "source": [
        "#결측치를 0으로 바꾼다. 2020데이터\n",
        "df_2020_all = df_2020_all.fillna(0)"
      ],
      "execution_count": null,
      "outputs": []
    },
    {
      "cell_type": "code",
      "metadata": {
        "id": "3Fc-56trkbmJ"
      },
      "source": [
        "# groupby로 확진자수 평균을 나타내었지만 중앙값이나 합이나 다른것들도 가능\n",
        "df_2020_평균 = df_2020[['연도_월','확진자수']].groupby('연도_월').mean()\n",
        "df_2020_평균"
      ],
      "execution_count": null,
      "outputs": []
    },
    {
      "cell_type": "code",
      "metadata": {
        "id": "fjvztKL7kbjq"
      },
      "source": [
        "# isin 안에 있는 값들만 따로 가져 올 수 있다.\n",
        "# 위에서 본 지역들만 따로 가져와서 선 그래프로 표현 할 계획, 우선 따로 뽑아준다.\n",
        "#http://hleecaster.com/python-pandas-selecting-data/\n",
        "df_2021_sample = df_2021[df_2021['지역'].isin(['강남구','강서구','마포구','서초구','송파구'])]\n",
        "df_2021_sample"
      ],
      "execution_count": null,
      "outputs": []
    },
    {
      "cell_type": "code",
      "metadata": {
        "id": "RwXVtWTCkbhW"
      },
      "source": [
        "# 값중에 괄호가 있는 경우 다른 값으로 인식하여 괄호 없는 컬럼을 제작하기 위해 함수 만듬\n",
        "# 역명에 gwalho 가 있어서 괄호를 찾은 후 앞 값만 괄호빠진 역명에 넣기\n",
        "def gwalho_nono(some_str):\n",
        "    if '(' in some_str:\n",
        "       return some_str[:some_str.index('(')]\n",
        "    else:\n",
        "       return some_str\n",
        "\n",
        "df[\"괄호빠진역명\"] = df[\"역명\"].apply(gwalho_nono)"
      ],
      "execution_count": null,
      "outputs": []
    },
    {
      "cell_type": "code",
      "metadata": {
        "id": "BD-Kk5IFkbed"
      },
      "source": [
        "# 괄호빠진역명이 공통 같은 이름의 컬럼이므로 그걸 기준으로 left로 df,df2를 합침\n",
        "big_df = pd.merge(df, df2, how=\"left\", on=\"괄호빠진역명\")\n",
        "big_df"
      ],
      "execution_count": null,
      "outputs": []
    },
    {
      "cell_type": "code",
      "metadata": {
        "id": "yMFMU7hinTeu"
      },
      "source": [
        "# null값 확인, 결과 서울 이외의 지하철 역\n",
        "big_df[big_df['구'].isnull()]"
      ],
      "execution_count": null,
      "outputs": []
    },
    {
      "cell_type": "code",
      "metadata": {
        "id": "3wEEsvpinTZP"
      },
      "source": [
        "# 사용일자 기준으로 정렬\n",
        "big_df = big_df.sort_values(by=['사용일자'], ascending=[True])\n",
        "big_df"
      ],
      "execution_count": null,
      "outputs": []
    },
    {
      "cell_type": "code",
      "metadata": {
        "id": "RsumUh6jovUb"
      },
      "source": [
        "# 결측값 있는 행 삭제 및 확인\n",
        "big_df=big_df.dropna(axis=0)\n",
        "big_df.info()"
      ],
      "execution_count": null,
      "outputs": []
    },
    {
      "cell_type": "code",
      "metadata": {
        "id": "gQJRjJ92pEWx"
      },
      "source": [
        "# 컬럼 확인함\n",
        "big_df.columns"
      ],
      "execution_count": null,
      "outputs": []
    },
    {
      "cell_type": "code",
      "metadata": {
        "id": "t7kC8Lu2ozhj"
      },
      "source": [
        "# 필요없는 컬럼을 지우고 필요한 것들만 남\n",
        "big_df=big_df.drop(['노선명', '역명',  '하차총승객수', '등록일자', '괄호빠진역명', 'Unnamed: 0',\n",
        "       '호선', '역주소', ], axis=1)\n",
        "big_df.head()"
      ],
      "execution_count": null,
      "outputs": []
    },
    {
      "cell_type": "code",
      "metadata": {
        "id": "TPtH-SjDpBdu"
      },
      "source": [
        "# 각 기간 지역별 확진자수 합을 구한다.\n",
        "df_2020_ss_sum = df_2020_ss[['구','승차총승객수']].groupby('구').sum()\n",
        "df_2020_ss_sum = df_2020_ss_sum.reset_index()\n",
        "df_2020_ss_sum.sort_values(by=['승차총승객수'], axis=0, ascending=False)\n",
        "# df_2020_ss_sum.info()"
      ],
      "execution_count": null,
      "outputs": []
    },
    {
      "cell_type": "markdown",
      "metadata": {
        "id": "XOf4LbQSkJpT"
      },
      "source": [
        "#### 날짜들 전처리 방법 \n"
      ]
    },
    {
      "cell_type": "code",
      "metadata": {
        "id": "7KEXMN9giG2R"
      },
      "source": [
        "#확진일을 연도, 월, 성별로 분류, 확진일이라는 YYYY-MM-DD 형식을 '-'로 스플릿해서 나눔\n",
        "df['연도'] = df['확진일'].str.split('-', expand=True)[0]\n",
        "df['월'] = df['확진일'].str.split('-', expand=True)[1]\n",
        "df['일'] = df['확진일'].str.split('-', expand=True)[2]\n",
        "#print(df['확진일'].str.split('-'))"
      ],
      "execution_count": null,
      "outputs": []
    },
    {
      "cell_type": "code",
      "metadata": {
        "id": "xnxrNjYMkNOp"
      },
      "source": [
        "#확진일에 일을 제외한 연도 월만 나오는 컬럼을 만든다, YYYY-MM-DD 형태\n",
        "df['연도_월'] = df['확진일'].apply(lambda some_str: some_str[:-3])\n",
        "df"
      ],
      "execution_count": null,
      "outputs": []
    },
    {
      "cell_type": "code",
      "metadata": {
        "id": "eJdEwRgspVUJ"
      },
      "source": [
        "# 2020 데이터, 연도 컬럼에서 2020라고 적힌 값들만 추출\n",
        "df_2020 = big_df.loc[big_df['연도'] == '2020']\n",
        "df_2020.head()"
      ],
      "execution_count": null,
      "outputs": []
    },
    {
      "cell_type": "code",
      "metadata": {
        "id": "o9u6b7ZRiGu5"
      },
      "source": [
        "#2020 data만 뽑기 위해 기간 설정\n",
        "df_2020 = df.loc[df['확진일']<='2020-12-31', :]\n",
        "df_2020.tail()"
      ],
      "execution_count": null,
      "outputs": []
    },
    {
      "cell_type": "code",
      "metadata": {
        "id": "bd3vDe8GovOe"
      },
      "source": [
        "# 아래 코드를 실행시키니 타입 에러 나서 사용일자 타입을 바꿔줌\n",
        "big_df['사용일자'] = big_df['사용일자'].astype(str)\n",
        "# big_df['연도'] = big_df['사용일자'].str[0:3]\n",
        "big_df.info()"
      ],
      "execution_count": null,
      "outputs": []
    },
    {
      "cell_type": "code",
      "metadata": {
        "id": "AJoUFBhJjQqN"
      },
      "source": [
        "# 사용일자 형식을 YYYYMMDD에서 YYYY-MM으로 바꾸기\n",
        "from datetime import datetime\n",
        "\n",
        "big_df['사용일자'] = [datetime.strptime(x, '%Y%m%d').strftime('%Y-%m-%d') for x in big_df.사용일자]\n",
        "big_df.head()"
      ],
      "execution_count": null,
      "outputs": []
    },
    {
      "cell_type": "code",
      "metadata": {
        "id": "LRXcG7LujQnm"
      },
      "source": [
        ""
      ],
      "execution_count": null,
      "outputs": []
    },
    {
      "cell_type": "markdown",
      "metadata": {
        "id": "Mk2h_aoNjwO4"
      },
      "source": [
        "## 그래프 그리기 준비\n"
      ]
    },
    {
      "cell_type": "code",
      "metadata": {
        "id": "NNTbjhcwjQlK"
      },
      "source": [
        "# 폰트 설치 설치 후 런타임 다시 시작후 주석처리 한 다음 다시 셀들 실행 \n",
        "# !sudo apt-get install -y fonts-nanum\n",
        "# !sudo fc-cache -fv\n",
        "# !rm ~/.cache/matplotlib -rf"
      ],
      "execution_count": null,
      "outputs": []
    },
    {
      "cell_type": "code",
      "metadata": {
        "id": "Yqse2ThGjQjC"
      },
      "source": [
        "# plt 폰드를 고딕으로 설정\n",
        "import matplotlib.pyplot as plt\n",
        "\n",
        "plt.rc('font', family='NanumBarunGothic') "
      ],
      "execution_count": null,
      "outputs": []
    },
    {
      "cell_type": "code",
      "metadata": {
        "id": "kPzM_iBpjQgT"
      },
      "source": [
        "# 시각화 모듈 임포트\n",
        "import matplotlib.pyplot as plt\n",
        "import seaborn as sns\n",
        "import matplotlib\n",
        "from matplotlib import font_manager, rc\n",
        "\n",
        "# colab 내 그래프를 바로 그리기 위한 설정\n",
        "%matplotlib inline\n",
        "\n",
        "# unicode minus를 사용하지 않기 위한 설정 (minus 깨짐현상 방지)\n",
        "plt.rcParams['axes.unicode_minus'] = False\n",
        "\n",
        "# font 적용\n",
        "plt.rc('font', family = 'NanumBarunGothic')\n",
        "\n",
        "# ggplot 으로 그래프 스타일 설정\n",
        "plt.style.use('ggplot')\n",
        "\n",
        "# 레티나 설정 : 글자가 흐릿하게 보이는 현상 방지\n",
        "%config InlineBackend.figure_format = 'retina'"
      ],
      "execution_count": null,
      "outputs": []
    },
    {
      "cell_type": "code",
      "metadata": {
        "id": "sySg03ijjQdg"
      },
      "source": [
        ""
      ],
      "execution_count": null,
      "outputs": []
    },
    {
      "cell_type": "code",
      "metadata": {
        "id": "E8xN0mAck_GI"
      },
      "source": [
        ""
      ],
      "execution_count": null,
      "outputs": []
    },
    {
      "cell_type": "markdown",
      "metadata": {
        "id": "m_dzU0Kok_5i"
      },
      "source": [
        "## 그래프 그리기"
      ]
    },
    {
      "cell_type": "markdown",
      "metadata": {
        "id": "4ArkjG20luFw"
      },
      "source": [
        "#### lineplot"
      ]
    },
    {
      "cell_type": "code",
      "metadata": {
        "id": "9XMR0fD5k_Dl"
      },
      "source": [
        "# seaborne 을 이용한 그래프 그려보기\n",
        "# 한글 안나오면 런타임 다시 시작하고 처음 설치 셀을 실행하지 않기\n",
        "# 처음 그냥 실행하니 2020-01이 맨 뒤로 나와서 sort로 정렬함\n",
        "plt.figure(figsize=(25,12))\n",
        "sns.lineplot( # lineplot 사용함\n",
        "    data=df_2020.sort_values([\"연도_월\", \"지역\"]), # sort해서 값이 정렬되게 함\n",
        "    x='연도_월', \n",
        "    y='확진자수', \n",
        "    ci=None, # 그래프에 이상한 오류가 안 표시되게 함\n",
        "    hue='지역', # 범례 legend에 표시됨\n",
        "    sort=False\n",
        "    # order=[ f\"2020-{m:0>2}\" for m in range(1,13) ]\n",
        ")\n",
        "plt.legend(loc='upper left') #범례 위치 지정\n",
        "#그래프 저장\n",
        "plt.savefig('/content/data/2020구별확진자.png',dpi=100) #보통은 dpi가 72라고함. 얼마나 잘 보이는지 수치임\n",
        "plt.show() # 이래야 잘보여줌"
      ],
      "execution_count": null,
      "outputs": []
    },
    {
      "cell_type": "code",
      "metadata": {
        "id": "REanTjcdk_BC"
      },
      "source": [
        "#그래프 dpi확인= 높을수록 해상도가 높아짐, 대신 파일 크기도 커짐\n",
        "mp.rcParams['figure.dpi']"
      ],
      "execution_count": null,
      "outputs": []
    },
    {
      "cell_type": "code",
      "metadata": {
        "id": "UejwXW_Ek--m"
      },
      "source": [
        ""
      ],
      "execution_count": null,
      "outputs": []
    },
    {
      "cell_type": "markdown",
      "metadata": {
        "id": "dMJFByn7lxgf"
      },
      "source": [
        "#### heat map"
      ]
    },
    {
      "cell_type": "code",
      "metadata": {
        "id": "d6Rll8alk-7-"
      },
      "source": [
        "# 컬럼에 전체 구들이 나오도록 설정함, 인덱스는 날짜로 나오게 함\n",
        "df_2020_all = df_2020.pivot(index='확진일',columns='지역',values='확진자수')"
      ],
      "execution_count": null,
      "outputs": []
    },
    {
      "cell_type": "code",
      "metadata": {
        "id": "CtQU_aXLl7lj"
      },
      "source": [
        "# df_2021_all의 지역별 상관관계로 히트맵제작\n",
        "# 어떤 구들로 할지 컬럼에 있는 구들로 df로 설정\n",
        "df = df_2021_all[['강남구', '강동구', '강북구', '강서구', '관악구', '광진구', '구로구','금천구','노원구','도봉구','동대문구','동작구','마포구','서대문구','서초구','성동구','성북구','송파구','양천구','영등포구','용산구','은평구','종로구','중구','중랑구']]\n",
        "# 원래 대각선 기준으로 대칭이지만 mask로 위를 가림\n",
        "mask = np.triu(np.ones_like(df.corr(), dtype=np.bool))\n",
        "plt.rcParams['font.size'] = 15\n",
        "# 사이즈 정함\n",
        "fig, ax = plt.subplots(figsize=(25, 10))\n",
        "# corr로 상관계수 구함\n",
        "sns.heatmap(df.corr(), \n",
        "            annot=True, \n",
        "            cmap=\"YlGnBu\", #cmap는 색 변환 가능 종류 많음\n",
        "            # cmap='Blues',\n",
        "            vmin=0,\n",
        "            mask = mask)\n",
        "# 타이틀 작성함\n",
        "ax.set_title('Correlation Heatmap', pad = 10)\n",
        "#그래프 저장\n",
        "plt.savefig('/content/data/2021_구별상관관계.png',dpi=100)\n",
        "\n",
        "plt.show()"
      ],
      "execution_count": null,
      "outputs": []
    },
    {
      "cell_type": "markdown",
      "metadata": {
        "id": "hJ5-_0SkpeFW"
      },
      "source": [
        "#### 막대 그래프"
      ]
    },
    {
      "cell_type": "code",
      "metadata": {
        "id": "N4LBNzLTl7g2"
      },
      "source": [
        "#2019년승차자 흐름 보기\n",
        "# sns.set_style('whitegrid')\n",
        "# seaborn 사용 set에서 한글 폰트 사용하는 것을 지정함\n",
        "sns.set(font=\"NanumBarunGothic\", \n",
        "        # rc={\"axes.unicode_minus\":False},\n",
        "        style='whitegrid')\n",
        "plt.figure(figsize=(24,8))\n",
        "sns.barplot(\n",
        "    x=\"연도_월\", \n",
        "    y='승차총승객수',\n",
        "    hue='구', # 범례 설정\n",
        "    palette = 'Greens', # 색 마음대로 바꿀수있음\n",
        "    data=df_2019.sort_values(['연도_월']), # 데이터 설정 연도_월을 정렬\n",
        "    ci=None # 그래프에 오류가 안보이게 하는것\n",
        ")\n",
        "plt.legend(loc='center left', bbox_to_anchor=(1,0.5)) # 범례 위치 설정\n",
        "#그래프 저장\n",
        "plt.savefig('/content/data/2019승차자.png',dpi=100)\n",
        "plt.show()"
      ],
      "execution_count": null,
      "outputs": []
    },
    {
      "cell_type": "markdown",
      "metadata": {
        "id": "5KNhyKoLp-as"
      },
      "source": [
        "#### 지도 시각화"
      ]
    },
    {
      "cell_type": "code",
      "metadata": {
        "id": "DNTAqXOyl7cF"
      },
      "source": [
        "# 사용\n",
        "import folium\n",
        "import pandas as pd\n",
        "import re"
      ],
      "execution_count": null,
      "outputs": []
    },
    {
      "cell_type": "code",
      "metadata": {
        "id": "l3h2mnjql7ZS"
      },
      "source": [
        "# 서울 지도 주소 데이터\n",
        "geo_json='https://raw.githubusercontent.com/southkorea/seoul-maps/master/kostat/2013/json/seoul_municipalities_geo_simple.json'"
      ],
      "execution_count": null,
      "outputs": []
    },
    {
      "cell_type": "code",
      "metadata": {
        "id": "GB2S3872qG0r"
      },
      "source": [
        "# 하기전에 데이터 컬럼명을 name, values로 바꿈. 안해도 됨.\n",
        "df_2020_fw_sum.columns = ['name','values']"
      ],
      "execution_count": null,
      "outputs": []
    },
    {
      "cell_type": "code",
      "metadata": {
        "id": "6Zsrb1KeqGx1"
      },
      "source": [
        "# 줌을 10으로 설정\n",
        "m = folium.Map(\n",
        "    location=[37.566345,126.977893],\n",
        "    tiles='cartodbpositron',# 타일 색 바꿀 수 있음\n",
        "    zoom_start=10\n",
        ")\n",
        "\n",
        "#색을 조정할 수 있음\n",
        "\n",
        "folium.Choropleth(\n",
        "    geo_data=geo_json,\n",
        "    name='choropleth', # 이름\n",
        "    data=df_2019_sum, # 데이터\n",
        "    columns=['name','values'], # 컬럼 명들\n",
        "    key_on='feature.properties.name', # 고정인듯\n",
        "    # fill_color='YlGn',\n",
        "    # fill_color='BuPu',\n",
        "    fill_color='Greens', # 칠해지는 색변환 가능\n",
        "    fill_opacity=0.7,\n",
        "    line_opacity=0.2,\n",
        "    legend_name='2019_구별탑승객수' # 위에 색 이름\n",
        ").add_to(m)\n",
        "\n",
        "#저장\n",
        "m.save('2019_구별탑승객수.html')\n",
        "m"
      ],
      "execution_count": null,
      "outputs": []
    }
  ]
}